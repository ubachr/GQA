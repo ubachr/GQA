{
 "cells": [
  {
   "cell_type": "code",
   "execution_count": 1,
   "metadata": {},
   "outputs": [
    {
     "name": "stderr",
     "output_type": "stream",
     "text": [
      "c:\\Users\\ubach\\.conda\\envs\\geospatial_ETC_DI_v4\\lib\\site-packages\\geopandas\\_compat.py:123: UserWarning: The Shapely GEOS version (3.11.2-CAPI-1.17.2) is incompatible with the GEOS version PyGEOS was compiled with (3.10.4-CAPI-1.16.2). Conversions between both will be slow.\n",
      "  warnings.warn(\n",
      "c:\\Users\\ubach\\Projects\\GQA\\src\\utils.py:3: UserWarning: Shapely 2.0 is installed, but because PyGEOS is also installed, GeoPandas will still use PyGEOS by default for now. To force to use and test Shapely 2.0, you have to set the environment variable USE_PYGEOS=0. You can do this before starting the Python process, or in your code before importing geopandas:\n",
      "\n",
      "import os\n",
      "os.environ['USE_PYGEOS'] = '0'\n",
      "import geopandas\n",
      "\n",
      "In a future release, GeoPandas will switch to using Shapely by default. If you are using PyGEOS directly (calling PyGEOS functions on geometries from GeoPandas), this will then stop working and you are encouraged to migrate from PyGEOS to Shapely 2.0 (https://shapely.readthedocs.io/en/latest/migration_pygeos.html).\n",
      "  import geopandas as gpd\n"
     ]
    }
   ],
   "source": [
    "from src.utils import *"
   ]
  },
  {
   "cell_type": "code",
   "execution_count": 2,
   "metadata": {},
   "outputs": [],
   "source": [
    "# Load required libraries\n",
    "import pandas as pd\n",
    "import geopandas as gpd\n",
    "import numpy as np\n",
    "import os\n",
    "import fiona\n",
    "import matplotlib.pyplot as plt\n",
    "from matplotlib.colors import ListedColormap\n",
    "from shapely.ops import unary_union\n",
    "from shapely.errors import TopologicalError\n",
    "from unidecode import unidecode\n",
    "import glob\n",
    "import csv\n",
    "from datetime import datetime\n",
    "import dask.dataframe as dd\n",
    "import dask_geopandas as dg\n",
    "from dask.distributed import Client\n",
    "import gc\n",
    "import re"
   ]
  },
  {
   "cell_type": "code",
   "execution_count": 3,
   "metadata": {},
   "outputs": [],
   "source": [
    "# Path to data folders\n",
    "indata_f = r'P:\\Environment and Health\\Noise\\ServiceContract\\2024_ServiceContract\\QuietAreas'\n",
    "outdata_f = os.path.join(indata_f, 'OutputData', 'batch2', 'step1')\n",
    "if not os.path.exists(outdata_f):\n",
    "    # Create the folder if it doesn't exist\n",
    "    os.makedirs(outdata_f)\n",
    "\n",
    "# 0 PREPARE A LOG FILE FOR QC\n",
    "log_file = 'log_GQA_Step1.csv'\n",
    "log_path = os.path.join(outdata_f, log_file)\n",
    "\n",
    "# Initialize Dask client\n",
    "client = Client()\n",
    "\n",
    "# Define engines\n",
    "engines = {\n",
    "    'fiona': {'engine': 'fiona'},\n",
    "    'pyogrio': {'engine': 'pyogrio'},\n",
    "    'pyogrio+arrow': {'engine': 'pyogrio', 'use_arrow': True}\n",
    "          \n",
    "}\n"
   ]
  },
  {
   "cell_type": "code",
   "execution_count": 4,
   "metadata": {},
   "outputs": [],
   "source": [
    "# 1 COMMON SOURCES FOR ALL DATA\n",
    "# URBAN CENTRES\n",
    "# Read shapefile\n",
    "uc_file_path = os.path.join(indata_f, 'UrbanCentres', 'HDC2021_RG_Input.shp')\n",
    "# Read the GeoPackage file\n",
    "uc = gpd.read_file(uc_file_path)\n",
    "uc['CNTR_CODE'].fillna('AA', inplace=True)\n",
    "\n",
    "# Select cities for processing in this batch\n",
    "uc_sel = uc.query('Batch==2.0')\n",
    "uc_sel = uc_sel.sort_values(by='CNTR_CODE')\n",
    "\n",
    "# Read table to list the cities to process using urban centre code\n",
    "cities_ls = uc_sel.HDENS_CLST.tolist()\n",
    "\n",
    "# NOISE DATA\n",
    "# Load agglomerations delineations\n",
    "agls_file_path = os.path.join(indata_f, 'NoiseData', 'DF1_5_Agglomerations_20240429.gpkg')\n",
    "\n",
    "# Read the GeoPackage file\n",
    "agls = gpd.read_file(agls_file_path, layer = 'dbo.DF15_AgglomerationSource_Valid_LatestDelivery', \n",
    "                     **engines['pyogrio+arrow'],columns=['agglomerationId_identifier', 'agglomerationName_nameEng', 'geometry'])\n",
    "\n",
    "# URBAN ATLAS\n",
    "# Read table with HDENS Urban centres information and Agglomerations link\n",
    "HDENS_AGGL_tbl = pd.read_csv(r'P:\\Environment and Health\\Noise\\ServiceContract\\2024_ServiceContract\\QuietAreas\\Processing\\UrbanCentres_Agglomerations_csv.csv')\n",
    "# Join uc code field to this table\n",
    "HDENS_AGGL_tbl = HDENS_AGGL_tbl.merge(uc[['POPL_2021', 'HDENS_CLST']], on='POPL_2021')\n",
    "\n",
    "# TRANSLATOR TABLE\n",
    "# Crosswalk table containing the different codes from input sources\n",
    "codes_path = r'P:\\Environment and Health\\Noise\\ServiceContract\\2024_ServiceContract\\QuietAreas\\Processing\\Codes.csv'\n",
    "codes = pd.read_csv(codes_path)"
   ]
  },
  {
   "cell_type": "code",
   "execution_count": 5,
   "metadata": {},
   "outputs": [],
   "source": [
    "temp_f = os.path.join(indata_f, 'Processing', 'temp')"
   ]
  },
  {
   "cell_type": "code",
   "execution_count": 6,
   "metadata": {},
   "outputs": [
    {
     "data": {
      "text/plain": [
       "92"
      ]
     },
     "execution_count": 6,
     "metadata": {},
     "output_type": "execute_result"
    }
   ],
   "source": [
    "len(cities_ls)"
   ]
  },
  {
   "cell_type": "code",
   "execution_count": 7,
   "metadata": {},
   "outputs": [
    {
     "name": "stdout",
     "output_type": "stream",
     "text": [
      "1\n",
      "2024-07-24 09:00:21.284453\n",
      " -GEOSTAT21_094-AG_DE_MV_1-Rostock\n",
      "1 country for this urban centre\n",
      "Error  -GEOSTAT21_094-AG_DE_MV_1-Rostock\n",
      "2\n",
      "2024-07-24 09:00:21.353431\n",
      "BE-GEOSTAT21_304-AG_BE_FL_3-Brugges\n",
      "1 country for this urban centre\n",
      "ncm\n",
      "ncm_dis\n",
      "exported ncm_dis\n",
      "ncm_agl\n"
     ]
    },
    {
     "name": "stderr",
     "output_type": "stream",
     "text": [
      "Q:\\UserTemp\\ubach\\AppData\\Local\\Temp\\4\\ipykernel_545184\\2175977912.py:71: UserWarning: Column names longer than 10 characters will be truncated when saved to ESRI Shapefile.\n",
      "  ncm_agl.to_file(file_path, driver='ESRI Shapefile')\n"
     ]
    },
    {
     "name": "stdout",
     "output_type": "stream",
     "text": [
      "exported ncm_agl\n",
      "union\n",
      "fillna\n"
     ]
    },
    {
     "name": "stderr",
     "output_type": "stream",
     "text": [
      "Q:\\UserTemp\\ubach\\AppData\\Local\\Temp\\4\\ipykernel_545184\\2175977912.py:83: UserWarning: Column names longer than 10 characters will be truncated when saved to ESRI Shapefile.\n",
      "  ncm_agl_city.to_file(file_path, driver='ESRI Shapefile')\n"
     ]
    },
    {
     "name": "stdout",
     "output_type": "stream",
     "text": [
      "exported ncm_agl\n",
      "   noisy                                           geometry\n",
      "0    1.0  MULTIPOLYGON (((3846487.530 3158832.010, 38464...\n",
      "1    1.0  MULTIPOLYGON (((3852327.117 3141182.353, 38523...\n",
      "2    0.0  MULTIPOLYGON (((3853221.820 3145428.530, 38532...\n",
      "BE006L2_BRUGGE_UA2018_v013\n",
      "layers: A:\\Copernicus\\UrbanAtlas\\UrbanAtlas\\UA2018\\BE006L2_BRUGGE_UA2018_v013\\Data\\BE006L2_BRUGGE_UA2018_v013.gpkg\n",
      "loaded ua in urban city\n",
      "green_not_covered_by_ncm\n",
      "GQA\n",
      "GQA_pts\n",
      "str(processing_time)\n",
      "3\n",
      "2024-07-24 09:00:57.897648\n",
      "CH-GEOSTAT21_531-AG_CH_00_11-Fribourg\n",
      "1 country for this urban centre\n",
      "ncm\n",
      "ncm_dis\n",
      "exported ncm_dis\n",
      "ncm_agl\n"
     ]
    },
    {
     "name": "stderr",
     "output_type": "stream",
     "text": [
      "Q:\\UserTemp\\ubach\\AppData\\Local\\Temp\\4\\ipykernel_545184\\2175977912.py:71: UserWarning: Column names longer than 10 characters will be truncated when saved to ESRI Shapefile.\n",
      "  ncm_agl.to_file(file_path, driver='ESRI Shapefile')\n"
     ]
    },
    {
     "name": "stdout",
     "output_type": "stream",
     "text": [
      "exported ncm_agl\n",
      "union\n",
      "fillna\n"
     ]
    },
    {
     "name": "stderr",
     "output_type": "stream",
     "text": [
      "Q:\\UserTemp\\ubach\\AppData\\Local\\Temp\\4\\ipykernel_545184\\2175977912.py:83: UserWarning: Column names longer than 10 characters will be truncated when saved to ESRI Shapefile.\n",
      "  ncm_agl_city.to_file(file_path, driver='ESRI Shapefile')\n"
     ]
    },
    {
     "name": "stdout",
     "output_type": "stream",
     "text": [
      "exported ncm_agl\n",
      "   noisy                                           geometry\n",
      "0    1.0  MULTIPOLYGON (((4107603.719 2628874.753, 41075...\n",
      "1    0.0  MULTIPOLYGON (((4102591.063 2636657.648, 41025...\n",
      "not available\n",
      "Error CH-GEOSTAT21_531-AG_CH_00_11-Fribourg\n",
      "4\n",
      "2024-07-24 09:01:45.111770\n",
      "CH-GEOSTAT21_523-AG_CH_00_13-Biel/Bienne\n",
      "1 country for this urban centre\n",
      "ncm\n",
      "ncm_dis\n",
      "Error CH-GEOSTAT21_523-AG_CH_00_13-Biel/Bienne\n",
      "5\n",
      "2024-07-24 09:01:49.209779\n",
      "CH-GEOSTAT21_943-AG_CH_00_12-Zug\n",
      "1 country for this urban centre\n",
      "ncm\n",
      "ncm_dis\n",
      "exported ncm_dis\n",
      "ncm_agl\n"
     ]
    },
    {
     "name": "stderr",
     "output_type": "stream",
     "text": [
      "Q:\\UserTemp\\ubach\\AppData\\Local\\Temp\\4\\ipykernel_545184\\2175977912.py:71: UserWarning: Column names longer than 10 characters will be truncated when saved to ESRI Shapefile.\n",
      "  ncm_agl.to_file(file_path, driver='ESRI Shapefile')\n"
     ]
    },
    {
     "name": "stdout",
     "output_type": "stream",
     "text": [
      "exported ncm_agl\n",
      "union\n",
      "fillna\n"
     ]
    },
    {
     "name": "stderr",
     "output_type": "stream",
     "text": [
      "Q:\\UserTemp\\ubach\\AppData\\Local\\Temp\\4\\ipykernel_545184\\2175977912.py:83: UserWarning: Column names longer than 10 characters will be truncated when saved to ESRI Shapefile.\n",
      "  ncm_agl_city.to_file(file_path, driver='ESRI Shapefile')\n"
     ]
    },
    {
     "name": "stdout",
     "output_type": "stream",
     "text": [
      "exported ncm_agl\n",
      "   noisy                                           geometry\n",
      "0    1.0  MULTIPOLYGON (((4214603.185 2670416.211, 42146...\n",
      "1    0.0  MULTIPOLYGON (((4222420.797 2671681.957, 42224...\n",
      "not available\n",
      "Error CH-GEOSTAT21_943-AG_CH_00_12-Zug\n",
      "6\n",
      "2024-07-24 09:05:16.928179\n",
      "CH-GEOSTAT21_941-AG_CH_00_7-Baden - Brugg\n",
      "1 country for this urban centre\n",
      "ncm\n",
      "ncm_dis\n",
      "exported ncm_dis\n",
      "ncm_agl\n"
     ]
    },
    {
     "name": "stderr",
     "output_type": "stream",
     "text": [
      "Q:\\UserTemp\\ubach\\AppData\\Local\\Temp\\4\\ipykernel_545184\\2175977912.py:71: UserWarning: Column names longer than 10 characters will be truncated when saved to ESRI Shapefile.\n",
      "  ncm_agl.to_file(file_path, driver='ESRI Shapefile')\n"
     ]
    },
    {
     "name": "stdout",
     "output_type": "stream",
     "text": [
      "exported ncm_agl\n",
      "union\n",
      "fillna\n"
     ]
    },
    {
     "name": "stderr",
     "output_type": "stream",
     "text": [
      "Q:\\UserTemp\\ubach\\AppData\\Local\\Temp\\4\\ipykernel_545184\\2175977912.py:83: UserWarning: Column names longer than 10 characters will be truncated when saved to ESRI Shapefile.\n",
      "  ncm_agl_city.to_file(file_path, driver='ESRI Shapefile')\n"
     ]
    },
    {
     "name": "stdout",
     "output_type": "stream",
     "text": [
      "exported ncm_agl\n",
      "   noisy                                           geometry\n",
      "0    1.0  MULTIPOLYGON (((4185671.418 2708694.026, 41856...\n",
      "1    0.0  MULTIPOLYGON (((4187874.029 2712400.547, 41878...\n",
      "not available\n",
      "Error CH-GEOSTAT21_941-AG_CH_00_7-Baden - Brugg\n",
      "7\n",
      "2024-07-24 09:08:11.953548\n",
      "CH-GEOSTAT21_514-AG_CH_00_6-St.Gallen\n",
      "1 country for this urban centre\n",
      "ncm\n",
      "ncm_dis\n",
      "exported ncm_dis\n",
      "ncm_agl\n"
     ]
    },
    {
     "name": "stderr",
     "output_type": "stream",
     "text": [
      "Q:\\UserTemp\\ubach\\AppData\\Local\\Temp\\4\\ipykernel_545184\\2175977912.py:71: UserWarning: Column names longer than 10 characters will be truncated when saved to ESRI Shapefile.\n",
      "  ncm_agl.to_file(file_path, driver='ESRI Shapefile')\n"
     ]
    },
    {
     "name": "stdout",
     "output_type": "stream",
     "text": [
      "exported ncm_agl\n",
      "union\n",
      "fillna\n"
     ]
    },
    {
     "name": "stderr",
     "output_type": "stream",
     "text": [
      "Q:\\UserTemp\\ubach\\AppData\\Local\\Temp\\4\\ipykernel_545184\\2175977912.py:83: UserWarning: Column names longer than 10 characters will be truncated when saved to ESRI Shapefile.\n",
      "  ncm_agl_city.to_file(file_path, driver='ESRI Shapefile')\n"
     ]
    },
    {
     "name": "stdout",
     "output_type": "stream",
     "text": [
      "exported ncm_agl\n",
      "   noisy                                           geometry\n",
      "0    1.0  MULTIPOLYGON (((4285307.516 2705599.890, 42853...\n",
      "1    0.0  MULTIPOLYGON (((4285249.893 2705263.928, 42853...\n",
      "CH007L2_ST_GALLEN_UA2018_v013\n",
      "layers: A:\\Copernicus\\UrbanAtlas\\UrbanAtlas\\UA2018\\CH007L2_ST_GALLEN_UA2018_v013\\Data\\CH007L2_ST_GALLEN_UA2018_v013.gpkg\n",
      "loaded ua in urban city\n",
      "green_not_covered_by_ncm\n",
      "GQA\n",
      "GQA_pts\n",
      "str(processing_time)\n",
      "8\n",
      "2024-07-24 09:09:12.368468\n",
      "CH-GEOSTAT21_557-AG_CH_00_8-Lugano\n",
      "1 country for this urban centre\n",
      "ncm\n",
      "ncm_dis\n",
      "exported ncm_dis\n",
      "ncm_agl\n"
     ]
    },
    {
     "name": "stderr",
     "output_type": "stream",
     "text": [
      "Q:\\UserTemp\\ubach\\AppData\\Local\\Temp\\4\\ipykernel_545184\\2175977912.py:71: UserWarning: Column names longer than 10 characters will be truncated when saved to ESRI Shapefile.\n",
      "  ncm_agl.to_file(file_path, driver='ESRI Shapefile')\n"
     ]
    },
    {
     "name": "stdout",
     "output_type": "stream",
     "text": [
      "exported ncm_agl\n",
      "union\n",
      "fillna\n"
     ]
    },
    {
     "name": "stderr",
     "output_type": "stream",
     "text": [
      "Q:\\UserTemp\\ubach\\AppData\\Local\\Temp\\4\\ipykernel_545184\\2175977912.py:83: UserWarning: Column names longer than 10 characters will be truncated when saved to ESRI Shapefile.\n",
      "  ncm_agl_city.to_file(file_path, driver='ESRI Shapefile')\n"
     ]
    },
    {
     "name": "stdout",
     "output_type": "stream",
     "text": [
      "exported ncm_agl\n",
      "   noisy                                           geometry\n",
      "0    1.0  MULTIPOLYGON (((4248246.872 2553427.580, 42482...\n",
      "1    0.0  MULTIPOLYGON (((4236720.706 2542669.222, 42367...\n",
      "CH009L2_LUGANO_UA2018_v013\n",
      "layers: A:\\Copernicus\\UrbanAtlas\\UrbanAtlas\\UA2018\\CH009L2_LUGANO_UA2018_v013\\Data\\CH009L2_LUGANO_UA2018_v013.gpkg\n",
      "loaded ua in urban city\n",
      "green_not_covered_by_ncm\n",
      "GQA\n",
      "GQA_pts\n",
      "str(processing_time)\n",
      "9\n",
      "2024-07-24 09:10:04.342681\n",
      "DE-GEOSTAT21_289-AG_DE_NI_5-Goettingen\n",
      "1 country for this urban centre\n",
      "ncm\n",
      "ncm_dis\n",
      "exported ncm_dis\n",
      "ncm_agl\n"
     ]
    },
    {
     "name": "stderr",
     "output_type": "stream",
     "text": [
      "Q:\\UserTemp\\ubach\\AppData\\Local\\Temp\\4\\ipykernel_545184\\2175977912.py:71: UserWarning: Column names longer than 10 characters will be truncated when saved to ESRI Shapefile.\n",
      "  ncm_agl.to_file(file_path, driver='ESRI Shapefile')\n"
     ]
    },
    {
     "name": "stdout",
     "output_type": "stream",
     "text": [
      "exported ncm_agl\n",
      "union\n",
      "fillna\n"
     ]
    },
    {
     "name": "stderr",
     "output_type": "stream",
     "text": [
      "Q:\\UserTemp\\ubach\\AppData\\Local\\Temp\\4\\ipykernel_545184\\2175977912.py:83: UserWarning: Column names longer than 10 characters will be truncated when saved to ESRI Shapefile.\n",
      "  ncm_agl_city.to_file(file_path, driver='ESRI Shapefile')\n"
     ]
    },
    {
     "name": "stdout",
     "output_type": "stream",
     "text": [
      "exported ncm_agl\n",
      "   noisy                                           geometry\n",
      "0    1.0  MULTIPOLYGON (((4308578.166 3158546.325, 43085...\n",
      "1    0.0  MULTIPOLYGON (((4317981.914 3157317.712, 43179...\n",
      "DE021L1_GOTTINGEN_UA2018_v013\n",
      "layers: A:\\Copernicus\\UrbanAtlas\\UrbanAtlas\\UA2018\\DE021L1_GOTTINGEN_UA2018_v013\\Data\\DE021L1_GOTTINGEN_UA2018_v013.gpkg\n",
      "loaded ua in urban city\n"
     ]
    },
    {
     "name": "stderr",
     "output_type": "stream",
     "text": [
      "Q:\\UserTemp\\ubach\\AppData\\Local\\Temp\\4\\ipykernel_545184\\2175977912.py:116: UserWarning: `keep_geom_type=True` in overlay resulted in 1 dropped geometries of different geometry types than df1 has. Set `keep_geom_type=False` to retain all geometries\n",
      "  uagreen_urbc = gpd.overlay(uagreen, uc_city, how='intersection')\n",
      "c:\\Users\\ubach\\.conda\\envs\\geospatial_ETC_DI_v4\\lib\\site-packages\\pygeos\\set_operations.py:129: RuntimeWarning: invalid value encountered in intersection\n",
      "  return lib.intersection(a, b, **kwargs)\n"
     ]
    },
    {
     "name": "stdout",
     "output_type": "stream",
     "text": [
      "green_not_covered_by_ncm\n",
      "GQA\n",
      "GQA_pts\n",
      "str(processing_time)\n",
      "10\n",
      "2024-07-24 09:10:31.091984\n",
      "DE-GEOSTAT21_223-AG_DE_NI_6-Hildesheim\n",
      "1 country for this urban centre\n",
      "ncm\n",
      "ncm_dis\n",
      "exported ncm_dis\n",
      "ncm_agl\n"
     ]
    },
    {
     "name": "stderr",
     "output_type": "stream",
     "text": [
      "Q:\\UserTemp\\ubach\\AppData\\Local\\Temp\\4\\ipykernel_545184\\2175977912.py:71: UserWarning: Column names longer than 10 characters will be truncated when saved to ESRI Shapefile.\n",
      "  ncm_agl.to_file(file_path, driver='ESRI Shapefile')\n"
     ]
    },
    {
     "name": "stdout",
     "output_type": "stream",
     "text": [
      "exported ncm_agl\n",
      "union\n",
      "fillna\n"
     ]
    },
    {
     "name": "stderr",
     "output_type": "stream",
     "text": [
      "Q:\\UserTemp\\ubach\\AppData\\Local\\Temp\\4\\ipykernel_545184\\2175977912.py:83: UserWarning: Column names longer than 10 characters will be truncated when saved to ESRI Shapefile.\n",
      "  ncm_agl_city.to_file(file_path, driver='ESRI Shapefile')\n"
     ]
    },
    {
     "name": "stdout",
     "output_type": "stream",
     "text": [
      "exported ncm_agl\n",
      "   noisy                                           geometry\n",
      "0    1.0  MULTIPOLYGON (((4319953.456 3231328.585, 43199...\n",
      "1    0.0  MULTIPOLYGON (((4323930.314 3225207.322, 43239...\n",
      "DE542L1_HILDESHEIM_UA2018_v013\n",
      "layers: A:\\Copernicus\\UrbanAtlas\\UrbanAtlas\\UA2018\\DE542L1_HILDESHEIM_UA2018_v013\\Data\\DE542L1_HILDESHEIM_UA2018_v013.gpkg\n",
      "loaded ua in urban city\n",
      "green_not_covered_by_ncm\n",
      "GQA\n",
      "GQA_pts\n",
      "str(processing_time)\n",
      "11\n",
      "2024-07-24 09:10:49.381059\n",
      "DE-GEOSTAT21_488-AG_DE_BW_4-Freiburg\n",
      "1 country for this urban centre\n",
      "ncm\n",
      "ncm_dis\n",
      "exported ncm_dis\n",
      "ncm_agl\n"
     ]
    },
    {
     "name": "stderr",
     "output_type": "stream",
     "text": [
      "Q:\\UserTemp\\ubach\\AppData\\Local\\Temp\\4\\ipykernel_545184\\2175977912.py:71: UserWarning: Column names longer than 10 characters will be truncated when saved to ESRI Shapefile.\n",
      "  ncm_agl.to_file(file_path, driver='ESRI Shapefile')\n"
     ]
    },
    {
     "name": "stdout",
     "output_type": "stream",
     "text": [
      "exported ncm_agl\n",
      "union\n",
      "fillna\n"
     ]
    },
    {
     "name": "stderr",
     "output_type": "stream",
     "text": [
      "Q:\\UserTemp\\ubach\\AppData\\Local\\Temp\\4\\ipykernel_545184\\2175977912.py:83: UserWarning: Column names longer than 10 characters will be truncated when saved to ESRI Shapefile.\n",
      "  ncm_agl_city.to_file(file_path, driver='ESRI Shapefile')\n"
     ]
    },
    {
     "name": "stdout",
     "output_type": "stream",
     "text": [
      "exported ncm_agl\n",
      "   noisy                                           geometry\n",
      "0    1.0  MULTIPOLYGON (((4166293.403 2765753.895, 41662...\n",
      "1    0.0  MULTIPOLYGON (((4160877.752 2767246.738, 41608...\n",
      "DE027L1_FREIBURG_IM_BREISGAU\n",
      "layers: A:\\Copernicus\\UrbanAtlas\\UrbanAtlas\\UA2018\\DE027L1_FREIBURG_IM_BREISGAU_UA2018_v013\\Data\\DE027L1_FREIBURG_IM_BREISGAU_UA2018_v013.gpkg\n",
      "loaded ua in urban city\n"
     ]
    },
    {
     "name": "stderr",
     "output_type": "stream",
     "text": [
      "c:\\Users\\ubach\\.conda\\envs\\geospatial_ETC_DI_v4\\lib\\site-packages\\pygeos\\set_operations.py:129: RuntimeWarning: invalid value encountered in intersection\n",
      "  return lib.intersection(a, b, **kwargs)\n"
     ]
    },
    {
     "name": "stdout",
     "output_type": "stream",
     "text": [
      "green_not_covered_by_ncm\n",
      "GQA\n",
      "GQA_pts\n",
      "str(processing_time)\n",
      "12\n",
      "2024-07-24 09:13:09.325314\n",
      "DE-GEOSTAT21_237-AG_DE_NW_8-Bielefeld\n",
      "1 country for this urban centre\n",
      "ncm\n",
      "ncm_dis\n",
      "exported ncm_dis\n",
      "ncm_agl\n"
     ]
    },
    {
     "name": "stderr",
     "output_type": "stream",
     "text": [
      "Q:\\UserTemp\\ubach\\AppData\\Local\\Temp\\4\\ipykernel_545184\\2175977912.py:71: UserWarning: Column names longer than 10 characters will be truncated when saved to ESRI Shapefile.\n",
      "  ncm_agl.to_file(file_path, driver='ESRI Shapefile')\n"
     ]
    },
    {
     "name": "stdout",
     "output_type": "stream",
     "text": [
      "exported ncm_agl\n",
      "union\n",
      "fillna\n"
     ]
    },
    {
     "name": "stderr",
     "output_type": "stream",
     "text": [
      "Q:\\UserTemp\\ubach\\AppData\\Local\\Temp\\4\\ipykernel_545184\\2175977912.py:83: UserWarning: Column names longer than 10 characters will be truncated when saved to ESRI Shapefile.\n",
      "  ncm_agl_city.to_file(file_path, driver='ESRI Shapefile')\n"
     ]
    },
    {
     "name": "stdout",
     "output_type": "stream",
     "text": [
      "exported ncm_agl\n",
      "   noisy                                           geometry\n",
      "0    1.0  MULTIPOLYGON (((4219490.953 3223379.414, 42194...\n",
      "1    0.0  MULTIPOLYGON (((4229298.568 3216848.507, 42292...\n",
      "DE017L0_BIELEFELD_UA2018_v013\n",
      "\n",
      "Error DE-GEOSTAT21_237-AG_DE_NW_8-Bielefeld\n",
      "13\n",
      "2024-07-24 09:14:55.581937\n",
      "DE-GEOSTAT21_487-AG_DE_BY_1-Munich\n",
      "1 country for this urban centre\n",
      "ncm\n",
      "ncm_dis\n",
      "exported ncm_dis\n",
      "ncm_agl\n"
     ]
    },
    {
     "name": "stderr",
     "output_type": "stream",
     "text": [
      "Q:\\UserTemp\\ubach\\AppData\\Local\\Temp\\4\\ipykernel_545184\\2175977912.py:71: UserWarning: Column names longer than 10 characters will be truncated when saved to ESRI Shapefile.\n",
      "  ncm_agl.to_file(file_path, driver='ESRI Shapefile')\n"
     ]
    },
    {
     "name": "stdout",
     "output_type": "stream",
     "text": [
      "exported ncm_agl\n",
      "union\n",
      "fillna\n"
     ]
    },
    {
     "name": "stderr",
     "output_type": "stream",
     "text": [
      "Q:\\UserTemp\\ubach\\AppData\\Local\\Temp\\4\\ipykernel_545184\\2175977912.py:83: UserWarning: Column names longer than 10 characters will be truncated when saved to ESRI Shapefile.\n",
      "  ncm_agl_city.to_file(file_path, driver='ESRI Shapefile')\n"
     ]
    },
    {
     "name": "stdout",
     "output_type": "stream",
     "text": [
      "exported ncm_agl\n",
      "   noisy                                           geometry\n",
      "0    1.0  MULTIPOLYGON (((4434009.008 2793323.655, 44340...\n",
      "1    0.0  MULTIPOLYGON (((4449094.759 2782104.798, 44491...\n",
      "DE003L1_MUNCHEN_UA2018_v013\n",
      "layers: A:\\Copernicus\\UrbanAtlas\\UrbanAtlas\\UA2018\\DE003L1_MUNCHEN_UA2018_v013\\Data\\DE003L1_MUNCHEN_UA2018_v013.gpkg\n",
      "loaded ua in urban city\n"
     ]
    },
    {
     "name": "stderr",
     "output_type": "stream",
     "text": [
      "c:\\Users\\ubach\\.conda\\envs\\geospatial_ETC_DI_v4\\lib\\site-packages\\pygeos\\set_operations.py:129: RuntimeWarning: invalid value encountered in intersection\n",
      "  return lib.intersection(a, b, **kwargs)\n"
     ]
    },
    {
     "name": "stdout",
     "output_type": "stream",
     "text": [
      "green_not_covered_by_ncm\n",
      "GQA\n",
      "GQA_pts\n",
      "str(processing_time)\n",
      "14\n",
      "2024-07-24 09:34:28.361442\n",
      "DE-GEOSTAT21_907-AG_DE_BY_3-Augsburg\n",
      "1 country for this urban centre\n",
      "ncm\n",
      "ncm_dis\n",
      "exported ncm_dis\n",
      "ncm_agl\n"
     ]
    },
    {
     "name": "stderr",
     "output_type": "stream",
     "text": [
      "Q:\\UserTemp\\ubach\\AppData\\Local\\Temp\\4\\ipykernel_545184\\2175977912.py:71: UserWarning: Column names longer than 10 characters will be truncated when saved to ESRI Shapefile.\n",
      "  ncm_agl.to_file(file_path, driver='ESRI Shapefile')\n"
     ]
    },
    {
     "name": "stdout",
     "output_type": "stream",
     "text": [
      "exported ncm_agl\n",
      "union\n",
      "fillna\n"
     ]
    },
    {
     "name": "stderr",
     "output_type": "stream",
     "text": [
      "Q:\\UserTemp\\ubach\\AppData\\Local\\Temp\\4\\ipykernel_545184\\2175977912.py:83: UserWarning: Column names longer than 10 characters will be truncated when saved to ESRI Shapefile.\n",
      "  ncm_agl_city.to_file(file_path, driver='ESRI Shapefile')\n"
     ]
    },
    {
     "name": "stdout",
     "output_type": "stream",
     "text": [
      "exported ncm_agl\n",
      "   noisy                                           geometry\n",
      "0    1.0  MULTIPOLYGON (((4391311.106 2809220.655, 43913...\n",
      "1    0.0  MULTIPOLYGON (((4391933.281 2807460.792, 43919...\n",
      "DE033L1_AUGSBURG_UA2018_v013\n",
      "layers: A:\\Copernicus\\UrbanAtlas\\UrbanAtlas\\UA2018\\DE033L1_AUGSBURG_UA2018_v013\\Data\\DE033L1_AUGSBURG_UA2018_v013.gpkg\n",
      "loaded ua in urban city\n"
     ]
    },
    {
     "name": "stderr",
     "output_type": "stream",
     "text": [
      "c:\\Users\\ubach\\.conda\\envs\\geospatial_ETC_DI_v4\\lib\\site-packages\\pygeos\\set_operations.py:129: RuntimeWarning: invalid value encountered in intersection\n",
      "  return lib.intersection(a, b, **kwargs)\n"
     ]
    },
    {
     "name": "stdout",
     "output_type": "stream",
     "text": [
      "green_not_covered_by_ncm\n",
      "GQA\n",
      "GQA_pts\n",
      "str(processing_time)\n",
      "15\n",
      "2024-07-24 09:35:22.837556\n",
      "DE-GEOSTAT21_457-AG_DE_BW_1-Stuttgart\n",
      "1 country for this urban centre\n",
      "ncm\n",
      "ncm_dis\n",
      "exported ncm_dis\n",
      "ncm_agl\n"
     ]
    },
    {
     "name": "stderr",
     "output_type": "stream",
     "text": [
      "Q:\\UserTemp\\ubach\\AppData\\Local\\Temp\\4\\ipykernel_545184\\2175977912.py:71: UserWarning: Column names longer than 10 characters will be truncated when saved to ESRI Shapefile.\n",
      "  ncm_agl.to_file(file_path, driver='ESRI Shapefile')\n"
     ]
    },
    {
     "name": "stdout",
     "output_type": "stream",
     "text": [
      "exported ncm_agl\n",
      "union\n",
      "fillna\n"
     ]
    },
    {
     "name": "stderr",
     "output_type": "stream",
     "text": [
      "Q:\\UserTemp\\ubach\\AppData\\Local\\Temp\\4\\ipykernel_545184\\2175977912.py:83: UserWarning: Column names longer than 10 characters will be truncated when saved to ESRI Shapefile.\n",
      "  ncm_agl_city.to_file(file_path, driver='ESRI Shapefile')\n"
     ]
    },
    {
     "name": "stdout",
     "output_type": "stream",
     "text": [
      "exported ncm_agl\n",
      "   noisy                                           geometry\n",
      "0    1.0  MULTIPOLYGON (((4258590.977 2861145.511, 42586...\n",
      "1    0.0  MULTIPOLYGON (((4266931.535 2853650.182, 42668...\n",
      "DE007L1_STUTTGART_UA2018_v013\n",
      "\n",
      "Error DE-GEOSTAT21_457-AG_DE_BW_1-Stuttgart\n",
      "16\n",
      "2024-07-24 09:35:40.626608\n",
      "DE-GEOSTAT21_327-AG_DE_NW_2-Duesseldorf\n",
      "1 country for this urban centre\n",
      "ncm\n",
      "ncm_dis\n",
      "exported ncm_dis\n",
      "ncm_agl\n"
     ]
    },
    {
     "name": "stderr",
     "output_type": "stream",
     "text": [
      "Q:\\UserTemp\\ubach\\AppData\\Local\\Temp\\4\\ipykernel_545184\\2175977912.py:71: UserWarning: Column names longer than 10 characters will be truncated when saved to ESRI Shapefile.\n",
      "  ncm_agl.to_file(file_path, driver='ESRI Shapefile')\n"
     ]
    },
    {
     "name": "stdout",
     "output_type": "stream",
     "text": [
      "exported ncm_agl\n",
      "union\n",
      "fillna\n"
     ]
    },
    {
     "name": "stderr",
     "output_type": "stream",
     "text": [
      "Q:\\UserTemp\\ubach\\AppData\\Local\\Temp\\4\\ipykernel_545184\\2175977912.py:83: UserWarning: Column names longer than 10 characters will be truncated when saved to ESRI Shapefile.\n",
      "  ncm_agl_city.to_file(file_path, driver='ESRI Shapefile')\n"
     ]
    },
    {
     "name": "stdout",
     "output_type": "stream",
     "text": [
      "exported ncm_agl\n",
      "   noisy                                           geometry\n",
      "0    1.0  MULTIPOLYGON (((4091472.001 3130775.328, 40914...\n",
      "1    0.0  MULTIPOLYGON (((4105917.032 3133657.682, 41059...\n",
      "DE011L1_DUSSELDORF_UA2018_v013\n",
      "\n",
      "Error DE-GEOSTAT21_327-AG_DE_NW_2-Duesseldorf\n",
      "DE-GEOSTAT21_327-AG_DE_NW_21-Neuss\n",
      "1 country for this urban centre\n",
      "ncm\n",
      "ncm_dis\n",
      "exported ncm_dis\n",
      "ncm_agl\n",
      "exported ncm_agl\n"
     ]
    },
    {
     "name": "stderr",
     "output_type": "stream",
     "text": [
      "Q:\\UserTemp\\ubach\\AppData\\Local\\Temp\\4\\ipykernel_545184\\2175977912.py:71: UserWarning: Column names longer than 10 characters will be truncated when saved to ESRI Shapefile.\n",
      "  ncm_agl.to_file(file_path, driver='ESRI Shapefile')\n",
      "Q:\\UserTemp\\ubach\\AppData\\Local\\Temp\\4\\ipykernel_545184\\2175977912.py:75: UserWarning: `keep_geom_type=True` in overlay resulted in 12 dropped geometries of different geometry types than df1 has. Set `keep_geom_type=False` to retain all geometries\n",
      "  ncm_agl_city = gpd.overlay(ncm_agl, agl_city, how='union')\n",
      "Q:\\UserTemp\\ubach\\AppData\\Local\\Temp\\4\\ipykernel_545184\\2175977912.py:83: UserWarning: Column names longer than 10 characters will be truncated when saved to ESRI Shapefile.\n",
      "  ncm_agl_city.to_file(file_path, driver='ESRI Shapefile')\n"
     ]
    },
    {
     "name": "stdout",
     "output_type": "stream",
     "text": [
      "union\n",
      "fillna\n",
      "exported ncm_agl\n",
      "   noisy                                           geometry\n",
      "0    1.0  MULTIPOLYGON (((4094469.517 3123981.922, 40944...\n",
      "1    1.0  POLYGON ((4094861.333 3124101.451, 4094861.333...\n",
      "2    0.0  POLYGON ((4084296.687 3122011.683, 4084815.775...\n",
      "DE011L1_DUSSELDORF_UA2018_v013\n",
      "\n",
      "Error DE-GEOSTAT21_327-AG_DE_NW_21-Neuss\n",
      "18\n",
      "2024-07-24 09:36:54.241761\n",
      "DE-GEOSTAT21_339-AG_DE_SN_1-Dresden\n",
      "1 country for this urban centre\n",
      "ncm\n",
      "ncm_dis\n",
      "exported ncm_dis\n",
      "ncm_agl\n"
     ]
    },
    {
     "name": "stderr",
     "output_type": "stream",
     "text": [
      "Q:\\UserTemp\\ubach\\AppData\\Local\\Temp\\4\\ipykernel_545184\\2175977912.py:71: UserWarning: Column names longer than 10 characters will be truncated when saved to ESRI Shapefile.\n",
      "  ncm_agl.to_file(file_path, driver='ESRI Shapefile')\n"
     ]
    },
    {
     "name": "stdout",
     "output_type": "stream",
     "text": [
      "exported ncm_agl\n",
      "union\n",
      "fillna\n"
     ]
    },
    {
     "name": "stderr",
     "output_type": "stream",
     "text": [
      "Q:\\UserTemp\\ubach\\AppData\\Local\\Temp\\4\\ipykernel_545184\\2175977912.py:83: UserWarning: Column names longer than 10 characters will be truncated when saved to ESRI Shapefile.\n",
      "  ncm_agl_city.to_file(file_path, driver='ESRI Shapefile')\n"
     ]
    },
    {
     "name": "stdout",
     "output_type": "stream",
     "text": [
      "exported ncm_agl\n",
      "   noisy                                           geometry\n",
      "0    1.0  MULTIPOLYGON (((4576743.342 3114288.209, 45767...\n",
      "1    0.0  MULTIPOLYGON (((4579724.851 3113048.036, 45797...\n",
      "DE009L2_DRESDEN_UA2018_v013\n",
      "layers: A:\\Copernicus\\UrbanAtlas\\UrbanAtlas\\UA2018\\DE009L2_DRESDEN_UA2018_v013\\Data\\DE009L2_DRESDEN_UA2018_v013.gpkg\n",
      "loaded ua in urban city\n"
     ]
    },
    {
     "name": "stderr",
     "output_type": "stream",
     "text": [
      "c:\\Users\\ubach\\.conda\\envs\\geospatial_ETC_DI_v4\\lib\\site-packages\\pygeos\\set_operations.py:129: RuntimeWarning: invalid value encountered in intersection\n",
      "  return lib.intersection(a, b, **kwargs)\n"
     ]
    },
    {
     "name": "stdout",
     "output_type": "stream",
     "text": [
      "green_not_covered_by_ncm\n",
      "GQA\n",
      "GQA_pts\n",
      "str(processing_time)\n",
      "19\n",
      "2024-07-24 09:38:55.163225\n",
      "DE-GEOSTAT21_421-AG_DE_BY_8-Erlangen\n",
      "1 country for this urban centre\n",
      "ncm\n",
      "ncm_dis\n",
      "exported ncm_dis\n",
      "ncm_agl\n"
     ]
    },
    {
     "name": "stderr",
     "output_type": "stream",
     "text": [
      "Q:\\UserTemp\\ubach\\AppData\\Local\\Temp\\4\\ipykernel_545184\\2175977912.py:71: UserWarning: Column names longer than 10 characters will be truncated when saved to ESRI Shapefile.\n",
      "  ncm_agl.to_file(file_path, driver='ESRI Shapefile')\n"
     ]
    },
    {
     "name": "stdout",
     "output_type": "stream",
     "text": [
      "exported ncm_agl\n"
     ]
    },
    {
     "name": "stderr",
     "output_type": "stream",
     "text": [
      "Q:\\UserTemp\\ubach\\AppData\\Local\\Temp\\4\\ipykernel_545184\\2175977912.py:75: UserWarning: `keep_geom_type=True` in overlay resulted in 1240 dropped geometries of different geometry types than df1 has. Set `keep_geom_type=False` to retain all geometries\n",
      "  ncm_agl_city = gpd.overlay(ncm_agl, agl_city, how='union')\n",
      "Q:\\UserTemp\\ubach\\AppData\\Local\\Temp\\4\\ipykernel_545184\\2175977912.py:83: UserWarning: Column names longer than 10 characters will be truncated when saved to ESRI Shapefile.\n",
      "  ncm_agl_city.to_file(file_path, driver='ESRI Shapefile')\n"
     ]
    },
    {
     "name": "stdout",
     "output_type": "stream",
     "text": [
      "union\n",
      "fillna\n",
      "exported ncm_agl\n",
      "   noisy                                           geometry\n",
      "0    1.0  MULTIPOLYGON (((4390451.737 2936005.492, 43904...\n",
      "1    1.0  MULTIPOLYGON (((4395376.815 2936400.462, 43953...\n",
      "2    0.0  MULTIPOLYGON (((4387574.323 2939193.068, 43875...\n",
      "DE014L1_NURNBERG_UA2018_v013\n",
      "layers: A:\\Copernicus\\UrbanAtlas\\UrbanAtlas\\UA2018\\DE014L1_NURNBERG_UA2018_v013\\Data\\DE014L1_NURNBERG_UA2018_v013.gpkg\n",
      "loaded ua in urban city\n"
     ]
    },
    {
     "name": "stderr",
     "output_type": "stream",
     "text": [
      "c:\\Users\\ubach\\.conda\\envs\\geospatial_ETC_DI_v4\\lib\\site-packages\\pygeos\\set_operations.py:129: RuntimeWarning: invalid value encountered in intersection\n",
      "  return lib.intersection(a, b, **kwargs)\n"
     ]
    },
    {
     "name": "stdout",
     "output_type": "stream",
     "text": [
      "green_not_covered_by_ncm\n",
      "GQA\n",
      "GQA_pts\n",
      "str(processing_time)\n",
      "20\n",
      "2024-07-24 09:40:29.401088\n",
      "DE-GEOSTAT21_425-AG_DE_RP_1-Ludwigshafen\n",
      "1 country for this urban centre\n",
      "ncm\n",
      "ncm_dis\n",
      "exported ncm_dis\n",
      "ncm_agl\n"
     ]
    },
    {
     "name": "stderr",
     "output_type": "stream",
     "text": [
      "Q:\\UserTemp\\ubach\\AppData\\Local\\Temp\\4\\ipykernel_545184\\2175977912.py:71: UserWarning: Column names longer than 10 characters will be truncated when saved to ESRI Shapefile.\n",
      "  ncm_agl.to_file(file_path, driver='ESRI Shapefile')\n"
     ]
    },
    {
     "name": "stdout",
     "output_type": "stream",
     "text": [
      "exported ncm_agl\n",
      "union\n",
      "fillna\n"
     ]
    },
    {
     "name": "stderr",
     "output_type": "stream",
     "text": [
      "Q:\\UserTemp\\ubach\\AppData\\Local\\Temp\\4\\ipykernel_545184\\2175977912.py:83: UserWarning: Column names longer than 10 characters will be truncated when saved to ESRI Shapefile.\n",
      "  ncm_agl_city.to_file(file_path, driver='ESRI Shapefile')\n"
     ]
    },
    {
     "name": "stdout",
     "output_type": "stream",
     "text": [
      "exported ncm_agl\n",
      "   noisy                                           geometry\n",
      "0    1.0  MULTIPOLYGON (((4202705.800 2933012.148, 42027...\n",
      "1    0.0  MULTIPOLYGON (((4207046.148 2927630.553, 42070...\n",
      "DE084L1_MANNHEIM_LUDWIGSHAFEN\n",
      "layers: A:\\Copernicus\\UrbanAtlas\\UrbanAtlas\\UA2018\\DE084L1_MANNHEIM_LUDWIGSHAFEN_UA2018_v013\\Data\\DE084L1_MANNHEIM_LUDWIGSHAFEN_UA2018_v013.gpkg\n",
      "loaded ua in urban city\n"
     ]
    },
    {
     "name": "stderr",
     "output_type": "stream",
     "text": [
      "c:\\Users\\ubach\\.conda\\envs\\geospatial_ETC_DI_v4\\lib\\site-packages\\pygeos\\set_operations.py:129: RuntimeWarning: invalid value encountered in intersection\n",
      "  return lib.intersection(a, b, **kwargs)\n"
     ]
    },
    {
     "name": "stdout",
     "output_type": "stream",
     "text": [
      "green_not_covered_by_ncm\n",
      "GQA\n",
      "GQA_pts\n",
      "str(processing_time)\n",
      "DE-GEOSTAT21_425-AG_DE_BW_2-Mannheim\n",
      "1 country for this urban centre\n",
      "ncm\n",
      "ncm_dis\n",
      "exported ncm_dis\n",
      "ncm_agl\n"
     ]
    },
    {
     "name": "stderr",
     "output_type": "stream",
     "text": [
      "Q:\\UserTemp\\ubach\\AppData\\Local\\Temp\\4\\ipykernel_545184\\2175977912.py:71: UserWarning: Column names longer than 10 characters will be truncated when saved to ESRI Shapefile.\n",
      "  ncm_agl.to_file(file_path, driver='ESRI Shapefile')\n"
     ]
    },
    {
     "name": "stdout",
     "output_type": "stream",
     "text": [
      "exported ncm_agl\n",
      "union\n",
      "fillna\n"
     ]
    },
    {
     "name": "stderr",
     "output_type": "stream",
     "text": [
      "Q:\\UserTemp\\ubach\\AppData\\Local\\Temp\\4\\ipykernel_545184\\2175977912.py:83: UserWarning: Column names longer than 10 characters will be truncated when saved to ESRI Shapefile.\n",
      "  ncm_agl_city.to_file(file_path, driver='ESRI Shapefile')\n"
     ]
    },
    {
     "name": "stdout",
     "output_type": "stream",
     "text": [
      "exported ncm_agl\n",
      "   noisy                                           geometry\n",
      "0    1.0  MULTIPOLYGON (((4209049.855 2942357.995, 42090...\n",
      "1    0.0  MULTIPOLYGON (((4218304.395 2928429.855, 42183...\n",
      "DE084L1_MANNHEIM_LUDWIGSHAFEN\n",
      "layers: A:\\Copernicus\\UrbanAtlas\\UrbanAtlas\\UA2018\\DE084L1_MANNHEIM_LUDWIGSHAFEN_UA2018_v013\\Data\\DE084L1_MANNHEIM_LUDWIGSHAFEN_UA2018_v013.gpkg\n",
      "loaded ua in urban city\n"
     ]
    },
    {
     "name": "stderr",
     "output_type": "stream",
     "text": [
      "c:\\Users\\ubach\\.conda\\envs\\geospatial_ETC_DI_v4\\lib\\site-packages\\pygeos\\set_operations.py:129: RuntimeWarning: invalid value encountered in intersection\n",
      "  return lib.intersection(a, b, **kwargs)\n"
     ]
    },
    {
     "name": "stdout",
     "output_type": "stream",
     "text": [
      "green_not_covered_by_ncm\n",
      "GQA\n",
      "GQA_pts\n",
      "str(processing_time)\n",
      "22\n",
      "2024-07-24 09:45:33.240997\n",
      "DE-GEOSTAT21_417-AG_DE_BY_5-Wuerzburg\n",
      "1 country for this urban centre\n",
      "ncm\n",
      "ncm_dis\n",
      "exported ncm_dis\n",
      "ncm_agl\n"
     ]
    },
    {
     "name": "stderr",
     "output_type": "stream",
     "text": [
      "Q:\\UserTemp\\ubach\\AppData\\Local\\Temp\\4\\ipykernel_545184\\2175977912.py:71: UserWarning: Column names longer than 10 characters will be truncated when saved to ESRI Shapefile.\n",
      "  ncm_agl.to_file(file_path, driver='ESRI Shapefile')\n"
     ]
    },
    {
     "name": "stdout",
     "output_type": "stream",
     "text": [
      "exported ncm_agl\n",
      "union\n",
      "fillna\n"
     ]
    },
    {
     "name": "stderr",
     "output_type": "stream",
     "text": [
      "Q:\\UserTemp\\ubach\\AppData\\Local\\Temp\\4\\ipykernel_545184\\2175977912.py:83: UserWarning: Column names longer than 10 characters will be truncated when saved to ESRI Shapefile.\n",
      "  ncm_agl_city.to_file(file_path, driver='ESRI Shapefile')\n"
     ]
    },
    {
     "name": "stdout",
     "output_type": "stream",
     "text": [
      "exported ncm_agl\n",
      "   noisy                                           geometry\n",
      "0    1.0  MULTIPOLYGON (((4320183.186 2969326.182, 43201...\n",
      "1    0.0  MULTIPOLYGON (((4320530.952 2967920.468, 43205...\n",
      "DE524L2_WURZBURG_UA2018_v013\n",
      "layers: A:\\Copernicus\\UrbanAtlas\\UrbanAtlas\\UA2018\\DE524L2_WURZBURG_UA2018_v013\\Data\\DE524L2_WURZBURG_UA2018_v013.gpkg\n",
      "loaded ua in urban city\n",
      "green_not_covered_by_ncm\n",
      "GQA\n",
      "GQA_pts\n",
      "str(processing_time)\n",
      "23\n",
      "2024-07-24 09:46:09.171490\n",
      "DE-GEOSTAT21_359-AG_DE_SN_3-Chemnitz\n",
      "1 country for this urban centre\n",
      "ncm\n",
      "ncm_dis\n",
      "exported ncm_dis\n",
      "ncm_agl\n"
     ]
    },
    {
     "name": "stderr",
     "output_type": "stream",
     "text": [
      "Q:\\UserTemp\\ubach\\AppData\\Local\\Temp\\4\\ipykernel_545184\\2175977912.py:71: UserWarning: Column names longer than 10 characters will be truncated when saved to ESRI Shapefile.\n",
      "  ncm_agl.to_file(file_path, driver='ESRI Shapefile')\n"
     ]
    },
    {
     "name": "stdout",
     "output_type": "stream",
     "text": [
      "exported ncm_agl\n",
      "union\n",
      "fillna\n"
     ]
    },
    {
     "name": "stderr",
     "output_type": "stream",
     "text": [
      "Q:\\UserTemp\\ubach\\AppData\\Local\\Temp\\4\\ipykernel_545184\\2175977912.py:83: UserWarning: Column names longer than 10 characters will be truncated when saved to ESRI Shapefile.\n",
      "  ncm_agl_city.to_file(file_path, driver='ESRI Shapefile')\n"
     ]
    },
    {
     "name": "stdout",
     "output_type": "stream",
     "text": [
      "exported ncm_agl\n",
      "   noisy                                           geometry\n",
      "0    1.0  MULTIPOLYGON (((4527323.835 3086637.925, 45273...\n",
      "1    0.0  MULTIPOLYGON (((4531081.655 3084350.501, 45310...\n",
      "DE505L0_CHEMNITZ_UA2018_v013\n",
      "layers: A:\\Copernicus\\UrbanAtlas\\UrbanAtlas\\UA2018\\DE505L0_CHEMNITZ_UA2018_v013\\Data\\DE505L0_CHEMNITZ_UA2018_v013.gpkg\n",
      "loaded ua in urban city\n"
     ]
    },
    {
     "name": "stderr",
     "output_type": "stream",
     "text": [
      "c:\\Users\\ubach\\.conda\\envs\\geospatial_ETC_DI_v4\\lib\\site-packages\\pygeos\\set_operations.py:129: RuntimeWarning: invalid value encountered in intersection\n",
      "  return lib.intersection(a, b, **kwargs)\n"
     ]
    },
    {
     "name": "stdout",
     "output_type": "stream",
     "text": [
      "green_not_covered_by_ncm\n",
      "GQA\n",
      "GQA_pts\n",
      "str(processing_time)\n",
      "24\n",
      "2024-07-24 09:47:44.494896\n",
      "DE-GEOSTAT21_408-AG_DE_RP_2-Mainz\n",
      "1 country for this urban centre\n",
      "ncm\n",
      "ncm_dis\n",
      "exported ncm_dis\n",
      "ncm_agl\n"
     ]
    },
    {
     "name": "stderr",
     "output_type": "stream",
     "text": [
      "Q:\\UserTemp\\ubach\\AppData\\Local\\Temp\\4\\ipykernel_545184\\2175977912.py:71: UserWarning: Column names longer than 10 characters will be truncated when saved to ESRI Shapefile.\n",
      "  ncm_agl.to_file(file_path, driver='ESRI Shapefile')\n"
     ]
    },
    {
     "name": "stdout",
     "output_type": "stream",
     "text": [
      "exported ncm_agl\n",
      "union\n",
      "fillna\n"
     ]
    },
    {
     "name": "stderr",
     "output_type": "stream",
     "text": [
      "Q:\\UserTemp\\ubach\\AppData\\Local\\Temp\\4\\ipykernel_545184\\2175977912.py:83: UserWarning: Column names longer than 10 characters will be truncated when saved to ESRI Shapefile.\n",
      "  ncm_agl_city.to_file(file_path, driver='ESRI Shapefile')\n"
     ]
    },
    {
     "name": "stdout",
     "output_type": "stream",
     "text": [
      "exported ncm_agl\n",
      "   noisy                                           geometry\n",
      "0    1.0  MULTIPOLYGON (((4193907.641 2992458.933, 41938...\n",
      "1    0.0  MULTIPOLYGON (((4202038.351 2982335.244, 42020...\n",
      "DE020L1_WIESBADEN_UA2018_v013\n",
      "layers: A:\\Copernicus\\UrbanAtlas\\UrbanAtlas\\UA2018\\DE020L1_WIESBADEN_UA2018_v013\\Data\\DE020L1_WIESBADEN_UA2018_v013.gpkg\n",
      "loaded ua in urban city\n"
     ]
    },
    {
     "name": "stderr",
     "output_type": "stream",
     "text": [
      "c:\\Users\\ubach\\.conda\\envs\\geospatial_ETC_DI_v4\\lib\\site-packages\\geopandas\\io\\file.py:545: UserWarning: You are attempting to write an empty DataFrame to file. For some drivers, this operation may fail.\n",
      "  _to_file_fiona(df, filename, driver, schema, crs, mode, **kwargs)\n"
     ]
    },
    {
     "name": "stdout",
     "output_type": "stream",
     "text": [
      "Error DE-GEOSTAT21_408-AG_DE_RP_2-Mainz\n",
      "DE-GEOSTAT21_408-AG_DE_HE_2-Wiesbaden\n",
      "1 country for this urban centre\n",
      "ncm\n",
      "ncm_dis\n",
      "exported ncm_dis\n",
      "ncm_agl\n"
     ]
    },
    {
     "name": "stderr",
     "output_type": "stream",
     "text": [
      "Q:\\UserTemp\\ubach\\AppData\\Local\\Temp\\4\\ipykernel_545184\\2175977912.py:71: UserWarning: Column names longer than 10 characters will be truncated when saved to ESRI Shapefile.\n",
      "  ncm_agl.to_file(file_path, driver='ESRI Shapefile')\n"
     ]
    },
    {
     "name": "stdout",
     "output_type": "stream",
     "text": [
      "exported ncm_agl\n",
      "union\n",
      "fillna\n"
     ]
    },
    {
     "name": "stderr",
     "output_type": "stream",
     "text": [
      "Q:\\UserTemp\\ubach\\AppData\\Local\\Temp\\4\\ipykernel_545184\\2175977912.py:83: UserWarning: Column names longer than 10 characters will be truncated when saved to ESRI Shapefile.\n",
      "  ncm_agl_city.to_file(file_path, driver='ESRI Shapefile')\n"
     ]
    },
    {
     "name": "stdout",
     "output_type": "stream",
     "text": [
      "exported ncm_agl\n",
      "   noisy                                           geometry\n",
      "0    1.0  MULTIPOLYGON (((4199829.683 3005758.741, 41998...\n",
      "1    0.0  MULTIPOLYGON (((4205486.746 2997735.378, 42054...\n",
      "DE020L1_WIESBADEN_UA2018_v013\n",
      "layers: A:\\Copernicus\\UrbanAtlas\\UrbanAtlas\\UA2018\\DE020L1_WIESBADEN_UA2018_v013\\Data\\DE020L1_WIESBADEN_UA2018_v013.gpkg\n",
      "loaded ua in urban city\n",
      "green_not_covered_by_ncm\n",
      "GQA\n",
      "GQA_pts\n",
      "str(processing_time)\n",
      "26\n",
      "2024-07-24 10:04:38.547295\n",
      "DE-GEOSTAT21_299-AG_DE_NW_6-Bochum\n",
      "1 country for this urban centre\n",
      "ncm\n",
      "ncm_dis\n",
      "exported ncm_dis\n",
      "ncm_agl\n"
     ]
    },
    {
     "name": "stderr",
     "output_type": "stream",
     "text": [
      "Q:\\UserTemp\\ubach\\AppData\\Local\\Temp\\4\\ipykernel_545184\\2175977912.py:71: UserWarning: Column names longer than 10 characters will be truncated when saved to ESRI Shapefile.\n",
      "  ncm_agl.to_file(file_path, driver='ESRI Shapefile')\n"
     ]
    },
    {
     "name": "stdout",
     "output_type": "stream",
     "text": [
      "exported ncm_agl\n",
      "union\n",
      "fillna\n"
     ]
    },
    {
     "name": "stderr",
     "output_type": "stream",
     "text": [
      "Q:\\UserTemp\\ubach\\AppData\\Local\\Temp\\4\\ipykernel_545184\\2175977912.py:83: UserWarning: Column names longer than 10 characters will be truncated when saved to ESRI Shapefile.\n",
      "  ncm_agl_city.to_file(file_path, driver='ESRI Shapefile')\n"
     ]
    },
    {
     "name": "stdout",
     "output_type": "stream",
     "text": [
      "exported ncm_agl\n",
      "   noisy                                           geometry\n",
      "0    1.0  MULTIPOLYGON (((4120252.501 3156627.847, 41202...\n",
      "1    0.0  MULTIPOLYGON (((4136872.948 3155058.553, 41367...\n",
      "DE038L1_RUHRGEBIET_UA2018_v013\n",
      "layers: A:\\Copernicus\\UrbanAtlas\\UrbanAtlas\\UA2018\\DE038L1_RUHRGEBIET_UA2018_v013\\Data\\DE038L1_RUHRGEBIET_UA2018_v013.gpkg\n",
      "loaded ua in urban city\n"
     ]
    },
    {
     "name": "stderr",
     "output_type": "stream",
     "text": [
      "c:\\Users\\ubach\\.conda\\envs\\geospatial_ETC_DI_v4\\lib\\site-packages\\pygeos\\set_operations.py:129: RuntimeWarning: invalid value encountered in intersection\n",
      "  return lib.intersection(a, b, **kwargs)\n"
     ]
    },
    {
     "name": "stdout",
     "output_type": "stream",
     "text": [
      "green_not_covered_by_ncm\n",
      "GQA\n",
      "GQA_pts\n",
      "str(processing_time)\n",
      "DE-GEOSTAT21_299-AG_DE_NW_22-Bottrop\n",
      "1 country for this urban centre\n",
      "ncm\n",
      "ncm_dis\n",
      "exported ncm_dis\n",
      "ncm_agl\n"
     ]
    },
    {
     "name": "stderr",
     "output_type": "stream",
     "text": [
      "Q:\\UserTemp\\ubach\\AppData\\Local\\Temp\\4\\ipykernel_545184\\2175977912.py:71: UserWarning: Column names longer than 10 characters will be truncated when saved to ESRI Shapefile.\n",
      "  ncm_agl.to_file(file_path, driver='ESRI Shapefile')\n"
     ]
    },
    {
     "name": "stdout",
     "output_type": "stream",
     "text": [
      "exported ncm_agl\n"
     ]
    },
    {
     "name": "stderr",
     "output_type": "stream",
     "text": [
      "Q:\\UserTemp\\ubach\\AppData\\Local\\Temp\\4\\ipykernel_545184\\2175977912.py:75: UserWarning: `keep_geom_type=True` in overlay resulted in 2118 dropped geometries of different geometry types than df1 has. Set `keep_geom_type=False` to retain all geometries\n",
      "  ncm_agl_city = gpd.overlay(ncm_agl, agl_city, how='union')\n",
      "Q:\\UserTemp\\ubach\\AppData\\Local\\Temp\\4\\ipykernel_545184\\2175977912.py:83: UserWarning: Column names longer than 10 characters will be truncated when saved to ESRI Shapefile.\n",
      "  ncm_agl_city.to_file(file_path, driver='ESRI Shapefile')\n"
     ]
    },
    {
     "name": "stdout",
     "output_type": "stream",
     "text": [
      "union\n",
      "fillna\n",
      "exported ncm_agl\n",
      "   noisy                                           geometry\n",
      "0    1.0  MULTIPOLYGON (((4106220.091 3159819.386, 41063...\n",
      "1    1.0  MULTIPOLYGON (((4107772.220 3159168.749, 41077...\n",
      "2    0.0  MULTIPOLYGON (((4105475.665 3160749.497, 41054...\n",
      "DE038L1_RUHRGEBIET_UA2018_v013\n",
      "layers: A:\\Copernicus\\UrbanAtlas\\UrbanAtlas\\UA2018\\DE038L1_RUHRGEBIET_UA2018_v013\\Data\\DE038L1_RUHRGEBIET_UA2018_v013.gpkg\n",
      "loaded ua in urban city\n"
     ]
    },
    {
     "name": "stderr",
     "output_type": "stream",
     "text": [
      "c:\\Users\\ubach\\.conda\\envs\\geospatial_ETC_DI_v4\\lib\\site-packages\\pygeos\\set_operations.py:129: RuntimeWarning: invalid value encountered in intersection\n",
      "  return lib.intersection(a, b, **kwargs)\n"
     ]
    },
    {
     "name": "stdout",
     "output_type": "stream",
     "text": [
      "green_not_covered_by_ncm\n",
      "GQA\n",
      "GQA_pts\n",
      "str(processing_time)\n",
      "DE-GEOSTAT21_299-AG_DE_NW_3-Dortmund\n",
      "1 country for this urban centre\n",
      "ncm\n",
      "ncm_dis\n",
      "exported ncm_dis\n",
      "ncm_agl\n"
     ]
    },
    {
     "name": "stderr",
     "output_type": "stream",
     "text": [
      "Q:\\UserTemp\\ubach\\AppData\\Local\\Temp\\4\\ipykernel_545184\\2175977912.py:71: UserWarning: Column names longer than 10 characters will be truncated when saved to ESRI Shapefile.\n",
      "  ncm_agl.to_file(file_path, driver='ESRI Shapefile')\n"
     ]
    },
    {
     "name": "stdout",
     "output_type": "stream",
     "text": [
      "exported ncm_agl\n",
      "union\n",
      "fillna\n"
     ]
    },
    {
     "name": "stderr",
     "output_type": "stream",
     "text": [
      "Q:\\UserTemp\\ubach\\AppData\\Local\\Temp\\4\\ipykernel_545184\\2175977912.py:83: UserWarning: Column names longer than 10 characters will be truncated when saved to ESRI Shapefile.\n",
      "  ncm_agl_city.to_file(file_path, driver='ESRI Shapefile')\n"
     ]
    },
    {
     "name": "stdout",
     "output_type": "stream",
     "text": [
      "exported ncm_agl\n",
      "   noisy                                           geometry\n",
      "0    1.0  MULTIPOLYGON (((4133886.279 3158455.201, 41338...\n",
      "1    0.0  MULTIPOLYGON (((4157121.411 3160097.038, 41571...\n",
      "DE038L1_RUHRGEBIET_UA2018_v013\n",
      "layers: A:\\Copernicus\\UrbanAtlas\\UrbanAtlas\\UA2018\\DE038L1_RUHRGEBIET_UA2018_v013\\Data\\DE038L1_RUHRGEBIET_UA2018_v013.gpkg\n",
      "loaded ua in urban city\n"
     ]
    },
    {
     "name": "stderr",
     "output_type": "stream",
     "text": [
      "c:\\Users\\ubach\\.conda\\envs\\geospatial_ETC_DI_v4\\lib\\site-packages\\pygeos\\set_operations.py:129: RuntimeWarning: invalid value encountered in intersection\n",
      "  return lib.intersection(a, b, **kwargs)\n"
     ]
    },
    {
     "name": "stdout",
     "output_type": "stream",
     "text": [
      "green_not_covered_by_ncm\n",
      "GQA\n",
      "GQA_pts\n",
      "str(processing_time)\n",
      "DE-GEOSTAT21_299-AG_DE_NW_5-Duisburg\n",
      "1 country for this urban centre\n",
      "ncm\n",
      "ncm_dis\n",
      "exported ncm_dis\n",
      "ncm_agl\n",
      "exported ncm_agl\n"
     ]
    },
    {
     "name": "stderr",
     "output_type": "stream",
     "text": [
      "Q:\\UserTemp\\ubach\\AppData\\Local\\Temp\\4\\ipykernel_545184\\2175977912.py:71: UserWarning: Column names longer than 10 characters will be truncated when saved to ESRI Shapefile.\n",
      "  ncm_agl.to_file(file_path, driver='ESRI Shapefile')\n",
      "Q:\\UserTemp\\ubach\\AppData\\Local\\Temp\\4\\ipykernel_545184\\2175977912.py:75: UserWarning: `keep_geom_type=True` in overlay resulted in 30 dropped geometries of different geometry types than df1 has. Set `keep_geom_type=False` to retain all geometries\n",
      "  ncm_agl_city = gpd.overlay(ncm_agl, agl_city, how='union')\n",
      "Q:\\UserTemp\\ubach\\AppData\\Local\\Temp\\4\\ipykernel_545184\\2175977912.py:83: UserWarning: Column names longer than 10 characters will be truncated when saved to ESRI Shapefile.\n",
      "  ncm_agl_city.to_file(file_path, driver='ESRI Shapefile')\n"
     ]
    },
    {
     "name": "stdout",
     "output_type": "stream",
     "text": [
      "union\n",
      "fillna\n",
      "exported ncm_agl\n",
      "   noisy                                           geometry\n",
      "0    1.0  MULTIPOLYGON (((4097388.640 3141857.205, 40973...\n",
      "1    1.0  MULTIPOLYGON (((4100394.942 3159478.954, 41003...\n",
      "2    0.0  POLYGON ((4097908.313 3162880.693, 4097903.000...\n",
      "DE038L1_RUHRGEBIET_UA2018_v013\n",
      "layers: A:\\Copernicus\\UrbanAtlas\\UrbanAtlas\\UA2018\\DE038L1_RUHRGEBIET_UA2018_v013\\Data\\DE038L1_RUHRGEBIET_UA2018_v013.gpkg\n",
      "loaded ua in urban city\n"
     ]
    },
    {
     "name": "stderr",
     "output_type": "stream",
     "text": [
      "c:\\Users\\ubach\\.conda\\envs\\geospatial_ETC_DI_v4\\lib\\site-packages\\pygeos\\set_operations.py:129: RuntimeWarning: invalid value encountered in intersection\n",
      "  return lib.intersection(a, b, **kwargs)\n"
     ]
    },
    {
     "name": "stdout",
     "output_type": "stream",
     "text": [
      "green_not_covered_by_ncm\n",
      "GQA\n",
      "GQA_pts\n",
      "str(processing_time)\n",
      "DE-GEOSTAT21_299-AG_DE_NW_4-Essen\n",
      "1 country for this urban centre\n",
      "ncm\n",
      "ncm_dis\n",
      "exported ncm_dis\n",
      "ncm_agl\n",
      "exported ncm_agl\n"
     ]
    },
    {
     "name": "stderr",
     "output_type": "stream",
     "text": [
      "Q:\\UserTemp\\ubach\\AppData\\Local\\Temp\\4\\ipykernel_545184\\2175977912.py:71: UserWarning: Column names longer than 10 characters will be truncated when saved to ESRI Shapefile.\n",
      "  ncm_agl.to_file(file_path, driver='ESRI Shapefile')\n",
      "Q:\\UserTemp\\ubach\\AppData\\Local\\Temp\\4\\ipykernel_545184\\2175977912.py:75: UserWarning: `keep_geom_type=True` in overlay resulted in 31 dropped geometries of different geometry types than df1 has. Set `keep_geom_type=False` to retain all geometries\n",
      "  ncm_agl_city = gpd.overlay(ncm_agl, agl_city, how='union')\n",
      "Q:\\UserTemp\\ubach\\AppData\\Local\\Temp\\4\\ipykernel_545184\\2175977912.py:83: UserWarning: Column names longer than 10 characters will be truncated when saved to ESRI Shapefile.\n",
      "  ncm_agl_city.to_file(file_path, driver='ESRI Shapefile')\n"
     ]
    },
    {
     "name": "stdout",
     "output_type": "stream",
     "text": [
      "union\n",
      "fillna\n",
      "exported ncm_agl\n",
      "   noisy                                           geometry\n",
      "0    1.0  MULTIPOLYGON (((4120122.005 3155759.058, 41201...\n",
      "1    1.0  POLYGON ((4112821.058 3162340.605, 4112819.119...\n",
      "2    0.0  POLYGON ((4107779.830 3158524.333, 4108744.924...\n",
      "DE038L1_RUHRGEBIET_UA2018_v013\n",
      "layers: A:\\Copernicus\\UrbanAtlas\\UrbanAtlas\\UA2018\\DE038L1_RUHRGEBIET_UA2018_v013\\Data\\DE038L1_RUHRGEBIET_UA2018_v013.gpkg\n",
      "loaded ua in urban city\n"
     ]
    },
    {
     "name": "stderr",
     "output_type": "stream",
     "text": [
      "c:\\Users\\ubach\\.conda\\envs\\geospatial_ETC_DI_v4\\lib\\site-packages\\pygeos\\set_operations.py:129: RuntimeWarning: invalid value encountered in intersection\n",
      "  return lib.intersection(a, b, **kwargs)\n"
     ]
    },
    {
     "name": "stdout",
     "output_type": "stream",
     "text": [
      "green_not_covered_by_ncm\n",
      "GQA\n",
      "GQA_pts\n",
      "str(processing_time)\n",
      "DE-GEOSTAT21_299-AG_DE_NW_11-Gelsenkirchen\n",
      "1 country for this urban centre\n",
      "ncm\n",
      "ncm_dis\n",
      "exported ncm_dis\n",
      "ncm_agl\n"
     ]
    },
    {
     "name": "stderr",
     "output_type": "stream",
     "text": [
      "Q:\\UserTemp\\ubach\\AppData\\Local\\Temp\\4\\ipykernel_545184\\2175977912.py:71: UserWarning: Column names longer than 10 characters will be truncated when saved to ESRI Shapefile.\n",
      "  ncm_agl.to_file(file_path, driver='ESRI Shapefile')\n"
     ]
    },
    {
     "name": "stdout",
     "output_type": "stream",
     "text": [
      "exported ncm_agl\n",
      "union\n",
      "fillna\n"
     ]
    },
    {
     "name": "stderr",
     "output_type": "stream",
     "text": [
      "Q:\\UserTemp\\ubach\\AppData\\Local\\Temp\\4\\ipykernel_545184\\2175977912.py:83: UserWarning: Column names longer than 10 characters will be truncated when saved to ESRI Shapefile.\n",
      "  ncm_agl_city.to_file(file_path, driver='ESRI Shapefile')\n"
     ]
    },
    {
     "name": "stdout",
     "output_type": "stream",
     "text": [
      "exported ncm_agl\n",
      "   noisy                                           geometry\n",
      "0    1.0  MULTIPOLYGON (((4119743.362 3156244.697, 41197...\n",
      "1    0.0  MULTIPOLYGON (((4123322.307 3158572.323, 41232...\n",
      "DE038L1_RUHRGEBIET_UA2018_v013\n",
      "layers: A:\\Copernicus\\UrbanAtlas\\UrbanAtlas\\UA2018\\DE038L1_RUHRGEBIET_UA2018_v013\\Data\\DE038L1_RUHRGEBIET_UA2018_v013.gpkg\n",
      "loaded ua in urban city\n"
     ]
    },
    {
     "name": "stderr",
     "output_type": "stream",
     "text": [
      "c:\\Users\\ubach\\.conda\\envs\\geospatial_ETC_DI_v4\\lib\\site-packages\\pygeos\\set_operations.py:129: RuntimeWarning: invalid value encountered in intersection\n",
      "  return lib.intersection(a, b, **kwargs)\n"
     ]
    },
    {
     "name": "stdout",
     "output_type": "stream",
     "text": [
      "green_not_covered_by_ncm\n",
      "GQA\n",
      "GQA_pts\n",
      "str(processing_time)\n",
      "DE-GEOSTAT21_299-AG_DE_NW_20-Herne\n",
      "1 country for this urban centre\n",
      "ncm\n",
      "ncm_dis\n",
      "exported ncm_dis\n",
      "ncm_agl\n"
     ]
    },
    {
     "name": "stderr",
     "output_type": "stream",
     "text": [
      "Q:\\UserTemp\\ubach\\AppData\\Local\\Temp\\4\\ipykernel_545184\\2175977912.py:71: UserWarning: Column names longer than 10 characters will be truncated when saved to ESRI Shapefile.\n",
      "  ncm_agl.to_file(file_path, driver='ESRI Shapefile')\n"
     ]
    },
    {
     "name": "stdout",
     "output_type": "stream",
     "text": [
      "exported ncm_agl\n",
      "union\n",
      "fillna\n"
     ]
    },
    {
     "name": "stderr",
     "output_type": "stream",
     "text": [
      "Q:\\UserTemp\\ubach\\AppData\\Local\\Temp\\4\\ipykernel_545184\\2175977912.py:83: UserWarning: Column names longer than 10 characters will be truncated when saved to ESRI Shapefile.\n",
      "  ncm_agl_city.to_file(file_path, driver='ESRI Shapefile')\n"
     ]
    },
    {
     "name": "stdout",
     "output_type": "stream",
     "text": [
      "exported ncm_agl\n",
      "   noisy                                           geometry\n",
      "0    1.0  MULTIPOLYGON (((4122267.977 3161349.228, 41222...\n",
      "1    0.0  MULTIPOLYGON (((4133348.607 3162588.155, 41334...\n",
      "DE038L1_RUHRGEBIET_UA2018_v013\n",
      "layers: A:\\Copernicus\\UrbanAtlas\\UrbanAtlas\\UA2018\\DE038L1_RUHRGEBIET_UA2018_v013\\Data\\DE038L1_RUHRGEBIET_UA2018_v013.gpkg\n",
      "loaded ua in urban city\n"
     ]
    },
    {
     "name": "stderr",
     "output_type": "stream",
     "text": [
      "c:\\Users\\ubach\\.conda\\envs\\geospatial_ETC_DI_v4\\lib\\site-packages\\pygeos\\set_operations.py:129: RuntimeWarning: invalid value encountered in intersection\n",
      "  return lib.intersection(a, b, **kwargs)\n"
     ]
    },
    {
     "name": "stdout",
     "output_type": "stream",
     "text": [
      "green_not_covered_by_ncm\n",
      "GQA\n",
      "GQA_pts\n",
      "str(processing_time)\n",
      "DE-GEOSTAT21_299-AG_DE_NW_17-Muelheim on the Ruhr\n",
      "1 country for this urban centre\n",
      "ncm\n",
      "ncm_dis\n",
      "exported ncm_dis\n",
      "ncm_agl\n",
      "exported ncm_agl\n"
     ]
    },
    {
     "name": "stderr",
     "output_type": "stream",
     "text": [
      "Q:\\UserTemp\\ubach\\AppData\\Local\\Temp\\4\\ipykernel_545184\\2175977912.py:71: UserWarning: Column names longer than 10 characters will be truncated when saved to ESRI Shapefile.\n",
      "  ncm_agl.to_file(file_path, driver='ESRI Shapefile')\n",
      "Q:\\UserTemp\\ubach\\AppData\\Local\\Temp\\4\\ipykernel_545184\\2175977912.py:75: UserWarning: `keep_geom_type=True` in overlay resulted in 20 dropped geometries of different geometry types than df1 has. Set `keep_geom_type=False` to retain all geometries\n",
      "  ncm_agl_city = gpd.overlay(ncm_agl, agl_city, how='union')\n",
      "Q:\\UserTemp\\ubach\\AppData\\Local\\Temp\\4\\ipykernel_545184\\2175977912.py:83: UserWarning: Column names longer than 10 characters will be truncated when saved to ESRI Shapefile.\n",
      "  ncm_agl_city.to_file(file_path, driver='ESRI Shapefile')\n"
     ]
    },
    {
     "name": "stdout",
     "output_type": "stream",
     "text": [
      "union\n",
      "fillna\n",
      "exported ncm_agl\n",
      "   noisy                                           geometry\n",
      "0    1.0  MULTIPOLYGON (((4100516.636 3153473.963, 41005...\n",
      "1    1.0  MULTIPOLYGON (((4105250.052 3155478.787, 41052...\n",
      "2    0.0  POLYGON ((4105669.770 3155756.010, 4105787.692...\n",
      "DE038L1_RUHRGEBIET_UA2018_v013\n",
      "layers: A:\\Copernicus\\UrbanAtlas\\UrbanAtlas\\UA2018\\DE038L1_RUHRGEBIET_UA2018_v013\\Data\\DE038L1_RUHRGEBIET_UA2018_v013.gpkg\n",
      "loaded ua in urban city\n"
     ]
    },
    {
     "name": "stderr",
     "output_type": "stream",
     "text": [
      "c:\\Users\\ubach\\.conda\\envs\\geospatial_ETC_DI_v4\\lib\\site-packages\\pygeos\\set_operations.py:129: RuntimeWarning: invalid value encountered in intersection\n",
      "  return lib.intersection(a, b, **kwargs)\n"
     ]
    },
    {
     "name": "stdout",
     "output_type": "stream",
     "text": [
      "green_not_covered_by_ncm\n",
      "GQA\n",
      "GQA_pts\n",
      "str(processing_time)\n",
      "DE-GEOSTAT21_299-AG_DE_NW_15-Oberhausen\n",
      "1 country for this urban centre\n",
      "ncm\n",
      "ncm_dis\n",
      "exported ncm_dis\n",
      "ncm_agl\n"
     ]
    },
    {
     "name": "stderr",
     "output_type": "stream",
     "text": [
      "Q:\\UserTemp\\ubach\\AppData\\Local\\Temp\\4\\ipykernel_545184\\2175977912.py:71: UserWarning: Column names longer than 10 characters will be truncated when saved to ESRI Shapefile.\n",
      "  ncm_agl.to_file(file_path, driver='ESRI Shapefile')\n"
     ]
    },
    {
     "name": "stdout",
     "output_type": "stream",
     "text": [
      "exported ncm_agl\n"
     ]
    },
    {
     "name": "stderr",
     "output_type": "stream",
     "text": [
      "Q:\\UserTemp\\ubach\\AppData\\Local\\Temp\\4\\ipykernel_545184\\2175977912.py:75: UserWarning: `keep_geom_type=True` in overlay resulted in 712 dropped geometries of different geometry types than df1 has. Set `keep_geom_type=False` to retain all geometries\n",
      "  ncm_agl_city = gpd.overlay(ncm_agl, agl_city, how='union')\n",
      "Q:\\UserTemp\\ubach\\AppData\\Local\\Temp\\4\\ipykernel_545184\\2175977912.py:83: UserWarning: Column names longer than 10 characters will be truncated when saved to ESRI Shapefile.\n",
      "  ncm_agl_city.to_file(file_path, driver='ESRI Shapefile')\n"
     ]
    },
    {
     "name": "stdout",
     "output_type": "stream",
     "text": [
      "union\n",
      "fillna\n",
      "exported ncm_agl\n",
      "   noisy                                           geometry\n",
      "0    1.0  MULTIPOLYGON (((4100025.762 3154845.624, 41000...\n",
      "1    1.0  MULTIPOLYGON (((4107844.105 3158855.611, 41078...\n",
      "2    0.0  MULTIPOLYGON (((4107789.034 3158621.159, 41078...\n",
      "DE038L1_RUHRGEBIET_UA2018_v013\n",
      "layers: A:\\Copernicus\\UrbanAtlas\\UrbanAtlas\\UA2018\\DE038L1_RUHRGEBIET_UA2018_v013\\Data\\DE038L1_RUHRGEBIET_UA2018_v013.gpkg\n",
      "loaded ua in urban city\n"
     ]
    },
    {
     "name": "stderr",
     "output_type": "stream",
     "text": [
      "c:\\Users\\ubach\\.conda\\envs\\geospatial_ETC_DI_v4\\lib\\site-packages\\pygeos\\set_operations.py:129: RuntimeWarning: invalid value encountered in intersection\n",
      "  return lib.intersection(a, b, **kwargs)\n"
     ]
    },
    {
     "name": "stdout",
     "output_type": "stream",
     "text": [
      "green_not_covered_by_ncm\n",
      "GQA\n",
      "GQA_pts\n",
      "str(processing_time)\n",
      "DE-GEOSTAT21_299-AG_DE_NW_23-Recklinghausen\n",
      "1 country for this urban centre\n",
      "ncm\n",
      "ncm_dis\n",
      "exported ncm_dis\n",
      "ncm_agl\n"
     ]
    },
    {
     "name": "stderr",
     "output_type": "stream",
     "text": [
      "Q:\\UserTemp\\ubach\\AppData\\Local\\Temp\\4\\ipykernel_545184\\2175977912.py:71: UserWarning: Column names longer than 10 characters will be truncated when saved to ESRI Shapefile.\n",
      "  ncm_agl.to_file(file_path, driver='ESRI Shapefile')\n"
     ]
    },
    {
     "name": "stdout",
     "output_type": "stream",
     "text": [
      "exported ncm_agl\n",
      "union\n",
      "fillna\n"
     ]
    },
    {
     "name": "stderr",
     "output_type": "stream",
     "text": [
      "Q:\\UserTemp\\ubach\\AppData\\Local\\Temp\\4\\ipykernel_545184\\2175977912.py:83: UserWarning: Column names longer than 10 characters will be truncated when saved to ESRI Shapefile.\n",
      "  ncm_agl_city.to_file(file_path, driver='ESRI Shapefile')\n"
     ]
    },
    {
     "name": "stdout",
     "output_type": "stream",
     "text": [
      "exported ncm_agl\n",
      "   noisy                                           geometry\n",
      "0    1.0  MULTIPOLYGON (((4125963.253 3164192.438, 41259...\n",
      "1    0.0  MULTIPOLYGON (((4133588.474 3168673.139, 41336...\n",
      "DE038L1_RUHRGEBIET_UA2018_v013\n",
      "layers: A:\\Copernicus\\UrbanAtlas\\UrbanAtlas\\UA2018\\DE038L1_RUHRGEBIET_UA2018_v013\\Data\\DE038L1_RUHRGEBIET_UA2018_v013.gpkg\n",
      "loaded ua in urban city\n"
     ]
    },
    {
     "name": "stderr",
     "output_type": "stream",
     "text": [
      "c:\\Users\\ubach\\.conda\\envs\\geospatial_ETC_DI_v4\\lib\\site-packages\\pygeos\\set_operations.py:129: RuntimeWarning: invalid value encountered in intersection\n",
      "  return lib.intersection(a, b, **kwargs)\n"
     ]
    },
    {
     "name": "stdout",
     "output_type": "stream",
     "text": [
      "green_not_covered_by_ncm\n",
      "GQA\n",
      "GQA_pts\n",
      "str(processing_time)\n",
      "36\n",
      "2024-07-24 11:02:50.155301\n",
      "DE-GEOSTAT21_405-AG_DE_RP_2-Mainz\n",
      "1 country for this urban centre\n",
      "ncm\n",
      "ncm_dis\n",
      "exported ncm_dis\n",
      "ncm_agl\n"
     ]
    },
    {
     "name": "stderr",
     "output_type": "stream",
     "text": [
      "Q:\\UserTemp\\ubach\\AppData\\Local\\Temp\\4\\ipykernel_545184\\2175977912.py:71: UserWarning: Column names longer than 10 characters will be truncated when saved to ESRI Shapefile.\n",
      "  ncm_agl.to_file(file_path, driver='ESRI Shapefile')\n"
     ]
    },
    {
     "name": "stdout",
     "output_type": "stream",
     "text": [
      "exported ncm_agl\n",
      "union\n",
      "fillna\n"
     ]
    },
    {
     "name": "stderr",
     "output_type": "stream",
     "text": [
      "Q:\\UserTemp\\ubach\\AppData\\Local\\Temp\\4\\ipykernel_545184\\2175977912.py:83: UserWarning: Column names longer than 10 characters will be truncated when saved to ESRI Shapefile.\n",
      "  ncm_agl_city.to_file(file_path, driver='ESRI Shapefile')\n"
     ]
    },
    {
     "name": "stdout",
     "output_type": "stream",
     "text": [
      "exported ncm_agl\n",
      "   noisy                                           geometry\n",
      "0    1.0  MULTIPOLYGON (((4193907.641 2992458.933, 41938...\n",
      "1    0.0  MULTIPOLYGON (((4202038.351 2982335.244, 42020...\n",
      "DE020L1_WIESBADEN_UA2018_v013\n",
      "layers: A:\\Copernicus\\UrbanAtlas\\UrbanAtlas\\UA2018\\DE020L1_WIESBADEN_UA2018_v013\\Data\\DE020L1_WIESBADEN_UA2018_v013.gpkg\n",
      "loaded ua in urban city\n"
     ]
    },
    {
     "name": "stderr",
     "output_type": "stream",
     "text": [
      "c:\\Users\\ubach\\.conda\\envs\\geospatial_ETC_DI_v4\\lib\\site-packages\\geopandas\\io\\file.py:545: UserWarning: You are attempting to write an empty DataFrame to file. For some drivers, this operation may fail.\n",
      "  _to_file_fiona(df, filename, driver, schema, crs, mode, **kwargs)\n"
     ]
    },
    {
     "name": "stdout",
     "output_type": "stream",
     "text": [
      "Error DE-GEOSTAT21_405-AG_DE_RP_2-Mainz\n",
      "DE-GEOSTAT21_405-AG_DE_HE_2-Wiesbaden\n",
      "1 country for this urban centre\n",
      "ncm\n",
      "ncm_dis\n",
      "exported ncm_dis\n",
      "ncm_agl\n"
     ]
    },
    {
     "name": "stderr",
     "output_type": "stream",
     "text": [
      "Q:\\UserTemp\\ubach\\AppData\\Local\\Temp\\4\\ipykernel_545184\\2175977912.py:71: UserWarning: Column names longer than 10 characters will be truncated when saved to ESRI Shapefile.\n",
      "  ncm_agl.to_file(file_path, driver='ESRI Shapefile')\n"
     ]
    },
    {
     "name": "stdout",
     "output_type": "stream",
     "text": [
      "exported ncm_agl\n",
      "union\n",
      "fillna\n"
     ]
    },
    {
     "name": "stderr",
     "output_type": "stream",
     "text": [
      "Q:\\UserTemp\\ubach\\AppData\\Local\\Temp\\4\\ipykernel_545184\\2175977912.py:83: UserWarning: Column names longer than 10 characters will be truncated when saved to ESRI Shapefile.\n",
      "  ncm_agl_city.to_file(file_path, driver='ESRI Shapefile')\n"
     ]
    },
    {
     "name": "stdout",
     "output_type": "stream",
     "text": [
      "exported ncm_agl\n",
      "   noisy                                           geometry\n",
      "0    1.0  MULTIPOLYGON (((4199829.683 3005758.741, 41998...\n",
      "1    0.0  MULTIPOLYGON (((4205486.746 2997735.378, 42054...\n",
      "DE020L1_WIESBADEN_UA2018_v013\n",
      "layers: A:\\Copernicus\\UrbanAtlas\\UrbanAtlas\\UA2018\\DE020L1_WIESBADEN_UA2018_v013\\Data\\DE020L1_WIESBADEN_UA2018_v013.gpkg\n",
      "loaded ua in urban city\n",
      "green_not_covered_by_ncm\n",
      "GQA\n",
      "GQA_pts\n",
      "str(processing_time)\n",
      "38\n",
      "2024-07-24 11:20:41.604337\n",
      "DE-GEOSTAT21_295-AG_DE_ST_1-Halle (Saale)\n",
      "1 country for this urban centre\n",
      "ncm\n",
      "ncm_dis\n",
      "exported ncm_dis\n",
      "ncm_agl\n"
     ]
    },
    {
     "name": "stderr",
     "output_type": "stream",
     "text": [
      "Q:\\UserTemp\\ubach\\AppData\\Local\\Temp\\4\\ipykernel_545184\\2175977912.py:71: UserWarning: Column names longer than 10 characters will be truncated when saved to ESRI Shapefile.\n",
      "  ncm_agl.to_file(file_path, driver='ESRI Shapefile')\n"
     ]
    },
    {
     "name": "stdout",
     "output_type": "stream",
     "text": [
      "exported ncm_agl\n",
      "union\n",
      "fillna\n"
     ]
    },
    {
     "name": "stderr",
     "output_type": "stream",
     "text": [
      "Q:\\UserTemp\\ubach\\AppData\\Local\\Temp\\4\\ipykernel_545184\\2175977912.py:83: UserWarning: Column names longer than 10 characters will be truncated when saved to ESRI Shapefile.\n",
      "  ncm_agl_city.to_file(file_path, driver='ESRI Shapefile')\n"
     ]
    },
    {
     "name": "stdout",
     "output_type": "stream",
     "text": [
      "exported ncm_agl\n",
      "   noisy                                           geometry\n",
      "0    1.0  MULTIPOLYGON (((4459925.922 3160797.780, 44599...\n",
      "1    0.0  MULTIPOLYGON (((4465880.994 3155515.484, 44660...\n",
      "DE018L1_HALLE_AN_DER_\n",
      "layers: A:\\Copernicus\\UrbanAtlas\\UrbanAtlas\\UA2018\\DE018L1_HALLE_AN_DER_SAALE_UA2018_v013\\Data\\DE018L1_HALLE_AN_DER_SAALE_UA2018_v013.gpkg\n",
      "loaded ua in urban city\n",
      "green_not_covered_by_ncm\n",
      "GQA\n",
      "GQA_pts\n",
      "str(processing_time)\n",
      "39\n",
      "2024-07-24 11:21:27.800761\n",
      "DE-GEOSTAT21_331-AG_DE_NW_12-Moenchengladbach\n",
      "1 country for this urban centre\n",
      "ncm\n",
      "ncm_dis\n",
      "exported ncm_dis\n",
      "ncm_agl\n"
     ]
    },
    {
     "name": "stderr",
     "output_type": "stream",
     "text": [
      "Q:\\UserTemp\\ubach\\AppData\\Local\\Temp\\4\\ipykernel_545184\\2175977912.py:71: UserWarning: Column names longer than 10 characters will be truncated when saved to ESRI Shapefile.\n",
      "  ncm_agl.to_file(file_path, driver='ESRI Shapefile')\n"
     ]
    },
    {
     "name": "stdout",
     "output_type": "stream",
     "text": [
      "exported ncm_agl\n",
      "union\n",
      "fillna\n"
     ]
    },
    {
     "name": "stderr",
     "output_type": "stream",
     "text": [
      "Q:\\UserTemp\\ubach\\AppData\\Local\\Temp\\4\\ipykernel_545184\\2175977912.py:83: UserWarning: Column names longer than 10 characters will be truncated when saved to ESRI Shapefile.\n",
      "  ncm_agl_city.to_file(file_path, driver='ESRI Shapefile')\n"
     ]
    },
    {
     "name": "stdout",
     "output_type": "stream",
     "text": [
      "exported ncm_agl\n",
      "   noisy                                           geometry\n",
      "0    1.0  MULTIPOLYGON (((4074423.930 3131621.692, 40744...\n",
      "1    0.0  MULTIPOLYGON (((4078739.358 3120780.785, 40785...\n",
      "DE036L0_MONCHENGLADBACH\n",
      "layers: A:\\Copernicus\\UrbanAtlas\\UrbanAtlas\\UA2018\\DE036L0_MONCHENGLADBACH_UA2018_v013\\Data\\DE036L0_MONCHENGLADBACH_UA2018_v013.gpkg\n",
      "loaded ua in urban city\n",
      "green_not_covered_by_ncm\n",
      "GQA\n",
      "GQA_pts\n",
      "str(processing_time)\n",
      "40\n",
      "2024-07-24 11:21:58.477293\n",
      "DE-GEOSTAT21_429-AG_DE_BY_7-Fuerth\n",
      "1 country for this urban centre\n",
      "ncm\n",
      "ncm_dis\n",
      "exported ncm_dis\n",
      "ncm_agl\n"
     ]
    },
    {
     "name": "stderr",
     "output_type": "stream",
     "text": [
      "Q:\\UserTemp\\ubach\\AppData\\Local\\Temp\\4\\ipykernel_545184\\2175977912.py:71: UserWarning: Column names longer than 10 characters will be truncated when saved to ESRI Shapefile.\n",
      "  ncm_agl.to_file(file_path, driver='ESRI Shapefile')\n"
     ]
    },
    {
     "name": "stdout",
     "output_type": "stream",
     "text": [
      "exported ncm_agl\n"
     ]
    },
    {
     "name": "stderr",
     "output_type": "stream",
     "text": [
      "Q:\\UserTemp\\ubach\\AppData\\Local\\Temp\\4\\ipykernel_545184\\2175977912.py:75: UserWarning: `keep_geom_type=True` in overlay resulted in 62 dropped geometries of different geometry types than df1 has. Set `keep_geom_type=False` to retain all geometries\n",
      "  ncm_agl_city = gpd.overlay(ncm_agl, agl_city, how='union')\n",
      "Q:\\UserTemp\\ubach\\AppData\\Local\\Temp\\4\\ipykernel_545184\\2175977912.py:83: UserWarning: Column names longer than 10 characters will be truncated when saved to ESRI Shapefile.\n",
      "  ncm_agl_city.to_file(file_path, driver='ESRI Shapefile')\n"
     ]
    },
    {
     "name": "stdout",
     "output_type": "stream",
     "text": [
      "union\n",
      "fillna\n",
      "exported ncm_agl\n",
      "   noisy                                           geometry\n",
      "0    1.0  MULTIPOLYGON (((4391610.129 2926977.859, 43916...\n",
      "1    1.0  MULTIPOLYGON (((4394687.445 2931517.168, 43946...\n",
      "2    0.0  MULTIPOLYGON (((4393974.037 2933526.248, 43939...\n",
      "DE014L1_NURNBERG_UA2018_v013\n",
      "\n",
      "Error DE-GEOSTAT21_429-AG_DE_BY_7-Fuerth\n",
      "DE-GEOSTAT21_429-AG_DE_BY_2-Nuremberg\n",
      "1 country for this urban centre\n",
      "ncm\n",
      "ncm_dis\n",
      "exported ncm_dis\n",
      "ncm_agl\n"
     ]
    },
    {
     "name": "stderr",
     "output_type": "stream",
     "text": [
      "Q:\\UserTemp\\ubach\\AppData\\Local\\Temp\\4\\ipykernel_545184\\2175977912.py:71: UserWarning: Column names longer than 10 characters will be truncated when saved to ESRI Shapefile.\n",
      "  ncm_agl.to_file(file_path, driver='ESRI Shapefile')\n"
     ]
    },
    {
     "name": "stdout",
     "output_type": "stream",
     "text": [
      "exported ncm_agl\n"
     ]
    },
    {
     "name": "stderr",
     "output_type": "stream",
     "text": [
      "Q:\\UserTemp\\ubach\\AppData\\Local\\Temp\\4\\ipykernel_545184\\2175977912.py:75: UserWarning: `keep_geom_type=True` in overlay resulted in 3433 dropped geometries of different geometry types than df1 has. Set `keep_geom_type=False` to retain all geometries\n",
      "  ncm_agl_city = gpd.overlay(ncm_agl, agl_city, how='union')\n",
      "Q:\\UserTemp\\ubach\\AppData\\Local\\Temp\\4\\ipykernel_545184\\2175977912.py:83: UserWarning: Column names longer than 10 characters will be truncated when saved to ESRI Shapefile.\n",
      "  ncm_agl_city.to_file(file_path, driver='ESRI Shapefile')\n"
     ]
    },
    {
     "name": "stdout",
     "output_type": "stream",
     "text": [
      "union\n",
      "fillna\n",
      "exported ncm_agl\n",
      "   noisy                                           geometry\n",
      "0    1.0  MULTIPOLYGON (((4394406.288 2924413.639, 43944...\n",
      "1    1.0  MULTIPOLYGON (((4395402.120 2929674.637, 43954...\n",
      "2    0.0  MULTIPOLYGON (((4393422.461 2924884.090, 43934...\n",
      "DE014L1_NURNBERG_UA2018_v013\n",
      "\n",
      "Error DE-GEOSTAT21_429-AG_DE_BY_2-Nuremberg\n",
      "42\n",
      "2024-07-24 11:26:29.070764\n",
      "DE-GEOSTAT21_441-AG_DE_BW_6-Heilbronn\n",
      "1 country for this urban centre\n",
      "ncm\n",
      "ncm_dis\n",
      "exported ncm_dis\n",
      "ncm_agl\n"
     ]
    },
    {
     "name": "stderr",
     "output_type": "stream",
     "text": [
      "Q:\\UserTemp\\ubach\\AppData\\Local\\Temp\\4\\ipykernel_545184\\2175977912.py:71: UserWarning: Column names longer than 10 characters will be truncated when saved to ESRI Shapefile.\n",
      "  ncm_agl.to_file(file_path, driver='ESRI Shapefile')\n"
     ]
    },
    {
     "name": "stdout",
     "output_type": "stream",
     "text": [
      "exported ncm_agl\n",
      "union\n",
      "fillna\n"
     ]
    },
    {
     "name": "stderr",
     "output_type": "stream",
     "text": [
      "Q:\\UserTemp\\ubach\\AppData\\Local\\Temp\\4\\ipykernel_545184\\2175977912.py:83: UserWarning: Column names longer than 10 characters will be truncated when saved to ESRI Shapefile.\n",
      "  ncm_agl_city.to_file(file_path, driver='ESRI Shapefile')\n"
     ]
    },
    {
     "name": "stdout",
     "output_type": "stream",
     "text": [
      "exported ncm_agl\n",
      "   noisy                                           geometry\n",
      "0    1.0  MULTIPOLYGON (((4269379.127 2889825.128, 42693...\n",
      "1    0.0  MULTIPOLYGON (((4270028.813 2889330.838, 42700...\n",
      "DE529L1_HEILBRONN_UA2018_v013\n",
      "layers: A:\\Copernicus\\UrbanAtlas\\UrbanAtlas\\UA2018\\DE529L1_HEILBRONN_UA2018_v013\\Data\\DE529L1_HEILBRONN_UA2018_v013.gpkg\n",
      "loaded ua in urban city\n"
     ]
    },
    {
     "name": "stderr",
     "output_type": "stream",
     "text": [
      "c:\\Users\\ubach\\.conda\\envs\\geospatial_ETC_DI_v4\\lib\\site-packages\\pygeos\\set_operations.py:129: RuntimeWarning: invalid value encountered in intersection\n",
      "  return lib.intersection(a, b, **kwargs)\n"
     ]
    },
    {
     "name": "stdout",
     "output_type": "stream",
     "text": [
      "green_not_covered_by_ncm\n",
      "GQA\n",
      "GQA_pts\n",
      "str(processing_time)\n",
      "43\n",
      "2024-07-24 11:26:52.311502\n",
      "DE-GEOSTAT21_435-AG_DE_SL_1-Saarbruecken\n",
      "1 country for this urban centre\n",
      "ncm\n",
      "ncm_dis\n",
      "exported ncm_dis\n",
      "ncm_agl\n"
     ]
    },
    {
     "name": "stderr",
     "output_type": "stream",
     "text": [
      "Q:\\UserTemp\\ubach\\AppData\\Local\\Temp\\4\\ipykernel_545184\\2175977912.py:71: UserWarning: Column names longer than 10 characters will be truncated when saved to ESRI Shapefile.\n",
      "  ncm_agl.to_file(file_path, driver='ESRI Shapefile')\n"
     ]
    },
    {
     "name": "stdout",
     "output_type": "stream",
     "text": [
      "exported ncm_agl\n",
      "union\n",
      "fillna\n"
     ]
    },
    {
     "name": "stderr",
     "output_type": "stream",
     "text": [
      "Q:\\UserTemp\\ubach\\AppData\\Local\\Temp\\4\\ipykernel_545184\\2175977912.py:83: UserWarning: Column names longer than 10 characters will be truncated when saved to ESRI Shapefile.\n",
      "  ncm_agl_city.to_file(file_path, driver='ESRI Shapefile')\n"
     ]
    },
    {
     "name": "stdout",
     "output_type": "stream",
     "text": [
      "exported ncm_agl\n",
      "   noisy                                           geometry\n",
      "0    1.0  MULTIPOLYGON (((4112172.666 2903894.135, 41121...\n",
      "1    0.0  MULTIPOLYGON (((4111488.613 2907806.005, 41114...\n",
      "DE040L1_SAARBRUCKEN_UA2018_v013\n",
      "layers: A:\\Copernicus\\UrbanAtlas\\UrbanAtlas\\UA2018\\DE040L1_SAARBRUCKEN_UA2018_v013\\Data\\DE040L1_SAARBRUCKEN_UA2018_v013.gpkg\n",
      "loaded ua in urban city\n",
      "green_not_covered_by_ncm\n",
      "GQA\n",
      "GQA_pts\n",
      "str(processing_time)\n",
      "44\n",
      "2024-07-24 11:32:27.094138\n",
      "DE-GEOSTAT21_086-AG_DE_SH_1-Kiel\n",
      "1 country for this urban centre\n",
      "ncm\n",
      "ncm_dis\n",
      "exported ncm_dis\n",
      "ncm_agl\n"
     ]
    },
    {
     "name": "stderr",
     "output_type": "stream",
     "text": [
      "Q:\\UserTemp\\ubach\\AppData\\Local\\Temp\\4\\ipykernel_545184\\2175977912.py:71: UserWarning: Column names longer than 10 characters will be truncated when saved to ESRI Shapefile.\n",
      "  ncm_agl.to_file(file_path, driver='ESRI Shapefile')\n"
     ]
    },
    {
     "name": "stdout",
     "output_type": "stream",
     "text": [
      "exported ncm_agl\n"
     ]
    },
    {
     "name": "stderr",
     "output_type": "stream",
     "text": [
      "Q:\\UserTemp\\ubach\\AppData\\Local\\Temp\\4\\ipykernel_545184\\2175977912.py:75: UserWarning: `keep_geom_type=True` in overlay resulted in 4506 dropped geometries of different geometry types than df1 has. Set `keep_geom_type=False` to retain all geometries\n",
      "  ncm_agl_city = gpd.overlay(ncm_agl, agl_city, how='union')\n",
      "Q:\\UserTemp\\ubach\\AppData\\Local\\Temp\\4\\ipykernel_545184\\2175977912.py:83: UserWarning: Column names longer than 10 characters will be truncated when saved to ESRI Shapefile.\n",
      "  ncm_agl_city.to_file(file_path, driver='ESRI Shapefile')\n"
     ]
    },
    {
     "name": "stdout",
     "output_type": "stream",
     "text": [
      "union\n",
      "fillna\n",
      "exported ncm_agl\n",
      "   noisy                                           geometry\n",
      "0    1.0  MULTIPOLYGON (((4334474.854 3468840.824, 43344...\n",
      "1    0.0  MULTIPOLYGON (((4324299.745 3465615.466, 43242...\n",
      "DE039L1_KIEL_UA2018_v013\n",
      "layers: A:\\Copernicus\\UrbanAtlas\\UrbanAtlas\\UA2018\\DE039L1_KIEL_UA2018_v013\\Data\\DE039L1_KIEL_UA2018_v013.gpkg\n",
      "loaded ua in urban city\n",
      "green_not_covered_by_ncm\n",
      "GQA\n",
      "GQA_pts\n",
      "str(processing_time)\n",
      "45\n",
      "2024-07-24 11:33:55.368795\n",
      "DE-GEOSTAT21_093-AG_DE_MV_1-Rostock\n",
      "1 country for this urban centre\n",
      "ncm\n",
      "ncm_dis\n",
      "exported ncm_dis\n",
      "ncm_agl\n"
     ]
    },
    {
     "name": "stderr",
     "output_type": "stream",
     "text": [
      "Q:\\UserTemp\\ubach\\AppData\\Local\\Temp\\4\\ipykernel_545184\\2175977912.py:71: UserWarning: Column names longer than 10 characters will be truncated when saved to ESRI Shapefile.\n",
      "  ncm_agl.to_file(file_path, driver='ESRI Shapefile')\n"
     ]
    },
    {
     "name": "stdout",
     "output_type": "stream",
     "text": [
      "exported ncm_agl\n",
      "union\n",
      "fillna\n"
     ]
    },
    {
     "name": "stderr",
     "output_type": "stream",
     "text": [
      "Q:\\UserTemp\\ubach\\AppData\\Local\\Temp\\4\\ipykernel_545184\\2175977912.py:83: UserWarning: Column names longer than 10 characters will be truncated when saved to ESRI Shapefile.\n",
      "  ncm_agl_city.to_file(file_path, driver='ESRI Shapefile')\n"
     ]
    },
    {
     "name": "stdout",
     "output_type": "stream",
     "text": [
      "exported ncm_agl\n",
      "   noisy                                           geometry\n",
      "0    1.0  MULTIPOLYGON (((4470724.443 3456807.744, 44707...\n",
      "1    0.0  MULTIPOLYGON (((4470824.534 3456673.635, 44708...\n",
      "DE043L2_ROSTOCK_UA2018_v013\n",
      "layers: A:\\Copernicus\\UrbanAtlas\\UrbanAtlas\\UA2018\\DE043L2_ROSTOCK_UA2018_v013\\Data\\DE043L2_ROSTOCK_UA2018_v013.gpkg\n",
      "loaded ua in urban city\n",
      "green_not_covered_by_ncm\n",
      "GQA\n",
      "GQA_pts\n",
      "str(processing_time)\n",
      "46\n",
      "2024-07-24 11:37:15.201189\n",
      "DE-GEOSTAT21_108-AG_DE_SH_2-Luebeck\n",
      "1 country for this urban centre\n",
      "ncm\n",
      "ncm_dis\n",
      "exported ncm_dis\n",
      "ncm_agl\n"
     ]
    },
    {
     "name": "stderr",
     "output_type": "stream",
     "text": [
      "Q:\\UserTemp\\ubach\\AppData\\Local\\Temp\\4\\ipykernel_545184\\2175977912.py:71: UserWarning: Column names longer than 10 characters will be truncated when saved to ESRI Shapefile.\n",
      "  ncm_agl.to_file(file_path, driver='ESRI Shapefile')\n"
     ]
    },
    {
     "name": "stdout",
     "output_type": "stream",
     "text": [
      "exported ncm_agl\n",
      "union\n",
      "fillna\n"
     ]
    },
    {
     "name": "stderr",
     "output_type": "stream",
     "text": [
      "Q:\\UserTemp\\ubach\\AppData\\Local\\Temp\\4\\ipykernel_545184\\2175977912.py:83: UserWarning: Column names longer than 10 characters will be truncated when saved to ESRI Shapefile.\n",
      "  ncm_agl_city.to_file(file_path, driver='ESRI Shapefile')\n"
     ]
    },
    {
     "name": "stdout",
     "output_type": "stream",
     "text": [
      "exported ncm_agl\n",
      "   noisy                                           geometry\n",
      "0    1.0  MULTIPOLYGON (((4359016.729 3420375.283, 43590...\n",
      "1    0.0  MULTIPOLYGON (((4366487.311 3420138.570, 43664...\n",
      "DE510L1_LUBECK_UA2018_v013\n",
      "layers: A:\\Copernicus\\UrbanAtlas\\UrbanAtlas\\UA2018\\DE510L1_LUBECK_UA2018_v013\\Data\\DE510L1_LUBECK_UA2018_v013.gpkg\n",
      "loaded ua in urban city\n"
     ]
    },
    {
     "name": "stderr",
     "output_type": "stream",
     "text": [
      "c:\\Users\\ubach\\.conda\\envs\\geospatial_ETC_DI_v4\\lib\\site-packages\\pygeos\\set_operations.py:129: RuntimeWarning: invalid value encountered in intersection\n",
      "  return lib.intersection(a, b, **kwargs)\n"
     ]
    },
    {
     "name": "stdout",
     "output_type": "stream",
     "text": [
      "green_not_covered_by_ncm\n",
      "GQA\n",
      "GQA_pts\n",
      "str(processing_time)\n",
      "47\n",
      "2024-07-24 11:38:08.361180\n",
      "DE-GEOSTAT21_118-AG_DE_HB_2-Bremerhaven\n",
      "1 country for this urban centre\n",
      "ncm\n",
      "ncm_dis\n",
      "exported ncm_dis\n",
      "ncm_agl\n"
     ]
    },
    {
     "name": "stderr",
     "output_type": "stream",
     "text": [
      "Q:\\UserTemp\\ubach\\AppData\\Local\\Temp\\4\\ipykernel_545184\\2175977912.py:71: UserWarning: Column names longer than 10 characters will be truncated when saved to ESRI Shapefile.\n",
      "  ncm_agl.to_file(file_path, driver='ESRI Shapefile')\n"
     ]
    },
    {
     "name": "stdout",
     "output_type": "stream",
     "text": [
      "exported ncm_agl\n",
      "union\n",
      "fillna\n"
     ]
    },
    {
     "name": "stderr",
     "output_type": "stream",
     "text": [
      "Q:\\UserTemp\\ubach\\AppData\\Local\\Temp\\4\\ipykernel_545184\\2175977912.py:83: UserWarning: Column names longer than 10 characters will be truncated when saved to ESRI Shapefile.\n",
      "  ncm_agl_city.to_file(file_path, driver='ESRI Shapefile')\n"
     ]
    },
    {
     "name": "stdout",
     "output_type": "stream",
     "text": [
      "exported ncm_agl\n",
      "   noisy                                           geometry\n",
      "0    1.0  MULTIPOLYGON (((4231488.122 3389798.071, 42314...\n",
      "1    0.0  MULTIPOLYGON (((4232244.444 3389764.841, 42322...\n",
      "DE527L1_BREMERHAVEN_UA2018_v013\n",
      "layers: A:\\Copernicus\\UrbanAtlas\\UrbanAtlas\\UA2018\\DE527L1_BREMERHAVEN_UA2018_v013\\Data\\DE527L1_BREMERHAVEN_UA2018_v013.gpkg\n",
      "loaded ua in urban city\n"
     ]
    },
    {
     "name": "stderr",
     "output_type": "stream",
     "text": [
      "c:\\Users\\ubach\\.conda\\envs\\geospatial_ETC_DI_v4\\lib\\site-packages\\pygeos\\set_operations.py:129: RuntimeWarning: invalid value encountered in intersection\n",
      "  return lib.intersection(a, b, **kwargs)\n"
     ]
    },
    {
     "name": "stdout",
     "output_type": "stream",
     "text": [
      "green_not_covered_by_ncm\n",
      "GQA\n",
      "GQA_pts\n",
      "str(processing_time)\n",
      "48\n",
      "2024-07-24 11:42:03.431207\n",
      "DE-GEOSTAT21_428-AG_DE_BW_5-Heidelberg\n",
      "1 country for this urban centre\n",
      "ncm\n",
      "ncm_dis\n",
      "exported ncm_dis\n",
      "ncm_agl\n"
     ]
    },
    {
     "name": "stderr",
     "output_type": "stream",
     "text": [
      "Q:\\UserTemp\\ubach\\AppData\\Local\\Temp\\4\\ipykernel_545184\\2175977912.py:71: UserWarning: Column names longer than 10 characters will be truncated when saved to ESRI Shapefile.\n",
      "  ncm_agl.to_file(file_path, driver='ESRI Shapefile')\n"
     ]
    },
    {
     "name": "stdout",
     "output_type": "stream",
     "text": [
      "exported ncm_agl\n",
      "union\n",
      "fillna\n"
     ]
    },
    {
     "name": "stderr",
     "output_type": "stream",
     "text": [
      "Q:\\UserTemp\\ubach\\AppData\\Local\\Temp\\4\\ipykernel_545184\\2175977912.py:83: UserWarning: Column names longer than 10 characters will be truncated when saved to ESRI Shapefile.\n",
      "  ncm_agl_city.to_file(file_path, driver='ESRI Shapefile')\n"
     ]
    },
    {
     "name": "stdout",
     "output_type": "stream",
     "text": [
      "exported ncm_agl\n",
      "   noisy                                           geometry\n",
      "0    1.0  MULTIPOLYGON (((4230639.382 2928081.634, 42306...\n",
      "1    0.0  MULTIPOLYGON (((4230757.625 2928095.192, 42308...\n",
      "DE522L1_HEIDELBERG_UA2018_v013\n",
      "layers: A:\\Copernicus\\UrbanAtlas\\UrbanAtlas\\UA2018\\DE522L1_HEIDELBERG_UA2018_v013\\Data\\DE522L1_HEIDELBERG_UA2018_v013.gpkg\n",
      "loaded ua in urban city\n",
      "green_not_covered_by_ncm\n",
      "GQA\n",
      "GQA_pts\n",
      "str(processing_time)\n",
      "49\n",
      "2024-07-24 11:42:50.169661\n",
      "DE-GEOSTAT21_401-AG_DE_HE_1-Frankfurt on the Main\n",
      "1 country for this urban centre\n",
      "ncm\n",
      "ncm_dis\n",
      "exported ncm_dis\n",
      "ncm_agl\n"
     ]
    },
    {
     "name": "stderr",
     "output_type": "stream",
     "text": [
      "Q:\\UserTemp\\ubach\\AppData\\Local\\Temp\\4\\ipykernel_545184\\2175977912.py:71: UserWarning: Column names longer than 10 characters will be truncated when saved to ESRI Shapefile.\n",
      "  ncm_agl.to_file(file_path, driver='ESRI Shapefile')\n"
     ]
    },
    {
     "name": "stdout",
     "output_type": "stream",
     "text": [
      "exported ncm_agl\n",
      "union\n",
      "fillna\n"
     ]
    },
    {
     "name": "stderr",
     "output_type": "stream",
     "text": [
      "Q:\\UserTemp\\ubach\\AppData\\Local\\Temp\\4\\ipykernel_545184\\2175977912.py:83: UserWarning: Column names longer than 10 characters will be truncated when saved to ESRI Shapefile.\n",
      "  ncm_agl_city.to_file(file_path, driver='ESRI Shapefile')\n"
     ]
    },
    {
     "name": "stdout",
     "output_type": "stream",
     "text": [
      "exported ncm_agl\n",
      "   noisy                                           geometry\n",
      "0    1.0  MULTIPOLYGON (((4214789.523 2998434.682, 42147...\n",
      "1    0.0  MULTIPOLYGON (((4234661.113 3007659.302, 42347...\n",
      "DE005L1_FRANKFURT_AM_MAIN_UA2018_v013\n",
      "layers: A:\\Copernicus\\UrbanAtlas\\UrbanAtlas\\UA2018\\DE005L1_FRANKFURT_AM_MAIN_UA2018_v013\\Data\\DE005L1_FRANKFURT_AM_MAIN_UA2018_v013.gpkg\n",
      "loaded ua in urban city\n"
     ]
    },
    {
     "name": "stderr",
     "output_type": "stream",
     "text": [
      "c:\\Users\\ubach\\.conda\\envs\\geospatial_ETC_DI_v4\\lib\\site-packages\\pygeos\\set_operations.py:129: RuntimeWarning: invalid value encountered in intersection\n",
      "  return lib.intersection(a, b, **kwargs)\n"
     ]
    },
    {
     "name": "stdout",
     "output_type": "stream",
     "text": [
      "green_not_covered_by_ncm\n",
      "GQA\n",
      "GQA_pts\n",
      "str(processing_time)\n",
      "DE-GEOSTAT21_401-AG_DE_HE_5-Offenbach on the Main\n",
      "1 country for this urban centre\n",
      "ncm\n",
      "ncm_dis\n",
      "exported ncm_dis\n",
      "ncm_agl\n"
     ]
    },
    {
     "name": "stderr",
     "output_type": "stream",
     "text": [
      "Q:\\UserTemp\\ubach\\AppData\\Local\\Temp\\4\\ipykernel_545184\\2175977912.py:71: UserWarning: Column names longer than 10 characters will be truncated when saved to ESRI Shapefile.\n",
      "  ncm_agl.to_file(file_path, driver='ESRI Shapefile')\n"
     ]
    },
    {
     "name": "stdout",
     "output_type": "stream",
     "text": [
      "exported ncm_agl\n"
     ]
    },
    {
     "name": "stderr",
     "output_type": "stream",
     "text": [
      "Q:\\UserTemp\\ubach\\AppData\\Local\\Temp\\4\\ipykernel_545184\\2175977912.py:75: UserWarning: `keep_geom_type=True` in overlay resulted in 273 dropped geometries of different geometry types than df1 has. Set `keep_geom_type=False` to retain all geometries\n",
      "  ncm_agl_city = gpd.overlay(ncm_agl, agl_city, how='union')\n",
      "Q:\\UserTemp\\ubach\\AppData\\Local\\Temp\\4\\ipykernel_545184\\2175977912.py:83: UserWarning: Column names longer than 10 characters will be truncated when saved to ESRI Shapefile.\n",
      "  ncm_agl_city.to_file(file_path, driver='ESRI Shapefile')\n"
     ]
    },
    {
     "name": "stdout",
     "output_type": "stream",
     "text": [
      "union\n",
      "fillna\n",
      "exported ncm_agl\n",
      "   noisy                                           geometry\n",
      "0    1.0  MULTIPOLYGON (((4229525.224 2995456.571, 42295...\n",
      "1    1.0  MULTIPOLYGON (((4233784.517 3000745.657, 42337...\n",
      "2    0.0  MULTIPOLYGON (((4238171.075 2997648.741, 42381...\n",
      "DE005L1_FRANKFURT_AM_MAIN_UA2018_v013\n",
      "layers: A:\\Copernicus\\UrbanAtlas\\UrbanAtlas\\UA2018\\DE005L1_FRANKFURT_AM_MAIN_UA2018_v013\\Data\\DE005L1_FRANKFURT_AM_MAIN_UA2018_v013.gpkg\n",
      "loaded ua in urban city\n"
     ]
    },
    {
     "name": "stderr",
     "output_type": "stream",
     "text": [
      "c:\\Users\\ubach\\.conda\\envs\\geospatial_ETC_DI_v4\\lib\\site-packages\\pygeos\\set_operations.py:129: RuntimeWarning: invalid value encountered in intersection\n",
      "  return lib.intersection(a, b, **kwargs)\n"
     ]
    },
    {
     "name": "stdout",
     "output_type": "stream",
     "text": [
      "green_not_covered_by_ncm\n",
      "GQA\n",
      "GQA_pts\n",
      "str(processing_time)\n",
      "51\n",
      "2024-07-24 12:25:26.719431\n",
      "DE-GEOSTAT21_387-AG_DE_RP_3-Koblenz\n",
      "1 country for this urban centre\n",
      "ncm\n",
      "ncm_dis\n",
      "exported ncm_dis\n",
      "ncm_agl\n"
     ]
    },
    {
     "name": "stderr",
     "output_type": "stream",
     "text": [
      "Q:\\UserTemp\\ubach\\AppData\\Local\\Temp\\4\\ipykernel_545184\\2175977912.py:71: UserWarning: Column names longer than 10 characters will be truncated when saved to ESRI Shapefile.\n",
      "  ncm_agl.to_file(file_path, driver='ESRI Shapefile')\n"
     ]
    },
    {
     "name": "stdout",
     "output_type": "stream",
     "text": [
      "exported ncm_agl\n",
      "union\n",
      "fillna\n"
     ]
    },
    {
     "name": "stderr",
     "output_type": "stream",
     "text": [
      "Q:\\UserTemp\\ubach\\AppData\\Local\\Temp\\4\\ipykernel_545184\\2175977912.py:83: UserWarning: Column names longer than 10 characters will be truncated when saved to ESRI Shapefile.\n",
      "  ncm_agl_city.to_file(file_path, driver='ESRI Shapefile')\n"
     ]
    },
    {
     "name": "stdout",
     "output_type": "stream",
     "text": [
      "exported ncm_agl\n",
      "   noisy                                           geometry\n",
      "0    1.0  MULTIPOLYGON (((4156692.097 3030891.351, 41566...\n",
      "1    0.0  MULTIPOLYGON (((4157012.791 3030831.616, 41571...\n",
      "DE042L1_KOBLENZ_UA2018_v013\n",
      "layers: A:\\Copernicus\\UrbanAtlas\\UrbanAtlas\\UA2018\\DE042L1_KOBLENZ_UA2018_v013\\Data\\DE042L1_KOBLENZ_UA2018_v013.gpkg\n",
      "loaded ua in urban city\n"
     ]
    },
    {
     "name": "stderr",
     "output_type": "stream",
     "text": [
      "c:\\Users\\ubach\\.conda\\envs\\geospatial_ETC_DI_v4\\lib\\site-packages\\pygeos\\set_operations.py:129: RuntimeWarning: invalid value encountered in intersection\n",
      "  return lib.intersection(a, b, **kwargs)\n"
     ]
    },
    {
     "name": "stdout",
     "output_type": "stream",
     "text": [
      "green_not_covered_by_ncm\n",
      "GQA\n",
      "GQA_pts\n",
      "str(processing_time)\n",
      "52\n",
      "2024-07-24 12:28:09.404797\n",
      "DE-GEOSTAT21_188-AG_DE_BE_1-Berlin\n",
      "1 country for this urban centre\n",
      "ncm\n",
      "ncm_dis\n",
      "exported ncm_dis\n",
      "ncm_agl\n"
     ]
    },
    {
     "name": "stderr",
     "output_type": "stream",
     "text": [
      "Q:\\UserTemp\\ubach\\AppData\\Local\\Temp\\4\\ipykernel_545184\\2175977912.py:71: UserWarning: Column names longer than 10 characters will be truncated when saved to ESRI Shapefile.\n",
      "  ncm_agl.to_file(file_path, driver='ESRI Shapefile')\n"
     ]
    },
    {
     "name": "stdout",
     "output_type": "stream",
     "text": [
      "exported ncm_agl\n",
      "union\n",
      "fillna\n"
     ]
    },
    {
     "name": "stderr",
     "output_type": "stream",
     "text": [
      "Q:\\UserTemp\\ubach\\AppData\\Local\\Temp\\4\\ipykernel_545184\\2175977912.py:83: UserWarning: Column names longer than 10 characters will be truncated when saved to ESRI Shapefile.\n",
      "  ncm_agl_city.to_file(file_path, driver='ESRI Shapefile')\n"
     ]
    },
    {
     "name": "stdout",
     "output_type": "stream",
     "text": [
      "exported ncm_agl\n",
      "   noisy                                           geometry\n",
      "0    1.0  MULTIPOLYGON (((4576261.702 3265892.942, 45762...\n",
      "1    0.0  MULTIPOLYGON (((4576318.679 3265363.436, 45764...\n",
      "DE001L1_BERLIN_UA2018_v013\n",
      "layers: A:\\Copernicus\\UrbanAtlas\\UrbanAtlas\\UA2018\\DE001L1_BERLIN_UA2018_v013\\Data\\DE001L1_BERLIN_UA2018_v013.gpkg\n",
      "loaded ua in urban city\n"
     ]
    },
    {
     "name": "stderr",
     "output_type": "stream",
     "text": [
      "c:\\Users\\ubach\\.conda\\envs\\geospatial_ETC_DI_v4\\lib\\site-packages\\pygeos\\set_operations.py:129: RuntimeWarning: invalid value encountered in intersection\n",
      "  return lib.intersection(a, b, **kwargs)\n"
     ]
    },
    {
     "name": "stdout",
     "output_type": "stream",
     "text": [
      "green_not_covered_by_ncm\n",
      "GQA\n",
      "GQA_pts\n",
      "str(processing_time)\n",
      "DE-GEOSTAT21_188-AG_DE_BB_1-Potsdam\n",
      "1 country for this urban centre\n",
      "ncm\n",
      "ncm_dis\n",
      "exported ncm_dis\n",
      "ncm_agl\n"
     ]
    },
    {
     "name": "stderr",
     "output_type": "stream",
     "text": [
      "Q:\\UserTemp\\ubach\\AppData\\Local\\Temp\\4\\ipykernel_545184\\2175977912.py:71: UserWarning: Column names longer than 10 characters will be truncated when saved to ESRI Shapefile.\n",
      "  ncm_agl.to_file(file_path, driver='ESRI Shapefile')\n"
     ]
    },
    {
     "name": "stdout",
     "output_type": "stream",
     "text": [
      "exported ncm_agl\n",
      "union\n",
      "fillna\n"
     ]
    },
    {
     "name": "stderr",
     "output_type": "stream",
     "text": [
      "Q:\\UserTemp\\ubach\\AppData\\Local\\Temp\\4\\ipykernel_545184\\2175977912.py:83: UserWarning: Column names longer than 10 characters will be truncated when saved to ESRI Shapefile.\n",
      "  ncm_agl_city.to_file(file_path, driver='ESRI Shapefile')\n"
     ]
    },
    {
     "name": "stdout",
     "output_type": "stream",
     "text": [
      "exported ncm_agl\n",
      "   noisy                                           geometry\n",
      "0    1.0  MULTIPOLYGON (((4523239.587 3270533.241, 45232...\n",
      "1    0.0  MULTIPOLYGON (((4536589.668 3258559.572, 45365...\n",
      "DE001L1_BERLIN_UA2018_v013\n",
      "layers: A:\\Copernicus\\UrbanAtlas\\UrbanAtlas\\UA2018\\DE001L1_BERLIN_UA2018_v013\\Data\\DE001L1_BERLIN_UA2018_v013.gpkg\n",
      "loaded ua in urban city\n",
      "green_not_covered_by_ncm\n",
      "GQA\n",
      "GQA_pts\n",
      "str(processing_time)\n",
      "54\n",
      "2024-07-24 12:42:45.171591\n",
      "DE-GEOSTAT21_448-AG_DE_BW_8-Pforzheim\n",
      "1 country for this urban centre\n",
      "ncm\n",
      "ncm_dis\n",
      "exported ncm_dis\n",
      "ncm_agl\n"
     ]
    },
    {
     "name": "stderr",
     "output_type": "stream",
     "text": [
      "Q:\\UserTemp\\ubach\\AppData\\Local\\Temp\\4\\ipykernel_545184\\2175977912.py:71: UserWarning: Column names longer than 10 characters will be truncated when saved to ESRI Shapefile.\n",
      "  ncm_agl.to_file(file_path, driver='ESRI Shapefile')\n"
     ]
    },
    {
     "name": "stdout",
     "output_type": "stream",
     "text": [
      "exported ncm_agl\n",
      "union\n",
      "fillna\n"
     ]
    },
    {
     "name": "stderr",
     "output_type": "stream",
     "text": [
      "Q:\\UserTemp\\ubach\\AppData\\Local\\Temp\\4\\ipykernel_545184\\2175977912.py:83: UserWarning: Column names longer than 10 characters will be truncated when saved to ESRI Shapefile.\n",
      "  ncm_agl_city.to_file(file_path, driver='ESRI Shapefile')\n"
     ]
    },
    {
     "name": "stdout",
     "output_type": "stream",
     "text": [
      "exported ncm_agl\n",
      "   noisy                                           geometry\n",
      "0    1.0  MULTIPOLYGON (((4229359.152 2868803.484, 42293...\n",
      "1    0.0  MULTIPOLYGON (((4233556.634 2861734.993, 42335...\n",
      "DE533L1_PFORZHEIM_UA2018_v013\n",
      "layers: A:\\Copernicus\\UrbanAtlas\\UrbanAtlas\\UA2018\\DE533L1_PFORZHEIM_UA2018_v013\\Data\\DE533L1_PFORZHEIM_UA2018_v013.gpkg\n",
      "loaded ua in urban city\n",
      "green_not_covered_by_ncm\n",
      "GQA\n",
      "GQA_pts\n",
      "str(processing_time)\n",
      "55\n",
      "2024-07-24 12:44:39.259846\n",
      "DE-GEOSTAT21_447-AG_DE_BW_3-Karlsruhe\n",
      "1 country for this urban centre\n",
      "ncm\n",
      "ncm_dis\n",
      "exported ncm_dis\n",
      "ncm_agl\n"
     ]
    },
    {
     "name": "stderr",
     "output_type": "stream",
     "text": [
      "Q:\\UserTemp\\ubach\\AppData\\Local\\Temp\\4\\ipykernel_545184\\2175977912.py:71: UserWarning: Column names longer than 10 characters will be truncated when saved to ESRI Shapefile.\n",
      "  ncm_agl.to_file(file_path, driver='ESRI Shapefile')\n"
     ]
    },
    {
     "name": "stdout",
     "output_type": "stream",
     "text": [
      "exported ncm_agl\n",
      "union\n",
      "fillna\n"
     ]
    },
    {
     "name": "stderr",
     "output_type": "stream",
     "text": [
      "Q:\\UserTemp\\ubach\\AppData\\Local\\Temp\\4\\ipykernel_545184\\2175977912.py:83: UserWarning: Column names longer than 10 characters will be truncated when saved to ESRI Shapefile.\n",
      "  ncm_agl_city.to_file(file_path, driver='ESRI Shapefile')\n"
     ]
    },
    {
     "name": "stdout",
     "output_type": "stream",
     "text": [
      "exported ncm_agl\n",
      "   noisy                                           geometry\n",
      "0    1.0  MULTIPOLYGON (((4198598.878 2878729.118, 41985...\n",
      "1    0.0  MULTIPOLYGON (((4214181.883 2872933.543, 42141...\n",
      "DE035L1_KARLSRUHE_UA2018_v013\n",
      "layers: A:\\Copernicus\\UrbanAtlas\\UrbanAtlas\\UA2018\\DE035L1_KARLSRUHE_UA2018_v013\\Data\\DE035L1_KARLSRUHE_UA2018_v013.gpkg\n",
      "loaded ua in urban city\n",
      "green_not_covered_by_ncm\n",
      "GQA\n",
      "GQA_pts\n",
      "str(processing_time)\n",
      "56\n",
      "2024-07-24 12:45:17.276960\n",
      "DE-GEOSTAT21_200-AG_DE_NI_1-Hanover\n",
      "1 country for this urban centre\n",
      "ncm\n",
      "ncm_dis\n",
      "exported ncm_dis\n",
      "ncm_agl\n"
     ]
    },
    {
     "name": "stderr",
     "output_type": "stream",
     "text": [
      "Q:\\UserTemp\\ubach\\AppData\\Local\\Temp\\4\\ipykernel_545184\\2175977912.py:71: UserWarning: Column names longer than 10 characters will be truncated when saved to ESRI Shapefile.\n",
      "  ncm_agl.to_file(file_path, driver='ESRI Shapefile')\n"
     ]
    },
    {
     "name": "stdout",
     "output_type": "stream",
     "text": [
      "exported ncm_agl\n",
      "union\n",
      "fillna\n"
     ]
    },
    {
     "name": "stderr",
     "output_type": "stream",
     "text": [
      "Q:\\UserTemp\\ubach\\AppData\\Local\\Temp\\4\\ipykernel_545184\\2175977912.py:83: UserWarning: Column names longer than 10 characters will be truncated when saved to ESRI Shapefile.\n",
      "  ncm_agl_city.to_file(file_path, driver='ESRI Shapefile')\n"
     ]
    },
    {
     "name": "stdout",
     "output_type": "stream",
     "text": [
      "exported ncm_agl\n",
      "   noisy                                           geometry\n",
      "0    1.0  MULTIPOLYGON (((4307480.061 3259627.948, 43074...\n",
      "1    0.0  MULTIPOLYGON (((4315425.191 3255086.302, 43154...\n",
      "DE013L1_HANNOVER_UA2018_v013\n",
      "\n",
      "Error DE-GEOSTAT21_200-AG_DE_NI_1-Hanover\n",
      "57\n",
      "2024-07-24 12:45:36.946144\n",
      "DE-GEOSTAT21_445-AG_DE_BY_4-Regensburg\n",
      "1 country for this urban centre\n",
      "ncm\n",
      "ncm_dis\n",
      "exported ncm_dis\n",
      "ncm_agl\n"
     ]
    },
    {
     "name": "stderr",
     "output_type": "stream",
     "text": [
      "Q:\\UserTemp\\ubach\\AppData\\Local\\Temp\\4\\ipykernel_545184\\2175977912.py:71: UserWarning: Column names longer than 10 characters will be truncated when saved to ESRI Shapefile.\n",
      "  ncm_agl.to_file(file_path, driver='ESRI Shapefile')\n"
     ]
    },
    {
     "name": "stdout",
     "output_type": "stream",
     "text": [
      "exported ncm_agl\n",
      "union\n",
      "fillna\n"
     ]
    },
    {
     "name": "stderr",
     "output_type": "stream",
     "text": [
      "Q:\\UserTemp\\ubach\\AppData\\Local\\Temp\\4\\ipykernel_545184\\2175977912.py:83: UserWarning: Column names longer than 10 characters will be truncated when saved to ESRI Shapefile.\n",
      "  ncm_agl_city.to_file(file_path, driver='ESRI Shapefile')\n"
     ]
    },
    {
     "name": "stdout",
     "output_type": "stream",
     "text": [
      "exported ncm_agl\n",
      "   noisy                                           geometry\n",
      "0    1.0  MULTIPOLYGON (((4477395.428 2886210.925, 44773...\n",
      "1    0.0  MULTIPOLYGON (((4478983.009 2880736.200, 44790...\n",
      "DE028L1_REGENSBURG_UA2018_v013\n",
      "layers: A:\\Copernicus\\UrbanAtlas\\UrbanAtlas\\UA2018\\DE028L1_REGENSBURG_UA2018_v013\\Data\\DE028L1_REGENSBURG_UA2018_v013.gpkg\n",
      "loaded ua in urban city\n",
      "green_not_covered_by_ncm\n",
      "GQA\n",
      "GQA_pts\n",
      "str(processing_time)\n",
      "58\n",
      "2024-07-24 12:46:09.537345\n",
      "DE-GEOSTAT21_312-AG_DE_SN_2-Leipzig\n",
      "1 country for this urban centre\n",
      "ncm\n",
      "ncm_dis\n",
      "exported ncm_dis\n",
      "ncm_agl\n"
     ]
    },
    {
     "name": "stderr",
     "output_type": "stream",
     "text": [
      "Q:\\UserTemp\\ubach\\AppData\\Local\\Temp\\4\\ipykernel_545184\\2175977912.py:71: UserWarning: Column names longer than 10 characters will be truncated when saved to ESRI Shapefile.\n",
      "  ncm_agl.to_file(file_path, driver='ESRI Shapefile')\n"
     ]
    },
    {
     "name": "stdout",
     "output_type": "stream",
     "text": [
      "exported ncm_agl\n",
      "union\n",
      "fillna\n"
     ]
    },
    {
     "name": "stderr",
     "output_type": "stream",
     "text": [
      "Q:\\UserTemp\\ubach\\AppData\\Local\\Temp\\4\\ipykernel_545184\\2175977912.py:83: UserWarning: Column names longer than 10 characters will be truncated when saved to ESRI Shapefile.\n",
      "  ncm_agl_city.to_file(file_path, driver='ESRI Shapefile')\n"
     ]
    },
    {
     "name": "stdout",
     "output_type": "stream",
     "text": [
      "exported ncm_agl\n",
      "   noisy                                           geometry\n",
      "0    1.0  MULTIPOLYGON (((4477606.280 3140223.409, 44776...\n",
      "1    0.0  MULTIPOLYGON (((4498187.954 3137887.741, 44981...\n",
      "DE008L2_LEIPZIG_UA2018_v013\n",
      "layers: A:\\Copernicus\\UrbanAtlas\\UrbanAtlas\\UA2018\\DE008L2_LEIPZIG_UA2018_v013\\Data\\DE008L2_LEIPZIG_UA2018_v013.gpkg\n",
      "loaded ua in urban city\n"
     ]
    },
    {
     "name": "stderr",
     "output_type": "stream",
     "text": [
      "c:\\Users\\ubach\\.conda\\envs\\geospatial_ETC_DI_v4\\lib\\site-packages\\pygeos\\set_operations.py:129: RuntimeWarning: invalid value encountered in intersection\n",
      "  return lib.intersection(a, b, **kwargs)\n"
     ]
    },
    {
     "name": "stdout",
     "output_type": "stream",
     "text": [
      "green_not_covered_by_ncm\n",
      "GQA\n",
      "GQA_pts\n",
      "str(processing_time)\n",
      "59\n",
      "2024-07-24 12:48:33.839995\n",
      "DE-GEOSTAT21_211-AG_DE_NI_2-Brunswick\n",
      "1 country for this urban centre\n",
      "ncm\n",
      "ncm_dis\n",
      "exported ncm_dis\n",
      "ncm_agl\n"
     ]
    },
    {
     "name": "stderr",
     "output_type": "stream",
     "text": [
      "Q:\\UserTemp\\ubach\\AppData\\Local\\Temp\\4\\ipykernel_545184\\2175977912.py:71: UserWarning: Column names longer than 10 characters will be truncated when saved to ESRI Shapefile.\n",
      "  ncm_agl.to_file(file_path, driver='ESRI Shapefile')\n"
     ]
    },
    {
     "name": "stdout",
     "output_type": "stream",
     "text": [
      "exported ncm_agl\n",
      "union\n",
      "fillna\n"
     ]
    },
    {
     "name": "stderr",
     "output_type": "stream",
     "text": [
      "Q:\\UserTemp\\ubach\\AppData\\Local\\Temp\\4\\ipykernel_545184\\2175977912.py:83: UserWarning: Column names longer than 10 characters will be truncated when saved to ESRI Shapefile.\n",
      "  ncm_agl_city.to_file(file_path, driver='ESRI Shapefile')\n"
     ]
    },
    {
     "name": "stdout",
     "output_type": "stream",
     "text": [
      "exported ncm_agl\n",
      "   noisy                                           geometry\n",
      "0    1.0  MULTIPOLYGON (((4361046.262 3248512.160, 43610...\n",
      "1    0.0  MULTIPOLYGON (((4364884.991 3243068.834, 43648...\n",
      "DE083L1_BRAUNSCHWEIG\n",
      "layers: A:\\Copernicus\\UrbanAtlas\\UrbanAtlas\\UA2018\\DE083L1_BRAUNSCHWEIG_SALZGITTER_WOLFSBURG_UA2018_v013\\Data\\DE083L1_BRAUNSCHWEIG_SALZGITTER_WOLFSBURG_UA2018_v013.gpkg\n",
      "loaded ua in urban city\n",
      "green_not_covered_by_ncm\n",
      "GQA\n",
      "GQA_pts\n",
      "str(processing_time)\n",
      "60\n",
      "2024-07-24 12:49:35.283114\n",
      "DE-GEOSTAT21_454-AG_DE_BW_1-Stuttgart\n",
      "1 country for this urban centre\n",
      "ncm\n",
      "ncm_dis\n",
      "exported ncm_dis\n",
      "ncm_agl\n"
     ]
    },
    {
     "name": "stderr",
     "output_type": "stream",
     "text": [
      "Q:\\UserTemp\\ubach\\AppData\\Local\\Temp\\4\\ipykernel_545184\\2175977912.py:71: UserWarning: Column names longer than 10 characters will be truncated when saved to ESRI Shapefile.\n",
      "  ncm_agl.to_file(file_path, driver='ESRI Shapefile')\n"
     ]
    },
    {
     "name": "stdout",
     "output_type": "stream",
     "text": [
      "exported ncm_agl\n",
      "union\n",
      "fillna\n"
     ]
    },
    {
     "name": "stderr",
     "output_type": "stream",
     "text": [
      "Q:\\UserTemp\\ubach\\AppData\\Local\\Temp\\4\\ipykernel_545184\\2175977912.py:83: UserWarning: Column names longer than 10 characters will be truncated when saved to ESRI Shapefile.\n",
      "  ncm_agl_city.to_file(file_path, driver='ESRI Shapefile')\n"
     ]
    },
    {
     "name": "stdout",
     "output_type": "stream",
     "text": [
      "exported ncm_agl\n",
      "   noisy                                           geometry\n",
      "0    1.0  MULTIPOLYGON (((4258590.977 2861145.511, 42586...\n",
      "1    0.0  MULTIPOLYGON (((4266931.535 2853650.182, 42668...\n",
      "DE007L1_STUTTGART_UA2018_v013\n",
      "\n",
      "Error DE-GEOSTAT21_454-AG_DE_BW_1-Stuttgart\n",
      "61\n",
      "2024-07-24 12:49:53.496147\n",
      "ES-GEOSTAT21_652-AG_ES_21_20069-Donostia/San Sebastián\n",
      "1 country for this urban centre\n",
      "ncm\n",
      "ncm_dis\n",
      "Error ES-GEOSTAT21_652-AG_ES_21_20069-Donostia/San Sebastián\n",
      "62\n",
      "2024-07-24 12:49:56.870179\n",
      "ES-GEOSTAT21_687-AG_ES_22_00008-Comarca de Pamplona\n",
      "1 country for this urban centre\n",
      "ncm\n",
      "ncm_dis\n",
      "exported ncm_dis\n",
      "ncm_agl\n"
     ]
    },
    {
     "name": "stderr",
     "output_type": "stream",
     "text": [
      "Q:\\UserTemp\\ubach\\AppData\\Local\\Temp\\4\\ipykernel_545184\\2175977912.py:71: UserWarning: Column names longer than 10 characters will be truncated when saved to ESRI Shapefile.\n",
      "  ncm_agl.to_file(file_path, driver='ESRI Shapefile')\n"
     ]
    },
    {
     "name": "stdout",
     "output_type": "stream",
     "text": [
      "exported ncm_agl\n",
      "union\n",
      "fillna\n"
     ]
    },
    {
     "name": "stderr",
     "output_type": "stream",
     "text": [
      "Q:\\UserTemp\\ubach\\AppData\\Local\\Temp\\4\\ipykernel_545184\\2175977912.py:83: UserWarning: Column names longer than 10 characters will be truncated when saved to ESRI Shapefile.\n",
      "  ncm_agl_city.to_file(file_path, driver='ESRI Shapefile')\n"
     ]
    },
    {
     "name": "stdout",
     "output_type": "stream",
     "text": [
      "exported ncm_agl\n",
      "   noisy                                           geometry\n",
      "0    1.0  MULTIPOLYGON (((3375420.100 2265010.738, 33754...\n",
      "1    0.0  MULTIPOLYGON (((3375764.262 2264535.396, 33757...\n",
      "ES014L3_PAMPLONA_IRUNA_UA2018_v013\n",
      "layers: A:\\Copernicus\\UrbanAtlas\\UrbanAtlas\\UA2018\\ES014L3_PAMPLONA_IRUNA_UA2018_v013\\Data\\ES014L3_PAMPLONA_IRUNA_UA2018_v013.gpkg\n",
      "loaded ua in urban city\n",
      "green_not_covered_by_ncm\n",
      "GQA\n",
      "GQA_pts\n",
      "str(processing_time)\n",
      "63\n",
      "2024-07-24 12:50:45.289291\n",
      "ES-GEOSTAT21_694-AG_ES_23_26089-Logrono\n",
      "1 country for this urban centre\n",
      "ncm\n",
      "ncm_dis\n",
      "exported ncm_dis\n",
      "ncm_agl\n"
     ]
    },
    {
     "name": "stderr",
     "output_type": "stream",
     "text": [
      "Q:\\UserTemp\\ubach\\AppData\\Local\\Temp\\4\\ipykernel_545184\\2175977912.py:71: UserWarning: Column names longer than 10 characters will be truncated when saved to ESRI Shapefile.\n",
      "  ncm_agl.to_file(file_path, driver='ESRI Shapefile')\n"
     ]
    },
    {
     "name": "stdout",
     "output_type": "stream",
     "text": [
      "exported ncm_agl\n",
      "union\n",
      "fillna\n"
     ]
    },
    {
     "name": "stderr",
     "output_type": "stream",
     "text": [
      "Q:\\UserTemp\\ubach\\AppData\\Local\\Temp\\4\\ipykernel_545184\\2175977912.py:83: UserWarning: Column names longer than 10 characters will be truncated when saved to ESRI Shapefile.\n",
      "  ncm_agl_city.to_file(file_path, driver='ESRI Shapefile')\n"
     ]
    },
    {
     "name": "stdout",
     "output_type": "stream",
     "text": [
      "exported ncm_agl\n",
      "   noisy                                           geometry\n",
      "0    1.0  MULTIPOLYGON (((3302817.198 2236650.275, 33028...\n",
      "1    0.0  MULTIPOLYGON (((3301170.483 2238224.668, 33013...\n",
      "ES018L2_LOGRONO_UA2018_v013\n",
      "layers: A:\\Copernicus\\UrbanAtlas\\UrbanAtlas\\UA2018\\ES018L2_LOGRONO_UA2018_v013\\Data\\ES018L2_LOGRONO_UA2018_v013.gpkg\n",
      "loaded ua in urban city\n"
     ]
    },
    {
     "name": "stderr",
     "output_type": "stream",
     "text": [
      "c:\\Users\\ubach\\.conda\\envs\\geospatial_ETC_DI_v4\\lib\\site-packages\\pygeos\\set_operations.py:129: RuntimeWarning: invalid value encountered in intersection\n",
      "  return lib.intersection(a, b, **kwargs)\n"
     ]
    },
    {
     "name": "stdout",
     "output_type": "stream",
     "text": [
      "green_not_covered_by_ncm\n",
      "GQA\n",
      "GQA_pts\n",
      "str(processing_time)\n",
      "64\n",
      "2024-07-24 12:51:03.497302\n",
      "ES-GEOSTAT21_620-AG_ES_12_33024-Gijón\n",
      "1 country for this urban centre\n",
      "ncm\n",
      "ncm_dis\n",
      "exported ncm_dis\n",
      "ncm_agl\n"
     ]
    },
    {
     "name": "stderr",
     "output_type": "stream",
     "text": [
      "Q:\\UserTemp\\ubach\\AppData\\Local\\Temp\\4\\ipykernel_545184\\2175977912.py:71: UserWarning: Column names longer than 10 characters will be truncated when saved to ESRI Shapefile.\n",
      "  ncm_agl.to_file(file_path, driver='ESRI Shapefile')\n"
     ]
    },
    {
     "name": "stdout",
     "output_type": "stream",
     "text": [
      "exported ncm_agl\n",
      "union\n",
      "fillna\n"
     ]
    },
    {
     "name": "stderr",
     "output_type": "stream",
     "text": [
      "Q:\\UserTemp\\ubach\\AppData\\Local\\Temp\\4\\ipykernel_545184\\2175977912.py:83: UserWarning: Column names longer than 10 characters will be truncated when saved to ESRI Shapefile.\n",
      "  ncm_agl_city.to_file(file_path, driver='ESRI Shapefile')\n"
     ]
    },
    {
     "name": "stdout",
     "output_type": "stream",
     "text": [
      "exported ncm_agl\n",
      "   noisy                                           geometry\n",
      "0    1.0  MULTIPOLYGON (((3069052.436 2397839.159, 30690...\n",
      "1    0.0  MULTIPOLYGON (((3069064.390 2397240.620, 30690...\n",
      "ES023L2_GIJON_UA2018_v013\n",
      "layers: A:\\Copernicus\\UrbanAtlas\\UrbanAtlas\\UA2018\\ES023L2_GIJON_UA2018_v013\\Data\\ES023L2_GIJON_UA2018_v013.gpkg\n",
      "loaded ua in urban city\n",
      "green_not_covered_by_ncm\n",
      "GQA\n",
      "GQA_pts\n",
      "str(processing_time)\n",
      "65\n",
      "2024-07-24 12:51:43.410410\n",
      "ES-GEOSTAT21_800-AG_ES_52_12040-Castellón de la Plana\n",
      "1 country for this urban centre\n",
      "ncm\n",
      "ncm_dis\n",
      "exported ncm_dis\n",
      "ncm_agl\n"
     ]
    },
    {
     "name": "stderr",
     "output_type": "stream",
     "text": [
      "Q:\\UserTemp\\ubach\\AppData\\Local\\Temp\\4\\ipykernel_545184\\2175977912.py:71: UserWarning: Column names longer than 10 characters will be truncated when saved to ESRI Shapefile.\n",
      "  ncm_agl.to_file(file_path, driver='ESRI Shapefile')\n"
     ]
    },
    {
     "name": "stdout",
     "output_type": "stream",
     "text": [
      "exported ncm_agl\n",
      "union\n",
      "fillna\n"
     ]
    },
    {
     "name": "stderr",
     "output_type": "stream",
     "text": [
      "Q:\\UserTemp\\ubach\\AppData\\Local\\Temp\\4\\ipykernel_545184\\2175977912.py:83: UserWarning: Column names longer than 10 characters will be truncated when saved to ESRI Shapefile.\n",
      "  ncm_agl_city.to_file(file_path, driver='ESRI Shapefile')\n"
     ]
    },
    {
     "name": "stdout",
     "output_type": "stream",
     "text": [
      "exported ncm_agl\n",
      "   noisy                                           geometry\n",
      "0    1.0  MULTIPOLYGON (((3461377.546 1936332.419, 34613...\n",
      "1    0.0  MULTIPOLYGON (((3452803.547 1940141.202, 34531...\n",
      "ES520L1_CASTELLON_CASTELLO\n",
      "layers: A:\\Copernicus\\UrbanAtlas\\UrbanAtlas\\UA2018\\ES520L1_CASTELLON_CASTELLO_UA2018_v013\\Data\\ES520L1_CASTELLON_CASTELLO_UA2018_v013.gpkg\n",
      "loaded ua in urban city\n",
      "green_not_covered_by_ncm\n",
      "GQA\n",
      "GQA_pts\n",
      "str(processing_time)\n",
      "66\n",
      "2024-07-24 12:52:24.942501\n",
      "ES-GEOSTAT21_624-AG_ES_12_33044-Oviedo\n",
      "1 country for this urban centre\n",
      "ncm\n",
      "ncm_dis\n",
      "exported ncm_dis\n",
      "ncm_agl\n"
     ]
    },
    {
     "name": "stderr",
     "output_type": "stream",
     "text": [
      "Q:\\UserTemp\\ubach\\AppData\\Local\\Temp\\4\\ipykernel_545184\\2175977912.py:71: UserWarning: Column names longer than 10 characters will be truncated when saved to ESRI Shapefile.\n",
      "  ncm_agl.to_file(file_path, driver='ESRI Shapefile')\n"
     ]
    },
    {
     "name": "stdout",
     "output_type": "stream",
     "text": [
      "exported ncm_agl\n",
      "union\n",
      "fillna\n"
     ]
    },
    {
     "name": "stderr",
     "output_type": "stream",
     "text": [
      "Q:\\UserTemp\\ubach\\AppData\\Local\\Temp\\4\\ipykernel_545184\\2175977912.py:83: UserWarning: Column names longer than 10 characters will be truncated when saved to ESRI Shapefile.\n",
      "  ncm_agl_city.to_file(file_path, driver='ESRI Shapefile')\n"
     ]
    },
    {
     "name": "stdout",
     "output_type": "stream",
     "text": [
      "exported ncm_agl\n",
      "   noisy                                           geometry\n",
      "0    1.0  MULTIPOLYGON (((3049620.391 2381590.672, 30496...\n",
      "1    0.0  MULTIPOLYGON (((3033873.813 2387826.125, 30339...\n",
      "ES013L2_OVIEDO_UA2018_v013\n",
      "layers: A:\\Copernicus\\UrbanAtlas\\UrbanAtlas\\UA2018\\ES013L2_OVIEDO_UA2018_v013\\Data\\ES013L2_OVIEDO_UA2018_v013.gpkg\n",
      "loaded ua in urban city\n",
      "green_not_covered_by_ncm\n",
      "GQA\n",
      "GQA_pts\n",
      "str(processing_time)\n",
      "67\n",
      "2024-07-24 12:52:55.637548\n",
      "ES-GEOSTAT21_712-AG_ES_41_47186-Valladolid\n",
      "1 country for this urban centre\n",
      "ncm\n",
      "ncm_dis\n",
      "exported ncm_dis\n"
     ]
    },
    {
     "name": "stderr",
     "output_type": "stream",
     "text": [
      "Q:\\UserTemp\\ubach\\AppData\\Local\\Temp\\4\\ipykernel_545184\\2175977912.py:71: UserWarning: Column names longer than 10 characters will be truncated when saved to ESRI Shapefile.\n",
      "  ncm_agl.to_file(file_path, driver='ESRI Shapefile')\n"
     ]
    },
    {
     "name": "stdout",
     "output_type": "stream",
     "text": [
      "ncm_agl\n",
      "exported ncm_agl\n",
      "union\n",
      "fillna\n"
     ]
    },
    {
     "name": "stderr",
     "output_type": "stream",
     "text": [
      "Q:\\UserTemp\\ubach\\AppData\\Local\\Temp\\4\\ipykernel_545184\\2175977912.py:83: UserWarning: Column names longer than 10 characters will be truncated when saved to ESRI Shapefile.\n",
      "  ncm_agl_city.to_file(file_path, driver='ESRI Shapefile')\n"
     ]
    },
    {
     "name": "stdout",
     "output_type": "stream",
     "text": [
      "exported ncm_agl\n",
      "   noisy                                           geometry\n",
      "0    1.0  MULTIPOLYGON (((3095053.749 2182980.990, 30950...\n",
      "1    1.0  MULTIPOLYGON (((3100014.140 2185577.110, 31000...\n",
      "2    0.0  MULTIPOLYGON (((3103960.941 2183227.405, 31039...\n",
      "ES009L2_VALLADOLID_UA2018_v013\n",
      "layers: A:\\Copernicus\\UrbanAtlas\\UrbanAtlas\\UA2018\\ES009L2_VALLADOLID_UA2018_v013\\Data\\ES009L2_VALLADOLID_UA2018_v013.gpkg\n",
      "loaded ua in urban city\n"
     ]
    },
    {
     "name": "stderr",
     "output_type": "stream",
     "text": [
      "c:\\Users\\ubach\\.conda\\envs\\geospatial_ETC_DI_v4\\lib\\site-packages\\pygeos\\set_operations.py:129: RuntimeWarning: invalid value encountered in intersection\n",
      "  return lib.intersection(a, b, **kwargs)\n"
     ]
    },
    {
     "name": "stdout",
     "output_type": "stream",
     "text": [
      "green_not_covered_by_ncm\n",
      "GQA\n",
      "GQA_pts\n",
      "str(processing_time)\n",
      "68\n",
      "2024-07-24 12:53:58.858716\n",
      "ES-GEOSTAT21_768-AG_ES_30_28148-Torrejón de Ardoz\n",
      "1 country for this urban centre\n",
      "ncm\n",
      "ncm_dis\n",
      "exported ncm_dis\n",
      "ncm_agl\n"
     ]
    },
    {
     "name": "stderr",
     "output_type": "stream",
     "text": [
      "Q:\\UserTemp\\ubach\\AppData\\Local\\Temp\\4\\ipykernel_545184\\2175977912.py:71: UserWarning: Column names longer than 10 characters will be truncated when saved to ESRI Shapefile.\n",
      "  ncm_agl.to_file(file_path, driver='ESRI Shapefile')\n"
     ]
    },
    {
     "name": "stdout",
     "output_type": "stream",
     "text": [
      "exported ncm_agl\n",
      "union\n",
      "fillna\n"
     ]
    },
    {
     "name": "stderr",
     "output_type": "stream",
     "text": [
      "Q:\\UserTemp\\ubach\\AppData\\Local\\Temp\\4\\ipykernel_545184\\2175977912.py:83: UserWarning: Column names longer than 10 characters will be truncated when saved to ESRI Shapefile.\n",
      "  ncm_agl_city.to_file(file_path, driver='ESRI Shapefile')\n"
     ]
    },
    {
     "name": "stdout",
     "output_type": "stream",
     "text": [
      "exported ncm_agl\n",
      "   noisy                                           geometry\n",
      "0    1.0  MULTIPOLYGON (((3183857.786 2035815.419, 31838...\n",
      "1    1.0  MULTIPOLYGON (((3184059.710 2035944.387, 31840...\n",
      "2    0.0  MULTIPOLYGON (((3179631.367 2034937.986, 31800...\n",
      "ES001L3_MADRID_UA2018_v013\n",
      "layers: A:\\Copernicus\\UrbanAtlas\\UrbanAtlas\\UA2018\\ES001L3_MADRID_UA2018_v013\\Data\\ES001L3_MADRID_UA2018_v013.gpkg\n",
      "loaded ua in urban city\n"
     ]
    },
    {
     "name": "stderr",
     "output_type": "stream",
     "text": [
      "Q:\\UserTemp\\ubach\\AppData\\Local\\Temp\\4\\ipykernel_545184\\2175977912.py:122: UserWarning: `keep_geom_type=True` in overlay resulted in 3 dropped geometries of different geometry types than df1 has. Set `keep_geom_type=False` to retain all geometries\n",
      "  nqgreen = gpd.overlay(uagreen_urbc, ncm_dis, how='intersection') #noisy/quiet green\n"
     ]
    },
    {
     "name": "stdout",
     "output_type": "stream",
     "text": [
      "green_not_covered_by_ncm\n",
      "GQA\n",
      "GQA_pts\n",
      "str(processing_time)\n",
      "69\n",
      "2024-07-24 12:54:15.615605\n",
      "FI-GEOSTAT21_911-AG_FI_00_7-Lahti\n",
      "1 country for this urban centre\n",
      "ncm\n",
      "ncm_dis\n",
      "exported ncm_dis\n",
      "ncm_agl\n"
     ]
    },
    {
     "name": "stderr",
     "output_type": "stream",
     "text": [
      "Q:\\UserTemp\\ubach\\AppData\\Local\\Temp\\4\\ipykernel_545184\\2175977912.py:71: UserWarning: Column names longer than 10 characters will be truncated when saved to ESRI Shapefile.\n",
      "  ncm_agl.to_file(file_path, driver='ESRI Shapefile')\n"
     ]
    },
    {
     "name": "stdout",
     "output_type": "stream",
     "text": [
      "exported ncm_agl\n",
      "union\n",
      "fillna\n"
     ]
    },
    {
     "name": "stderr",
     "output_type": "stream",
     "text": [
      "Q:\\UserTemp\\ubach\\AppData\\Local\\Temp\\4\\ipykernel_545184\\2175977912.py:83: UserWarning: Column names longer than 10 characters will be truncated when saved to ESRI Shapefile.\n",
      "  ncm_agl_city.to_file(file_path, driver='ESRI Shapefile')\n"
     ]
    },
    {
     "name": "stdout",
     "output_type": "stream",
     "text": [
      "exported ncm_agl\n",
      "   noisy                                           geometry\n",
      "0    1.0  MULTIPOLYGON (((5173333.034 4316703.320, 51733...\n",
      "1    0.0  MULTIPOLYGON (((5174683.910 4316448.081, 51756...\n",
      "FI007L2_LAHTI_UA2018_v013\n",
      "layers: A:\\Copernicus\\UrbanAtlas\\UrbanAtlas\\UA2018\\FI007L2_LAHTI_UA2018_v013\\Data\\FI007L2_LAHTI_UA2018_v013.gpkg\n",
      "loaded ua in urban city\n",
      "green_not_covered_by_ncm\n",
      "GQA\n",
      "GQA_pts\n",
      "str(processing_time)\n",
      "70\n",
      "2024-07-24 12:54:49.986380\n",
      "FI-GEOSTAT21_005-AG_FI_00_9-Jyvaskyla\n",
      "1 country for this urban centre\n",
      "ncm\n",
      "ncm_dis\n",
      "exported ncm_dis\n",
      "ncm_agl\n"
     ]
    },
    {
     "name": "stderr",
     "output_type": "stream",
     "text": [
      "Q:\\UserTemp\\ubach\\AppData\\Local\\Temp\\4\\ipykernel_545184\\2175977912.py:71: UserWarning: Column names longer than 10 characters will be truncated when saved to ESRI Shapefile.\n",
      "  ncm_agl.to_file(file_path, driver='ESRI Shapefile')\n"
     ]
    },
    {
     "name": "stdout",
     "output_type": "stream",
     "text": [
      "exported ncm_agl\n",
      "union\n",
      "fillna\n"
     ]
    },
    {
     "name": "stderr",
     "output_type": "stream",
     "text": [
      "Q:\\UserTemp\\ubach\\AppData\\Local\\Temp\\4\\ipykernel_545184\\2175977912.py:83: UserWarning: Column names longer than 10 characters will be truncated when saved to ESRI Shapefile.\n",
      "  ncm_agl_city.to_file(file_path, driver='ESRI Shapefile')\n"
     ]
    },
    {
     "name": "stdout",
     "output_type": "stream",
     "text": [
      "exported ncm_agl\n",
      "   noisy                                           geometry\n",
      "0    1.0  MULTIPOLYGON (((5135953.961 4444994.481, 51359...\n",
      "1    0.0  MULTIPOLYGON (((5126537.957 4457838.680, 51266...\n",
      "FI009L2_JYVASKYLA_UA2018_v013\n",
      "layers: A:\\Copernicus\\UrbanAtlas\\UrbanAtlas\\UA2018\\FI009L2_JYVASKYLA_UA2018_v013\\Data\\FI009L2_JYVASKYLA_UA2018_v013.gpkg\n",
      "loaded ua in urban city\n",
      "green_not_covered_by_ncm\n",
      "GQA\n",
      "GQA_pts\n",
      "str(processing_time)\n",
      "71\n",
      "2024-07-24 12:55:46.677543\n",
      "FR-GEOSTAT21_597-AG_FR_00_15-Grenoble\n",
      "1 country for this urban centre\n",
      "ncm\n",
      "ncm_dis\n",
      "exported ncm_dis\n",
      "ncm_agl\n"
     ]
    },
    {
     "name": "stderr",
     "output_type": "stream",
     "text": [
      "Q:\\UserTemp\\ubach\\AppData\\Local\\Temp\\4\\ipykernel_545184\\2175977912.py:71: UserWarning: Column names longer than 10 characters will be truncated when saved to ESRI Shapefile.\n",
      "  ncm_agl.to_file(file_path, driver='ESRI Shapefile')\n"
     ]
    },
    {
     "name": "stdout",
     "output_type": "stream",
     "text": [
      "exported ncm_agl\n",
      "union\n",
      "fillna\n"
     ]
    },
    {
     "name": "stderr",
     "output_type": "stream",
     "text": [
      "Q:\\UserTemp\\ubach\\AppData\\Local\\Temp\\4\\ipykernel_545184\\2175977912.py:83: UserWarning: Column names longer than 10 characters will be truncated when saved to ESRI Shapefile.\n",
      "  ncm_agl_city.to_file(file_path, driver='ESRI Shapefile')\n"
     ]
    },
    {
     "name": "stdout",
     "output_type": "stream",
     "text": [
      "exported ncm_agl\n",
      "   noisy                                           geometry\n",
      "0    1.0  MULTIPOLYGON (((3996123.761 2454436.336, 39961...\n",
      "1    0.0  MULTIPOLYGON (((3987226.786 2449685.412, 39872...\n",
      "FR026L2_GRENOBLE_UA2018_v013\n",
      "layers: A:\\Copernicus\\UrbanAtlas\\UrbanAtlas\\UA2018\\FR026L2_GRENOBLE_UA2018_v013\\Data\\FR026L2_GRENOBLE_UA2018_v013.gpkg\n",
      "loaded ua in urban city\n",
      "green_not_covered_by_ncm\n",
      "GQA\n",
      "GQA_pts\n",
      "str(processing_time)\n",
      "72\n",
      "2024-07-24 15:23:15.400725\n",
      "FR-GEOSTAT21_550-AG_FR_00_49-Limoges\n",
      "1 country for this urban centre\n",
      "ncm\n",
      "ncm_dis\n",
      "exported ncm_dis\n",
      "ncm_agl\n"
     ]
    },
    {
     "name": "stderr",
     "output_type": "stream",
     "text": [
      "Q:\\UserTemp\\ubach\\AppData\\Local\\Temp\\4\\ipykernel_545184\\2175977912.py:71: UserWarning: Column names longer than 10 characters will be truncated when saved to ESRI Shapefile.\n",
      "  ncm_agl.to_file(file_path, driver='ESRI Shapefile')\n"
     ]
    },
    {
     "name": "stdout",
     "output_type": "stream",
     "text": [
      "exported ncm_agl\n",
      "union\n",
      "fillna\n"
     ]
    },
    {
     "name": "stderr",
     "output_type": "stream",
     "text": [
      "Q:\\UserTemp\\ubach\\AppData\\Local\\Temp\\4\\ipykernel_545184\\2175977912.py:83: UserWarning: Column names longer than 10 characters will be truncated when saved to ESRI Shapefile.\n",
      "  ncm_agl_city.to_file(file_path, driver='ESRI Shapefile')\n"
     ]
    },
    {
     "name": "stdout",
     "output_type": "stream",
     "text": [
      "exported ncm_agl\n",
      "   noisy                                           geometry\n",
      "0    1.0  MULTIPOLYGON (((3654651.532 2559064.570, 36546...\n",
      "1    0.0  MULTIPOLYGON (((3654612.941 2568775.524, 36546...\n",
      "FR024L2_LIMOGES_UA2018_v013\n",
      "layers: A:\\Copernicus\\UrbanAtlas\\UrbanAtlas\\UA2018\\FR024L2_LIMOGES_UA2018_v013\\Data\\FR024L2_LIMOGES_UA2018_v013.gpkg\n",
      "loaded ua in urban city\n",
      "green_not_covered_by_ncm\n",
      "GQA\n",
      "GQA_pts\n",
      "str(processing_time)\n",
      "73\n",
      "2024-07-24 17:47:56.763401\n",
      "FR-GEOSTAT21_489-AG_FR_00_1-Angers\n",
      "1 country for this urban centre\n",
      "ncm\n",
      "ncm_dis\n",
      "exported ncm_dis\n",
      "ncm_agl\n"
     ]
    },
    {
     "name": "stderr",
     "output_type": "stream",
     "text": [
      "Q:\\UserTemp\\ubach\\AppData\\Local\\Temp\\4\\ipykernel_545184\\2175977912.py:71: UserWarning: Column names longer than 10 characters will be truncated when saved to ESRI Shapefile.\n",
      "  ncm_agl.to_file(file_path, driver='ESRI Shapefile')\n"
     ]
    },
    {
     "name": "stdout",
     "output_type": "stream",
     "text": [
      "exported ncm_agl\n",
      "union\n",
      "fillna\n"
     ]
    },
    {
     "name": "stderr",
     "output_type": "stream",
     "text": [
      "Q:\\UserTemp\\ubach\\AppData\\Local\\Temp\\4\\ipykernel_545184\\2175977912.py:83: UserWarning: Column names longer than 10 characters will be truncated when saved to ESRI Shapefile.\n",
      "  ncm_agl_city.to_file(file_path, driver='ESRI Shapefile')\n"
     ]
    },
    {
     "name": "stdout",
     "output_type": "stream",
     "text": [
      "exported ncm_agl\n",
      "   noisy                                           geometry\n",
      "0    1.0  MULTIPOLYGON (((3548296.533 2754075.343, 35482...\n",
      "1    0.0  MULTIPOLYGON (((3546542.224 2755834.601, 35465...\n",
      "FR036L2_ANGERS_UA2018_v013\n",
      "layers: A:\\Copernicus\\UrbanAtlas\\UrbanAtlas\\UA2018\\FR036L2_ANGERS_UA2018_v013\\Data\\FR036L2_ANGERS_UA2018_v013.gpkg\n",
      "loaded ua in urban city\n",
      "green_not_covered_by_ncm\n",
      "GQA\n",
      "GQA_pts\n",
      "str(processing_time)\n",
      "74\n",
      "2024-07-24 20:03:56.658405\n",
      "NL-GEOSTAT21_922-AG_NL_00_01-Agglomeration Alkmaar\n",
      "1 country for this urban centre\n",
      "ncm\n",
      "ncm_dis\n",
      "exported ncm_dis\n",
      "ncm_agl\n"
     ]
    },
    {
     "name": "stderr",
     "output_type": "stream",
     "text": [
      "Q:\\UserTemp\\ubach\\AppData\\Local\\Temp\\4\\ipykernel_545184\\2175977912.py:71: UserWarning: Column names longer than 10 characters will be truncated when saved to ESRI Shapefile.\n",
      "  ncm_agl.to_file(file_path, driver='ESRI Shapefile')\n"
     ]
    },
    {
     "name": "stdout",
     "output_type": "stream",
     "text": [
      "exported ncm_agl\n",
      "union\n",
      "fillna\n"
     ]
    },
    {
     "name": "stderr",
     "output_type": "stream",
     "text": [
      "Q:\\UserTemp\\ubach\\AppData\\Local\\Temp\\4\\ipykernel_545184\\2175977912.py:83: UserWarning: Column names longer than 10 characters will be truncated when saved to ESRI Shapefile.\n",
      "  ncm_agl_city.to_file(file_path, driver='ESRI Shapefile')\n"
     ]
    },
    {
     "name": "stdout",
     "output_type": "stream",
     "text": [
      "exported ncm_agl\n",
      "   noisy                                           geometry\n",
      "0    1.0  MULTIPOLYGON (((3967161.775 3280619.002, 39671...\n",
      "1    0.0  MULTIPOLYGON (((3974804.601 3290406.477, 39748...\n",
      "NL514L3_ALKMAAR_UA2018_v013\n",
      "layers: A:\\Copernicus\\UrbanAtlas\\UrbanAtlas\\UA2018\\NL514L3_ALKMAAR_UA2018_v013\\Data\\NL514L3_ALKMAAR_UA2018_v013.gpkg\n",
      "loaded ua in urban city\n",
      "green_not_covered_by_ncm\n",
      "GQA\n",
      "GQA_pts\n",
      "str(processing_time)\n",
      "75\n",
      "2024-07-24 20:09:08.923118\n",
      "NL-GEOSTAT21_199-AG_NL_00_11-Agglomeration Enschede\n",
      "1 country for this urban centre\n",
      "ncm\n",
      "ncm_dis\n",
      "exported ncm_dis\n",
      "ncm_agl\n"
     ]
    },
    {
     "name": "stderr",
     "output_type": "stream",
     "text": [
      "Q:\\UserTemp\\ubach\\AppData\\Local\\Temp\\4\\ipykernel_545184\\2175977912.py:71: UserWarning: Column names longer than 10 characters will be truncated when saved to ESRI Shapefile.\n",
      "  ncm_agl.to_file(file_path, driver='ESRI Shapefile')\n"
     ]
    },
    {
     "name": "stdout",
     "output_type": "stream",
     "text": [
      "exported ncm_agl\n",
      "union\n",
      "fillna\n"
     ]
    },
    {
     "name": "stderr",
     "output_type": "stream",
     "text": [
      "Q:\\UserTemp\\ubach\\AppData\\Local\\Temp\\4\\ipykernel_545184\\2175977912.py:83: UserWarning: Column names longer than 10 characters will be truncated when saved to ESRI Shapefile.\n",
      "  ncm_agl_city.to_file(file_path, driver='ESRI Shapefile')\n"
     ]
    },
    {
     "name": "stdout",
     "output_type": "stream",
     "text": [
      "exported ncm_agl\n",
      "   noisy                                           geometry\n",
      "0    1.0  MULTIPOLYGON (((4111389.147 3244503.957, 41113...\n",
      "1    0.0  MULTIPOLYGON (((4098355.036 3238663.795, 40983...\n",
      "NL008L3_ENSCHEDE_UA2018_v013\n",
      "layers: A:\\Copernicus\\UrbanAtlas\\UrbanAtlas\\UA2018\\NL008L3_ENSCHEDE_UA2018_v013\\Data\\NL008L3_ENSCHEDE_UA2018_v013.gpkg\n",
      "loaded ua in urban city\n",
      "green_not_covered_by_ncm\n",
      "GQA\n",
      "GQA_pts\n",
      "str(processing_time)\n",
      "76\n",
      "2024-07-24 20:09:42.845213\n",
      "NL-GEOSTAT21_203-AG_NL_00_05-Agglomeration Apeldoorn\n",
      "1 country for this urban centre\n",
      "ncm\n",
      "ncm_dis\n",
      "exported ncm_dis\n",
      "ncm_agl\n"
     ]
    },
    {
     "name": "stderr",
     "output_type": "stream",
     "text": [
      "Q:\\UserTemp\\ubach\\AppData\\Local\\Temp\\4\\ipykernel_545184\\2175977912.py:71: UserWarning: Column names longer than 10 characters will be truncated when saved to ESRI Shapefile.\n",
      "  ncm_agl.to_file(file_path, driver='ESRI Shapefile')\n"
     ]
    },
    {
     "name": "stdout",
     "output_type": "stream",
     "text": [
      "exported ncm_agl\n",
      "union\n",
      "fillna\n"
     ]
    },
    {
     "name": "stderr",
     "output_type": "stream",
     "text": [
      "Q:\\UserTemp\\ubach\\AppData\\Local\\Temp\\4\\ipykernel_545184\\2175977912.py:83: UserWarning: Column names longer than 10 characters will be truncated when saved to ESRI Shapefile.\n",
      "  ncm_agl_city.to_file(file_path, driver='ESRI Shapefile')\n"
     ]
    },
    {
     "name": "stdout",
     "output_type": "stream",
     "text": [
      "exported ncm_agl\n",
      "   noisy                                           geometry\n",
      "0    1.0  MULTIPOLYGON (((4033490.208 3247976.602, 40334...\n",
      "1    1.0  MULTIPOLYGON (((4051089.059 3238320.748, 40510...\n",
      "2    0.0  MULTIPOLYGON (((4051025.959 3238068.955, 40510...\n",
      "NL014L3_APELDOORN_UA2018_v013\n",
      "layers: A:\\Copernicus\\UrbanAtlas\\UrbanAtlas\\UA2018\\NL014L3_APELDOORN_UA2018_v013\\Data\\NL014L3_APELDOORN_UA2018_v013.gpkg\n",
      "loaded ua in urban city\n",
      "green_not_covered_by_ncm\n",
      "GQA\n",
      "GQA_pts\n",
      "str(processing_time)\n",
      "77\n",
      "2024-07-24 20:10:13.368277\n",
      "NL-GEOSTAT21_208-AG_NL_00_11-Agglomeration Enschede\n",
      "1 country for this urban centre\n",
      "ncm\n",
      "ncm_dis\n",
      "exported ncm_dis\n",
      "ncm_agl\n"
     ]
    },
    {
     "name": "stderr",
     "output_type": "stream",
     "text": [
      "Q:\\UserTemp\\ubach\\AppData\\Local\\Temp\\4\\ipykernel_545184\\2175977912.py:71: UserWarning: Column names longer than 10 characters will be truncated when saved to ESRI Shapefile.\n",
      "  ncm_agl.to_file(file_path, driver='ESRI Shapefile')\n"
     ]
    },
    {
     "name": "stdout",
     "output_type": "stream",
     "text": [
      "exported ncm_agl\n",
      "union\n",
      "fillna\n"
     ]
    },
    {
     "name": "stderr",
     "output_type": "stream",
     "text": [
      "Q:\\UserTemp\\ubach\\AppData\\Local\\Temp\\4\\ipykernel_545184\\2175977912.py:83: UserWarning: Column names longer than 10 characters will be truncated when saved to ESRI Shapefile.\n",
      "  ncm_agl_city.to_file(file_path, driver='ESRI Shapefile')\n"
     ]
    },
    {
     "name": "stdout",
     "output_type": "stream",
     "text": [
      "exported ncm_agl\n",
      "   noisy                                           geometry\n",
      "0    1.0  MULTIPOLYGON (((4111389.147 3244503.957, 41113...\n",
      "1    0.0  MULTIPOLYGON (((4098355.036 3238663.795, 40983...\n",
      "NL008L3_ENSCHEDE_UA2018_v013\n",
      "layers: A:\\Copernicus\\UrbanAtlas\\UrbanAtlas\\UA2018\\NL008L3_ENSCHEDE_UA2018_v013\\Data\\NL008L3_ENSCHEDE_UA2018_v013.gpkg\n",
      "loaded ua in urban city\n",
      "green_not_covered_by_ncm\n",
      "GQA\n",
      "GQA_pts\n",
      "str(processing_time)\n",
      "78\n",
      "2024-07-24 20:10:42.219364\n",
      "NL-GEOSTAT21_206-AG_NL_00_12-Agglomeration Gouda\n",
      "1 country for this urban centre\n",
      "ncm\n",
      "ncm_dis\n",
      "exported ncm_dis\n",
      "ncm_agl\n"
     ]
    },
    {
     "name": "stderr",
     "output_type": "stream",
     "text": [
      "Q:\\UserTemp\\ubach\\AppData\\Local\\Temp\\4\\ipykernel_545184\\2175977912.py:71: UserWarning: Column names longer than 10 characters will be truncated when saved to ESRI Shapefile.\n",
      "  ncm_agl.to_file(file_path, driver='ESRI Shapefile')\n"
     ]
    },
    {
     "name": "stdout",
     "output_type": "stream",
     "text": [
      "exported ncm_agl\n",
      "union\n",
      "fillna\n"
     ]
    },
    {
     "name": "stderr",
     "output_type": "stream",
     "text": [
      "Q:\\UserTemp\\ubach\\AppData\\Local\\Temp\\4\\ipykernel_545184\\2175977912.py:83: UserWarning: Column names longer than 10 characters will be truncated when saved to ESRI Shapefile.\n",
      "  ncm_agl_city.to_file(file_path, driver='ESRI Shapefile')\n"
     ]
    },
    {
     "name": "stdout",
     "output_type": "stream",
     "text": [
      "exported ncm_agl\n",
      "   noisy                                           geometry\n",
      "0    1.0  MULTIPOLYGON (((3949012.661 3238656.045, 39490...\n",
      "1    0.0  MULTIPOLYGON (((3962532.364 3237521.504, 39625...\n",
      "NL030L0_GOUDA_UA2018_v013\n",
      "layers: A:\\Copernicus\\UrbanAtlas\\UrbanAtlas\\UA2018\\NL030L0_GOUDA_UA2018_v013\\Data\\NL030L0_GOUDA_UA2018_v013.gpkg\n",
      "loaded ua in urban city\n"
     ]
    },
    {
     "name": "stderr",
     "output_type": "stream",
     "text": [
      "c:\\Users\\ubach\\.conda\\envs\\geospatial_ETC_DI_v4\\lib\\site-packages\\geopandas\\io\\file.py:545: UserWarning: You are attempting to write an empty DataFrame to file. For some drivers, this operation may fail.\n",
      "  _to_file_fiona(df, filename, driver, schema, crs, mode, **kwargs)\n",
      "c:\\Users\\ubach\\.conda\\envs\\geospatial_ETC_DI_v4\\lib\\site-packages\\geopandas\\io\\file.py:545: UserWarning: You are attempting to write an empty DataFrame to file. For some drivers, this operation may fail.\n",
      "  _to_file_fiona(df, filename, driver, schema, crs, mode, **kwargs)\n"
     ]
    },
    {
     "name": "stdout",
     "output_type": "stream",
     "text": [
      "Error NL-GEOSTAT21_206-AG_NL_00_12-Agglomeration Gouda\n",
      "79\n",
      "2024-07-24 20:11:46.055583\n",
      "NL-GEOSTAT21_221-AG_NL_00_09-Agglomeration Den Haag-Leiden\n",
      "1 country for this urban centre\n",
      "ncm\n",
      "ncm_dis\n",
      "exported ncm_dis\n",
      "ncm_agl\n"
     ]
    },
    {
     "name": "stderr",
     "output_type": "stream",
     "text": [
      "Q:\\UserTemp\\ubach\\AppData\\Local\\Temp\\4\\ipykernel_545184\\2175977912.py:71: UserWarning: Column names longer than 10 characters will be truncated when saved to ESRI Shapefile.\n",
      "  ncm_agl.to_file(file_path, driver='ESRI Shapefile')\n"
     ]
    },
    {
     "name": "stdout",
     "output_type": "stream",
     "text": [
      "exported ncm_agl\n",
      "union\n",
      "fillna\n"
     ]
    },
    {
     "name": "stderr",
     "output_type": "stream",
     "text": [
      "Q:\\UserTemp\\ubach\\AppData\\Local\\Temp\\4\\ipykernel_545184\\2175977912.py:83: UserWarning: Column names longer than 10 characters will be truncated when saved to ESRI Shapefile.\n",
      "  ncm_agl_city.to_file(file_path, driver='ESRI Shapefile')\n"
     ]
    },
    {
     "name": "stdout",
     "output_type": "stream",
     "text": [
      "exported ncm_agl\n",
      "   noisy                                           geometry\n",
      "0    1.0  MULTIPOLYGON (((3935903.776 3220914.973, 39359...\n",
      "1    1.0  MULTIPOLYGON (((3949311.992 3241839.721, 39493...\n",
      "2    0.0  MULTIPOLYGON (((3949266.608 3241731.867, 39492...\n",
      "NL507L3_LEIDEN_UA2018_v013\n",
      "layers: A:\\Copernicus\\UrbanAtlas\\UrbanAtlas\\UA2018\\NL507L3_LEIDEN_UA2018_v013\\Data\\NL507L3_LEIDEN_UA2018_v013.gpkg\n",
      "loaded ua in urban city\n"
     ]
    },
    {
     "name": "stderr",
     "output_type": "stream",
     "text": [
      "c:\\Users\\ubach\\.conda\\envs\\geospatial_ETC_DI_v4\\lib\\site-packages\\geopandas\\io\\file.py:545: UserWarning: You are attempting to write an empty DataFrame to file. For some drivers, this operation may fail.\n",
      "  _to_file_fiona(df, filename, driver, schema, crs, mode, **kwargs)\n",
      "c:\\Users\\ubach\\.conda\\envs\\geospatial_ETC_DI_v4\\lib\\site-packages\\geopandas\\io\\file.py:545: UserWarning: You are attempting to write an empty DataFrame to file. For some drivers, this operation may fail.\n",
      "  _to_file_fiona(df, filename, driver, schema, crs, mode, **kwargs)\n"
     ]
    },
    {
     "name": "stdout",
     "output_type": "stream",
     "text": [
      "Error NL-GEOSTAT21_221-AG_NL_00_09-Agglomeration Den Haag-Leiden\n",
      "80\n",
      "2024-07-24 20:14:17.492235\n",
      "NL-GEOSTAT21_168-AG_NL_00_01-Agglomeration Alkmaar\n",
      "1 country for this urban centre\n",
      "ncm\n",
      "ncm_dis\n",
      "exported ncm_dis\n",
      "ncm_agl\n"
     ]
    },
    {
     "name": "stderr",
     "output_type": "stream",
     "text": [
      "Q:\\UserTemp\\ubach\\AppData\\Local\\Temp\\4\\ipykernel_545184\\2175977912.py:71: UserWarning: Column names longer than 10 characters will be truncated when saved to ESRI Shapefile.\n",
      "  ncm_agl.to_file(file_path, driver='ESRI Shapefile')\n"
     ]
    },
    {
     "name": "stdout",
     "output_type": "stream",
     "text": [
      "exported ncm_agl\n",
      "union\n",
      "fillna\n"
     ]
    },
    {
     "name": "stderr",
     "output_type": "stream",
     "text": [
      "Q:\\UserTemp\\ubach\\AppData\\Local\\Temp\\4\\ipykernel_545184\\2175977912.py:83: UserWarning: Column names longer than 10 characters will be truncated when saved to ESRI Shapefile.\n",
      "  ncm_agl_city.to_file(file_path, driver='ESRI Shapefile')\n"
     ]
    },
    {
     "name": "stdout",
     "output_type": "stream",
     "text": [
      "exported ncm_agl\n",
      "   noisy                                           geometry\n",
      "0    1.0  MULTIPOLYGON (((3967161.775 3280619.002, 39671...\n",
      "1    0.0  MULTIPOLYGON (((3974804.601 3290406.477, 39748...\n",
      "NL514L3_ALKMAAR_UA2018_v013\n",
      "layers: A:\\Copernicus\\UrbanAtlas\\UrbanAtlas\\UA2018\\NL514L3_ALKMAAR_UA2018_v013\\Data\\NL514L3_ALKMAAR_UA2018_v013.gpkg\n",
      "loaded ua in urban city\n",
      "green_not_covered_by_ncm\n",
      "GQA\n",
      "GQA_pts\n",
      "str(processing_time)\n",
      "81\n",
      "2024-07-24 20:19:23.136977\n",
      "NL-GEOSTAT21_239-AG_NL_00_06-Agglomeration Arnhem\n",
      "1 country for this urban centre\n",
      "ncm\n",
      "ncm_dis\n",
      "exported ncm_dis\n",
      "ncm_agl\n"
     ]
    },
    {
     "name": "stderr",
     "output_type": "stream",
     "text": [
      "Q:\\UserTemp\\ubach\\AppData\\Local\\Temp\\4\\ipykernel_545184\\2175977912.py:71: UserWarning: Column names longer than 10 characters will be truncated when saved to ESRI Shapefile.\n",
      "  ncm_agl.to_file(file_path, driver='ESRI Shapefile')\n"
     ]
    },
    {
     "name": "stdout",
     "output_type": "stream",
     "text": [
      "exported ncm_agl\n",
      "union\n",
      "fillna\n"
     ]
    },
    {
     "name": "stderr",
     "output_type": "stream",
     "text": [
      "Q:\\UserTemp\\ubach\\AppData\\Local\\Temp\\4\\ipykernel_545184\\2175977912.py:83: UserWarning: Column names longer than 10 characters will be truncated when saved to ESRI Shapefile.\n",
      "  ncm_agl_city.to_file(file_path, driver='ESRI Shapefile')\n"
     ]
    },
    {
     "name": "stdout",
     "output_type": "stream",
     "text": [
      "exported ncm_agl\n",
      "   noisy                                           geometry\n",
      "0    1.0  MULTIPOLYGON (((4041846.217 3214258.701, 40418...\n",
      "1    1.0  MULTIPOLYGON (((4043359.935 3225203.953, 40433...\n",
      "2    0.0  MULTIPOLYGON (((4041520.815 3213277.724, 40415...\n",
      "NL009L3_ARNHEM_UA2018_v013\n",
      "layers: A:\\Copernicus\\UrbanAtlas\\UrbanAtlas\\UA2018\\NL009L3_ARNHEM_UA2018_v013\\Data\\NL009L3_ARNHEM_UA2018_v013.gpkg\n",
      "loaded ua in urban city\n"
     ]
    },
    {
     "name": "stderr",
     "output_type": "stream",
     "text": [
      "c:\\Users\\ubach\\.conda\\envs\\geospatial_ETC_DI_v4\\lib\\site-packages\\pygeos\\set_operations.py:129: RuntimeWarning: invalid value encountered in intersection\n",
      "  return lib.intersection(a, b, **kwargs)\n"
     ]
    },
    {
     "name": "stdout",
     "output_type": "stream",
     "text": [
      "green_not_covered_by_ncm\n",
      "GQA\n",
      "GQA_pts\n",
      "str(processing_time)\n",
      "82\n",
      "2024-07-24 20:20:02.408250\n",
      "NL-GEOSTAT21_256-AG_NL_00_17-Agglomeration Nijmegen\n",
      "1 country for this urban centre\n",
      "ncm\n",
      "ncm_dis\n",
      "exported ncm_dis\n",
      "ncm_agl\n"
     ]
    },
    {
     "name": "stderr",
     "output_type": "stream",
     "text": [
      "Q:\\UserTemp\\ubach\\AppData\\Local\\Temp\\4\\ipykernel_545184\\2175977912.py:71: UserWarning: Column names longer than 10 characters will be truncated when saved to ESRI Shapefile.\n",
      "  ncm_agl.to_file(file_path, driver='ESRI Shapefile')\n"
     ]
    },
    {
     "name": "stdout",
     "output_type": "stream",
     "text": [
      "exported ncm_agl\n",
      "union\n",
      "fillna\n"
     ]
    },
    {
     "name": "stderr",
     "output_type": "stream",
     "text": [
      "Q:\\UserTemp\\ubach\\AppData\\Local\\Temp\\4\\ipykernel_545184\\2175977912.py:83: UserWarning: Column names longer than 10 characters will be truncated when saved to ESRI Shapefile.\n",
      "  ncm_agl_city.to_file(file_path, driver='ESRI Shapefile')\n"
     ]
    },
    {
     "name": "stdout",
     "output_type": "stream",
     "text": [
      "exported ncm_agl\n",
      "   noisy                                           geometry\n",
      "0    1.0  MULTIPOLYGON (((4039047.468 3198967.737, 40390...\n",
      "1    1.0  MULTIPOLYGON (((4039034.845 3198991.969, 40390...\n",
      "2    0.0  MULTIPOLYGON (((4038378.998 3199269.002, 40383...\n",
      "NL013L3_NIJMEGEN_UA2018_v013\n",
      "layers: A:\\Copernicus\\UrbanAtlas\\UrbanAtlas\\UA2018\\NL013L3_NIJMEGEN_UA2018_v013\\Data\\NL013L3_NIJMEGEN_UA2018_v013.gpkg\n",
      "loaded ua in urban city\n",
      "green_not_covered_by_ncm\n",
      "GQA\n",
      "GQA_pts\n",
      "str(processing_time)\n",
      "83\n",
      "2024-07-24 20:20:24.595289\n",
      "NL-GEOSTAT21_220-AG_NL_00_12-Agglomeration Gouda\n",
      "1 country for this urban centre\n",
      "ncm\n",
      "ncm_dis\n",
      "exported ncm_dis\n",
      "ncm_agl\n"
     ]
    },
    {
     "name": "stderr",
     "output_type": "stream",
     "text": [
      "Q:\\UserTemp\\ubach\\AppData\\Local\\Temp\\4\\ipykernel_545184\\2175977912.py:71: UserWarning: Column names longer than 10 characters will be truncated when saved to ESRI Shapefile.\n",
      "  ncm_agl.to_file(file_path, driver='ESRI Shapefile')\n"
     ]
    },
    {
     "name": "stdout",
     "output_type": "stream",
     "text": [
      "exported ncm_agl\n",
      "union\n",
      "fillna\n"
     ]
    },
    {
     "name": "stderr",
     "output_type": "stream",
     "text": [
      "Q:\\UserTemp\\ubach\\AppData\\Local\\Temp\\4\\ipykernel_545184\\2175977912.py:83: UserWarning: Column names longer than 10 characters will be truncated when saved to ESRI Shapefile.\n",
      "  ncm_agl_city.to_file(file_path, driver='ESRI Shapefile')\n"
     ]
    },
    {
     "name": "stdout",
     "output_type": "stream",
     "text": [
      "exported ncm_agl\n",
      "   noisy                                           geometry\n",
      "0    1.0  MULTIPOLYGON (((3949012.661 3238656.045, 39490...\n",
      "1    0.0  MULTIPOLYGON (((3962532.364 3237521.504, 39625...\n",
      "NL030L0_GOUDA_UA2018_v013\n",
      "layers: A:\\Copernicus\\UrbanAtlas\\UrbanAtlas\\UA2018\\NL030L0_GOUDA_UA2018_v013\\Data\\NL030L0_GOUDA_UA2018_v013.gpkg\n",
      "loaded ua in urban city\n",
      "green_not_covered_by_ncm\n",
      "GQA\n",
      "GQA_pts\n",
      "str(processing_time)\n",
      "84\n",
      "2024-07-24 20:21:29.273415\n",
      "PL-GEOSTAT21_229-AG_PL_10_61-Lodz\n",
      "1 country for this urban centre\n",
      "ncm\n",
      "ncm_dis\n",
      "exported ncm_dis\n",
      "ncm_agl\n"
     ]
    },
    {
     "name": "stderr",
     "output_type": "stream",
     "text": [
      "Q:\\UserTemp\\ubach\\AppData\\Local\\Temp\\4\\ipykernel_545184\\2175977912.py:71: UserWarning: Column names longer than 10 characters will be truncated when saved to ESRI Shapefile.\n",
      "  ncm_agl.to_file(file_path, driver='ESRI Shapefile')\n"
     ]
    },
    {
     "name": "stdout",
     "output_type": "stream",
     "text": [
      "exported ncm_agl\n",
      "union\n",
      "fillna\n"
     ]
    },
    {
     "name": "stderr",
     "output_type": "stream",
     "text": [
      "Q:\\UserTemp\\ubach\\AppData\\Local\\Temp\\4\\ipykernel_545184\\2175977912.py:83: UserWarning: Column names longer than 10 characters will be truncated when saved to ESRI Shapefile.\n",
      "  ncm_agl_city.to_file(file_path, driver='ESRI Shapefile')\n"
     ]
    },
    {
     "name": "stdout",
     "output_type": "stream",
     "text": [
      "exported ncm_agl\n",
      "   noisy                                           geometry\n",
      "0    1.0  MULTIPOLYGON (((4972598.812 3236611.887, 49725...\n",
      "1    0.0  MULTIPOLYGON (((4983890.724 3226605.882, 49839...\n",
      "PL002L2_LODZ_UA2018_v013\n",
      "layers: A:\\Copernicus\\UrbanAtlas\\UrbanAtlas\\UA2018\\PL002L2_LODZ_UA2018_v013\\Data\\PL002L2_LODZ_UA2018_v013.gpkg\n",
      "loaded ua in urban city\n",
      "green_not_covered_by_ncm\n",
      "GQA\n",
      "GQA_pts\n",
      "str(processing_time)\n",
      "85\n",
      "2024-07-24 20:26:01.675952\n",
      "PL-GEOSTAT21_065-AG_PL_22_62-Gdynia\n",
      "1 country for this urban centre\n",
      "ncm\n",
      "ncm_dis\n",
      "exported ncm_dis\n",
      "ncm_agl\n"
     ]
    },
    {
     "name": "stderr",
     "output_type": "stream",
     "text": [
      "Q:\\UserTemp\\ubach\\AppData\\Local\\Temp\\4\\ipykernel_545184\\2175977912.py:71: UserWarning: Column names longer than 10 characters will be truncated when saved to ESRI Shapefile.\n",
      "  ncm_agl.to_file(file_path, driver='ESRI Shapefile')\n"
     ]
    },
    {
     "name": "stdout",
     "output_type": "stream",
     "text": [
      "exported ncm_agl\n"
     ]
    },
    {
     "name": "stderr",
     "output_type": "stream",
     "text": [
      "Q:\\UserTemp\\ubach\\AppData\\Local\\Temp\\4\\ipykernel_545184\\2175977912.py:75: UserWarning: `keep_geom_type=True` in overlay resulted in 563 dropped geometries of different geometry types than df1 has. Set `keep_geom_type=False` to retain all geometries\n",
      "  ncm_agl_city = gpd.overlay(ncm_agl, agl_city, how='union')\n",
      "Q:\\UserTemp\\ubach\\AppData\\Local\\Temp\\4\\ipykernel_545184\\2175977912.py:83: UserWarning: Column names longer than 10 characters will be truncated when saved to ESRI Shapefile.\n",
      "  ncm_agl_city.to_file(file_path, driver='ESRI Shapefile')\n"
     ]
    },
    {
     "name": "stdout",
     "output_type": "stream",
     "text": [
      "union\n",
      "fillna\n",
      "exported ncm_agl\n",
      "   noisy                                           geometry\n",
      "0    1.0  MULTIPOLYGON (((4867127.832 3514931.085, 48671...\n",
      "1    1.0  POLYGON ((4870194.048 3512599.983, 4870194.048...\n",
      "2    0.0  MULTIPOLYGON (((4873805.596 3521788.624, 48738...\n",
      "PL006L2_GDANSK_UA2018_v013\n",
      "layers: A:\\Copernicus\\UrbanAtlas\\UrbanAtlas\\UA2018\\PL006L2_GDANSK_UA2018_v013\\Data\\PL006L2_GDANSK_UA2018_v013.gpkg\n",
      "loaded ua in urban city\n",
      "green_not_covered_by_ncm\n",
      "GQA\n",
      "GQA_pts\n",
      "str(processing_time)\n",
      "86\n",
      "2024-07-24 20:26:42.134056\n",
      "PL-GEOSTAT21_070-AG_PL_28_61-Elblag\n",
      "1 country for this urban centre\n",
      "ncm\n",
      "ncm_dis\n",
      "exported ncm_dis\n",
      "ncm_agl\n"
     ]
    },
    {
     "name": "stderr",
     "output_type": "stream",
     "text": [
      "Q:\\UserTemp\\ubach\\AppData\\Local\\Temp\\4\\ipykernel_545184\\2175977912.py:71: UserWarning: Column names longer than 10 characters will be truncated when saved to ESRI Shapefile.\n",
      "  ncm_agl.to_file(file_path, driver='ESRI Shapefile')\n"
     ]
    },
    {
     "name": "stdout",
     "output_type": "stream",
     "text": [
      "exported ncm_agl\n",
      "union\n",
      "fillna\n"
     ]
    },
    {
     "name": "stderr",
     "output_type": "stream",
     "text": [
      "Q:\\UserTemp\\ubach\\AppData\\Local\\Temp\\4\\ipykernel_545184\\2175977912.py:83: UserWarning: Column names longer than 10 characters will be truncated when saved to ESRI Shapefile.\n",
      "  ncm_agl_city.to_file(file_path, driver='ESRI Shapefile')\n"
     ]
    },
    {
     "name": "stdout",
     "output_type": "stream",
     "text": [
      "exported ncm_agl\n",
      "   noisy                                           geometry\n",
      "0    1.0  MULTIPOLYGON (((4931502.167 3488685.215, 49314...\n",
      "1    1.0  MULTIPOLYGON (((4939854.552 3492359.579, 49398...\n",
      "2    0.0  MULTIPOLYGON (((4938988.827 3495968.759, 49390...\n",
      "PL512L2_ELBLAG_UA2018_v013\n",
      "layers: A:\\Copernicus\\UrbanAtlas\\UrbanAtlas\\UA2018\\PL512L2_ELBLAG_UA2018_v013\\Data\\PL512L2_ELBLAG_UA2018_v013.gpkg\n",
      "loaded ua in urban city\n",
      "green_not_covered_by_ncm\n",
      "GQA\n",
      "GQA_pts\n",
      "str(processing_time)\n",
      "87\n",
      "2024-07-24 20:26:57.103068\n",
      "PL-GEOSTAT21_090-AG_PL_28_62-Olsztyn\n",
      "1 country for this urban centre\n",
      "ncm\n",
      "ncm_dis\n",
      "exported ncm_dis\n",
      "ncm_agl\n"
     ]
    },
    {
     "name": "stderr",
     "output_type": "stream",
     "text": [
      "Q:\\UserTemp\\ubach\\AppData\\Local\\Temp\\4\\ipykernel_545184\\2175977912.py:71: UserWarning: Column names longer than 10 characters will be truncated when saved to ESRI Shapefile.\n",
      "  ncm_agl.to_file(file_path, driver='ESRI Shapefile')\n"
     ]
    },
    {
     "name": "stdout",
     "output_type": "stream",
     "text": [
      "exported ncm_agl\n",
      "union\n",
      "fillna\n"
     ]
    },
    {
     "name": "stderr",
     "output_type": "stream",
     "text": [
      "Q:\\UserTemp\\ubach\\AppData\\Local\\Temp\\4\\ipykernel_545184\\2175977912.py:83: UserWarning: Column names longer than 10 characters will be truncated when saved to ESRI Shapefile.\n",
      "  ncm_agl_city.to_file(file_path, driver='ESRI Shapefile')\n"
     ]
    },
    {
     "name": "stdout",
     "output_type": "stream",
     "text": [
      "exported ncm_agl\n",
      "   noisy                                           geometry\n",
      "0    1.0  MULTIPOLYGON (((5003013.482 3458425.869, 50030...\n",
      "1    1.0  MULTIPOLYGON (((5014168.411 3458100.975, 50141...\n",
      "2    0.0  MULTIPOLYGON (((5002707.255 3460323.641, 50026...\n",
      "PL014L2_OLSZTYN_UA2018_v013\n",
      "layers: A:\\Copernicus\\UrbanAtlas\\UrbanAtlas\\UA2018\\PL014L2_OLSZTYN_UA2018_v013\\Data\\PL014L2_OLSZTYN_UA2018_v013.gpkg\n",
      "loaded ua in urban city\n"
     ]
    },
    {
     "name": "stderr",
     "output_type": "stream",
     "text": [
      "c:\\Users\\ubach\\.conda\\envs\\geospatial_ETC_DI_v4\\lib\\site-packages\\pygeos\\set_operations.py:129: RuntimeWarning: invalid value encountered in intersection\n",
      "  return lib.intersection(a, b, **kwargs)\n"
     ]
    },
    {
     "name": "stdout",
     "output_type": "stream",
     "text": [
      "green_not_covered_by_ncm\n",
      "GQA\n",
      "GQA_pts\n",
      "str(processing_time)\n",
      "88\n",
      "2024-07-24 20:27:17.392127\n",
      "PL-GEOSTAT21_109-AG_PL_20_61-Bialystok\n",
      "1 country for this urban centre\n",
      "ncm\n",
      "ncm_dis\n",
      "exported ncm_dis\n",
      "ncm_agl\n"
     ]
    },
    {
     "name": "stderr",
     "output_type": "stream",
     "text": [
      "Q:\\UserTemp\\ubach\\AppData\\Local\\Temp\\4\\ipykernel_545184\\2175977912.py:71: UserWarning: Column names longer than 10 characters will be truncated when saved to ESRI Shapefile.\n",
      "  ncm_agl.to_file(file_path, driver='ESRI Shapefile')\n"
     ]
    },
    {
     "name": "stdout",
     "output_type": "stream",
     "text": [
      "exported ncm_agl\n",
      "union\n",
      "fillna\n"
     ]
    },
    {
     "name": "stderr",
     "output_type": "stream",
     "text": [
      "Q:\\UserTemp\\ubach\\AppData\\Local\\Temp\\4\\ipykernel_545184\\2175977912.py:83: UserWarning: Column names longer than 10 characters will be truncated when saved to ESRI Shapefile.\n",
      "  ncm_agl_city.to_file(file_path, driver='ESRI Shapefile')\n"
     ]
    },
    {
     "name": "stdout",
     "output_type": "stream",
     "text": [
      "exported ncm_agl\n",
      "   noisy                                           geometry\n",
      "0    1.0  MULTIPOLYGON (((5194445.023 3420144.132, 51944...\n",
      "1    1.0  POLYGON ((5195497.434 3410247.109, 5195497.434...\n",
      "2    0.0  MULTIPOLYGON (((5201096.016 3409165.810, 52010...\n",
      "PL011L2_BIALYSTOK_UA2018_v013\n",
      "layers: A:\\Copernicus\\UrbanAtlas\\UrbanAtlas\\UA2018\\PL011L2_BIALYSTOK_UA2018_v013\\Data\\PL011L2_BIALYSTOK_UA2018_v013.gpkg\n",
      "loaded ua in urban city\n"
     ]
    },
    {
     "name": "stderr",
     "output_type": "stream",
     "text": [
      "c:\\Users\\ubach\\.conda\\envs\\geospatial_ETC_DI_v4\\lib\\site-packages\\pygeos\\set_operations.py:129: RuntimeWarning: invalid value encountered in intersection\n",
      "  return lib.intersection(a, b, **kwargs)\n"
     ]
    },
    {
     "name": "stdout",
     "output_type": "stream",
     "text": [
      "green_not_covered_by_ncm\n",
      "GQA\n",
      "GQA_pts\n",
      "str(processing_time)\n",
      "89\n",
      "2024-07-24 20:27:45.128183\n",
      "PL-GEOSTAT21_178-AG_PL_30_64-Poznan\n",
      "1 country for this urban centre\n",
      "ncm\n",
      "ncm_dis\n",
      "exported ncm_dis\n",
      "ncm_agl\n"
     ]
    },
    {
     "name": "stderr",
     "output_type": "stream",
     "text": [
      "Q:\\UserTemp\\ubach\\AppData\\Local\\Temp\\4\\ipykernel_545184\\2175977912.py:71: UserWarning: Column names longer than 10 characters will be truncated when saved to ESRI Shapefile.\n",
      "  ncm_agl.to_file(file_path, driver='ESRI Shapefile')\n"
     ]
    },
    {
     "name": "stdout",
     "output_type": "stream",
     "text": [
      "exported ncm_agl\n",
      "union\n",
      "fillna\n"
     ]
    },
    {
     "name": "stderr",
     "output_type": "stream",
     "text": [
      "Q:\\UserTemp\\ubach\\AppData\\Local\\Temp\\4\\ipykernel_545184\\2175977912.py:83: UserWarning: Column names longer than 10 characters will be truncated when saved to ESRI Shapefile.\n",
      "  ncm_agl_city.to_file(file_path, driver='ESRI Shapefile')\n"
     ]
    },
    {
     "name": "stdout",
     "output_type": "stream",
     "text": [
      "exported ncm_agl\n",
      "   noisy                                           geometry\n",
      "0    1.0  MULTIPOLYGON (((4791489.168 3288198.154, 47914...\n",
      "1    1.0  MULTIPOLYGON (((4800803.727 3272071.484, 48008...\n",
      "2    0.0  MULTIPOLYGON (((4799608.671 3278571.361, 47996...\n",
      "PL005L2_POZNAN_UA2018_v013\n",
      "\n",
      "Error PL-GEOSTAT21_178-AG_PL_30_64-Poznan\n",
      "90\n",
      "2024-07-24 20:27:59.034393\n",
      "PL-GEOSTAT21_120-AG_PL_32_62-Szczecin\n",
      "1 country for this urban centre\n",
      "ncm\n",
      "ncm_dis\n",
      "exported ncm_dis\n",
      "ncm_agl\n"
     ]
    },
    {
     "name": "stderr",
     "output_type": "stream",
     "text": [
      "Q:\\UserTemp\\ubach\\AppData\\Local\\Temp\\4\\ipykernel_545184\\2175977912.py:71: UserWarning: Column names longer than 10 characters will be truncated when saved to ESRI Shapefile.\n",
      "  ncm_agl.to_file(file_path, driver='ESRI Shapefile')\n"
     ]
    },
    {
     "name": "stdout",
     "output_type": "stream",
     "text": [
      "exported ncm_agl\n",
      "union\n",
      "fillna\n"
     ]
    },
    {
     "name": "stderr",
     "output_type": "stream",
     "text": [
      "Q:\\UserTemp\\ubach\\AppData\\Local\\Temp\\4\\ipykernel_545184\\2175977912.py:83: UserWarning: Column names longer than 10 characters will be truncated when saved to ESRI Shapefile.\n",
      "  ncm_agl_city.to_file(file_path, driver='ESRI Shapefile')\n"
     ]
    },
    {
     "name": "stdout",
     "output_type": "stream",
     "text": [
      "exported ncm_agl\n",
      "   noisy                                           geometry\n",
      "0    1.0  MULTIPOLYGON (((4638462.580 3368929.222, 46384...\n",
      "1    0.0  MULTIPOLYGON (((4637558.619 3371734.752, 46375...\n",
      "PL007L2_SZCZECIN_UA2018_v013\n",
      "layers: A:\\Copernicus\\UrbanAtlas\\UrbanAtlas\\UA2018\\PL007L2_SZCZECIN_UA2018_v013\\Data\\PL007L2_SZCZECIN_UA2018_v013.gpkg\n",
      "loaded ua in urban city\n",
      "green_not_covered_by_ncm\n",
      "GQA\n",
      "GQA_pts\n",
      "str(processing_time)\n",
      "91\n",
      "2024-07-24 20:31:11.293035\n",
      "PL-GEOSTAT21_122-AG_PL_04_61-Bydgoszcz\n",
      "1 country for this urban centre\n",
      "ncm\n",
      "ncm_dis\n",
      "exported ncm_dis\n",
      "ncm_agl\n"
     ]
    },
    {
     "name": "stderr",
     "output_type": "stream",
     "text": [
      "Q:\\UserTemp\\ubach\\AppData\\Local\\Temp\\4\\ipykernel_545184\\2175977912.py:71: UserWarning: Column names longer than 10 characters will be truncated when saved to ESRI Shapefile.\n",
      "  ncm_agl.to_file(file_path, driver='ESRI Shapefile')\n"
     ]
    },
    {
     "name": "stdout",
     "output_type": "stream",
     "text": [
      "exported ncm_agl\n",
      "union\n",
      "fillna\n"
     ]
    },
    {
     "name": "stderr",
     "output_type": "stream",
     "text": [
      "Q:\\UserTemp\\ubach\\AppData\\Local\\Temp\\4\\ipykernel_545184\\2175977912.py:83: UserWarning: Column names longer than 10 characters will be truncated when saved to ESRI Shapefile.\n",
      "  ncm_agl_city.to_file(file_path, driver='ESRI Shapefile')\n"
     ]
    },
    {
     "name": "stdout",
     "output_type": "stream",
     "text": [
      "exported ncm_agl\n",
      "   noisy                                           geometry\n",
      "0    1.0  MULTIPOLYGON (((4865989.845 3371990.934, 48659...\n",
      "1    0.0  MULTIPOLYGON (((4866256.612 3372510.642, 48663...\n",
      "PL008L2_BYDGOSZCZ_UA2018_v013\n",
      "layers: A:\\Copernicus\\UrbanAtlas\\UrbanAtlas\\UA2018\\PL008L2_BYDGOSZCZ_UA2018_v013\\Data\\PL008L2_BYDGOSZCZ_UA2018_v013.gpkg\n",
      "loaded ua in urban city\n",
      "green_not_covered_by_ncm\n",
      "GQA\n",
      "GQA_pts\n",
      "str(processing_time)\n",
      "92\n",
      "2024-07-24 20:31:35.473074\n",
      "PL-GEOSTAT21_128-AG_PL_04_61-Bydgoszcz\n",
      "1 country for this urban centre\n",
      "ncm\n",
      "ncm_dis\n",
      "exported ncm_dis\n",
      "ncm_agl\n"
     ]
    },
    {
     "name": "stderr",
     "output_type": "stream",
     "text": [
      "Q:\\UserTemp\\ubach\\AppData\\Local\\Temp\\4\\ipykernel_545184\\2175977912.py:71: UserWarning: Column names longer than 10 characters will be truncated when saved to ESRI Shapefile.\n",
      "  ncm_agl.to_file(file_path, driver='ESRI Shapefile')\n"
     ]
    },
    {
     "name": "stdout",
     "output_type": "stream",
     "text": [
      "exported ncm_agl\n",
      "union\n",
      "fillna\n"
     ]
    },
    {
     "name": "stderr",
     "output_type": "stream",
     "text": [
      "Q:\\UserTemp\\ubach\\AppData\\Local\\Temp\\4\\ipykernel_545184\\2175977912.py:83: UserWarning: Column names longer than 10 characters will be truncated when saved to ESRI Shapefile.\n",
      "  ncm_agl_city.to_file(file_path, driver='ESRI Shapefile')\n"
     ]
    },
    {
     "name": "stdout",
     "output_type": "stream",
     "text": [
      "exported ncm_agl\n",
      "   noisy                                           geometry\n",
      "0    1.0  MULTIPOLYGON (((4865989.845 3371990.934, 48659...\n",
      "1    0.0  MULTIPOLYGON (((4866256.612 3372510.642, 48663...\n",
      "PL008L2_BYDGOSZCZ_UA2018_v013\n",
      "layers: A:\\Copernicus\\UrbanAtlas\\UrbanAtlas\\UA2018\\PL008L2_BYDGOSZCZ_UA2018_v013\\Data\\PL008L2_BYDGOSZCZ_UA2018_v013.gpkg\n",
      "loaded ua in urban city\n",
      "green_not_covered_by_ncm\n",
      "GQA\n",
      "GQA_pts\n",
      "str(processing_time)\n",
      "93\n",
      "2024-07-24 20:32:04.309133\n",
      "PL-GEOSTAT21_131-AG_PL_04_63-Torun\n",
      "1 country for this urban centre\n",
      "ncm\n",
      "ncm_dis\n",
      "exported ncm_dis\n",
      "ncm_agl\n"
     ]
    },
    {
     "name": "stderr",
     "output_type": "stream",
     "text": [
      "Q:\\UserTemp\\ubach\\AppData\\Local\\Temp\\4\\ipykernel_545184\\2175977912.py:71: UserWarning: Column names longer than 10 characters will be truncated when saved to ESRI Shapefile.\n",
      "  ncm_agl.to_file(file_path, driver='ESRI Shapefile')\n"
     ]
    },
    {
     "name": "stdout",
     "output_type": "stream",
     "text": [
      "exported ncm_agl\n",
      "union\n",
      "fillna\n"
     ]
    },
    {
     "name": "stderr",
     "output_type": "stream",
     "text": [
      "Q:\\UserTemp\\ubach\\AppData\\Local\\Temp\\4\\ipykernel_545184\\2175977912.py:83: UserWarning: Column names longer than 10 characters will be truncated when saved to ESRI Shapefile.\n",
      "  ncm_agl_city.to_file(file_path, driver='ESRI Shapefile')\n"
     ]
    },
    {
     "name": "stdout",
     "output_type": "stream",
     "text": [
      "exported ncm_agl\n",
      "   noisy                                           geometry\n",
      "0    1.0  MULTIPOLYGON (((4904583.188 3360009.648, 49045...\n",
      "1    1.0  MULTIPOLYGON (((4905317.625 3358561.090, 49053...\n",
      "2    0.0  MULTIPOLYGON (((4897271.644 3361911.495, 48972...\n",
      "PL013L2_TORUN_UA2018_v013\n",
      "layers: A:\\Copernicus\\UrbanAtlas\\UrbanAtlas\\UA2018\\PL013L2_TORUN_UA2018_v013\\Data\\PL013L2_TORUN_UA2018_v013.gpkg\n",
      "loaded ua in urban city\n",
      "green_not_covered_by_ncm\n",
      "GQA\n",
      "GQA_pts\n",
      "str(processing_time)\n",
      "94\n",
      "2024-07-24 20:32:28.138396\n",
      "PL-GEOSTAT21_154-AG_PL_14_62-Płock\n",
      "1 country for this urban centre\n",
      "ncm\n",
      "ncm_dis\n",
      "exported ncm_dis\n",
      "ncm_agl\n"
     ]
    },
    {
     "name": "stderr",
     "output_type": "stream",
     "text": [
      "Q:\\UserTemp\\ubach\\AppData\\Local\\Temp\\4\\ipykernel_545184\\2175977912.py:71: UserWarning: Column names longer than 10 characters will be truncated when saved to ESRI Shapefile.\n",
      "  ncm_agl.to_file(file_path, driver='ESRI Shapefile')\n"
     ]
    },
    {
     "name": "stdout",
     "output_type": "stream",
     "text": [
      "exported ncm_agl\n",
      "union\n",
      "fillna\n"
     ]
    },
    {
     "name": "stderr",
     "output_type": "stream",
     "text": [
      "Q:\\UserTemp\\ubach\\AppData\\Local\\Temp\\4\\ipykernel_545184\\2175977912.py:83: UserWarning: Column names longer than 10 characters will be truncated when saved to ESRI Shapefile.\n",
      "  ncm_agl_city.to_file(file_path, driver='ESRI Shapefile')\n"
     ]
    },
    {
     "name": "stdout",
     "output_type": "stream",
     "text": [
      "exported ncm_agl\n",
      "   noisy                                           geometry\n",
      "0    1.0  MULTIPOLYGON (((4972836.945 3318967.665, 49728...\n",
      "1    1.0  MULTIPOLYGON (((4981620.949 3310842.772, 49816...\n",
      "2    0.0  MULTIPOLYGON (((4984155.903 3312906.435, 49841...\n",
      "PL026L2_PLOCK_UA2018_v013\n",
      "layers: A:\\Copernicus\\UrbanAtlas\\UrbanAtlas\\UA2018\\PL026L2_PLOCK_UA2018_v013\\Data\\PL026L2_PLOCK_UA2018_v013.gpkg\n",
      "loaded ua in urban city\n",
      "green_not_covered_by_ncm\n",
      "GQA\n",
      "GQA_pts\n",
      "str(processing_time)\n",
      "95\n",
      "2024-07-24 20:32:43.412428\n",
      "PL-GEOSTAT21_308-AG_PL_26_61-Kielce\n",
      "1 country for this urban centre\n",
      "ncm\n",
      "ncm_dis\n",
      "exported ncm_dis\n",
      "ncm_agl\n"
     ]
    },
    {
     "name": "stderr",
     "output_type": "stream",
     "text": [
      "Q:\\UserTemp\\ubach\\AppData\\Local\\Temp\\4\\ipykernel_545184\\2175977912.py:71: UserWarning: Column names longer than 10 characters will be truncated when saved to ESRI Shapefile.\n",
      "  ncm_agl.to_file(file_path, driver='ESRI Shapefile')\n"
     ]
    },
    {
     "name": "stdout",
     "output_type": "stream",
     "text": [
      "exported ncm_agl\n",
      "union\n",
      "fillna\n"
     ]
    },
    {
     "name": "stderr",
     "output_type": "stream",
     "text": [
      "Q:\\UserTemp\\ubach\\AppData\\Local\\Temp\\4\\ipykernel_545184\\2175977912.py:83: UserWarning: Column names longer than 10 characters will be truncated when saved to ESRI Shapefile.\n",
      "  ncm_agl_city.to_file(file_path, driver='ESRI Shapefile')\n"
     ]
    },
    {
     "name": "stdout",
     "output_type": "stream",
     "text": [
      "exported ncm_agl\n",
      "   noisy                                           geometry\n",
      "0    1.0  MULTIPOLYGON (((5071836.125 3138571.157, 50718...\n",
      "1    0.0  MULTIPOLYGON (((5069500.561 3134563.263, 50694...\n",
      "PL012L2_KIELCE_UA2018_v013\n",
      "\n",
      "Error PL-GEOSTAT21_308-AG_PL_26_61-Kielce\n",
      "96\n",
      "2024-07-24 20:32:49.634529\n",
      "PL-GEOSTAT21_384-AG_PL_24_77-Tychy\n",
      "1 country for this urban centre\n",
      "ncm\n",
      "ncm_dis\n",
      "exported ncm_dis\n",
      "ncm_agl\n"
     ]
    },
    {
     "name": "stderr",
     "output_type": "stream",
     "text": [
      "Q:\\UserTemp\\ubach\\AppData\\Local\\Temp\\4\\ipykernel_545184\\2175977912.py:71: UserWarning: Column names longer than 10 characters will be truncated when saved to ESRI Shapefile.\n",
      "  ncm_agl.to_file(file_path, driver='ESRI Shapefile')\n"
     ]
    },
    {
     "name": "stdout",
     "output_type": "stream",
     "text": [
      "exported ncm_agl\n"
     ]
    },
    {
     "name": "stderr",
     "output_type": "stream",
     "text": [
      "Q:\\UserTemp\\ubach\\AppData\\Local\\Temp\\4\\ipykernel_545184\\2175977912.py:75: UserWarning: `keep_geom_type=True` in overlay resulted in 69 dropped geometries of different geometry types than df1 has. Set `keep_geom_type=False` to retain all geometries\n",
      "  ncm_agl_city = gpd.overlay(ncm_agl, agl_city, how='union')\n",
      "Q:\\UserTemp\\ubach\\AppData\\Local\\Temp\\4\\ipykernel_545184\\2175977912.py:83: UserWarning: Column names longer than 10 characters will be truncated when saved to ESRI Shapefile.\n",
      "  ncm_agl_city.to_file(file_path, driver='ESRI Shapefile')\n"
     ]
    },
    {
     "name": "stdout",
     "output_type": "stream",
     "text": [
      "union\n",
      "fillna\n",
      "exported ncm_agl\n",
      "   noisy                                           geometry\n",
      "0    1.0  MULTIPOLYGON (((4963189.748 3038876.404, 49631...\n",
      "1    1.0  POLYGON ((4967403.240 3042689.648, 4967403.240...\n",
      "2    0.0  MULTIPOLYGON (((4968389.893 3039686.127, 49684...\n",
      "PL010L2_KATOWICE_UA2018_v013\n",
      "layers: A:\\Copernicus\\UrbanAtlas\\UrbanAtlas\\UA2018\\PL010L2_KATOWICE_UA2018_v013\\Data\\PL010L2_KATOWICE_UA2018_v013.gpkg\n",
      "loaded ua in urban city\n",
      "green_not_covered_by_ncm\n",
      "GQA\n",
      "GQA_pts\n",
      "str(processing_time)\n",
      "97\n",
      "2024-07-24 20:35:23.272840\n",
      "PL-GEOSTAT21_377-AG_PL_12_63-Tarnow\n",
      "1 country for this urban centre\n",
      "ncm\n",
      "ncm_dis\n",
      "exported ncm_dis\n",
      "ncm_agl\n"
     ]
    },
    {
     "name": "stderr",
     "output_type": "stream",
     "text": [
      "Q:\\UserTemp\\ubach\\AppData\\Local\\Temp\\4\\ipykernel_545184\\2175977912.py:71: UserWarning: Column names longer than 10 characters will be truncated when saved to ESRI Shapefile.\n",
      "  ncm_agl.to_file(file_path, driver='ESRI Shapefile')\n"
     ]
    },
    {
     "name": "stdout",
     "output_type": "stream",
     "text": [
      "exported ncm_agl\n",
      "union\n",
      "fillna\n"
     ]
    },
    {
     "name": "stderr",
     "output_type": "stream",
     "text": [
      "Q:\\UserTemp\\ubach\\AppData\\Local\\Temp\\4\\ipykernel_545184\\2175977912.py:83: UserWarning: Column names longer than 10 characters will be truncated when saved to ESRI Shapefile.\n",
      "  ncm_agl_city.to_file(file_path, driver='ESRI Shapefile')\n"
     ]
    },
    {
     "name": "stdout",
     "output_type": "stream",
     "text": [
      "exported ncm_agl\n",
      "   noisy                                           geometry\n",
      "0    1.0  MULTIPOLYGON (((5106169.250 3052942.275, 51061...\n",
      "1    0.0  MULTIPOLYGON (((5108838.803 3049600.383, 51088...\n",
      "PL514L2_TARNOW_UA2018_v013\n",
      "layers: A:\\Copernicus\\UrbanAtlas\\UrbanAtlas\\UA2018\\PL514L2_TARNOW_UA2018_v013\\Data\\PL514L2_TARNOW_UA2018_v013.gpkg\n",
      "loaded ua in urban city\n",
      "green_not_covered_by_ncm\n",
      "GQA\n",
      "GQA_pts\n",
      "str(processing_time)\n",
      "98\n",
      "2024-07-24 20:36:39.742214\n",
      "PL-GEOSTAT21_366-AG_PL_18_63-Rzeszow\n",
      "1 country for this urban centre\n",
      "ncm\n",
      "ncm_dis\n",
      "exported ncm_dis\n",
      "ncm_agl\n"
     ]
    },
    {
     "name": "stderr",
     "output_type": "stream",
     "text": [
      "Q:\\UserTemp\\ubach\\AppData\\Local\\Temp\\4\\ipykernel_545184\\2175977912.py:71: UserWarning: Column names longer than 10 characters will be truncated when saved to ESRI Shapefile.\n",
      "  ncm_agl.to_file(file_path, driver='ESRI Shapefile')\n"
     ]
    },
    {
     "name": "stdout",
     "output_type": "stream",
     "text": [
      "exported ncm_agl\n",
      "union\n",
      "fillna\n"
     ]
    },
    {
     "name": "stderr",
     "output_type": "stream",
     "text": [
      "Q:\\UserTemp\\ubach\\AppData\\Local\\Temp\\4\\ipykernel_545184\\2175977912.py:83: UserWarning: Column names longer than 10 characters will be truncated when saved to ESRI Shapefile.\n",
      "  ncm_agl_city.to_file(file_path, driver='ESRI Shapefile')\n"
     ]
    },
    {
     "name": "stdout",
     "output_type": "stream",
     "text": [
      "exported ncm_agl\n",
      "   noisy                                           geometry\n",
      "0    1.0  MULTIPOLYGON (((5174220.003 3067759.163, 51742...\n",
      "1    0.0  MULTIPOLYGON (((5180917.293 3065287.469, 51809...\n",
      "PL015L2_RZESZOW_UA2018_v013\n",
      "layers: A:\\Copernicus\\UrbanAtlas\\UrbanAtlas\\UA2018\\PL015L2_RZESZOW_UA2018_v013\\Data\\PL015L2_RZESZOW_UA2018_v013.gpkg\n",
      "loaded ua in urban city\n",
      "green_not_covered_by_ncm\n",
      "GQA\n",
      "GQA_pts\n",
      "str(processing_time)\n",
      "99\n",
      "2024-07-24 20:37:51.901389\n",
      "PL-GEOSTAT21_348-AG_PL_16_61-Opole\n",
      "1 country for this urban centre\n",
      "ncm\n",
      "ncm_dis\n",
      "exported ncm_dis\n",
      "ncm_agl\n"
     ]
    },
    {
     "name": "stderr",
     "output_type": "stream",
     "text": [
      "Q:\\UserTemp\\ubach\\AppData\\Local\\Temp\\4\\ipykernel_545184\\2175977912.py:71: UserWarning: Column names longer than 10 characters will be truncated when saved to ESRI Shapefile.\n",
      "  ncm_agl.to_file(file_path, driver='ESRI Shapefile')\n"
     ]
    },
    {
     "name": "stdout",
     "output_type": "stream",
     "text": [
      "exported ncm_agl\n",
      "union\n",
      "fillna\n"
     ]
    },
    {
     "name": "stderr",
     "output_type": "stream",
     "text": [
      "Q:\\UserTemp\\ubach\\AppData\\Local\\Temp\\4\\ipykernel_545184\\2175977912.py:83: UserWarning: Column names longer than 10 characters will be truncated when saved to ESRI Shapefile.\n",
      "  ncm_agl_city.to_file(file_path, driver='ESRI Shapefile')\n"
     ]
    },
    {
     "name": "stdout",
     "output_type": "stream",
     "text": [
      "exported ncm_agl\n",
      "   noisy                                           geometry\n",
      "0    1.0  MULTIPOLYGON (((4879418.995 3102937.134, 48794...\n",
      "1    0.0  MULTIPOLYGON (((4887373.568 3090854.449, 48873...\n",
      "PL016L2_OPOLE_UA2018_v013\n",
      "layers: A:\\Copernicus\\UrbanAtlas\\UrbanAtlas\\UA2018\\PL016L2_OPOLE_UA2018_v013\\Data\\PL016L2_OPOLE_UA2018_v013.gpkg\n",
      "loaded ua in urban city\n",
      "green_not_covered_by_ncm\n",
      "GQA\n",
      "GQA_pts\n",
      "str(processing_time)\n",
      "100\n",
      "2024-07-24 20:38:30.012461\n",
      "PL-GEOSTAT21_335-AG_PL_24_64-Czestochowa\n",
      "1 country for this urban centre\n",
      "ncm\n",
      "ncm_dis\n",
      "exported ncm_dis\n",
      "ncm_agl\n"
     ]
    },
    {
     "name": "stderr",
     "output_type": "stream",
     "text": [
      "Q:\\UserTemp\\ubach\\AppData\\Local\\Temp\\4\\ipykernel_545184\\2175977912.py:71: UserWarning: Column names longer than 10 characters will be truncated when saved to ESRI Shapefile.\n",
      "  ncm_agl.to_file(file_path, driver='ESRI Shapefile')\n"
     ]
    },
    {
     "name": "stdout",
     "output_type": "stream",
     "text": [
      "exported ncm_agl\n",
      "union\n",
      "fillna\n"
     ]
    },
    {
     "name": "stderr",
     "output_type": "stream",
     "text": [
      "Q:\\UserTemp\\ubach\\AppData\\Local\\Temp\\4\\ipykernel_545184\\2175977912.py:83: UserWarning: Column names longer than 10 characters will be truncated when saved to ESRI Shapefile.\n",
      "  ncm_agl_city.to_file(file_path, driver='ESRI Shapefile')\n"
     ]
    },
    {
     "name": "stdout",
     "output_type": "stream",
     "text": [
      "exported ncm_agl\n",
      "   noisy                                           geometry\n",
      "0    1.0  MULTIPOLYGON (((4964475.319 3125382.013, 49644...\n",
      "1    0.0  MULTIPOLYGON (((4967414.416 3120559.423, 49674...\n",
      "PL024L2_CZESTOCHOWA_UA2018_v013\n",
      "\n",
      "Error PL-GEOSTAT21_335-AG_PL_24_64-Czestochowa\n",
      "101\n",
      "2024-07-24 20:38:52.576503\n",
      "PL-GEOSTAT21_255-AG_PL_06_63-Lublin\n",
      "1 country for this urban centre\n",
      "ncm\n",
      "ncm_dis\n",
      "exported ncm_dis\n",
      "ncm_agl\n"
     ]
    },
    {
     "name": "stderr",
     "output_type": "stream",
     "text": [
      "Q:\\UserTemp\\ubach\\AppData\\Local\\Temp\\4\\ipykernel_545184\\2175977912.py:71: UserWarning: Column names longer than 10 characters will be truncated when saved to ESRI Shapefile.\n",
      "  ncm_agl.to_file(file_path, driver='ESRI Shapefile')\n"
     ]
    },
    {
     "name": "stdout",
     "output_type": "stream",
     "text": [
      "exported ncm_agl\n",
      "union\n",
      "fillna\n"
     ]
    },
    {
     "name": "stderr",
     "output_type": "stream",
     "text": [
      "Q:\\UserTemp\\ubach\\AppData\\Local\\Temp\\4\\ipykernel_545184\\2175977912.py:83: UserWarning: Column names longer than 10 characters will be truncated when saved to ESRI Shapefile.\n",
      "  ncm_agl_city.to_file(file_path, driver='ESRI Shapefile')\n"
     ]
    },
    {
     "name": "stdout",
     "output_type": "stream",
     "text": [
      "exported ncm_agl\n",
      "   noisy                                           geometry\n",
      "0    1.0  MULTIPOLYGON (((5193445.198 3205829.886, 51934...\n",
      "1    1.0  MULTIPOLYGON (((5199806.759 3200713.335, 51998...\n",
      "2    0.0  MULTIPOLYGON (((5188434.489 3203604.087, 51884...\n",
      "PL009L2_LUBLIN_UA2018_v013\n",
      "layers: A:\\Copernicus\\UrbanAtlas\\UrbanAtlas\\UA2018\\PL009L2_LUBLIN_UA2018_v013\\Data\\PL009L2_LUBLIN_UA2018_v013.gpkg\n",
      "loaded ua in urban city\n",
      "green_not_covered_by_ncm\n",
      "GQA\n",
      "GQA_pts\n",
      "str(processing_time)\n",
      "102\n",
      "2024-07-24 20:39:29.233542\n",
      "PL-GEOSTAT21_249-AG_PL_14_63-Radom\n",
      "1 country for this urban centre\n",
      "ncm\n",
      "ncm_dis\n",
      "exported ncm_dis\n",
      "ncm_agl\n"
     ]
    },
    {
     "name": "stderr",
     "output_type": "stream",
     "text": [
      "Q:\\UserTemp\\ubach\\AppData\\Local\\Temp\\4\\ipykernel_545184\\2175977912.py:71: UserWarning: Column names longer than 10 characters will be truncated when saved to ESRI Shapefile.\n",
      "  ncm_agl.to_file(file_path, driver='ESRI Shapefile')\n"
     ]
    },
    {
     "name": "stdout",
     "output_type": "stream",
     "text": [
      "exported ncm_agl\n",
      "union\n",
      "fillna\n"
     ]
    },
    {
     "name": "stderr",
     "output_type": "stream",
     "text": [
      "Q:\\UserTemp\\ubach\\AppData\\Local\\Temp\\4\\ipykernel_545184\\2175977912.py:83: UserWarning: Column names longer than 10 characters will be truncated when saved to ESRI Shapefile.\n",
      "  ncm_agl_city.to_file(file_path, driver='ESRI Shapefile')\n"
     ]
    },
    {
     "name": "stdout",
     "output_type": "stream",
     "text": [
      "exported ncm_agl\n",
      "   noisy                                           geometry\n",
      "0    1.0  MULTIPOLYGON (((5093883.879 3210282.992, 50938...\n",
      "1    0.0  MULTIPOLYGON (((5100241.531 3207015.487, 51002...\n",
      "PL025L2_RADOM_UA2018_v013\n",
      "layers: A:\\Copernicus\\UrbanAtlas\\UrbanAtlas\\UA2018\\PL025L2_RADOM_UA2018_v013\\Data\\PL025L2_RADOM_UA2018_v013.gpkg\n",
      "loaded ua in urban city\n",
      "green_not_covered_by_ncm\n",
      "GQA\n",
      "GQA_pts\n",
      "str(processing_time)\n",
      "103\n",
      "2024-07-24 20:40:30.734810\n",
      "PL-GEOSTAT21_161-AG_PL_08_61-Gorzow Wielkopolski\n",
      "1 country for this urban centre\n",
      "ncm\n",
      "ncm_dis\n",
      "exported ncm_dis\n",
      "ncm_agl\n"
     ]
    },
    {
     "name": "stderr",
     "output_type": "stream",
     "text": [
      "Q:\\UserTemp\\ubach\\AppData\\Local\\Temp\\4\\ipykernel_545184\\2175977912.py:71: UserWarning: Column names longer than 10 characters will be truncated when saved to ESRI Shapefile.\n",
      "  ncm_agl.to_file(file_path, driver='ESRI Shapefile')\n"
     ]
    },
    {
     "name": "stdout",
     "output_type": "stream",
     "text": [
      "exported ncm_agl\n",
      "union\n",
      "fillna\n"
     ]
    },
    {
     "name": "stderr",
     "output_type": "stream",
     "text": [
      "Q:\\UserTemp\\ubach\\AppData\\Local\\Temp\\4\\ipykernel_545184\\2175977912.py:83: UserWarning: Column names longer than 10 characters will be truncated when saved to ESRI Shapefile.\n",
      "  ncm_agl_city.to_file(file_path, driver='ESRI Shapefile')\n"
     ]
    },
    {
     "name": "stdout",
     "output_type": "stream",
     "text": [
      "exported ncm_agl\n",
      "   noisy                                           geometry\n",
      "0    1.0  MULTIPOLYGON (((4673766.485 3307657.504, 46737...\n",
      "1    0.0  MULTIPOLYGON (((4678425.109 3304301.462, 46784...\n",
      "PL017L2_GORZOW_WIELKOPOLSKI_UA2018_v013\n",
      "\n",
      "Error PL-GEOSTAT21_161-AG_PL_08_61-Gorzow Wielkopolski\n",
      "104\n",
      "2024-07-24 20:40:35.449790\n",
      "SE-GEOSTAT21_003-SE_a_ag2480-Umea\n",
      "1 country for this urban centre\n",
      "ncm\n",
      "ncm_dis\n",
      "exported ncm_dis\n",
      "ncm_agl\n"
     ]
    },
    {
     "name": "stderr",
     "output_type": "stream",
     "text": [
      "Q:\\UserTemp\\ubach\\AppData\\Local\\Temp\\4\\ipykernel_545184\\2175977912.py:71: UserWarning: Column names longer than 10 characters will be truncated when saved to ESRI Shapefile.\n",
      "  ncm_agl.to_file(file_path, driver='ESRI Shapefile')\n"
     ]
    },
    {
     "name": "stdout",
     "output_type": "stream",
     "text": [
      "exported ncm_agl\n",
      "union\n",
      "fillna\n"
     ]
    },
    {
     "name": "stderr",
     "output_type": "stream",
     "text": [
      "Q:\\UserTemp\\ubach\\AppData\\Local\\Temp\\4\\ipykernel_545184\\2175977912.py:83: UserWarning: Column names longer than 10 characters will be truncated when saved to ESRI Shapefile.\n",
      "  ncm_agl_city.to_file(file_path, driver='ESRI Shapefile')\n"
     ]
    },
    {
     "name": "stdout",
     "output_type": "stream",
     "text": [
      "exported ncm_agl\n",
      "   noisy                                           geometry\n",
      "0    1.0  MULTIPOLYGON (((4857085.343 4562681.361, 48570...\n",
      "1    0.0  MULTIPOLYGON (((4844136.154 4570350.657, 48445...\n",
      "SE005L1_UMEA_UA2018_v013\n",
      "layers: A:\\Copernicus\\UrbanAtlas\\UrbanAtlas\\UA2018\\SE005L1_UMEA_UA2018_v013\\Data\\SE005L1_UMEA_UA2018_v013.gpkg\n",
      "loaded ua in urban city\n"
     ]
    },
    {
     "name": "stderr",
     "output_type": "stream",
     "text": [
      "Q:\\UserTemp\\ubach\\AppData\\Local\\Temp\\4\\ipykernel_545184\\2175977912.py:116: UserWarning: `keep_geom_type=True` in overlay resulted in 1 dropped geometries of different geometry types than df1 has. Set `keep_geom_type=False` to retain all geometries\n",
      "  uagreen_urbc = gpd.overlay(uagreen, uc_city, how='intersection')\n"
     ]
    },
    {
     "name": "stdout",
     "output_type": "stream",
     "text": [
      "green_not_covered_by_ncm\n",
      "GQA\n",
      "GQA_pts\n",
      "str(processing_time)\n",
      "105\n",
      "2024-07-24 20:41:47.419253\n",
      "SE-GEOSTAT21_016-SE_a_ag1980-Vasteras\n",
      "1 country for this urban centre\n",
      "ncm\n",
      "ncm_dis\n",
      "exported ncm_dis\n",
      "ncm_agl\n"
     ]
    },
    {
     "name": "stderr",
     "output_type": "stream",
     "text": [
      "Q:\\UserTemp\\ubach\\AppData\\Local\\Temp\\4\\ipykernel_545184\\2175977912.py:71: UserWarning: Column names longer than 10 characters will be truncated when saved to ESRI Shapefile.\n",
      "  ncm_agl.to_file(file_path, driver='ESRI Shapefile')\n"
     ]
    },
    {
     "name": "stdout",
     "output_type": "stream",
     "text": [
      "exported ncm_agl\n",
      "union\n",
      "fillna\n"
     ]
    },
    {
     "name": "stderr",
     "output_type": "stream",
     "text": [
      "Q:\\UserTemp\\ubach\\AppData\\Local\\Temp\\4\\ipykernel_545184\\2175977912.py:83: UserWarning: Column names longer than 10 characters will be truncated when saved to ESRI Shapefile.\n",
      "  ncm_agl_city.to_file(file_path, driver='ESRI Shapefile')\n"
     ]
    },
    {
     "name": "stdout",
     "output_type": "stream",
     "text": [
      "exported ncm_agl\n",
      "   noisy                                           geometry\n",
      "0    1.0  MULTIPOLYGON (((4711207.034 4068459.634, 47112...\n",
      "1    0.0  MULTIPOLYGON (((4709644.793 4076300.158, 47100...\n",
      "SE501L1_VASTERAS_UA2018_v013\n",
      "layers: A:\\Copernicus\\UrbanAtlas\\UrbanAtlas\\UA2018\\SE501L1_VASTERAS_UA2018_v013\\Data\\SE501L1_VASTERAS_UA2018_v013.gpkg\n",
      "loaded ua in urban city\n",
      "green_not_covered_by_ncm\n",
      "GQA\n",
      "GQA_pts\n",
      "str(processing_time)\n",
      "106\n",
      "2024-07-24 20:55:22.637102\n",
      "SE-GEOSTAT21_026-SE_a_ag1490-Boras\n",
      "1 country for this urban centre\n",
      "ncm\n",
      "ncm_dis\n",
      "exported ncm_dis\n",
      "ncm_agl\n"
     ]
    },
    {
     "name": "stderr",
     "output_type": "stream",
     "text": [
      "Q:\\UserTemp\\ubach\\AppData\\Local\\Temp\\4\\ipykernel_545184\\2175977912.py:71: UserWarning: Column names longer than 10 characters will be truncated when saved to ESRI Shapefile.\n",
      "  ncm_agl.to_file(file_path, driver='ESRI Shapefile')\n"
     ]
    },
    {
     "name": "stdout",
     "output_type": "stream",
     "text": [
      "exported ncm_agl\n",
      "union\n",
      "fillna\n"
     ]
    },
    {
     "name": "stderr",
     "output_type": "stream",
     "text": [
      "Q:\\UserTemp\\ubach\\AppData\\Local\\Temp\\4\\ipykernel_545184\\2175977912.py:83: UserWarning: Column names longer than 10 characters will be truncated when saved to ESRI Shapefile.\n",
      "  ncm_agl_city.to_file(file_path, driver='ESRI Shapefile')\n"
     ]
    },
    {
     "name": "stdout",
     "output_type": "stream",
     "text": [
      "exported ncm_agl\n",
      "   noisy                                           geometry\n",
      "0    1.0  MULTIPOLYGON (((4484930.273 3858459.903, 44849...\n",
      "1    0.0  MULTIPOLYGON (((4514622.146 3847715.115, 45146...\n",
      "SE505L1_BORAS_UA2018_v013\n",
      "layers: A:\\Copernicus\\UrbanAtlas\\UrbanAtlas\\UA2018\\SE505L1_BORAS_UA2018_v013\\Data\\SE505L1_BORAS_UA2018_v013.gpkg\n",
      "loaded ua in urban city\n",
      "green_not_covered_by_ncm\n",
      "GQA\n",
      "GQA_pts\n",
      "str(processing_time)\n",
      "107\n",
      "2024-07-24 21:21:49.749403\n",
      "SE-GEOSTAT21_914-SE_a_ag0680-Jonkoping\n",
      "1 country for this urban centre\n",
      "ncm\n",
      "ncm_dis\n",
      "exported ncm_dis\n",
      "ncm_agl\n"
     ]
    },
    {
     "name": "stderr",
     "output_type": "stream",
     "text": [
      "Q:\\UserTemp\\ubach\\AppData\\Local\\Temp\\4\\ipykernel_545184\\2175977912.py:71: UserWarning: Column names longer than 10 characters will be truncated when saved to ESRI Shapefile.\n",
      "  ncm_agl.to_file(file_path, driver='ESRI Shapefile')\n"
     ]
    },
    {
     "name": "stdout",
     "output_type": "stream",
     "text": [
      "exported ncm_agl\n",
      "union\n",
      "fillna\n"
     ]
    },
    {
     "name": "stderr",
     "output_type": "stream",
     "text": [
      "Q:\\UserTemp\\ubach\\AppData\\Local\\Temp\\4\\ipykernel_545184\\2175977912.py:83: UserWarning: Column names longer than 10 characters will be truncated when saved to ESRI Shapefile.\n",
      "  ncm_agl_city.to_file(file_path, driver='ESRI Shapefile')\n"
     ]
    },
    {
     "name": "stdout",
     "output_type": "stream",
     "text": [
      "exported ncm_agl\n",
      "   noisy                                           geometry\n",
      "0    1.0  MULTIPOLYGON (((4598098.580 3859078.869, 45980...\n",
      "1    0.0  MULTIPOLYGON (((4588431.107 3869803.242, 45886...\n",
      "SE004L1_JONKOPING_UA2018_v013\n",
      "layers: A:\\Copernicus\\UrbanAtlas\\UrbanAtlas\\UA2018\\SE004L1_JONKOPING_UA2018_v013\\Data\\SE004L1_JONKOPING_UA2018_v013.gpkg\n",
      "loaded ua in urban city\n",
      "green_not_covered_by_ncm\n",
      "GQA\n",
      "GQA_pts\n",
      "str(processing_time)\n",
      "108\n",
      "2024-07-24 21:27:36.222485\n",
      "SE-GEOSTAT21_022-SE_a_ag1880-Orebro\n",
      "1 country for this urban centre\n",
      "ncm\n",
      "ncm_dis\n",
      "exported ncm_dis\n",
      "ncm_agl\n"
     ]
    },
    {
     "name": "stderr",
     "output_type": "stream",
     "text": [
      "Q:\\UserTemp\\ubach\\AppData\\Local\\Temp\\4\\ipykernel_545184\\2175977912.py:71: UserWarning: Column names longer than 10 characters will be truncated when saved to ESRI Shapefile.\n",
      "  ncm_agl.to_file(file_path, driver='ESRI Shapefile')\n"
     ]
    },
    {
     "name": "stdout",
     "output_type": "stream",
     "text": [
      "exported ncm_agl\n",
      "union\n",
      "fillna\n"
     ]
    },
    {
     "name": "stderr",
     "output_type": "stream",
     "text": [
      "Q:\\UserTemp\\ubach\\AppData\\Local\\Temp\\4\\ipykernel_545184\\2175977912.py:83: UserWarning: Column names longer than 10 characters will be truncated when saved to ESRI Shapefile.\n",
      "  ncm_agl_city.to_file(file_path, driver='ESRI Shapefile')\n"
     ]
    },
    {
     "name": "stdout",
     "output_type": "stream",
     "text": [
      "exported ncm_agl\n",
      "   noisy                                           geometry\n",
      "0    1.0  MULTIPOLYGON (((4613037.355 4054539.066, 46130...\n",
      "1    0.0  MULTIPOLYGON (((4642043.427 4038624.104, 46421...\n",
      "SE008L1_OREBRO_UA2018_v013\n",
      "layers: A:\\Copernicus\\UrbanAtlas\\UrbanAtlas\\UA2018\\SE008L1_OREBRO_UA2018_v013\\Data\\SE008L1_OREBRO_UA2018_v013.gpkg\n",
      "loaded ua in urban city\n",
      "green_not_covered_by_ncm\n",
      "GQA\n",
      "GQA_pts\n",
      "str(processing_time)\n",
      "[' -GEOSTAT21_094-AG_DE_MV_1-Rostock Topological error', 'CH-GEOSTAT21_531-AG_CH_00_11-Fribourg Topological error', 'CH-GEOSTAT21_523-AG_CH_00_13-Biel/Bienne Topological error', 'CH-GEOSTAT21_943-AG_CH_00_12-Zug Topological error', 'CH-GEOSTAT21_941-AG_CH_00_7-Baden - Brugg Topological error', 'DE-GEOSTAT21_237-AG_DE_NW_8-Bielefeld Topological error', 'DE-GEOSTAT21_457-AG_DE_BW_1-Stuttgart Topological error', 'DE-GEOSTAT21_327-AG_DE_NW_2-Duesseldorf Topological error', 'DE-GEOSTAT21_327-AG_DE_NW_21-Neuss Topological error', 'DE-GEOSTAT21_408-AG_DE_RP_2-Mainz Topological error', 'DE-GEOSTAT21_405-AG_DE_RP_2-Mainz Topological error', 'DE-GEOSTAT21_429-AG_DE_BY_7-Fuerth Topological error', 'DE-GEOSTAT21_429-AG_DE_BY_2-Nuremberg Topological error', 'DE-GEOSTAT21_200-AG_DE_NI_1-Hanover Topological error', 'DE-GEOSTAT21_454-AG_DE_BW_1-Stuttgart Topological error', 'ES-GEOSTAT21_652-AG_ES_21_20069-Donostia/San Sebastián Topological error', 'NL-GEOSTAT21_206-AG_NL_00_12-Agglomeration Gouda Topological error', 'NL-GEOSTAT21_221-AG_NL_00_09-Agglomeration Den Haag-Leiden Topological error', 'PL-GEOSTAT21_178-AG_PL_30_64-Poznan Topological error', 'PL-GEOSTAT21_308-AG_PL_26_61-Kielce Topological error', 'PL-GEOSTAT21_335-AG_PL_24_64-Czestochowa Topological error', 'PL-GEOSTAT21_161-AG_PL_08_61-Gorzow Wielkopolski Topological error']\n"
     ]
    }
   ],
   "source": [
    "counter= 1\n",
    "agl_error_ls = []\n",
    "\n",
    "# Loop through test cities\n",
    "for uc_city_code in cities_ls:\n",
    "    print(counter)\n",
    "    start_time = datetime.now()\n",
    "    print(str(start_time))\n",
    "    #urban centre boundary delineation\n",
    "    uc_city = uc_sel.query(f\"HDENS_CLST=='{uc_city_code}'\")\n",
    "\n",
    "    HDENS_AGGL_city = HDENS_AGGL_tbl.query(f\"HDENS_CLST=='{uc_city_code}'\")\n",
    "    agl_id_city_ls = HDENS_AGGL_city.agglomerationId_identifier.values.astype(str).tolist()\n",
    "    for agl_id in agl_id_city_ls:\n",
    "        HDENS_AGGL_city_aglid = HDENS_AGGL_tbl.query(f\"HDENS_CLST=='{uc_city_code}' & agglomerationId_identifier=='{agl_id}'\")\n",
    "        ctry_code = HDENS_AGGL_city_aglid.CNTR_CODE.values.astype(str)[0]\n",
    "        aglo_name = HDENS_AGGL_city_aglid.agglomerationName_nameEng.values.astype(str)[0]\n",
    "        city_agl_cd = f\"{ctry_code}-{uc_city_code}-{agl_id}-{aglo_name}\"\n",
    "        print(city_agl_cd)\n",
    "        if len(ctry_code.split('-'))>1:\n",
    "               print('>1 countries')\n",
    "               agl_error_ls.append(city_agl_cd + \" bordering countries\")\n",
    "        else:\n",
    "            print('1 country for this urban centre')      \n",
    "            # Load agglomeration boundary for selected city\n",
    "            agl_city = agls.query(f'agglomerationId_identifier == \"{agl_id}\"')\n",
    "            if agl_city.empty:\n",
    "                agglomerationId_identifier = 'NotAvailable'\n",
    "                print (\"agglomerationId_identifier Not Available\")\n",
    "                agl_error_ls.append(city_agl_cd + \" agglomerationId_identifier Not Available\")\n",
    "            else:\n",
    "                output_path = os.path.join(outdata_f, f'{city_agl_cd}_GQA_centroids.shp')\n",
    "                if not os.path.exists(output_path):\n",
    "                    try:\n",
    "                        # Check noise contour maps GeoPackage file\n",
    "                        ncm_file_path = os.path.join(indata_f, 'NoiseData', f'Noise_20202025_export.gpkg')\n",
    "                        layerName = f'dbo.DF48_agg_NoiseContours_roadsInAgglomeration_Lden_Valid_LatestDelivery_Poly_{ctry_code}'           \n",
    "                        #ncm_file_path = os.path.join(indata_f, 'NoiseData', f'Noise_20202025_export_{ctry_code}.gpkg')\n",
    "                        #layerName = f'dbo.DF48_agg_NoiseContours_roadsInAgglomeration_Lden_Valid_LatestDelivery_Poly_{ctry_code}'\n",
    "                        #layerName = f'dbodf48_agg_noisecontours_roadsinagglomeration_lden_valid_latestdelivery_poly_{ctry_code}'\n",
    "                        ncm = gpd.read_file(ncm_file_path, layer=layerName, columns=['category', 'geometry'], \n",
    "                                            engine='pyogrio', use_arrow=True, bbox= tuple(agl_city.total_bounds))\n",
    "                        print (\"ncm\")\n",
    "\n",
    "                        # Define the list of noisy classes\n",
    "                        noisy_classes = ['Lden5559', 'Lden6064', 'Lden6569', 'Lden7074', 'LdenGreaterThan75']\n",
    "\n",
    "                        # Create a condition based on the category column\n",
    "                        condition = ncm['category'].isin(noisy_classes)  # Replace 'category_column' with the actual column name\n",
    "\n",
    "                        # Specify the condition and create a new category column based on the condition\n",
    "                        ncm['noisy'] = 0\n",
    "                        ncm.loc[condition, 'noisy'] = 1\n",
    "                        ncm = ncm[['noisy', 'geometry']]\n",
    "                        ncm_dis_dg = dg.from_geopandas(ncm, npartitions=10)\n",
    "                        ncm_dis = ncm_dis_dg.dissolve(by='noisy').compute().reset_index()\n",
    "                        print (\"ncm_dis\")\n",
    "\n",
    "                        # Export to shapefile\n",
    "                        file_path = os.path.join(temp_f, f'{city_agl_cd}_ncm_dis.shp')                       \n",
    "                        ncm_dis.to_file(file_path, driver='ESRI Shapefile')\n",
    "                        print (\"exported ncm_dis\")\n",
    "                    \n",
    "\n",
    "                        # Perform spatial overlay (intersection) \n",
    "                        ncm_agl = gpd.overlay(ncm_dis, agl_city, how='intersection')\n",
    "                        print (\"ncm_agl\")\n",
    "\n",
    "                        # Export to shapefile\n",
    "                        file_path = os.path.join(temp_f, f'{city_agl_cd}_ncm_agl.shp')\n",
    "                        ncm_agl.to_file(file_path, driver='ESRI Shapefile')\n",
    "                        print (\"exported ncm_agl\")\n",
    "\n",
    "                        # Aggregate the area with lower band values (quieter bands)\n",
    "                        ncm_agl_city = gpd.overlay(ncm_agl, agl_city, how='union')\n",
    "                        print (\"union\")\n",
    "\n",
    "                        ncm_agl_city['noisy'] = ncm_agl_city.noisy.fillna(0)\n",
    "                        print (\"fillna\")\n",
    "\n",
    "                        # Export to shapefile\n",
    "                        file_path = os.path.join(temp_f, f'{city_agl_cd}_ncm_agl_city.shp')                       \n",
    "                        ncm_agl_city.to_file(file_path, driver='ESRI Shapefile')\n",
    "                        print (\"exported ncm_agl\")\n",
    "\n",
    "                        # Select a subset of columns of interest\n",
    "                        ncm_dis = ncm_agl_city[['noisy', 'geometry']]\n",
    "                        print(ncm_dis)\n",
    "                        \n",
    "\n",
    "                        # 3 READ UA DATA        \n",
    "                        # Load GeoPackage info\n",
    "                        data_f = r'A:\\Copernicus\\UrbanAtlas\\UrbanAtlas\\UA2018'\n",
    "                        city_codes = codes.query(f'HDENS_CLST == \"{uc_city_code}\"')\n",
    "                        ua_city_string = city_codes.UA2018.values.astype(str)[0]\n",
    "                        print(ua_city_string)\n",
    "                        folder_path = glob.glob(os.path.join(data_f, f'*{ua_city_string}*'))\n",
    "                        ua_file_path =  glob.glob(os.path.join(folder_path[0], 'Data', f'*{ua_city_string}*.gpkg'))\n",
    "                        layers_ls = fiona.listlayers(ua_file_path[0])\n",
    "                        if not layers_ls:\n",
    "                            agl_error_ls.append(city_agl_cd +\" ua not found\")\n",
    "                        else:    \n",
    "                            print (f\"layers: {ua_file_path[0]}\")\n",
    "\n",
    "                            # Read the GeoPackage file\n",
    "                            ua = gpd.read_file(ua_file_path[0], layer= layers_ls[0], \n",
    "                                            columns= ['country', 'fua_name', 'fua_code','code_2018', 'class_2018', 'geometry'], engine='pyogrio', \n",
    "                                            use_arrow=True, bbox= tuple(uc_city.total_bounds))\n",
    "                            print (\"loaded ua in urban city\")\n",
    "\n",
    "                            # Select 'green' classes\n",
    "                            uagreen = ua.query('code_2018 == \"14100\" or code_2018 == \"31000\"')\n",
    "                            \n",
    "                            # 4 SELECT UA INTERSECTING UC\n",
    "                            # Perform spatial overlay (intersection)\n",
    "                            uagreen_urbc = gpd.overlay(uagreen, uc_city, how='intersection')\n",
    "                            file_path = os.path.join(temp_f, f'{city_agl_cd}_uagreen_urbc.shp')\n",
    "                            uagreen_urbc.to_file(file_path, driver='ESRI Shapefile')\n",
    "\n",
    "                            # 5 IDENTIFY GREEN AREAS EXCLUDED (NOT COVERED BY NCM)\n",
    "                            # Perform spatial overlay (intersection)                          \n",
    "                            nqgreen = gpd.overlay(uagreen_urbc, ncm_dis, how='intersection') #noisy/quiet green\n",
    "                            file_path = os.path.join(temp_f, f'{city_agl_cd}_nqgreen.shp')\n",
    "                            nqgreen.to_file(file_path, driver='ESRI Shapefile')\n",
    "                            \n",
    "                            not_covered = uagreen_urbc.geometry.difference(uagreen_urbc.geometry.intersection(nqgreen.geometry.unary_union))\n",
    "                            file_path = os.path.join(temp_f, f'{city_agl_cd}_not_covered.shp')\n",
    "                            not_covered.to_file(file_path, driver='ESRI Shapefile')\n",
    "\n",
    "                            # Filter out empty polygons(not empty polygons)\n",
    "                            green_not_covered_by_ncm = not_covered[~not_covered.is_empty]\n",
    "\n",
    "                            # save to shapefile\n",
    "                            file_path = os.path.join(outdata_f, f'{city_agl_cd}_green_not_covered_by_ncm.shp')\n",
    "                            green_not_covered_by_ncm.to_file(file_path, driver='ESRI Shapefile')\n",
    "                            print (\"green_not_covered_by_ncm\")\n",
    "\n",
    "                            # 6 IDENTIFY QUIET/NOISY AREAS\n",
    "                            ## for statistics need to calculate area again\n",
    "                            # Calculate the area for each geometry and create a new column 'area'\n",
    "                            nqgreen['area_m2'] = nqgreen['geometry'].area\n",
    "                            nqgreen['area_ha'] = round(nqgreen['area_m2']* 0.0001,2)\n",
    "                            nqgreen['area_km2'] = round(nqgreen['area_ha']* 0.01,2)\n",
    "                            nqgreen_area = nqgreen.groupby(['code_2018', 'noisy'])['area_m2'].sum().reset_index()\n",
    "                            nqgreen_area['area_ha'] = round(nqgreen_area['area_m2']* 0.0001,2)\n",
    "                            nqgreen_area['area_km2'] = round(nqgreen_area['area_ha']* 0.01,2)\n",
    "\n",
    "                            # 7 EXPORT GREEN QUIET AREAS (GQA)\n",
    "                            nqgreen = nqgreen[['country', 'fua_name', 'fua_code', 'HDENS_2011', 'code_2018', 'class_2018', 'noisy',  'area_m2', 'area_ha', 'area_km2', 'geometry']]\n",
    "                            GQA = nqgreen.query('noisy == 0')\n",
    "                            GNA = nqgreen.query('noisy == 1')\n",
    "\n",
    "                            # Export to shapefile\n",
    "                            file_path = os.path.join(outdata_f, f'{city_agl_cd}_GQA.shp')\n",
    "                            GQA.to_file(file_path, driver='ESRI Shapefile')\n",
    "                            print (\"GQA\")\n",
    "\n",
    "                            # 8 CREATE CENTROIDS FOR GQA POLYGONS\n",
    "                            # Create a new GeoDataFrame with centroids as points\n",
    "                            GQA_pts = gpd.GeoDataFrame(geometry=GQA['geometry'].centroid)\n",
    "                            GQA_pts['oid'] = GQA.index\n",
    "                            GQA_pts['fua_name'] = GQA.fua_name\n",
    "                            GQA_pts['fua_code'] = GQA.fua_code\n",
    "                            GQA_pts['HDENS_2011'] = GQA.HDENS_2011\n",
    "\n",
    "                            # Export to shapefile\n",
    "                            file_path = os.path.join(outdata_f, f'{city_agl_cd}_GQA_centroids.shp')\n",
    "                            GQA_pts.to_file(file_path, driver='ESRI Shapefile')\n",
    "                            print (\"GQA_pts\")\n",
    "                    \n",
    "                            # Calculate the duration\n",
    "                            end_time = datetime.now()\n",
    "                            processing_time = end_time - start_time\n",
    "\n",
    "                            print (\"str(processing_time)\")\n",
    "                            \n",
    "                            ## write output values into log file\n",
    "                            uc_km2 = round(uc_city.area.sum()/1000000,2)\n",
    "                            agl_city_km2 = round(agl_city.area.sum()/1000000,2)\n",
    "                            ncm_agl_city_km2 = round(ncm_agl_city.area.sum()/1000000,2)\n",
    "                            ua_km2 = round(ua.area.sum()/1000000,2)\n",
    "                            uagreen_km2 = round(uagreen.area.sum()/1000000,2)\n",
    "                            uagreen_urbc_km2 = round(uagreen_urbc.area.sum()/1000000,2)\n",
    "                            nqgreen_m2 = round(nqgreen.area.sum(),2)\n",
    "                            green_not_covered_by_ncm_m2 = round(green_not_covered_by_ncm.area.sum(),2)\n",
    "                            GQA_m2 = round(GQA.area.sum(),2)\n",
    "                            GNA_m2 = round(GNA.area.sum(),2)\n",
    "                            processing_duration = str(processing_time)\n",
    "\n",
    "                            log_entry = create_log_entry(aglo_name, agl_id, uc_km2, agl_city_km2, \n",
    "                                                    ncm_agl_city_km2,ua_km2, uagreen_km2, uagreen_urbc_km2, nqgreen_m2, \n",
    "                                                    green_not_covered_by_ncm_m2, GQA_m2, GNA_m2, processing_time)\n",
    "                            write_log(log_path, log_entry)\n",
    "\n",
    "                            # Clean up intermediate variables to free memory\n",
    "                            del agl_city, ncm, ncm_agl, ncm_agl_city, ncm_dis, ua, uagreen, uagreen_urbc, nqgreen, green_not_covered_by_ncm, GQA, GNA, GQA_pts\n",
    "                    except:\n",
    "                        print(\"Error \" + city_agl_cd)\n",
    "                        agl_error_ls.append(city_agl_cd +\" Topological error\")\n",
    "        counter= counter+1\n",
    "\n",
    "print(agl_error_ls)"
   ]
  },
  {
   "cell_type": "code",
   "execution_count": 13,
   "metadata": {},
   "outputs": [
    {
     "data": {
      "text/plain": [
       "['BE-GEOSTAT21_364-AG_BE_WA_2-Liege Topological error',\n",
       " 'CH-DE-GEOSTAT21_510-AG_CH_00_5-Basel bordering countries',\n",
       " 'CH-FR-GEOSTAT21_549-AG_CH_00_10-Geneva bordering countries',\n",
       " 'CY-GEOSTAT21_843-AG_CY_00_1-Nicosia Topological error',\n",
       " 'CY-GEOSTAT21_845-AG_CY_00_4-Larnaca Topological error',\n",
       " 'CY-GEOSTAT21_856-AG_CY_00_5-Limassol Topological error',\n",
       " 'DE-GEOSTAT21_346-AG_DE_NW_24-Bergisch Gladbach Topological error',\n",
       " 'DE-GEOSTAT21_346-AG_DE_NW_1-Cologne Topological error',\n",
       " 'DE-GEOSTAT21_346-AG_DE_NW_18-Leverkusen Topological error',\n",
       " 'DE-GEOSTAT21_363-AG_DE_NW_9-Bonn Topological error',\n",
       " 'DE-GEOSTAT21_363-AG_DE_NW_1-Cologne Topological error',\n",
       " 'DE-GEOSTAT21_186-AG_DE_BE_1-Berlin Topological error',\n",
       " 'ES-GEOSTAT21_665-AG_ES_41_24089-León Topological error',\n",
       " 'ES-GEOSTAT21_657-AG_ES_11_36057-Vigo Topological error',\n",
       " 'ES-GEOSTAT21_650-AG_ES_21_48013-Barakaldo Topological error',\n",
       " 'ES-GEOSTAT21_650-AG_ES_21_48020-Bilbao Topological error',\n",
       " 'ES-GEOSTAT21_773-AG_ES_30_28006-Alcobendas Topological error',\n",
       " 'ES-GEOSTAT21_773-AG_ES_30_28058-Fuenlabrada Topological error',\n",
       " 'ES-GEOSTAT21_773-AG_ES_30_28065-Getafe Topological error',\n",
       " 'ES-GEOSTAT21_773-AG_ES_30_28074-Leganes Topological error',\n",
       " 'ES-GEOSTAT21_773-AG_ES_30_28079-Madrid Topological error',\n",
       " 'FI-GEOSTAT21_901-AG_FI_00_2-Espoo Topological error',\n",
       " 'FI-GEOSTAT21_901-AG_FI_00_1-Helsinki Topological error',\n",
       " 'FI-GEOSTAT21_901-AG_FI_00_4-Vantaa Topological error',\n",
       " 'FI-GEOSTAT21_002-AG_FI_00_6-Oulu Topological error',\n",
       " 'FR-GEOSTAT21_431-AG_FR_00_6-Brest Topological error',\n",
       " 'FR-GEOSTAT21_420-AG_FR_00_8-Caen Topological error',\n",
       " 'FR-GEOSTAT21_595-AG_FR_00_5-Bordeaux Topological error',\n",
       " 'IE-GEOSTAT21_095-AG_IE_00_3-Limerick Topological error',\n",
       " 'MT-GEOSTAT21_867-AG_MT_00_1-Malta Noise Agglomeration Topological error',\n",
       " 'NL-GEOSTAT21_190-AG_NL_00_04-Agglomeration Amsterdam-Haarlem Topological error',\n",
       " 'NL-GEOSTAT21_240-AG_NL_00_18-Agglomeration Rotterdam-Dordrecht Topological error',\n",
       " 'NL-GEOSTAT21_905-AG_NL_00_20-Agglomeration Utrecht Topological error',\n",
       " 'NL-GEOSTAT21_177-AG_NL_00_21-Agglomeration Zwolle Topological error',\n",
       " 'NO-GEOSTAT21_011-AG_NO_00_2-Bergen Topological error',\n",
       " 'NO-GEOSTAT21_023-AG_NO_00_4-Stavanger/Sandnes Topological error',\n",
       " 'PL-GEOSTAT21_318-AG_PL_02_64-Wroclaw Topological error',\n",
       " 'PL-GEOSTAT21_233-AG_PL_08_62-Zielona Gora Topological error']"
      ]
     },
     "execution_count": 13,
     "metadata": {},
     "output_type": "execute_result"
    }
   ],
   "source": [
    "agl_error_ls"
   ]
  },
  {
   "cell_type": "code",
   "execution_count": 14,
   "metadata": {},
   "outputs": [
    {
     "data": {
      "text/plain": [
       "38"
      ]
     },
     "execution_count": 14,
     "metadata": {},
     "output_type": "execute_result"
    }
   ],
   "source": [
    "len(agl_error_ls)"
   ]
  },
  {
   "cell_type": "code",
   "execution_count": 12,
   "metadata": {},
   "outputs": [
    {
     "data": {
      "text/plain": [
       "84.0"
      ]
     },
     "execution_count": 12,
     "metadata": {},
     "output_type": "execute_result"
    }
   ],
   "source": [
    "252/3"
   ]
  },
  {
   "cell_type": "code",
   "execution_count": 11,
   "metadata": {},
   "outputs": [
    {
     "name": "stdout",
     "output_type": "stream",
     "text": [
      "1\n",
      "2024-07-18 12:13:13.603661\n",
      "AT005L3_INNSBRUCK_UA2018_v013\n",
      "layers: A:\\Copernicus\\UrbanAtlas\\UrbanAtlas\\UA2018\\AT005L3_INNSBRUCK_UA2018_v013\\Data\\AT005L3_INNSBRUCK_UA2018_v013.gpkg\n",
      "loaded ua in urban city\n"
     ]
    }
   ],
   "source": [
    "counter= 1\n",
    "agl_error_ls = []\n",
    "\n",
    "\n",
    "# Loop through test cities\n",
    "for uc_city_code in cities_ls[1:2]:\n",
    "    print(counter)\n",
    "    start_time = datetime.now()\n",
    "    print(str(start_time))\n",
    "    uc_city = uc_sel.query(f\"HDENS_CLST=='{uc_city_code}'\")\n",
    "    HDENS_AGGL_city = HDENS_AGGL_tbl.query(f\"HDENS_CLST=='{uc_city_code}'\")\n",
    "    agl_id_city_ls = HDENS_AGGL_city.agglomerationId_identifier.values.astype(str).tolist()\n",
    "    for agl_id in agl_id_city_ls:\n",
    "        HDENS_AGGL_city_aglid = HDENS_AGGL_tbl.query(f\"HDENS_CLST=='{uc_city_code}' & agglomerationId_identifier=='{agl_id}'\")\n",
    "        ctry_code = HDENS_AGGL_city_aglid.CNTR_CODE.values.astype(str)[0]\n",
    "        aglo_name = HDENS_AGGL_city_aglid.agglomerationName_nameEng.values.astype(str)[0]\n",
    "        city_agl_cd = f\"{ctry_code}-{uc_city_code}-{agl_id}-{aglo_name}\"\n",
    "\n",
    "\n",
    "        # 3 READ UA DATA        \n",
    "        # Load GeoPackage info\n",
    "        data_f = r'A:\\Copernicus\\UrbanAtlas\\UrbanAtlas\\UA2018'\n",
    "        city_codes = codes.query(f'HDENS_CLST == \"{uc_city_code}\"')\n",
    "        ua_city_string = city_codes.UA2018.values.astype(str)[0]\n",
    "        print(ua_city_string)\n",
    "        folder_path = glob.glob(os.path.join(data_f, f'*{ua_city_string}*'))\n",
    "        ua_file_path =  glob.glob(os.path.join(folder_path[0], 'Data', f'*{ua_city_string}*.gpkg'))\n",
    "        layers_ls = fiona.listlayers(ua_file_path[0])\n",
    "        if not layers_ls:\n",
    "            agl_error_ls.append(city_agl_cd +\" ua not found\")\n",
    "        else:    \n",
    "            print (f\"layers: {ua_file_path[0]}\")\n",
    "            # Read the GeoPackage file\n",
    "            ua = gpd.read_file(ua_file_path[0], layer= layers_ls[0], \n",
    "                            columns= ['country', 'fua_name', 'fua_code','code_2018', 'class_2018', 'geometry'], engine='pyogrio', \n",
    "                            use_arrow=True, bbox= tuple(uc_city.total_bounds))\n",
    "            print (\"loaded ua in urban city\")\n",
    "\n",
    "            # Select 'green' classes\n",
    "            uagreen = ua.query('code_2018 == \"14100\" or code_2018 == \"31000\"')\n",
    "            \n",
    "            # 4 SELECT UA INTERSECTING UC\n",
    "            # Perform spatial overlay (intersection)\n",
    "            uagreen_urbc = gpd.overlay(uagreen, uc_city, how='intersection')\n",
    "            file_path = os.path.join(temp_f, f'{city_agl_cd}_uagreen_urbc.shp')\n",
    "            uagreen_urbc.to_file(file_path, driver='ESRI Shapefile')"
   ]
  },
  {
   "cell_type": "code",
   "execution_count": null,
   "metadata": {},
   "outputs": [],
   "source": []
  },
  {
   "cell_type": "markdown",
   "metadata": {},
   "source": [
    "## Update from 25th July"
   ]
  },
  {
   "cell_type": "code",
   "execution_count": 8,
   "metadata": {},
   "outputs": [
    {
     "data": {
      "text/plain": [
       "22"
      ]
     },
     "execution_count": 8,
     "metadata": {},
     "output_type": "execute_result"
    }
   ],
   "source": [
    "# from previous run\n",
    "len(agl_error_ls)"
   ]
  },
  {
   "cell_type": "code",
   "execution_count": 9,
   "metadata": {},
   "outputs": [],
   "source": [
    "uc_file_path = os.path.join(indata_f, 'UrbanCentres', 'HDC2021_RG_InputUpdateB1B2.shp')\n"
   ]
  },
  {
   "cell_type": "code",
   "execution_count": 10,
   "metadata": {},
   "outputs": [
    {
     "name": "stdout",
     "output_type": "stream",
     "text": [
      "1\n",
      "2024-07-25 19:17:16.679866\n",
      " -GEOSTAT21_094-AG_DE_MV_1-Rostock\n",
      "Error  -GEOSTAT21_094-AG_DE_MV_1-Rostock\n",
      "2\n",
      "2024-07-25 19:17:16.757862\n",
      "BE-GEOSTAT21_304-AG_BE_FL_3-Brugges\n",
      "3\n",
      "2024-07-25 19:17:16.788863\n",
      "CH-GEOSTAT21_531-AG_CH_00_11-Fribourg\n",
      "ncm loaded\n",
      "ncm_dis\n",
      "exported ncm_dis\n",
      "ncm_agl\n"
     ]
    },
    {
     "name": "stderr",
     "output_type": "stream",
     "text": [
      "Q:\\UserTemp\\ubach\\AppData\\Local\\Temp\\4\\ipykernel_545184\\366019969.py:78: UserWarning: Column names longer than 10 characters will be truncated when saved to ESRI Shapefile.\n",
      "  ncm_agl.to_file(file_path, driver='ESRI Shapefile')\n"
     ]
    },
    {
     "name": "stdout",
     "output_type": "stream",
     "text": [
      "exported ncm_agl\n",
      "union\n",
      "fillna\n"
     ]
    },
    {
     "name": "stderr",
     "output_type": "stream",
     "text": [
      "Q:\\UserTemp\\ubach\\AppData\\Local\\Temp\\4\\ipykernel_545184\\366019969.py:90: UserWarning: Column names longer than 10 characters will be truncated when saved to ESRI Shapefile.\n",
      "  ncm_agl_city.to_file(file_path, driver='ESRI Shapefile')\n"
     ]
    },
    {
     "name": "stdout",
     "output_type": "stream",
     "text": [
      "exported ncm_agl\n",
      "   noisy                                           geometry\n",
      "0    1.0  MULTIPOLYGON (((4107603.719 2628874.753, 41075...\n",
      "1    0.0  MULTIPOLYGON (((4102591.063 2636657.648, 41025...\n",
      "Urban Atlas not available for Fribourg\n",
      "4\n",
      "2024-07-25 19:18:06.458961\n",
      "CH-GEOSTAT21_523-AG_CH_00_13-Biel/Bienne\n",
      "ncm loaded\n",
      "ncm_dis\n",
      "Error CH-GEOSTAT21_523-AG_CH_00_13-Biel/Bienne\n",
      "5\n",
      "2024-07-25 19:18:10.564994\n",
      "CH-GEOSTAT21_943-AG_CH_00_12-Zug\n",
      "ncm loaded\n"
     ]
    }
   ],
   "source": [
    "counter= 1\n",
    "agl_error_ls = []\n",
    "\n",
    "\n",
    "# Loop through test cities\n",
    "for uc_city_code in cities_ls:\n",
    "    print(counter)\n",
    "    start_time = datetime.now()\n",
    "    print(str(start_time))\n",
    "    #urban centre boundary delineation\n",
    "    uc_city = uc_sel.query(f\"HDENS_CLST=='{uc_city_code}'\")\n",
    "\n",
    "    HDENS_AGGL_city = HDENS_AGGL_tbl.query(f\"HDENS_CLST=='{uc_city_code}'\")\n",
    "    agl_id_city_ls = HDENS_AGGL_city.agglomerationId_identifier.values.astype(str).tolist()\n",
    "    for agl_id in agl_id_city_ls:\n",
    "        HDENS_AGGL_city_aglid = HDENS_AGGL_tbl.query(f\"HDENS_CLST=='{uc_city_code}' & agglomerationId_identifier=='{agl_id}'\")\n",
    "        ctry_code = HDENS_AGGL_city_aglid.CNTR_CODE.values.astype(str)[0]\n",
    "   \n",
    "        if len(ctry_code.split('-'))>1:\n",
    "               print('>1 countries')\n",
    "               agl_error_ls.append(city_agl_cd + \" bordering countries\")\n",
    "               ctry_code = agl_id.split('_')[1]\n",
    "        \n",
    "        aglo_name = HDENS_AGGL_city_aglid.agglomerationName_nameEng.values.astype(str)[0]\n",
    "        city_agl_cd = f\"{ctry_code}-{uc_city_code}-{agl_id}-{aglo_name}\"\n",
    "        print(city_agl_cd)\n",
    "\n",
    "        # Load agglomeration boundary for selected city\n",
    "        agl_city = agls.query(f'agglomerationId_identifier == \"{agl_id}\"')\n",
    "        if agl_city.empty:\n",
    "            agglomerationId_identifier = 'NotAvailable'\n",
    "            print (\"agglomerationId_identifier Not Available\")\n",
    "            agl_error_ls.append(city_agl_cd + \" agglomerationId_identifier Not Available\")\n",
    "        else:\n",
    "            output_path = os.path.join(outdata_f, f'{city_agl_cd}_GQA_centroids.shp')\n",
    "            if not os.path.exists(output_path):\n",
    "                try:\n",
    "                    # Check noise contour maps GeoPackage file\n",
    "                    ncm_file_path = os.path.join(indata_f, 'NoiseData', f'Noise_20202025_export.gpkg')\n",
    "                    layerName = f'dbo.DF48_agg_NoiseContours_roadsInAgglomeration_Lden_Valid_LatestDelivery_Poly_{ctry_code}'           \n",
    "                    #ncm_file_path = os.path.join(indata_f, 'NoiseData', f'Noise_20202025_export_{ctry_code}.gpkg')\n",
    "                    #layerName = f'dbo.DF48_agg_NoiseContours_roadsInAgglomeration_Lden_Valid_LatestDelivery_Poly_{ctry_code}'\n",
    "                    #layerName = f'dbodf48_agg_noisecontours_roadsinagglomeration_lden_valid_latestdelivery_poly_{ctry_code}'\n",
    "                    ncm = gpd.read_file(ncm_file_path, layer=layerName, columns=['category', 'geometry'], \n",
    "                                        engine='pyogrio', use_arrow=True, bbox= tuple(agl_city.total_bounds))\n",
    "                    if ncm.empty:\n",
    "                        print('ncm not available')\n",
    "                        agl_error_ls.append(city_agl_cd +\": ncm not available\")\n",
    "                    else:\n",
    "                        print (\"ncm loaded\")\n",
    "\n",
    "                        # Define the list of noisy classes\n",
    "                        noisy_classes = ['Lden5559', 'Lden6064', 'Lden6569', 'Lden7074', 'LdenGreaterThan75']\n",
    "\n",
    "                        # Create a condition based on the category column\n",
    "                        condition = ncm['category'].isin(noisy_classes)  # Replace 'category_column' with the actual column name\n",
    "\n",
    "                        # Specify the condition and create a new category column based on the condition\n",
    "                        ncm['noisy'] = 0\n",
    "                        ncm.loc[condition, 'noisy'] = 1\n",
    "                        ncm = ncm[['noisy', 'geometry']]\n",
    "                        ncm_dis_dg = dg.from_geopandas(ncm, npartitions=10)\n",
    "                        ncm_dis = ncm_dis_dg.dissolve(by='noisy').compute().reset_index()\n",
    "                        print (\"ncm_dis\")\n",
    "\n",
    "                        # Export to shapefile\n",
    "                        file_path = os.path.join(temp_f, f'{city_agl_cd}_ncm_dis.shp')                       \n",
    "                        ncm_dis.to_file(file_path, driver='ESRI Shapefile')\n",
    "                        print (\"exported ncm_dis\")\n",
    "                    \n",
    "\n",
    "                        # Perform spatial overlay (intersection) \n",
    "                        ncm_agl = gpd.overlay(ncm_dis, agl_city, how='intersection')\n",
    "                        print (\"ncm_agl\")\n",
    "\n",
    "                        # Export to shapefile\n",
    "                        file_path = os.path.join(temp_f, f'{city_agl_cd}_ncm_agl.shp')\n",
    "                        ncm_agl.to_file(file_path, driver='ESRI Shapefile')\n",
    "                        print (\"exported ncm_agl\")\n",
    "\n",
    "                        # Aggregate the area with lower band values (quieter bands)\n",
    "                        ncm_agl_city = gpd.overlay(ncm_agl, agl_city, how='union')\n",
    "                        print (\"union\")\n",
    "\n",
    "                        ncm_agl_city['noisy'] = ncm_agl_city.noisy.fillna(0)\n",
    "                        print (\"fillna\")\n",
    "\n",
    "                        # Export to shapefile\n",
    "                        file_path = os.path.join(temp_f, f'{city_agl_cd}_ncm_agl_city.shp')                       \n",
    "                        ncm_agl_city.to_file(file_path, driver='ESRI Shapefile')\n",
    "                        print (\"exported ncm_agl\")\n",
    "\n",
    "                        # Select a subset of columns of interest\n",
    "                        ncm_dis = ncm_agl_city[['noisy', 'geometry']]\n",
    "                        print(ncm_dis)\n",
    "                        \n",
    "\n",
    "                        # 3 READ UA DATA        \n",
    "                        # Load GeoPackage info\n",
    "                        data_f = r'A:\\Copernicus\\UrbanAtlas\\UrbanAtlas\\UA2018'\n",
    "                        city_codes = codes.query(f'HDENS_CLST == \"{uc_city_code}\"')\n",
    "                        ua_city_string = city_codes.UA2018.values.astype(str)[0]\n",
    "                        if ua_city_string=='not available':\n",
    "                            print (f\"Urban Atlas not available for {aglo_name}\")\n",
    "                            agl_error_ls.append(city_agl_cd +\": Urban Atlas not available\")\n",
    "                        else:\n",
    "                            print(ua_city_string)\n",
    "                            folder_path = glob.glob(os.path.join(data_f, f'*{ua_city_string}*'))\n",
    "                            ua_file_path =  glob.glob(os.path.join(folder_path[0], 'Data', f'*{ua_city_string}*.gpkg'))\n",
    "                            print(ua_file_path)\n",
    "                            layers_ls = fiona.listlayers(ua_file_path[0])\n",
    "                            if not layers_ls:\n",
    "                                agl_error_ls.append(city_agl_cd +\" ua not found\")\n",
    "                            else:    \n",
    "                                print (f\"layers: {ua_file_path[0]}\")\n",
    "\n",
    "                                # Read the GeoPackage file\n",
    "                                ua = gpd.read_file(ua_file_path[0], layer= layers_ls[0], \n",
    "                                                columns= ['country', 'fua_name', 'fua_code','code_2018', 'class_2018', 'geometry'], engine='pyogrio', \n",
    "                                                use_arrow=True, bbox= tuple(uc_city.total_bounds))\n",
    "                                print (\"loaded ua in urban city\")\n",
    "\n",
    "                                # Select 'green' classes\n",
    "                                uagreen = ua.query('code_2018 == \"14100\" or code_2018 == \"31000\"')\n",
    "                                \n",
    "                                # 4 SELECT UA INTERSECTING UC\n",
    "                                # Perform spatial overlay (intersection)\n",
    "                                uagreen_urbc = gpd.overlay(uagreen, uc_city, how='intersection')\n",
    "                                file_path = os.path.join(temp_f, f'{city_agl_cd}_uagreen_urbc.shp')\n",
    "                                uagreen_urbc.to_file(file_path, driver='ESRI Shapefile')\n",
    "\n",
    "                                # 5 IDENTIFY GREEN AREAS EXCLUDED (NOT COVERED BY NCM)\n",
    "                                # Perform spatial overlay (intersection)                          \n",
    "                                nqgreen = gpd.overlay(uagreen_urbc, ncm_dis, how='intersection') #noisy/quiet green\n",
    "                                if not nqgreen.empty:\n",
    "                                    file_path = os.path.join(temp_f, f'{city_agl_cd}_nqgreen.shp')\n",
    "                                    nqgreen.to_file(file_path, driver='ESRI Shapefile')\n",
    "                                    \n",
    "                                    not_covered = uagreen_urbc.geometry.difference(uagreen_urbc.geometry.intersection(nqgreen.geometry.unary_union))\n",
    "                                    file_path = os.path.join(temp_f, f'{city_agl_cd}_not_covered.shp')\n",
    "                                    not_covered.to_file(file_path, driver='ESRI Shapefile')\n",
    "\n",
    "                                    # Filter out empty polygons(not empty polygons)\n",
    "                                    green_not_covered_by_ncm = not_covered[~not_covered.is_empty]\n",
    "\n",
    "                                    # save to shapefile\n",
    "                                    file_path = os.path.join(outdata_f, f'{city_agl_cd}_green_not_covered_by_ncm.shp')\n",
    "                                    green_not_covered_by_ncm.to_file(file_path, driver='ESRI Shapefile')\n",
    "                                    print (\"green_not_covered_by_ncm\")\n",
    "\n",
    "                                    # 6 IDENTIFY QUIET/NOISY AREAS\n",
    "                                    ## for statistics need to calculate area again\n",
    "                                    # Calculate the area for each geometry and create a new column 'area'\n",
    "                                    nqgreen['area_m2'] = nqgreen['geometry'].area\n",
    "                                    nqgreen['area_ha'] = round(nqgreen['area_m2']* 0.0001,2)\n",
    "                                    nqgreen['area_km2'] = round(nqgreen['area_ha']* 0.01,2)\n",
    "                                    nqgreen_area = nqgreen.groupby(['code_2018', 'noisy'])['area_m2'].sum().reset_index()\n",
    "                                    nqgreen_area['area_ha'] = round(nqgreen_area['area_m2']* 0.0001,2)\n",
    "                                    nqgreen_area['area_km2'] = round(nqgreen_area['area_ha']* 0.01,2)\n",
    "\n",
    "                                    # 7 EXPORT GREEN QUIET AREAS (GQA)\n",
    "                                    nqgreen = nqgreen[['country', 'fua_name', 'fua_code', 'HDENS_2011', 'code_2018', 'class_2018', 'noisy',  'area_m2', 'area_ha', 'area_km2', 'geometry']]\n",
    "                                    GQA = nqgreen.query('noisy == 0')\n",
    "                                    GNA = nqgreen.query('noisy == 1')\n",
    "\n",
    "                                    # Export to shapefile\n",
    "                                    file_path = os.path.join(outdata_f, f'{city_agl_cd}_GQA.shp')\n",
    "                                    GQA.to_file(file_path, driver='ESRI Shapefile')\n",
    "                                    print (\"GQA\")\n",
    "\n",
    "                                    # 8 CREATE CENTROIDS FOR GQA POLYGONS\n",
    "                                    # Create a new GeoDataFrame with centroids as points\n",
    "                                    GQA_pts = gpd.GeoDataFrame(geometry=GQA['geometry'].centroid)\n",
    "                                    GQA_pts['oid'] = GQA.index\n",
    "                                    GQA_pts['fua_name'] = GQA.fua_name\n",
    "                                    GQA_pts['fua_code'] = GQA.fua_code\n",
    "                                    GQA_pts['HDENS_2011'] = GQA.HDENS_2011\n",
    "\n",
    "                                    # Export to shapefile\n",
    "                                    file_path = os.path.join(outdata_f, f'{city_agl_cd}_GQA_centroids.shp')\n",
    "                                    GQA_pts.to_file(file_path, driver='ESRI Shapefile')\n",
    "                                    print (\"GQA_pts\")\n",
    "                            \n",
    "                                    # Calculate the duration\n",
    "                                    end_time = datetime.now()\n",
    "                                    processing_time = end_time - start_time\n",
    "\n",
    "                                    print (\"str(processing_time)\")\n",
    "                                    \n",
    "                                    ## write output values into log file\n",
    "                                    uc_km2 = round(uc_city.area.sum()/1000000,2)\n",
    "                                    agl_city_km2 = round(agl_city.area.sum()/1000000,2)\n",
    "                                    ncm_agl_city_km2 = round(ncm_agl_city.area.sum()/1000000,2)\n",
    "                                    ua_km2 = round(ua.area.sum()/1000000,2)\n",
    "                                    uagreen_km2 = round(uagreen.area.sum()/1000000,2)\n",
    "                                    uagreen_urbc_km2 = round(uagreen_urbc.area.sum()/1000000,2)\n",
    "                                    nqgreen_m2 = round(nqgreen.area.sum(),2)\n",
    "                                    green_not_covered_by_ncm_m2 = round(green_not_covered_by_ncm.area.sum(),2)\n",
    "                                    GQA_m2 = round(GQA.area.sum(),2)\n",
    "                                    GNA_m2 = round(GNA.area.sum(),2)\n",
    "                                    processing_duration = str(processing_time)\n",
    "\n",
    "                                    log_entry = create_log_entry(aglo_name, agl_id, uc_km2, agl_city_km2, \n",
    "                                                            ncm_agl_city_km2,ua_km2, uagreen_km2, uagreen_urbc_km2, nqgreen_m2, \n",
    "                                                            green_not_covered_by_ncm_m2, GQA_m2, GNA_m2, processing_time)\n",
    "                                    write_log(log_path, log_entry)\n",
    "\n",
    "                                    # Clean up intermediate variables to free memory\n",
    "                                    del agl_city, ncm, ncm_agl, ncm_agl_city, ncm_dis, ua, uagreen, uagreen_urbc, nqgreen, green_not_covered_by_ncm, GQA, GNA, GQA_pts\n",
    "                except:\n",
    "                    print(\"Error \" + city_agl_cd)\n",
    "                    agl_error_ls.append(city_agl_cd +\" Error\")\n",
    "        counter= counter+1\n",
    "\n",
    "print(agl_error_ls)"
   ]
  }
 ],
 "metadata": {
  "kernelspec": {
   "display_name": "geospatial_ETC_DI_v4",
   "language": "python",
   "name": "python3"
  },
  "language_info": {
   "codemirror_mode": {
    "name": "ipython",
    "version": 3
   },
   "file_extension": ".py",
   "mimetype": "text/x-python",
   "name": "python",
   "nbconvert_exporter": "python",
   "pygments_lexer": "ipython3",
   "version": "3.9.15"
  }
 },
 "nbformat": 4,
 "nbformat_minor": 2
}
