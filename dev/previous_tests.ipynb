{
 "cells": [
  {
   "cell_type": "code",
   "execution_count": 1,
   "metadata": {},
   "outputs": [
    {
     "name": "stderr",
     "output_type": "stream",
     "text": [
      "c:\\Users\\ubach\\.conda\\envs\\geospatial_ETC_DI_v4\\lib\\site-packages\\geopandas\\_compat.py:123: UserWarning: The Shapely GEOS version (3.11.2-CAPI-1.17.2) is incompatible with the GEOS version PyGEOS was compiled with (3.10.4-CAPI-1.16.2). Conversions between both will be slow.\n",
      "  warnings.warn(\n",
      "Q:\\UserTemp\\ubach\\AppData\\Local\\Temp\\63\\ipykernel_39972\\113520683.py:1: UserWarning: Shapely 2.0 is installed, but because PyGEOS is also installed, GeoPandas will still use PyGEOS by default for now. To force to use and test Shapely 2.0, you have to set the environment variable USE_PYGEOS=0. You can do this before starting the Python process, or in your code before importing geopandas:\n",
      "\n",
      "import os\n",
      "os.environ['USE_PYGEOS'] = '0'\n",
      "import geopandas\n",
      "\n",
      "In a future release, GeoPandas will switch to using Shapely by default. If you are using PyGEOS directly (calling PyGEOS functions on geometries from GeoPandas), this will then stop working and you are encouraged to migrate from PyGEOS to Shapely 2.0 (https://shapely.readthedocs.io/en/latest/migration_pygeos.html).\n",
      "  import geopandas as gpd\n",
      "c:\\Users\\ubach\\.conda\\envs\\geospatial_ETC_DI_v4\\lib\\site-packages\\geopandas\\_compat.py:123: UserWarning: The Shapely GEOS version (3.11.2-CAPI-1.17.2) is incompatible with the GEOS version PyGEOS was compiled with (3.10.4-CAPI-1.16.2). Conversions between both will be slow.\n",
      "  warnings.warn(\n",
      "c:\\Users\\ubach\\.conda\\envs\\geospatial_ETC_DI_v4\\lib\\site-packages\\IPython\\core\\interactiveshell.py:3382: UserWarning: Shapely 2.0 is installed, but because PyGEOS is also installed, GeoPandas will still use PyGEOS by default for now. To force to use and test Shapely 2.0, you have to set the environment variable USE_PYGEOS=0. You can do this before starting the Python process, or in your code before importing geopandas:\n",
      "\n",
      "import os\n",
      "os.environ['USE_PYGEOS'] = '0'\n",
      "import geopandas\n",
      "\n",
      "In a future release, GeoPandas will switch to using Shapely by default. If you are using PyGEOS directly (calling PyGEOS functions on geometries from GeoPandas), this will then stop working and you are encouraged to migrate from PyGEOS to Shapely 2.0 (https://shapely.readthedocs.io/en/latest/migration_pygeos.html).\n",
      "  if await self.run_code(code, result, async_=asy):\n"
     ]
    }
   ],
   "source": [
    "import geopandas as gpd\n",
    "import dask_geopandas as dgpd\n",
    "import pygeos\n",
    "from dask.distributed import Client\n",
    "\n",
    "# Enable Pygeos\n",
    "gpd.options.use_pygeos = True\n",
    "\n",
    "\n",
    "def load_and_simplify(filepath, tolerance=0.01):\n",
    "    gdf = gpd.read_file(filepath)\n",
    "    gdf['geometry'] = gdf['geometry'].simplify(tolerance)\n",
    "    return gdf\n",
    "\n",
    "def create_spatial_index(geoseries):\n",
    "    return geoseries.sindex\n",
    "\n",
    "def overlay_with_dask(gdf1, gdf2, how='intersection', npartitions=10):\n",
    "    # Ensure that both GeoDataFrames have the same CRS\n",
    "    if gdf1.crs != gdf2.crs:\n",
    "        gdf2 = gdf2.to_crs(gdf1.crs)\n",
    "\n",
    "    # Convert to Dask GeoDataFrames\n",
    "    dask_gdf1 = dgpd.from_geopandas(gdf1, npartitions=npartitions)\n",
    "    dask_gdf2 = dgpd.from_geopandas(gdf2, npartitions=npartitions)\n",
    "    \n",
    "    # Perform the overlay operation\n",
    "    result = dask_gdf1.overlay(dask_gdf2, how=how).compute()\n",
    "    \n",
    "    return result\n"
   ]
  },
  {
   "cell_type": "code",
   "execution_count": 8,
   "metadata": {},
   "outputs": [
    {
     "name": "stderr",
     "output_type": "stream",
     "text": [
      "c:\\Users\\ubach\\.conda\\envs\\geospatial_ETC_DI_v4\\lib\\site-packages\\distributed\\node.py:182: UserWarning: Port 8787 is already in use.\n",
      "Perhaps you already have a cluster running?\n",
      "Hosting the HTTP server on port 53726 instead\n",
      "  warnings.warn(\n"
     ]
    },
    {
     "name": "stdout",
     "output_type": "stream",
     "text": [
      "Kaunas\n",
      "2024-07-03 09:54:39.008198\n",
      "loading aglomeration city Kaunas\n",
      "agglomerationId_identifier\n",
      "ncm\n"
     ]
    }
   ],
   "source": [
    "# Load required libraries\n",
    "import pandas as pd\n",
    "import geopandas as gpd\n",
    "import numpy as np\n",
    "import os\n",
    "import fiona\n",
    "import matplotlib.pyplot as plt\n",
    "from matplotlib.colors import ListedColormap\n",
    "from shapely.ops import unary_union\n",
    "from unidecode import unidecode\n",
    "import glob\n",
    "import csv\n",
    "from datetime import datetime\n",
    "import dask.dataframe as dd\n",
    "import dask_geopandas as dg\n",
    "from dask.distributed import Client\n",
    "import gc\n",
    "\n",
    "# Path to data folders\n",
    "indata_f = r'P:\\Environment and Health\\Noise\\ServiceContract\\2024_ServiceContract\\QuietAreas'\n",
    "outdata_f = os.path.join(indata_f, 'OutputData', 'test0307')\n",
    "if not os.path.exists(outdata_f):\n",
    "    # Create the folder if it doesn't exist\n",
    "    os.makedirs(outdata_f)\n",
    "\n",
    "\n",
    "# 0 PREPARE A LOG FILE FOR QC\n",
    "log_file = 'log_GQA_Step1.csv'\n",
    "log_path = os.path.join(outdata_f, log_file)\n",
    "\n",
    "# Initialize Dask client\n",
    "client = Client()\n",
    "\n",
    "# 1 READ URBAN CENTRES\n",
    "# Read shapefile\n",
    "uc_file_path = os.path.join(indata_f, 'UrbanCentres', 'HDC2021_RG.shp')\n",
    "# Read the GeoPackage file\n",
    "uc = gpd.read_file(uc_file_path)\n",
    "\n",
    "\n",
    "# 2 READ NOISE DATA\n",
    "# Load agglomerations delineations\n",
    "agls_file_path = os.path.join(indata_f, 'NoiseData', 'DF1_5_Agglomerations_20240429.gpkg')\n",
    "\n",
    "# Read the GeoPackage file\n",
    "agls = gpd.read_file(agls_file_path, layer = 'dbo.DF15_AgglomerationSource_Valid_LatestDelivery')\n",
    "\n",
    "cities_ls = ['Kaunas', 'København', 'Girona', 'Bordeaux']\n",
    "# Loop through test cities\n",
    "for cityLocalName in cities_ls[:1]:\n",
    "    print(str(cityLocalName))\n",
    "    start_time = datetime.now()\n",
    "    print(str(start_time))\n",
    "\n",
    "    uc_city = uc.query(f'HDENS_NAME == \"{cityLocalName}\"')\n",
    "    ctry_code = uc_city.CNTR_CODE.values.astype(str)[0]\n",
    "    cityLocalName_unicode = unidecode(cityLocalName)\n",
    "    \n",
    "    output_path = os.path.join(outdata_f, f'{ctry_code}_{cityLocalName_unicode}_GQA_centroids.shp')\n",
    "    if not os.path.exists(output_path):\n",
    "        print(f'loading aglomeration city {cityLocalName_unicode}')\n",
    "        agl_city = agls.query(f'agglomerationName_localName == \"{cityLocalName}\"')\n",
    "        # Keep only subset of columns\n",
    "        agl_city = agl_city[['agglomerationId_identifier', 'agglomerationName_nameEng', 'geometry' ]]\n",
    "        if agl_city.empty:\n",
    "            agglomerationId_identifier = 'NotAvailable'\n",
    "            print (\"agglomerationId_identifier\")\n",
    "        else:\n",
    "            agglomerationId_identifier = agl_city.agglomerationId_identifier.values.astype(str)[0]\n",
    "            \n",
    "            print (\"agglomerationId_identifier\")\n",
    "\n",
    "            # Check noise contour maps GeoPackage file\n",
    "            ncm_file_path = os.path.join(indata_f, 'NoiseData', f'Noise_20202025_export_{ctry_code}.gpkg')\n",
    "            #layerName = f'dbo.DF48_agg_NoiseContours_roadsInAgglomeration_Lden_Valid_LatestDelivery_Poly_{ctry_code}'\n",
    "            layerName = f'dbodf48_agg_noisecontours_roadsinagglomeration_lden_valid_latestdelivery_poly_{ctry_code}'\n",
    "            ncm = gpd.read_file(ncm_file_path, layer=layerName)\n",
    "            print (\"ncm\")\n",
    "\n",
    "            # subset columns\n",
    "            ncm_gdf = ncm[['category', 'geometry']]"
   ]
  },
  {
   "cell_type": "code",
   "execution_count": 9,
   "metadata": {},
   "outputs": [
    {
     "name": "stderr",
     "output_type": "stream",
     "text": [
      "c:\\Users\\ubach\\.conda\\envs\\geospatial_ETC_DI_v4\\lib\\site-packages\\geopandas\\geodataframe.py:1443: SettingWithCopyWarning: \n",
      "A value is trying to be set on a copy of a slice from a DataFrame.\n",
      "Try using .loc[row_indexer,col_indexer] = value instead\n",
      "\n",
      "See the caveats in the documentation: https://pandas.pydata.org/pandas-docs/stable/user_guide/indexing.html#returning-a-view-versus-a-copy\n",
      "  super().__setitem__(key, value)\n"
     ]
    }
   ],
   "source": [
    "ncm_gdf['geometry'] = ncm_gdf['geometry'].simplify(tolerance=0.01)\n"
   ]
  },
  {
   "cell_type": "code",
   "execution_count": 10,
   "metadata": {},
   "outputs": [
    {
     "name": "stderr",
     "output_type": "stream",
     "text": [
      "c:\\Users\\ubach\\.conda\\envs\\geospatial_ETC_DI_v4\\lib\\site-packages\\geopandas\\geodataframe.py:1443: SettingWithCopyWarning: \n",
      "A value is trying to be set on a copy of a slice from a DataFrame.\n",
      "Try using .loc[row_indexer,col_indexer] = value instead\n",
      "\n",
      "See the caveats in the documentation: https://pandas.pydata.org/pandas-docs/stable/user_guide/indexing.html#returning-a-view-versus-a-copy\n",
      "  super().__setitem__(key, value)\n"
     ]
    }
   ],
   "source": [
    "uc_city['geometry'] = uc_city['geometry'].simplify(tolerance=0.01)"
   ]
  },
  {
   "cell_type": "code",
   "execution_count": 11,
   "metadata": {},
   "outputs": [
    {
     "name": "stderr",
     "output_type": "stream",
     "text": [
      "c:\\Users\\ubach\\.conda\\envs\\geospatial_ETC_DI_v4\\lib\\site-packages\\distributed\\node.py:182: UserWarning: Port 8787 is already in use.\n",
      "Perhaps you already have a cluster running?\n",
      "Hosting the HTTP server on port 53949 instead\n",
      "  warnings.warn(\n"
     ]
    },
    {
     "name": "stdout",
     "output_type": "stream",
     "text": [
      "An error occurred during the overlay operation: 'DataFrame' object has no attribute 'overlay'\n"
     ]
    }
   ],
   "source": [
    "# Initialize Dask client\n",
    "client = Client()\n",
    "\n",
    "\n",
    "# Example usage\n",
    "gdf1 = uc_city\n",
    "gdf2 = ncm_gdf\n",
    "\n",
    "\n",
    "# Ensure that GeoDataFrames are not empty\n",
    "if gdf1.empty or gdf2.empty:\n",
    "    print(\"One of the input GeoDataFrames is empty.\")\n",
    "else:\n",
    "    try:\n",
    "        result = overlay_with_dask(gdf1, gdf2, how='intersection', npartitions=10)\n",
    "        result.to_file('path/to/result.shp')\n",
    "        print(\"Overlay operation completed successfully.\")\n",
    "    except Exception as e:\n",
    "        print(f\"An error occurred during the overlay operation: {e}\")\n",
    "\n",
    "# Shut down the Dask client\n",
    "client.close()\n"
   ]
  },
  {
   "cell_type": "code",
   "execution_count": 12,
   "metadata": {},
   "outputs": [
    {
     "data": {
      "text/html": [
       "<div>\n",
       "<style scoped>\n",
       "    .dataframe tbody tr th:only-of-type {\n",
       "        vertical-align: middle;\n",
       "    }\n",
       "\n",
       "    .dataframe tbody tr th {\n",
       "        vertical-align: top;\n",
       "    }\n",
       "\n",
       "    .dataframe thead th {\n",
       "        text-align: right;\n",
       "    }\n",
       "</style>\n",
       "<table border=\"1\" class=\"dataframe\">\n",
       "  <thead>\n",
       "    <tr style=\"text-align: right;\">\n",
       "      <th></th>\n",
       "      <th>HDENS_CLST</th>\n",
       "      <th>HDENS_NAME</th>\n",
       "      <th>HDENS_2011</th>\n",
       "      <th>POPL_2021</th>\n",
       "      <th>CNTR_CODE</th>\n",
       "      <th>MBRS_CODE_</th>\n",
       "      <th>SHAPE_AREA</th>\n",
       "      <th>SHAPE_LEN</th>\n",
       "      <th>geometry</th>\n",
       "    </tr>\n",
       "  </thead>\n",
       "  <tbody>\n",
       "    <tr>\n",
       "      <th>23</th>\n",
       "      <td>GEOSTAT21_051</td>\n",
       "      <td>Kaunas</td>\n",
       "      <td>GEOSTAT11_051</td>\n",
       "      <td>235793.0</td>\n",
       "      <td>LT</td>\n",
       "      <td>2</td>\n",
       "      <td>53000000.0</td>\n",
       "      <td>38000.0</td>\n",
       "      <td>POLYGON ((5211000.000 3614000.000, 5210000.000...</td>\n",
       "    </tr>\n",
       "  </tbody>\n",
       "</table>\n",
       "</div>"
      ],
      "text/plain": [
       "       HDENS_CLST HDENS_NAME     HDENS_2011  POPL_2021 CNTR_CODE  MBRS_CODE_  \\\n",
       "23  GEOSTAT21_051     Kaunas  GEOSTAT11_051   235793.0        LT           2   \n",
       "\n",
       "    SHAPE_AREA  SHAPE_LEN                                           geometry  \n",
       "23  53000000.0    38000.0  POLYGON ((5211000.000 3614000.000, 5210000.000...  "
      ]
     },
     "execution_count": 12,
     "metadata": {},
     "output_type": "execute_result"
    }
   ],
   "source": [
    "gdf1"
   ]
  },
  {
   "cell_type": "code",
   "execution_count": 13,
   "metadata": {},
   "outputs": [
    {
     "data": {
      "text/html": [
       "<div>\n",
       "<style scoped>\n",
       "    .dataframe tbody tr th:only-of-type {\n",
       "        vertical-align: middle;\n",
       "    }\n",
       "\n",
       "    .dataframe tbody tr th {\n",
       "        vertical-align: top;\n",
       "    }\n",
       "\n",
       "    .dataframe thead th {\n",
       "        text-align: right;\n",
       "    }\n",
       "</style>\n",
       "<table border=\"1\" class=\"dataframe\">\n",
       "  <thead>\n",
       "    <tr style=\"text-align: right;\">\n",
       "      <th></th>\n",
       "      <th>category</th>\n",
       "      <th>geometry</th>\n",
       "    </tr>\n",
       "  </thead>\n",
       "  <tbody>\n",
       "    <tr>\n",
       "      <th>0</th>\n",
       "      <td>LdenLowerThan40</td>\n",
       "      <td>POLYGON ((5215179.543 3621207.333, 5215177.736...</td>\n",
       "    </tr>\n",
       "    <tr>\n",
       "      <th>1</th>\n",
       "      <td>LdenLowerThan40</td>\n",
       "      <td>POLYGON ((5200261.108 3621747.573, 5200255.038...</td>\n",
       "    </tr>\n",
       "    <tr>\n",
       "      <th>2</th>\n",
       "      <td>LdenLowerThan40</td>\n",
       "      <td>POLYGON ((5211290.944 3612078.395, 5211290.802...</td>\n",
       "    </tr>\n",
       "    <tr>\n",
       "      <th>3</th>\n",
       "      <td>LdenLowerThan40</td>\n",
       "      <td>POLYGON ((5199699.320 3621473.095, 5199689.885...</td>\n",
       "    </tr>\n",
       "    <tr>\n",
       "      <th>4</th>\n",
       "      <td>LdenLowerThan40</td>\n",
       "      <td>POLYGON ((5216184.465 3613984.531, 5216178.006...</td>\n",
       "    </tr>\n",
       "    <tr>\n",
       "      <th>...</th>\n",
       "      <td>...</td>\n",
       "      <td>...</td>\n",
       "    </tr>\n",
       "    <tr>\n",
       "      <th>15616</th>\n",
       "      <td>Lden4044</td>\n",
       "      <td>POLYGON ((5208314.259 3620582.057, 5208303.904...</td>\n",
       "    </tr>\n",
       "    <tr>\n",
       "      <th>15617</th>\n",
       "      <td>Lden4044</td>\n",
       "      <td>POLYGON ((5209748.686 3613562.795, 5209740.408...</td>\n",
       "    </tr>\n",
       "    <tr>\n",
       "      <th>15618</th>\n",
       "      <td>Lden4044</td>\n",
       "      <td>POLYGON ((5209339.352 3617042.959, 5209335.758...</td>\n",
       "    </tr>\n",
       "    <tr>\n",
       "      <th>15619</th>\n",
       "      <td>Lden4044</td>\n",
       "      <td>POLYGON ((5217374.061 3622689.681, 5217378.165...</td>\n",
       "    </tr>\n",
       "    <tr>\n",
       "      <th>15620</th>\n",
       "      <td>Lden4044</td>\n",
       "      <td>POLYGON ((5208639.599 3615559.822, 5208639.092...</td>\n",
       "    </tr>\n",
       "  </tbody>\n",
       "</table>\n",
       "<p>15621 rows × 2 columns</p>\n",
       "</div>"
      ],
      "text/plain": [
       "              category                                           geometry\n",
       "0      LdenLowerThan40  POLYGON ((5215179.543 3621207.333, 5215177.736...\n",
       "1      LdenLowerThan40  POLYGON ((5200261.108 3621747.573, 5200255.038...\n",
       "2      LdenLowerThan40  POLYGON ((5211290.944 3612078.395, 5211290.802...\n",
       "3      LdenLowerThan40  POLYGON ((5199699.320 3621473.095, 5199689.885...\n",
       "4      LdenLowerThan40  POLYGON ((5216184.465 3613984.531, 5216178.006...\n",
       "...                ...                                                ...\n",
       "15616         Lden4044  POLYGON ((5208314.259 3620582.057, 5208303.904...\n",
       "15617         Lden4044  POLYGON ((5209748.686 3613562.795, 5209740.408...\n",
       "15618         Lden4044  POLYGON ((5209339.352 3617042.959, 5209335.758...\n",
       "15619         Lden4044  POLYGON ((5217374.061 3622689.681, 5217378.165...\n",
       "15620         Lden4044  POLYGON ((5208639.599 3615559.822, 5208639.092...\n",
       "\n",
       "[15621 rows x 2 columns]"
      ]
     },
     "execution_count": 13,
     "metadata": {},
     "output_type": "execute_result"
    }
   ],
   "source": [
    "gdf2"
   ]
  },
  {
   "cell_type": "code",
   "execution_count": 20,
   "metadata": {},
   "outputs": [],
   "source": [
    "# Example usage\n",
    "gdf1 = uc_city\n",
    "gdf2 = ncm_gdf"
   ]
  },
  {
   "cell_type": "code",
   "execution_count": 15,
   "metadata": {},
   "outputs": [
    {
     "data": {
      "text/html": [
       "<div>\n",
       "<style scoped>\n",
       "    .dataframe tbody tr th:only-of-type {\n",
       "        vertical-align: middle;\n",
       "    }\n",
       "\n",
       "    .dataframe tbody tr th {\n",
       "        vertical-align: top;\n",
       "    }\n",
       "\n",
       "    .dataframe thead th {\n",
       "        text-align: right;\n",
       "    }\n",
       "</style>\n",
       "<table border=\"1\" class=\"dataframe\">\n",
       "  <thead>\n",
       "    <tr style=\"text-align: right;\">\n",
       "      <th></th>\n",
       "      <th>HDENS_CLST</th>\n",
       "      <th>HDENS_NAME</th>\n",
       "      <th>HDENS_2011</th>\n",
       "      <th>POPL_2021</th>\n",
       "      <th>CNTR_CODE</th>\n",
       "      <th>MBRS_CODE_</th>\n",
       "      <th>SHAPE_AREA</th>\n",
       "      <th>SHAPE_LEN</th>\n",
       "      <th>geometry</th>\n",
       "    </tr>\n",
       "  </thead>\n",
       "  <tbody>\n",
       "    <tr>\n",
       "      <th>23</th>\n",
       "      <td>GEOSTAT21_051</td>\n",
       "      <td>Kaunas</td>\n",
       "      <td>GEOSTAT11_051</td>\n",
       "      <td>235793.0</td>\n",
       "      <td>LT</td>\n",
       "      <td>2</td>\n",
       "      <td>53000000.0</td>\n",
       "      <td>38000.0</td>\n",
       "      <td>POLYGON ((5211000.000 3614000.000, 5210000.000...</td>\n",
       "    </tr>\n",
       "  </tbody>\n",
       "</table>\n",
       "</div>"
      ],
      "text/plain": [
       "       HDENS_CLST HDENS_NAME     HDENS_2011  POPL_2021 CNTR_CODE  MBRS_CODE_  \\\n",
       "23  GEOSTAT21_051     Kaunas  GEOSTAT11_051   235793.0        LT           2   \n",
       "\n",
       "    SHAPE_AREA  SHAPE_LEN                                           geometry  \n",
       "23  53000000.0    38000.0  POLYGON ((5211000.000 3614000.000, 5210000.000...  "
      ]
     },
     "execution_count": 15,
     "metadata": {},
     "output_type": "execute_result"
    }
   ],
   "source": [
    "gdf1"
   ]
  },
  {
   "cell_type": "code",
   "execution_count": 16,
   "metadata": {},
   "outputs": [],
   "source": [
    "gdf1=gdf1.sindex"
   ]
  },
  {
   "cell_type": "code",
   "execution_count": 17,
   "metadata": {},
   "outputs": [
    {
     "data": {
      "text/plain": [
       "<geopandas.sindex.PyGEOSSTRTreeIndex at 0x134445c7f70>"
      ]
     },
     "execution_count": 17,
     "metadata": {},
     "output_type": "execute_result"
    }
   ],
   "source": [
    "gdf1"
   ]
  },
  {
   "cell_type": "code",
   "execution_count": 18,
   "metadata": {},
   "outputs": [],
   "source": [
    "gdf2=gdf2.sindex"
   ]
  },
  {
   "cell_type": "code",
   "execution_count": 19,
   "metadata": {},
   "outputs": [
    {
     "ename": "TypeError",
     "evalue": "Input must be a pandas DataFrame or Series.",
     "output_type": "error",
     "traceback": [
      "\u001b[1;31m---------------------------------------------------------------------------\u001b[0m",
      "\u001b[1;31mTypeError\u001b[0m                                 Traceback (most recent call last)",
      "Cell \u001b[1;32mIn[19], line 1\u001b[0m\n\u001b[1;32m----> 1\u001b[0m dask_gdf1 \u001b[39m=\u001b[39m dgpd\u001b[39m.\u001b[39;49mfrom_geopandas(gdf1, npartitions\u001b[39m=\u001b[39;49m\u001b[39m10\u001b[39;49m)\n\u001b[0;32m      2\u001b[0m dask_gdf2 \u001b[39m=\u001b[39m dgpd\u001b[39m.\u001b[39mfrom_geopandas(gdf2, npartitions\u001b[39m=\u001b[39m\u001b[39m10\u001b[39m)\n\u001b[0;32m      4\u001b[0m \u001b[39m# Perform the overlay operation\u001b[39;00m\n",
      "File \u001b[1;32mc:\\Users\\ubach\\.conda\\envs\\geospatial_ETC_DI_v4\\lib\\site-packages\\dask\\dataframe\\io\\io.py:259\u001b[0m, in \u001b[0;36mfrom_pandas\u001b[1;34m(data, npartitions, chunksize, sort, name)\u001b[0m\n\u001b[0;32m    256\u001b[0m     \u001b[39mraise\u001b[39;00m \u001b[39mNotImplementedError\u001b[39;00m(\u001b[39m\"\u001b[39m\u001b[39mDask does not support MultiIndex Dataframes.\u001b[39m\u001b[39m\"\u001b[39m)\n\u001b[0;32m    258\u001b[0m \u001b[39mif\u001b[39;00m \u001b[39mnot\u001b[39;00m has_parallel_type(data):\n\u001b[1;32m--> 259\u001b[0m     \u001b[39mraise\u001b[39;00m \u001b[39mTypeError\u001b[39;00m(\u001b[39m\"\u001b[39m\u001b[39mInput must be a pandas DataFrame or Series.\u001b[39m\u001b[39m\"\u001b[39m)\n\u001b[0;32m    261\u001b[0m \u001b[39mif\u001b[39;00m (npartitions \u001b[39mis\u001b[39;00m \u001b[39mNone\u001b[39;00m) \u001b[39m==\u001b[39m (chunksize \u001b[39mis\u001b[39;00m \u001b[39mNone\u001b[39;00m):\n\u001b[0;32m    262\u001b[0m     \u001b[39mraise\u001b[39;00m \u001b[39mValueError\u001b[39;00m(\u001b[39m\"\u001b[39m\u001b[39mExactly one of npartitions and chunksize must be specified.\u001b[39m\u001b[39m\"\u001b[39m)\n",
      "\u001b[1;31mTypeError\u001b[0m: Input must be a pandas DataFrame or Series."
     ]
    }
   ],
   "source": [
    "dask_gdf1 = dgpd.from_geopandas(gdf1, npartitions=10)\n",
    "dask_gdf2 = dgpd.from_geopandas(gdf2, npartitions=10)\n",
    "\n",
    "# Perform the overlay operation\n",
    "result = dask_gdf1.overlay(dask_gdf2, how=how).compute()"
   ]
  },
  {
   "cell_type": "code",
   "execution_count": 21,
   "metadata": {},
   "outputs": [
    {
     "ename": "AttributeError",
     "evalue": "'DataFrame' object has no attribute 'overlay'",
     "output_type": "error",
     "traceback": [
      "\u001b[1;31m---------------------------------------------------------------------------\u001b[0m",
      "\u001b[1;31mAttributeError\u001b[0m                            Traceback (most recent call last)",
      "Cell \u001b[1;32mIn[21], line 8\u001b[0m\n\u001b[0;32m      5\u001b[0m dask_gdf2 \u001b[39m=\u001b[39m dgpd\u001b[39m.\u001b[39mfrom_geopandas(gdf2, npartitions\u001b[39m=\u001b[39m\u001b[39m10\u001b[39m)\n\u001b[0;32m      7\u001b[0m \u001b[39m# Perform the overlay operation\u001b[39;00m\n\u001b[1;32m----> 8\u001b[0m result \u001b[39m=\u001b[39m dask_gdf1\u001b[39m.\u001b[39;49moverlay(dask_gdf2, how\u001b[39m=\u001b[39mhow)\u001b[39m.\u001b[39mcompute()\n",
      "File \u001b[1;32mc:\\Users\\ubach\\.conda\\envs\\geospatial_ETC_DI_v4\\lib\\site-packages\\dask\\dataframe\\core.py:4693\u001b[0m, in \u001b[0;36mDataFrame.__getattr__\u001b[1;34m(self, key)\u001b[0m\n\u001b[0;32m   4691\u001b[0m     \u001b[39mobject\u001b[39m\u001b[39m.\u001b[39m\u001b[39m__getattribute__\u001b[39m(\u001b[39mself\u001b[39m, key)\n\u001b[0;32m   4692\u001b[0m \u001b[39melse\u001b[39;00m:\n\u001b[1;32m-> 4693\u001b[0m     \u001b[39mraise\u001b[39;00m \u001b[39mAttributeError\u001b[39;00m(\u001b[39m\"\u001b[39m\u001b[39m'\u001b[39m\u001b[39mDataFrame\u001b[39m\u001b[39m'\u001b[39m\u001b[39m object has no attribute \u001b[39m\u001b[39m%r\u001b[39;00m\u001b[39m\"\u001b[39m \u001b[39m%\u001b[39m key)\n",
      "\u001b[1;31mAttributeError\u001b[0m: 'DataFrame' object has no attribute 'overlay'"
     ]
    }
   ],
   "source": [
    "# Example usage\n",
    "gdf1 = uc_city\n",
    "gdf2 = ncm_gdf\n",
    "dask_gdf1 = dgpd.from_geopandas(gdf1, npartitions=10)\n",
    "dask_gdf2 = dgpd.from_geopandas(gdf2, npartitions=10)\n",
    "\n",
    "# Perform the overlay operation\n",
    "result = dask_gdf1.overlay(dask_gdf2, how=how).compute()"
   ]
  },
  {
   "cell_type": "code",
   "execution_count": 22,
   "metadata": {},
   "outputs": [],
   "source": [
    "# Create spatial indices\n",
    "sindex1 = (gdf1['geometry']).sindex\n",
    "sindex2 = (gdf2['geometry']).sindex"
   ]
  },
  {
   "cell_type": "code",
   "execution_count": 23,
   "metadata": {},
   "outputs": [],
   "source": [
    "dask_gdf1 = dgpd.from_geopandas(gdf1, npartitions=10)"
   ]
  },
  {
   "cell_type": "code",
   "execution_count": 24,
   "metadata": {},
   "outputs": [
    {
     "data": {
      "text/html": [
       "<div><strong>Dask-GeoPandas GeoDataFrame Structure:</strong></div>\n",
       "<div>\n",
       "<style scoped>\n",
       "    .dataframe tbody tr th:only-of-type {\n",
       "        vertical-align: middle;\n",
       "    }\n",
       "\n",
       "    .dataframe tbody tr th {\n",
       "        vertical-align: top;\n",
       "    }\n",
       "\n",
       "    .dataframe thead th {\n",
       "        text-align: right;\n",
       "    }\n",
       "</style>\n",
       "<table border=\"1\" class=\"dataframe\">\n",
       "  <thead>\n",
       "    <tr style=\"text-align: right;\">\n",
       "      <th></th>\n",
       "      <th>HDENS_CLST</th>\n",
       "      <th>HDENS_NAME</th>\n",
       "      <th>HDENS_2011</th>\n",
       "      <th>POPL_2021</th>\n",
       "      <th>CNTR_CODE</th>\n",
       "      <th>MBRS_CODE_</th>\n",
       "      <th>SHAPE_AREA</th>\n",
       "      <th>SHAPE_LEN</th>\n",
       "      <th>geometry</th>\n",
       "    </tr>\n",
       "    <tr>\n",
       "      <th>npartitions=1</th>\n",
       "      <th></th>\n",
       "      <th></th>\n",
       "      <th></th>\n",
       "      <th></th>\n",
       "      <th></th>\n",
       "      <th></th>\n",
       "      <th></th>\n",
       "      <th></th>\n",
       "      <th></th>\n",
       "    </tr>\n",
       "  </thead>\n",
       "  <tbody>\n",
       "    <tr>\n",
       "      <th>23</th>\n",
       "      <td>object</td>\n",
       "      <td>object</td>\n",
       "      <td>object</td>\n",
       "      <td>float64</td>\n",
       "      <td>object</td>\n",
       "      <td>int64</td>\n",
       "      <td>float64</td>\n",
       "      <td>float64</td>\n",
       "      <td>geometry</td>\n",
       "    </tr>\n",
       "    <tr>\n",
       "      <th>23</th>\n",
       "      <td>...</td>\n",
       "      <td>...</td>\n",
       "      <td>...</td>\n",
       "      <td>...</td>\n",
       "      <td>...</td>\n",
       "      <td>...</td>\n",
       "      <td>...</td>\n",
       "      <td>...</td>\n",
       "      <td>...</td>\n",
       "    </tr>\n",
       "  </tbody>\n",
       "</table>\n",
       "</div>\n",
       "<div>Dask Name: from_pandas, 1 graph layer</div>"
      ],
      "text/plain": [
       "Dask GeoDataFrame Structure:\n",
       "              HDENS_CLST HDENS_NAME HDENS_2011 POPL_2021 CNTR_CODE MBRS_CODE_ SHAPE_AREA SHAPE_LEN  geometry\n",
       "npartitions=1                                                                                               \n",
       "23                object     object     object   float64    object      int64    float64   float64  geometry\n",
       "23                   ...        ...        ...       ...       ...        ...        ...       ...       ...\n",
       "Dask Name: from_pandas, 1 graph layer"
      ]
     },
     "execution_count": 24,
     "metadata": {},
     "output_type": "execute_result"
    }
   ],
   "source": [
    "dask_gdf1"
   ]
  },
  {
   "cell_type": "code",
   "execution_count": 25,
   "metadata": {},
   "outputs": [
    {
     "data": {
      "text/html": [
       "<div><strong>Dask-GeoPandas GeoDataFrame Structure:</strong></div>\n",
       "<div>\n",
       "<style scoped>\n",
       "    .dataframe tbody tr th:only-of-type {\n",
       "        vertical-align: middle;\n",
       "    }\n",
       "\n",
       "    .dataframe tbody tr th {\n",
       "        vertical-align: top;\n",
       "    }\n",
       "\n",
       "    .dataframe thead th {\n",
       "        text-align: right;\n",
       "    }\n",
       "</style>\n",
       "<table border=\"1\" class=\"dataframe\">\n",
       "  <thead>\n",
       "    <tr style=\"text-align: right;\">\n",
       "      <th></th>\n",
       "      <th>category</th>\n",
       "      <th>geometry</th>\n",
       "    </tr>\n",
       "    <tr>\n",
       "      <th>npartitions=10</th>\n",
       "      <th></th>\n",
       "      <th></th>\n",
       "    </tr>\n",
       "  </thead>\n",
       "  <tbody>\n",
       "    <tr>\n",
       "      <th>0</th>\n",
       "      <td>object</td>\n",
       "      <td>geometry</td>\n",
       "    </tr>\n",
       "    <tr>\n",
       "      <th>1563</th>\n",
       "      <td>...</td>\n",
       "      <td>...</td>\n",
       "    </tr>\n",
       "    <tr>\n",
       "      <th>...</th>\n",
       "      <td>...</td>\n",
       "      <td>...</td>\n",
       "    </tr>\n",
       "    <tr>\n",
       "      <th>14059</th>\n",
       "      <td>...</td>\n",
       "      <td>...</td>\n",
       "    </tr>\n",
       "    <tr>\n",
       "      <th>15620</th>\n",
       "      <td>...</td>\n",
       "      <td>...</td>\n",
       "    </tr>\n",
       "  </tbody>\n",
       "</table>\n",
       "</div>\n",
       "<div>Dask Name: from_pandas, 1 graph layer</div>"
      ],
      "text/plain": [
       "Dask GeoDataFrame Structure:\n",
       "               category  geometry\n",
       "npartitions=10                   \n",
       "0                object  geometry\n",
       "1563                ...       ...\n",
       "...                 ...       ...\n",
       "14059               ...       ...\n",
       "15620               ...       ...\n",
       "Dask Name: from_pandas, 1 graph layer"
      ]
     },
     "execution_count": 25,
     "metadata": {},
     "output_type": "execute_result"
    }
   ],
   "source": [
    "dask_gdf2"
   ]
  },
  {
   "cell_type": "code",
   "execution_count": 27,
   "metadata": {},
   "outputs": [
    {
     "ename": "AttributeError",
     "evalue": "'DataFrame' object has no attribute 'overlay'",
     "output_type": "error",
     "traceback": [
      "\u001b[1;31m---------------------------------------------------------------------------\u001b[0m",
      "\u001b[1;31mAttributeError\u001b[0m                            Traceback (most recent call last)",
      "Cell \u001b[1;32mIn[27], line 1\u001b[0m\n\u001b[1;32m----> 1\u001b[0m result \u001b[39m=\u001b[39m dask_gdf1\u001b[39m.\u001b[39;49moverlay(dask_gdf2, how\u001b[39m=\u001b[39m\u001b[39m'\u001b[39m\u001b[39mintersect\u001b[39m\u001b[39m'\u001b[39m)\u001b[39m.\u001b[39mcompute()\n",
      "File \u001b[1;32mc:\\Users\\ubach\\.conda\\envs\\geospatial_ETC_DI_v4\\lib\\site-packages\\dask\\dataframe\\core.py:4693\u001b[0m, in \u001b[0;36mDataFrame.__getattr__\u001b[1;34m(self, key)\u001b[0m\n\u001b[0;32m   4691\u001b[0m     \u001b[39mobject\u001b[39m\u001b[39m.\u001b[39m\u001b[39m__getattribute__\u001b[39m(\u001b[39mself\u001b[39m, key)\n\u001b[0;32m   4692\u001b[0m \u001b[39melse\u001b[39;00m:\n\u001b[1;32m-> 4693\u001b[0m     \u001b[39mraise\u001b[39;00m \u001b[39mAttributeError\u001b[39;00m(\u001b[39m\"\u001b[39m\u001b[39m'\u001b[39m\u001b[39mDataFrame\u001b[39m\u001b[39m'\u001b[39m\u001b[39m object has no attribute \u001b[39m\u001b[39m%r\u001b[39;00m\u001b[39m\"\u001b[39m \u001b[39m%\u001b[39m key)\n",
      "\u001b[1;31mAttributeError\u001b[0m: 'DataFrame' object has no attribute 'overlay'"
     ]
    }
   ],
   "source": [
    "result = dask_gdf1.overlay(dask_gdf2, how='intersect').compute()"
   ]
  },
  {
   "cell_type": "code",
   "execution_count": 29,
   "metadata": {},
   "outputs": [
    {
     "data": {
      "text/plain": [
       "HDENS_CLST      object\n",
       "HDENS_NAME      object\n",
       "HDENS_2011      object\n",
       "POPL_2021      float64\n",
       "CNTR_CODE       object\n",
       "MBRS_CODE_       int64\n",
       "SHAPE_AREA     float64\n",
       "SHAPE_LEN      float64\n",
       "geometry      geometry\n",
       "dtype: object"
      ]
     },
     "execution_count": 29,
     "metadata": {},
     "output_type": "execute_result"
    }
   ],
   "source": [
    "gdf1.dtypes"
   ]
  },
  {
   "cell_type": "code",
   "execution_count": null,
   "metadata": {},
   "outputs": [],
   "source": [
    "dask_gdf1 = dgpd.from_geopandas(gdf1, npartitions=10)"
   ]
  }
 ],
 "metadata": {
  "kernelspec": {
   "display_name": "geospatial_ETC_DI_v4",
   "language": "python",
   "name": "python3"
  },
  "language_info": {
   "codemirror_mode": {
    "name": "ipython",
    "version": 3
   },
   "file_extension": ".py",
   "mimetype": "text/x-python",
   "name": "python",
   "nbconvert_exporter": "python",
   "pygments_lexer": "ipython3",
   "version": "3.9.15"
  },
  "orig_nbformat": 4
 },
 "nbformat": 4,
 "nbformat_minor": 2
}
