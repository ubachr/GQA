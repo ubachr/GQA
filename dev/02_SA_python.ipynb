{
 "cells": [
  {
   "cell_type": "markdown",
   "metadata": {},
   "source": [
    "Testing Goteborg"
   ]
  },
  {
   "cell_type": "code",
   "execution_count": 22,
   "metadata": {},
   "outputs": [],
   "source": [
    "import networkx as nx\n",
    "import os\n",
    "import fiona\n",
    "import geopandas as gpd\n",
    "from shapely.geometry import LineString, MultiLineString, Point, Polygon\n",
    "from shapely.ops import unary_union\n",
    "import osmnx as ox\n",
    "import matplotlib.pyplot as plt"
   ]
  },
  {
   "cell_type": "markdown",
   "metadata": {},
   "source": [
    "Load the Network from the Geodatabase"
   ]
  },
  {
   "cell_type": "code",
   "execution_count": 4,
   "metadata": {},
   "outputs": [],
   "source": [
    "# Path to data folders\n",
    "indata_f = r'P:\\Environment and Health\\Noise\\ServiceContract\\2024_ServiceContract\\QuietAreas'\n",
    "networks_f = os.path.join(indata_f, 'Network data Regio')\n",
    "step1_f = os.path.join(indata_f, 'OutputData', 'batch1_allprocessed', 'step1')\n",
    "temp_f = os.path.join(indata_f, 'Processing', 'step2_CleaningGQA')\n",
    "step2_f = os.path.join(indata_f, 'OutputData', 'batch1_allprocessed', 'step2')\n",
    "if not os.path.exists(step2_f):\n",
    "    os.makedirs(step2_f)\n",
    "uc_file_path = os.path.join(indata_f, 'UrbanCentres', 'HDC2021_RG_InputUpdateB2.shp')"
   ]
  },
  {
   "cell_type": "code",
   "execution_count": null,
   "metadata": {},
   "outputs": [],
   "source": [
    "import fiona\n",
    "import geopandas as gpd\n",
    "\n",
    "# Define the path to the geodatabase and the layer name\n",
    "gdb_path = 'path/to/your/geodatabase.gdb'\n",
    "layer_name = 'your_network_layer'\n",
    "\n",
    "# Load the network data using GeoPandas\n",
    "gdf = gpd.read_file(gdb_path, layer=layer_name)"
   ]
  },
  {
   "cell_type": "code",
   "execution_count": 8,
   "metadata": {},
   "outputs": [
    {
     "name": "stdout",
     "output_type": "stream",
     "text": [
      "['SE_Buff_PL', 'nw', 'Network_ND_Junctions', 'ND_7_DirtyAreas', 'ND_7_DirtyObjects', 'N_1_Desc', 'N_1_EdgeWeight', 'N_1_JunctionWeight', 'N_1_Props', 'N_1_Topology', 'N_1_TurnWeight']\n"
     ]
    }
   ],
   "source": [
    "ctr_cd = 'SE'\n",
    "pedestrianNWpath = networks_f + r\"\\NW_\" + ctr_cd + \".gdb\"\n",
    "layers = fiona.listlayers(pedestrianNWpath)\n",
    "print(layers)"
   ]
  },
  {
   "cell_type": "code",
   "execution_count": 11,
   "metadata": {},
   "outputs": [],
   "source": [
    "# Path to data folders\n",
    "indata_f = r'P:\\Environment and Health\\Noise\\ServiceContract\\2024_ServiceContract\\QuietAreas'\n",
    "outdata_f = os.path.join(indata_f, 'Processing', 'Test', 'Goteborg')\n",
    "os.makedirs(outdata_f, exist_ok=True)\n",
    "\n",
    "# Define engines\n",
    "engines = {\n",
    "    'fiona': {'engine': 'fiona'},\n",
    "    'pyogrio': {'engine': 'pyogrio'},\n",
    "    'pyogrio+arrow': {'engine': 'pyogrio', 'use_arrow': True}\n",
    "          \n",
    "}\n"
   ]
  },
  {
   "cell_type": "code",
   "execution_count": 12,
   "metadata": {},
   "outputs": [],
   "source": [
    "uc_file_path = os.path.join(indata_f, 'UrbanCentres', 'HDC2021_RG_InputUpdateB1B2.shp')\n",
    "# Read the GeoPackage file\n",
    "uc = gpd.read_file(uc_file_path)\n",
    "uc_city_code = 'GEOSTAT21_029'\n",
    "uc_city = uc.query(f\"HDENS_CLST=='{uc_city_code}'\")"
   ]
  },
  {
   "cell_type": "code",
   "execution_count": 13,
   "metadata": {},
   "outputs": [
    {
     "name": "stderr",
     "output_type": "stream",
     "text": [
      "c:\\Users\\ubach\\.conda\\envs\\geospatial_ETC_DI_v4\\lib\\contextlib.py:119: RuntimeWarning: Cannot use P:\\Environment and Health\\Noise\\ServiceContract\\2024_ServiceContract\\QuietAreas\\Network data Regio\\NW_SE.gdb\\a0000000a.spx as the index depth(=1) is suspicious (it should rather be 2)\n",
      "  return next(self.gen)\n"
     ]
    }
   ],
   "source": [
    "layer_name = 'nw'\n",
    "gdf = gpd.read_file(pedestrianNWpath, layer=layer_name, engine='pyogrio', \n",
    "                    use_arrow=True, bbox= tuple(uc_city.total_bounds))"
   ]
  },
  {
   "cell_type": "code",
   "execution_count": 37,
   "metadata": {},
   "outputs": [],
   "source": [
    "gdf = gdf.to_crs(epsg=4326)"
   ]
  },
  {
   "cell_type": "code",
   "execution_count": 52,
   "metadata": {},
   "outputs": [],
   "source": [
    "# Initialize an empty graph\n",
    "G = nx.Graph()\n",
    "\n",
    "# Add edges to the graph\n",
    "for idx, row in gdf.iterrows():\n",
    "    geometry = row['geometry']\n",
    "    \n",
    "    # Check if geometry is a MultiLineString\n",
    "    if isinstance(geometry, MultiLineString):\n",
    "        # If MultiLineString, iterate over each LineString using `geoms` attribute\n",
    "        for line in geometry.geoms:\n",
    "            start_point = line.coords[0]\n",
    "            end_point = line.coords[-1]\n",
    "            G.add_edge(Point(start_point), Point(end_point), length=line.length)\n",
    "    elif isinstance(geometry, LineString):\n",
    "        # If LineString, directly add it to the graph\n",
    "        start_point = geometry.coords[0]\n",
    "        end_point = geometry.coords[-1]\n",
    "        G.add_edge(Point(start_point), Point(end_point), length=geometry.length)"
   ]
  },
  {
   "cell_type": "code",
   "execution_count": 19,
   "metadata": {},
   "outputs": [],
   "source": [
    "path = r'P:\\Environment and Health\\Noise\\ServiceContract\\2024_ServiceContract\\QuietAreas\\OutputData\\batch1_allprocessed\\step2\\SA_output_batch1_v0108_6_7_polygon.gdb'\n",
    "center_points_gdf = gpd.read_file(path, layer='GEOSTAT21_029_GUA_pt_50m_nw_25m', engine='pyogrio', \n",
    "                    use_arrow=True, bbox= tuple(uc_city.total_bounds))\n"
   ]
  },
  {
   "cell_type": "code",
   "execution_count": 21,
   "metadata": {},
   "outputs": [],
   "source": [
    "# Extract the Point geometries from the GeoDataFrame\n",
    "center_points = [geom for geom in center_points_gdf.geometry if isinstance(geom, Point)]"
   ]
  },
  {
   "cell_type": "code",
   "execution_count": 23,
   "metadata": {},
   "outputs": [],
   "source": [
    "def create_service_areas(graph, center_points, distance):\n",
    "    service_area_polygons = []\n",
    "\n",
    "    for point in center_points:\n",
    "        # Find the nearest node to the current point\n",
    "        center_node = ox.get_nearest_node(graph, (point.y, point.x))\n",
    "\n",
    "        # Use NetworkX to find nodes within a certain distance\n",
    "        subgraph = nx.ego_graph(graph, center_node, radius=distance, distance='length')\n",
    "        \n",
    "        # Get the edges and nodes of the subgraph\n",
    "        nodes, edges = ox.graph_to_gdfs(subgraph)\n",
    "        \n",
    "        # Extract the coordinates of the nodes\n",
    "        points = [Point(data['x'], data['y']) for node, data in subgraph.nodes(data=True)]\n",
    "        \n",
    "        # Create a convex hull polygon around these points (service area)\n",
    "        if points:\n",
    "            polygon = Polygon(points).convex_hull\n",
    "            service_area_polygons.append(polygon)\n",
    "\n",
    "    # Combine all service area polygons into one\n",
    "    if service_area_polygons:\n",
    "        combined_service_area = unary_union(service_area_polygons)\n",
    "        return combined_service_area, service_area_polygons\n",
    "\n",
    "    return None, []"
   ]
  },
  {
   "cell_type": "code",
   "execution_count": 25,
   "metadata": {},
   "outputs": [],
   "source": [
    "def create_service_areas(graph, center_points, distance_value):\n",
    "    service_area_polygons = []\n",
    "\n",
    "    for point in center_points:\n",
    "        # Find the nearest node to the current point using nearest_nodes\n",
    "        center_node = distance.nearest_nodes(graph, point.x, point.y)\n",
    "\n",
    "        # Use NetworkX to find nodes within a certain distance\n",
    "        subgraph = nx.ego_graph(graph, center_node, radius=distance_value, distance='length')\n",
    "        \n",
    "        # Get the edges and nodes of the subgraph\n",
    "        nodes, edges = ox.graph_to_gdfs(subgraph)\n",
    "        \n",
    "        # Extract the coordinates of the nodes\n",
    "        points = [Point(data['x'], data['y']) for node, data in subgraph.nodes(data=True)]\n",
    "        \n",
    "        # Create a convex hull polygon around these points (service area)\n",
    "        if points:\n",
    "            polygon = Polygon(points).convex_hull\n",
    "            service_area_polygons.append(polygon)\n",
    "\n",
    "    # Combine all service area polygons into one\n",
    "    if service_area_polygons:\n",
    "        combined_service_area = unary_union(service_area_polygons)\n",
    "        return combined_service_area, service_area_polygons\n",
    "\n",
    "    return None, []"
   ]
  },
  {
   "cell_type": "code",
   "execution_count": 30,
   "metadata": {},
   "outputs": [],
   "source": [
    "# Reproject the center points to WGS84 (EPSG:4326)\n",
    "center_points_gdf = center_points_gdf.to_crs(epsg=4326)\n",
    "\n",
    "# Extract the Point geometries\n",
    "center_points = [geom for geom in center_points_gdf.geometry if isinstance(geom, Point)]"
   ]
  },
  {
   "cell_type": "code",
   "execution_count": 31,
   "metadata": {},
   "outputs": [
    {
     "ename": "AttributeError",
     "evalue": "'int' object has no attribute 'nearest_nodes'",
     "output_type": "error",
     "traceback": [
      "\u001b[1;31m---------------------------------------------------------------------------\u001b[0m",
      "\u001b[1;31mAttributeError\u001b[0m                            Traceback (most recent call last)",
      "Cell \u001b[1;32mIn[31], line 35\u001b[0m\n\u001b[0;32m     32\u001b[0m     \u001b[38;5;28;01mreturn\u001b[39;00m \u001b[38;5;28;01mNone\u001b[39;00m, []\n\u001b[0;32m     34\u001b[0m \u001b[38;5;66;03m# Create the combined service area and individual service areas\u001b[39;00m\n\u001b[1;32m---> 35\u001b[0m combined_service_area, service_area_polygons \u001b[38;5;241m=\u001b[39m \u001b[43mcreate_service_areas\u001b[49m\u001b[43m(\u001b[49m\u001b[43mG\u001b[49m\u001b[43m,\u001b[49m\u001b[43m \u001b[49m\u001b[43mcenter_points\u001b[49m\u001b[43m,\u001b[49m\u001b[43m \u001b[49m\u001b[43mdistance_value\u001b[49m\u001b[43m)\u001b[49m\n\u001b[0;32m     37\u001b[0m \u001b[38;5;66;03m# Convert the combined service area to a GeoDataFrame\u001b[39;00m\n\u001b[0;32m     38\u001b[0m combined_service_area_gdf \u001b[38;5;241m=\u001b[39m gpd\u001b[38;5;241m.\u001b[39mGeoDataFrame([combined_service_area], columns\u001b[38;5;241m=\u001b[39m[\u001b[38;5;124m'\u001b[39m\u001b[38;5;124mgeometry\u001b[39m\u001b[38;5;124m'\u001b[39m])\n",
      "Cell \u001b[1;32mIn[31], line 11\u001b[0m, in \u001b[0;36mcreate_service_areas\u001b[1;34m(graph, center_points, distance_value)\u001b[0m\n\u001b[0;32m      7\u001b[0m service_area_polygons \u001b[38;5;241m=\u001b[39m []\n\u001b[0;32m      9\u001b[0m \u001b[38;5;28;01mfor\u001b[39;00m point \u001b[38;5;129;01min\u001b[39;00m center_points:\n\u001b[0;32m     10\u001b[0m     \u001b[38;5;66;03m# Find the nearest node to the current point using nearest_nodes\u001b[39;00m\n\u001b[1;32m---> 11\u001b[0m     center_node \u001b[38;5;241m=\u001b[39m \u001b[43mdistance\u001b[49m\u001b[38;5;241;43m.\u001b[39;49m\u001b[43mnearest_nodes\u001b[49m(graph, point\u001b[38;5;241m.\u001b[39mx, point\u001b[38;5;241m.\u001b[39my)\n\u001b[0;32m     13\u001b[0m     \u001b[38;5;66;03m# Use NetworkX to find nodes within a certain distance\u001b[39;00m\n\u001b[0;32m     14\u001b[0m     subgraph \u001b[38;5;241m=\u001b[39m nx\u001b[38;5;241m.\u001b[39mego_graph(graph, center_node, radius\u001b[38;5;241m=\u001b[39mdistance_value, distance\u001b[38;5;241m=\u001b[39m\u001b[38;5;124m'\u001b[39m\u001b[38;5;124mlength\u001b[39m\u001b[38;5;124m'\u001b[39m)\n",
      "\u001b[1;31mAttributeError\u001b[0m: 'int' object has no attribute 'nearest_nodes'"
     ]
    }
   ],
   "source": [
    "from osmnx.distance import nearest_nodes\n",
    "# Define the service area distance (e.g., 500 meters)\n",
    "distance_value = 500\n",
    "\n",
    "# Function to create service areas\n",
    "def create_service_areas(graph, center_points, distance_value):\n",
    "    service_area_polygons = []\n",
    "\n",
    "    for point in center_points:\n",
    "        # Find the nearest node to the current point using nearest_nodes\n",
    "        center_node = distance.nearest_nodes(graph, point.x, point.y)\n",
    "\n",
    "        # Use NetworkX to find nodes within a certain distance\n",
    "        subgraph = nx.ego_graph(graph, center_node, radius=distance_value, distance='length')\n",
    "        \n",
    "        # Get the edges and nodes of the subgraph\n",
    "        nodes, edges = ox.graph_to_gdfs(subgraph)\n",
    "        \n",
    "        # Extract the coordinates of the nodes\n",
    "        points = [Point(data['x'], data['y']) for node, data in subgraph.nodes(data=True)]\n",
    "        \n",
    "        # Create a convex hull polygon around these points (service area)\n",
    "        if points:\n",
    "            polygon = Polygon(points).convex_hull\n",
    "            service_area_polygons.append(polygon)\n",
    "\n",
    "    # Combine all service area polygons into one\n",
    "    if service_area_polygons:\n",
    "        combined_service_area = unary_union(service_area_polygons)\n",
    "        return combined_service_area, service_area_polygons\n",
    "\n",
    "    return None, []\n",
    "\n",
    "# Create the combined service area and individual service areas\n",
    "combined_service_area, service_area_polygons = create_service_areas(G, center_points, distance_value)\n",
    "\n",
    "# Convert the combined service area to a GeoDataFrame\n",
    "combined_service_area_gdf = gpd.GeoDataFrame([combined_service_area], columns=['geometry'])\n",
    "\n",
    "# Plot the graph and combined service area\n",
    "fig, ax = plt.subplots(figsize=(10, 10))\n",
    "edges.plot(ax=ax, linewidth=1, edgecolor='black')\n",
    "combined_service_area_gdf.boundary.plot(ax=ax, edgecolor='blue', linewidth=2)\n",
    "\n",
    "plt.show()"
   ]
  },
  {
   "cell_type": "code",
   "execution_count": null,
   "metadata": {},
   "outputs": [],
   "source": [
    "orig = ox.nearest_nodes(G, 51.262336765, 7.143472955)\n",
    "dest = ox.nearest_nodes(G, 51.2521799,7.1491453)"
   ]
  },
  {
   "cell_type": "code",
   "execution_count": 47,
   "metadata": {},
   "outputs": [
    {
     "name": "stdout",
     "output_type": "stream",
     "text": [
      "EPSG:4326\n"
     ]
    }
   ],
   "source": [
    "print(G.graph.get('crs')) "
   ]
  },
  {
   "cell_type": "code",
   "execution_count": 46,
   "metadata": {},
   "outputs": [],
   "source": [
    "G.graph['crs'] = 'EPSG:4326'"
   ]
  },
  {
   "cell_type": "code",
   "execution_count": 48,
   "metadata": {},
   "outputs": [
    {
     "ename": "KeyError",
     "evalue": "\"None of [Index(['x', 'y'], dtype='object')] are in the [columns]\"",
     "output_type": "error",
     "traceback": [
      "\u001b[1;31m---------------------------------------------------------------------------\u001b[0m",
      "\u001b[1;31mKeyError\u001b[0m                                  Traceback (most recent call last)",
      "Cell \u001b[1;32mIn[48], line 1\u001b[0m\n\u001b[1;32m----> 1\u001b[0m center_node \u001b[38;5;241m=\u001b[39m  \u001b[43mox\u001b[49m\u001b[38;5;241;43m.\u001b[39;49m\u001b[43mnearest_nodes\u001b[49m\u001b[43m(\u001b[49m\u001b[43mG\u001b[49m\u001b[43m,\u001b[49m\u001b[43m \u001b[49m\u001b[38;5;241;43m11.989759108194786\u001b[39;49m\u001b[43m,\u001b[49m\u001b[43m \u001b[49m\u001b[38;5;241;43m57.68219439583089\u001b[39;49m\u001b[43m)\u001b[49m\n",
      "File \u001b[1;32mc:\\Users\\ubach\\.conda\\envs\\geospatial_ETC_DI_v4\\lib\\site-packages\\osmnx\\distance.py:279\u001b[0m, in \u001b[0;36mnearest_nodes\u001b[1;34m(G, X, Y, return_dist)\u001b[0m\n\u001b[0;32m    277\u001b[0m     msg \u001b[38;5;241m=\u001b[39m \u001b[38;5;124m\"\u001b[39m\u001b[38;5;124m`X` and `Y` cannot contain nulls\u001b[39m\u001b[38;5;124m\"\u001b[39m\n\u001b[0;32m    278\u001b[0m     \u001b[38;5;28;01mraise\u001b[39;00m \u001b[38;5;167;01mValueError\u001b[39;00m(msg)\n\u001b[1;32m--> 279\u001b[0m nodes \u001b[38;5;241m=\u001b[39m \u001b[43mutils_graph\u001b[49m\u001b[38;5;241;43m.\u001b[39;49m\u001b[43mgraph_to_gdfs\u001b[49m\u001b[43m(\u001b[49m\u001b[43mG\u001b[49m\u001b[43m,\u001b[49m\u001b[43m \u001b[49m\u001b[43medges\u001b[49m\u001b[38;5;241;43m=\u001b[39;49m\u001b[38;5;28;43;01mFalse\u001b[39;49;00m\u001b[43m,\u001b[49m\u001b[43m \u001b[49m\u001b[43mnode_geometry\u001b[49m\u001b[38;5;241;43m=\u001b[39;49m\u001b[38;5;28;43;01mFalse\u001b[39;49;00m\u001b[43m)\u001b[49m\u001b[43m[\u001b[49m\u001b[43m[\u001b[49m\u001b[38;5;124;43m\"\u001b[39;49m\u001b[38;5;124;43mx\u001b[39;49m\u001b[38;5;124;43m\"\u001b[39;49m\u001b[43m,\u001b[49m\u001b[43m \u001b[49m\u001b[38;5;124;43m\"\u001b[39;49m\u001b[38;5;124;43my\u001b[39;49m\u001b[38;5;124;43m\"\u001b[39;49m\u001b[43m]\u001b[49m\u001b[43m]\u001b[49m\n\u001b[0;32m    281\u001b[0m \u001b[38;5;28;01mif\u001b[39;00m projection\u001b[38;5;241m.\u001b[39mis_projected(G\u001b[38;5;241m.\u001b[39mgraph[\u001b[38;5;124m\"\u001b[39m\u001b[38;5;124mcrs\u001b[39m\u001b[38;5;124m\"\u001b[39m]):\n\u001b[0;32m    282\u001b[0m     \u001b[38;5;66;03m# if projected, use k-d tree for euclidean nearest-neighbor search\u001b[39;00m\n\u001b[0;32m    283\u001b[0m     \u001b[38;5;28;01mif\u001b[39;00m cKDTree \u001b[38;5;129;01mis\u001b[39;00m \u001b[38;5;28;01mNone\u001b[39;00m:  \u001b[38;5;66;03m# pragma: no cover\u001b[39;00m\n",
      "File \u001b[1;32mc:\\Users\\ubach\\.conda\\envs\\geospatial_ETC_DI_v4\\lib\\site-packages\\geopandas\\geodataframe.py:1415\u001b[0m, in \u001b[0;36mGeoDataFrame.__getitem__\u001b[1;34m(self, key)\u001b[0m\n\u001b[0;32m   1409\u001b[0m \u001b[38;5;28;01mdef\u001b[39;00m \u001b[38;5;21m__getitem__\u001b[39m(\u001b[38;5;28mself\u001b[39m, key):\n\u001b[0;32m   1410\u001b[0m \u001b[38;5;250m    \u001b[39m\u001b[38;5;124;03m\"\"\"\u001b[39;00m\n\u001b[0;32m   1411\u001b[0m \u001b[38;5;124;03m    If the result is a column containing only 'geometry', return a\u001b[39;00m\n\u001b[0;32m   1412\u001b[0m \u001b[38;5;124;03m    GeoSeries. If it's a DataFrame with any columns of GeometryDtype,\u001b[39;00m\n\u001b[0;32m   1413\u001b[0m \u001b[38;5;124;03m    return a GeoDataFrame.\u001b[39;00m\n\u001b[0;32m   1414\u001b[0m \u001b[38;5;124;03m    \"\"\"\u001b[39;00m\n\u001b[1;32m-> 1415\u001b[0m     result \u001b[38;5;241m=\u001b[39m \u001b[38;5;28;43msuper\u001b[39;49m\u001b[43m(\u001b[49m\u001b[43m)\u001b[49m\u001b[38;5;241;43m.\u001b[39;49m\u001b[38;5;21;43m__getitem__\u001b[39;49m\u001b[43m(\u001b[49m\u001b[43mkey\u001b[49m\u001b[43m)\u001b[49m\n\u001b[0;32m   1416\u001b[0m     geo_col \u001b[38;5;241m=\u001b[39m \u001b[38;5;28mself\u001b[39m\u001b[38;5;241m.\u001b[39m_geometry_column_name\n\u001b[0;32m   1417\u001b[0m     \u001b[38;5;28;01mif\u001b[39;00m \u001b[38;5;28misinstance\u001b[39m(result, Series) \u001b[38;5;129;01mand\u001b[39;00m \u001b[38;5;28misinstance\u001b[39m(result\u001b[38;5;241m.\u001b[39mdtype, GeometryDtype):\n",
      "File \u001b[1;32mc:\\Users\\ubach\\.conda\\envs\\geospatial_ETC_DI_v4\\lib\\site-packages\\pandas\\core\\frame.py:3813\u001b[0m, in \u001b[0;36mDataFrame.__getitem__\u001b[1;34m(self, key)\u001b[0m\n\u001b[0;32m   3811\u001b[0m     \u001b[38;5;28;01mif\u001b[39;00m is_iterator(key):\n\u001b[0;32m   3812\u001b[0m         key \u001b[38;5;241m=\u001b[39m \u001b[38;5;28mlist\u001b[39m(key)\n\u001b[1;32m-> 3813\u001b[0m     indexer \u001b[38;5;241m=\u001b[39m \u001b[38;5;28;43mself\u001b[39;49m\u001b[38;5;241;43m.\u001b[39;49m\u001b[43mcolumns\u001b[49m\u001b[38;5;241;43m.\u001b[39;49m\u001b[43m_get_indexer_strict\u001b[49m\u001b[43m(\u001b[49m\u001b[43mkey\u001b[49m\u001b[43m,\u001b[49m\u001b[43m \u001b[49m\u001b[38;5;124;43m\"\u001b[39;49m\u001b[38;5;124;43mcolumns\u001b[39;49m\u001b[38;5;124;43m\"\u001b[39;49m\u001b[43m)\u001b[49m[\u001b[38;5;241m1\u001b[39m]\n\u001b[0;32m   3815\u001b[0m \u001b[38;5;66;03m# take() does not accept boolean indexers\u001b[39;00m\n\u001b[0;32m   3816\u001b[0m \u001b[38;5;28;01mif\u001b[39;00m \u001b[38;5;28mgetattr\u001b[39m(indexer, \u001b[38;5;124m\"\u001b[39m\u001b[38;5;124mdtype\u001b[39m\u001b[38;5;124m\"\u001b[39m, \u001b[38;5;28;01mNone\u001b[39;00m) \u001b[38;5;241m==\u001b[39m \u001b[38;5;28mbool\u001b[39m:\n",
      "File \u001b[1;32mc:\\Users\\ubach\\.conda\\envs\\geospatial_ETC_DI_v4\\lib\\site-packages\\pandas\\core\\indexes\\base.py:6070\u001b[0m, in \u001b[0;36mIndex._get_indexer_strict\u001b[1;34m(self, key, axis_name)\u001b[0m\n\u001b[0;32m   6067\u001b[0m \u001b[38;5;28;01melse\u001b[39;00m:\n\u001b[0;32m   6068\u001b[0m     keyarr, indexer, new_indexer \u001b[38;5;241m=\u001b[39m \u001b[38;5;28mself\u001b[39m\u001b[38;5;241m.\u001b[39m_reindex_non_unique(keyarr)\n\u001b[1;32m-> 6070\u001b[0m \u001b[38;5;28;43mself\u001b[39;49m\u001b[38;5;241;43m.\u001b[39;49m\u001b[43m_raise_if_missing\u001b[49m\u001b[43m(\u001b[49m\u001b[43mkeyarr\u001b[49m\u001b[43m,\u001b[49m\u001b[43m \u001b[49m\u001b[43mindexer\u001b[49m\u001b[43m,\u001b[49m\u001b[43m \u001b[49m\u001b[43maxis_name\u001b[49m\u001b[43m)\u001b[49m\n\u001b[0;32m   6072\u001b[0m keyarr \u001b[38;5;241m=\u001b[39m \u001b[38;5;28mself\u001b[39m\u001b[38;5;241m.\u001b[39mtake(indexer)\n\u001b[0;32m   6073\u001b[0m \u001b[38;5;28;01mif\u001b[39;00m \u001b[38;5;28misinstance\u001b[39m(key, Index):\n\u001b[0;32m   6074\u001b[0m     \u001b[38;5;66;03m# GH 42790 - Preserve name from an Index\u001b[39;00m\n",
      "File \u001b[1;32mc:\\Users\\ubach\\.conda\\envs\\geospatial_ETC_DI_v4\\lib\\site-packages\\pandas\\core\\indexes\\base.py:6130\u001b[0m, in \u001b[0;36mIndex._raise_if_missing\u001b[1;34m(self, key, indexer, axis_name)\u001b[0m\n\u001b[0;32m   6128\u001b[0m     \u001b[38;5;28;01mif\u001b[39;00m use_interval_msg:\n\u001b[0;32m   6129\u001b[0m         key \u001b[38;5;241m=\u001b[39m \u001b[38;5;28mlist\u001b[39m(key)\n\u001b[1;32m-> 6130\u001b[0m     \u001b[38;5;28;01mraise\u001b[39;00m \u001b[38;5;167;01mKeyError\u001b[39;00m(\u001b[38;5;124mf\u001b[39m\u001b[38;5;124m\"\u001b[39m\u001b[38;5;124mNone of [\u001b[39m\u001b[38;5;132;01m{\u001b[39;00mkey\u001b[38;5;132;01m}\u001b[39;00m\u001b[38;5;124m] are in the [\u001b[39m\u001b[38;5;132;01m{\u001b[39;00maxis_name\u001b[38;5;132;01m}\u001b[39;00m\u001b[38;5;124m]\u001b[39m\u001b[38;5;124m\"\u001b[39m)\n\u001b[0;32m   6132\u001b[0m not_found \u001b[38;5;241m=\u001b[39m \u001b[38;5;28mlist\u001b[39m(ensure_index(key)[missing_mask\u001b[38;5;241m.\u001b[39mnonzero()[\u001b[38;5;241m0\u001b[39m]]\u001b[38;5;241m.\u001b[39munique())\n\u001b[0;32m   6133\u001b[0m \u001b[38;5;28;01mraise\u001b[39;00m \u001b[38;5;167;01mKeyError\u001b[39;00m(\u001b[38;5;124mf\u001b[39m\u001b[38;5;124m\"\u001b[39m\u001b[38;5;132;01m{\u001b[39;00mnot_found\u001b[38;5;132;01m}\u001b[39;00m\u001b[38;5;124m not in index\u001b[39m\u001b[38;5;124m\"\u001b[39m)\n",
      "\u001b[1;31mKeyError\u001b[0m: \"None of [Index(['x', 'y'], dtype='object')] are in the [columns]\""
     ]
    }
   ],
   "source": [
    "center_node =  ox.nearest_nodes(G, 11.989759108194786, 57.68219439583089)"
   ]
  },
  {
   "cell_type": "code",
   "execution_count": 49,
   "metadata": {},
   "outputs": [
    {
     "name": "stdout",
     "output_type": "stream",
     "text": [
      "Graph CRS: epsg:4326\n"
     ]
    },
    {
     "ename": "ValueError",
     "evalue": "too many values to unpack (expected 2)",
     "output_type": "error",
     "traceback": [
      "\u001b[1;31m---------------------------------------------------------------------------\u001b[0m",
      "\u001b[1;31mValueError\u001b[0m                                Traceback (most recent call last)",
      "Cell \u001b[1;32mIn[49], line 15\u001b[0m\n\u001b[0;32m     12\u001b[0m \u001b[38;5;28mprint\u001b[39m(\u001b[38;5;124m\"\u001b[39m\u001b[38;5;124mGraph CRS:\u001b[39m\u001b[38;5;124m\"\u001b[39m, G\u001b[38;5;241m.\u001b[39mgraph\u001b[38;5;241m.\u001b[39mget(\u001b[38;5;124m'\u001b[39m\u001b[38;5;124mcrs\u001b[39m\u001b[38;5;124m'\u001b[39m))\n\u001b[0;32m     14\u001b[0m \u001b[38;5;66;03m# Convert graph to GeoDataFrames\u001b[39;00m\n\u001b[1;32m---> 15\u001b[0m nodes_df, _ \u001b[38;5;241m=\u001b[39m ox\u001b[38;5;241m.\u001b[39mgraph_to_gdfs(G, nodes\u001b[38;5;241m=\u001b[39m\u001b[38;5;28;01mTrue\u001b[39;00m, edges\u001b[38;5;241m=\u001b[39m\u001b[38;5;28;01mFalse\u001b[39;00m, node_geometry\u001b[38;5;241m=\u001b[39m\u001b[38;5;28;01mTrue\u001b[39;00m, fill_edge_geometry\u001b[38;5;241m=\u001b[39m\u001b[38;5;28;01mFalse\u001b[39;00m)\n\u001b[0;32m     17\u001b[0m \u001b[38;5;66;03m# Extract 'x' and 'y' if necessary\u001b[39;00m\n\u001b[0;32m     18\u001b[0m \u001b[38;5;28;01mif\u001b[39;00m \u001b[38;5;124m'\u001b[39m\u001b[38;5;124mgeometry\u001b[39m\u001b[38;5;124m'\u001b[39m \u001b[38;5;129;01min\u001b[39;00m nodes_df\u001b[38;5;241m.\u001b[39mcolumns:\n",
      "\u001b[1;31mValueError\u001b[0m: too many values to unpack (expected 2)"
     ]
    }
   ],
   "source": [
    "import osmnx as ox\n",
    "from osmnx.distance import nearest_nodes\n",
    "\n",
    "# Load the network data\n",
    "G = ox.graph_from_place('Piedmont, California, USA', network_type='drive')\n",
    "\n",
    "# Set CRS if not present\n",
    "if 'crs' not in G.graph:\n",
    "    G.graph['crs'] = 'EPSG:4326'  # Replace with the correct CRS if different\n",
    "\n",
    "# Verify CRS\n",
    "print(\"Graph CRS:\", G.graph.get('crs'))\n",
    "\n",
    "# Convert graph to GeoDataFrames\n",
    "nodes_df, _ = ox.graph_to_gdfs(G, nodes=True, edges=False, node_geometry=True, fill_edge_geometry=False)\n",
    "\n",
    "# Extract 'x' and 'y' if necessary\n",
    "if 'geometry' in nodes_df.columns:\n",
    "    nodes_df['x'] = nodes_df['geometry'].x\n",
    "    nodes_df['y'] = nodes_df['geometry'].y\n",
    "\n",
    "# Define coordinates\n",
    "x, y = 11.989759108194786, 57.68219439583089\n",
    "\n",
    "# Find the nearest node\n",
    "center_node = nearest_nodes(G, x, y)\n",
    "print(f\"The nearest node to the coordinates ({x}, {y}) is {center_node}.\")\n"
   ]
  },
  {
   "cell_type": "code",
   "execution_count": 51,
   "metadata": {},
   "outputs": [
    {
     "name": "stdout",
     "output_type": "stream",
     "text": [
      "The nearest node to the coordinates (11.989759108194786, 57.68219439583089) is 3905291938.\n"
     ]
    }
   ],
   "source": [
    "import osmnx as ox\n",
    "from osmnx.distance import nearest_nodes\n",
    "\n",
    "# Load the network data\n",
    "G = ox.graph_from_place('Piedmont, California, USA', network_type='drive')\n",
    "\n",
    "# Ensure CRS is set\n",
    "G.graph['crs'] = 'EPSG:4326'  # Replace with the correct CRS if different\n",
    "\n",
    "# Convert graph to GeoDataFrames\n",
    "nodes_df, edges_df = ox.graph_to_gdfs(G, nodes=True, edges=True, node_geometry=True, fill_edge_geometry=False)\n",
    "\n",
    "# Extract 'x' and 'y' from node_geometry if necessary\n",
    "if 'geometry' in nodes_df.columns:\n",
    "    nodes_df['x'] = nodes_df['geometry'].x\n",
    "    nodes_df['y'] = nodes_df['geometry'].y\n",
    "\n",
    "# Define coordinates\n",
    "x, y = 11.989759108194786, 57.68219439583089\n",
    "\n",
    "# Find the nearest node\n",
    "center_node = nearest_nodes(G, x, y)\n",
    "print(f\"The nearest node to the coordinates ({x}, {y}) is {center_node}.\")\n",
    "\n"
   ]
  },
  {
   "cell_type": "code",
   "execution_count": null,
   "metadata": {},
   "outputs": [],
   "source": []
  },
  {
   "cell_type": "code",
   "execution_count": null,
   "metadata": {},
   "outputs": [],
   "source": [
    "import osmnx as ox\n",
    "import networkx as nx\n",
    "import geopandas as gpd\n",
    "from shapely.geometry import Polygon, MultiPolygon\n",
    "from shapely.ops import unary_union\n",
    "\n",
    "# Step 1: Load Network Data\n",
    "G = ox.graph_from_place('Piedmont, California, USA', network_type='drive')\n",
    "\n",
    "# Set CRS if not present\n",
    "G.graph['crs'] = 'EPSG:4326'\n",
    "\n",
    "# Step 2: Load Points from GeoDataFrame\n",
    "# Assuming `points_gdf` is your GeoDataFrame with points\n",
    "points_gdf = gpd.read_file('path_to_your_points_file.geojson')  # Replace with your file\n",
    "\n",
    "# Ensure points are in the same CRS as the graph\n",
    "points_gdf = points_gdf.to_crs(G.graph['crs'])\n",
    "\n",
    "# Step 3: Create Service Areas\n",
    "def create_service_areas(G, points_gdf, distance_value):\n",
    "    service_area_polygons = []\n",
    "    \n",
    "    for point in points_gdf.geometry:\n",
    "        # Find the nearest node to the current point\n",
    "        x, y = point.x, point.y\n",
    "        center_node = ox.distance.nearest_nodes(G, x, y)\n",
    "        \n",
    "        # Create subgraph around the nearest node\n",
    "        subgraph = nx.ego_graph(G, center_node, radius=distance_value, distance='length')\n",
    "        \n",
    "        # Convert subgraph to a GeoDataFrame\n",
    "        nodes_df, edges_df = ox.graph_to_gdfs(subgraph, nodes=True, edges=True, node_geometry=True, fill_edge_geometry=False)\n",
    "        \n",
    "        # Create a convex hull polygon around the nodes\n",
    "        if not nodes_df.empty:\n",
    "            polygons = nodes_df.geometry.unary_union.convex_hull\n",
    "            service_area_polygons.append(polygons)\n",
    "    \n",
    "    # Combine all service areas into a single MultiPolygon\n",
    "    combined_service_area = unary_union(service_area_polygons)\n",
    "    \n",
    "    return combined_service_area\n",
    "\n",
    "# Define distance (in meters) for the service area\n",
    "distance_value = 1000  # Example: 1000 meters\n",
    "\n",
    "# Create service areas\n",
    "combined_service_area = create_service_areas(G, points_gdf, distance_value)\n",
    "\n",
    "# Step 4: Convert to GeoDataFrame\n",
    "combined_service_area_gdf = gpd.GeoDataFrame(\n",
    "    {'geometry': [combined_service_area]},\n",
    "    crs=G.graph['crs']\n",
    ")\n",
    "\n",
    "# Save or plot the result\n",
    "combined_service_area_gdf.to_file('path_to_output_service_areas.geojson', driver='GeoJSON')\n",
    "combined_service_area_gdf.plot()\n"
   ]
  },
  {
   "cell_type": "code",
   "execution_count": 44,
   "metadata": {},
   "outputs": [
    {
     "ename": "KeyError",
     "evalue": "'crs'",
     "output_type": "error",
     "traceback": [
      "\u001b[1;31m---------------------------------------------------------------------------\u001b[0m",
      "\u001b[1;31mKeyError\u001b[0m                                  Traceback (most recent call last)",
      "Cell \u001b[1;32mIn[44], line 1\u001b[0m\n\u001b[1;32m----> 1\u001b[0m \u001b[43mG\u001b[49m\u001b[38;5;241;43m.\u001b[39;49m\u001b[43mgraph\u001b[49m\u001b[43m[\u001b[49m\u001b[38;5;124;43m\"\u001b[39;49m\u001b[38;5;124;43mcrs\u001b[39;49m\u001b[38;5;124;43m\"\u001b[39;49m\u001b[43m]\u001b[49m\n",
      "\u001b[1;31mKeyError\u001b[0m: 'crs'"
     ]
    }
   ],
   "source": [
    "G.graph[\"crs\"]"
   ]
  },
  {
   "cell_type": "code",
   "execution_count": 40,
   "metadata": {},
   "outputs": [
    {
     "name": "stdout",
     "output_type": "stream",
     "text": [
      "11.989759108194786 57.68219439583089\n"
     ]
    },
    {
     "ename": "AttributeError",
     "evalue": "'int' object has no attribute 'nearest_nodes'",
     "output_type": "error",
     "traceback": [
      "\u001b[1;31m---------------------------------------------------------------------------\u001b[0m",
      "\u001b[1;31mAttributeError\u001b[0m                            Traceback (most recent call last)",
      "Cell \u001b[1;32mIn[40], line 5\u001b[0m\n\u001b[0;32m      3\u001b[0m \u001b[38;5;28mprint\u001b[39m(point\u001b[38;5;241m.\u001b[39mx, point\u001b[38;5;241m.\u001b[39my)\n\u001b[0;32m      4\u001b[0m \u001b[38;5;66;03m# Find the nearest node to the current point using nearest_nodes\u001b[39;00m\n\u001b[1;32m----> 5\u001b[0m center_node \u001b[38;5;241m=\u001b[39m \u001b[43mdistance\u001b[49m\u001b[38;5;241;43m.\u001b[39;49m\u001b[43mnearest_nodes\u001b[49m(G, point\u001b[38;5;241m.\u001b[39mx, point\u001b[38;5;241m.\u001b[39my)\n",
      "\u001b[1;31mAttributeError\u001b[0m: 'int' object has no attribute 'nearest_nodes'"
     ]
    }
   ],
   "source": [
    "from osmnx.distance import nearest_nodes \n",
    "for point in center_points:\n",
    "    print(point.x, point.y)\n",
    "    # Find the nearest node to the current point using nearest_nodes\n",
    "    center_node = distance.nearest_nodes(G, point.x, point.y)"
   ]
  },
  {
   "cell_type": "code",
   "execution_count": 32,
   "metadata": {},
   "outputs": [
    {
     "data": {
      "text/plain": [
       "[<POINT (11.99 57.682)>,\n",
       " <POINT (11.991 57.682)>,\n",
       " <POINT (11.991 57.681)>,\n",
       " <POINT (11.991 57.681)>,\n",
       " <POINT (11.99 57.681)>,\n",
       " <POINT (11.989 57.681)>,\n",
       " <POINT (11.989 57.682)>,\n",
       " <POINT (11.989 57.682)>,\n",
       " <POINT (11.99 57.682)>,\n",
       " <POINT (11.99 57.682)>]"
      ]
     },
     "execution_count": 32,
     "metadata": {},
     "output_type": "execute_result"
    }
   ],
   "source": [
    "center_points"
   ]
  },
  {
   "cell_type": "code",
   "execution_count": 24,
   "metadata": {},
   "outputs": [
    {
     "ename": "AttributeError",
     "evalue": "module 'osmnx' has no attribute 'get_nearest_node'",
     "output_type": "error",
     "traceback": [
      "\u001b[1;31m---------------------------------------------------------------------------\u001b[0m",
      "\u001b[1;31mAttributeError\u001b[0m                            Traceback (most recent call last)",
      "Cell \u001b[1;32mIn[24], line 5\u001b[0m\n\u001b[0;32m      2\u001b[0m distance \u001b[38;5;241m=\u001b[39m \u001b[38;5;241m500\u001b[39m\n\u001b[0;32m      4\u001b[0m \u001b[38;5;66;03m# Create the combined service area and individual service areas\u001b[39;00m\n\u001b[1;32m----> 5\u001b[0m combined_service_area, service_area_polygons \u001b[38;5;241m=\u001b[39m \u001b[43mcreate_service_areas\u001b[49m\u001b[43m(\u001b[49m\u001b[43mG\u001b[49m\u001b[43m,\u001b[49m\u001b[43m \u001b[49m\u001b[43mcenter_points\u001b[49m\u001b[43m,\u001b[49m\u001b[43m \u001b[49m\u001b[43mdistance\u001b[49m\u001b[43m)\u001b[49m\n\u001b[0;32m      7\u001b[0m \u001b[38;5;66;03m# Convert the combined service area to a GeoDataFrame\u001b[39;00m\n\u001b[0;32m      8\u001b[0m combined_service_area_gdf \u001b[38;5;241m=\u001b[39m gpd\u001b[38;5;241m.\u001b[39mGeoDataFrame([combined_service_area], columns\u001b[38;5;241m=\u001b[39m[\u001b[38;5;124m'\u001b[39m\u001b[38;5;124mgeometry\u001b[39m\u001b[38;5;124m'\u001b[39m])\n",
      "Cell \u001b[1;32mIn[23], line 6\u001b[0m, in \u001b[0;36mcreate_service_areas\u001b[1;34m(graph, center_points, distance)\u001b[0m\n\u001b[0;32m      2\u001b[0m service_area_polygons \u001b[38;5;241m=\u001b[39m []\n\u001b[0;32m      4\u001b[0m \u001b[38;5;28;01mfor\u001b[39;00m point \u001b[38;5;129;01min\u001b[39;00m center_points:\n\u001b[0;32m      5\u001b[0m     \u001b[38;5;66;03m# Find the nearest node to the current point\u001b[39;00m\n\u001b[1;32m----> 6\u001b[0m     center_node \u001b[38;5;241m=\u001b[39m \u001b[43mox\u001b[49m\u001b[38;5;241;43m.\u001b[39;49m\u001b[43mget_nearest_node\u001b[49m(graph, (point\u001b[38;5;241m.\u001b[39my, point\u001b[38;5;241m.\u001b[39mx))\n\u001b[0;32m      8\u001b[0m     \u001b[38;5;66;03m# Use NetworkX to find nodes within a certain distance\u001b[39;00m\n\u001b[0;32m      9\u001b[0m     subgraph \u001b[38;5;241m=\u001b[39m nx\u001b[38;5;241m.\u001b[39mego_graph(graph, center_node, radius\u001b[38;5;241m=\u001b[39mdistance, distance\u001b[38;5;241m=\u001b[39m\u001b[38;5;124m'\u001b[39m\u001b[38;5;124mlength\u001b[39m\u001b[38;5;124m'\u001b[39m)\n",
      "\u001b[1;31mAttributeError\u001b[0m: module 'osmnx' has no attribute 'get_nearest_node'"
     ]
    }
   ],
   "source": [
    "# Define the service area distance (e.g., 500 meters)\n",
    "distance = 500\n",
    "\n",
    "# Create the combined service area and individual service areas\n",
    "combined_service_area, service_area_polygons = create_service_areas(G, center_points, distance)\n",
    "\n",
    "# Convert the combined service area to a GeoDataFrame\n",
    "combined_service_area_gdf = gpd.GeoDataFrame([combined_service_area], columns=['geometry'])\n",
    "\n",
    "# Plot the graph and combined service area\n",
    "fig, ax = plt.subplots(figsize=(10, 10))\n",
    "edges.plot(ax=ax, linewidth=1, edgecolor='black')\n",
    "combined_service_area_gdf.boundary.plot(ax=ax, edgecolor='blue', linewidth=2)\n",
    "\n",
    "plt.show()"
   ]
  },
  {
   "cell_type": "code",
   "execution_count": null,
   "metadata": {},
   "outputs": [],
   "source": [
    "\n",
    "\n",
    "pedestrianNWpath = pedestrian_path + r\"\\NW_\" + ctr_cd + \".gdb\\\\\" + ctr_cd + r\"\\Network_ND\"\n",
    "nw_Path = pedestrian_path + r\"\\NW_\" + ctr_cd + \".gdb\" + \"\\\\\" + ctr_cd + \"\\\\nw\"\n",
    "\n",
    "ctr_cd = 'SE'\n",
    "pedestrianNWpath = networks_f + r\"\\NW_\" + ctr_cd + \".gdb\n",
    "\n",
    "pedestrianNWpath\n",
    "pedestrianNWpath = networks_f + r\"\\NW_\" + ctr_cd + \".gdb\\\\\" + ctr_cd + r\"\\Network_ND\"\n",
    "\n",
    "\n",
    "\n",
    "# input parameters\n",
    "pedestrian_path = networks_f\n",
    "outPath = step2_f \n",
    "CODE_Fld = \"code_2018\"\n",
    "UATL_ID_Fld = \"FID\"\n",
    "nbMeters = 400"
   ]
  }
 ],
 "metadata": {
  "kernelspec": {
   "display_name": "geospatial_ETC_DI_v4",
   "language": "python",
   "name": "python3"
  },
  "language_info": {
   "codemirror_mode": {
    "name": "ipython",
    "version": 3
   },
   "file_extension": ".py",
   "mimetype": "text/x-python",
   "name": "python",
   "nbconvert_exporter": "python",
   "pygments_lexer": "ipython3",
   "version": "3.9.15"
  }
 },
 "nbformat": 4,
 "nbformat_minor": 2
}
