{
 "cells": [
  {
   "cell_type": "code",
   "execution_count": 1,
   "metadata": {},
   "outputs": [
    {
     "name": "stderr",
     "output_type": "stream",
     "text": [
      "c:\\Users\\ubach\\.conda\\envs\\geospatial_ETC_DI_v4\\lib\\site-packages\\geopandas\\_compat.py:123: UserWarning: The Shapely GEOS version (3.11.2-CAPI-1.17.2) is incompatible with the GEOS version PyGEOS was compiled with (3.10.4-CAPI-1.16.2). Conversions between both will be slow.\n",
      "  warnings.warn(\n",
      "Q:\\UserTemp\\ubach\\AppData\\Local\\Temp\\147\\ipykernel_51680\\3616590515.py:1: UserWarning: Shapely 2.0 is installed, but because PyGEOS is also installed, GeoPandas will still use PyGEOS by default for now. To force to use and test Shapely 2.0, you have to set the environment variable USE_PYGEOS=0. You can do this before starting the Python process, or in your code before importing geopandas:\n",
      "\n",
      "import os\n",
      "os.environ['USE_PYGEOS'] = '0'\n",
      "import geopandas\n",
      "\n",
      "In a future release, GeoPandas will switch to using Shapely by default. If you are using PyGEOS directly (calling PyGEOS functions on geometries from GeoPandas), this will then stop working and you are encouraged to migrate from PyGEOS to Shapely 2.0 (https://shapely.readthedocs.io/en/latest/migration_pygeos.html).\n",
      "  import geopandas as gpd\n"
     ]
    }
   ],
   "source": [
    "import geopandas as gpd\n",
    "import numpy as np\n",
    "import os\n",
    "import matplotlib.pyplot as plt\n",
    "from shapely.geometry import shape, LineString, mapping\n",
    "from shapely.ops import unary_union, polygonize\n",
    "import glob\n",
    "import pandas as pd\n",
    "import csv\n",
    "from datetime import datetime\n",
    "import time\n"
   ]
  },
  {
   "cell_type": "code",
   "execution_count": 2,
   "metadata": {},
   "outputs": [],
   "source": [
    "# Define engines\n",
    "engines = {\n",
    "    'fiona': {'engine': 'fiona'},\n",
    "    'pyogrio': {'engine': 'pyogrio'},\n",
    "    'pyogrio+arrow': {'engine': 'pyogrio', 'use_arrow': True}\n",
    "          \n",
    "}\n",
    "\n",
    "def write_log(log_path, log_entry):\n",
    "    # Check if the file exists to determine if headers need to be written\n",
    "    file_exists = os.path.isfile(log_path)\n",
    "\n",
    "    # Open the log file in append mode\n",
    "    with open(log_path, 'a', newline='') as csvfile:\n",
    "        log_writer = csv.writer(csvfile)\n",
    "\n",
    "        # Write the header if the file is new\n",
    "        if not file_exists:\n",
    "            log_writer.writerow([\"uc_code\",\"uc_name\",\"ctry_code\",\"TotalUCAreaHa\",\n",
    "                                 \"UC_UA_AreaHa\",\"UC_UA_Pop\",\"UC_UA_NCM_AreaHa\",\"UC_UA_NCM_Pop\",\n",
    "                                 \"Perc_coverage_Area\",\"Perc_coverage_Pop\",\"TotalGreen_urbc_ncm_Ha\",\n",
    "                                 \"TotalGreenQuietAreaHa\",\"TotalGQAPop\",\"TotalGQAPop_p\",\"PercGreenQuietArea\",\n",
    "                                 \"PercGreenQuietPop\",\"PercGreenQuietPop_p\",\"weighted_median_Ha\",\"TotalGreenAreaHa\",\n",
    "                                 \"green_excludedHa\"])\n",
    "\n",
    "        # Write the log entry\n",
    "        log_writer.writerow(log_entry)\n",
    "\n",
    "def create_log_entry(val1, val2, val3, val4, val5, val6, val7, val8, val9, val10, val11, val12, val13, val14, val15, val16, val17, val18, val19, val20):\n",
    "    return [val1, val2, val3, val4, val5, val6, val7, val8, val9, val10, val11, val12, val13, val14, val15, val16, val17, val18, val19, val20]\n",
    "\n"
   ]
  },
  {
   "cell_type": "code",
   "execution_count": 32,
   "metadata": {},
   "outputs": [],
   "source": [
    "# Path to data folders\n",
    "indata_f = r'P:\\Environment and Health\\Noise\\ServiceContract\\2024_ServiceContract\\QuietAreas'\n",
    "step3_f = os.path.join(indata_f, 'OutputData', 'step3_SA', 'Dissolved')\n",
    "outdata_f = r'P:\\Environment and Health\\Noise\\ServiceContract\\2024_ServiceContract\\QuietAreas\\OutputData'\n",
    "ua_data_f = r'A:\\Copernicus\\UrbanAtlas\\UrbanAtlas\\UA2018'\n",
    "# Load urban center delineation\n",
    "path = os.path.join(indata_f, 'UrbanCentres', 'HDC2021_RG_InputUpdateB2B3B4Copy.shp') \n",
    "urban_centers = gpd.read_file(path)\n",
    "\n",
    "# NOISE DATA\n",
    "# Load agglomerations delineations\n",
    "agls_file_path = os.path.join(indata_f, 'NoiseData', 'DF1_5_Agglomerations_20240429.gpkg')\n",
    "# Read the GeoPackage file\n",
    "agls = gpd.read_file(agls_file_path, layer = 'dbo.DF15_AgglomerationSource_Valid_LatestDelivery', \n",
    "                     **engines['pyogrio+arrow'],columns=['agglomerationId_identifier', 'agglomerationName_nameEng', 'geometry'])\n",
    "\n",
    "# TRANSLATOR TABLE\n",
    "# Crosswalk table containing the different codes from input sources\n",
    "codes_path = r'P:\\Environment and Health\\Noise\\ServiceContract\\2024_ServiceContract\\QuietAreas\\Processing\\Codes.csv'\n",
    "codes = pd.read_csv(codes_path)\n",
    "\n",
    "# GQA\n",
    "path2FinalGQA = r'P:\\Environment and Health\\Noise\\ServiceContract\\2024_ServiceContract\\QuietAreas\\OutputData\\step2_GQA_Final'\n",
    "\n",
    "# FINAL OUTPUT TABLE\n",
    "csv_name = 'GQATotals_DGREGIO_v01.csv'\n",
    "csv_path = os.path.join(outdata_f, 'OutTables', csv_name)"
   ]
  },
  {
   "cell_type": "code",
   "execution_count": 36,
   "metadata": {},
   "outputs": [],
   "source": [
    "csv_name = 'GQATotals_DGREGIO_v02.csv'\n",
    "csv_path = os.path.join(outdata_f, 'OutTables', csv_name)\n",
    "SA_ls = ['GEOSTAT21_222',\n",
    " 'GEOSTAT21_297',\n",
    " 'GEOSTAT21_334',\n",
    " 'GEOSTAT21_363',\n",
    " 'GEOSTAT21_405',\n",
    " 'GEOSTAT21_408',\n",
    " 'GEOSTAT21_511','GEOSTAT21_650', 'GEOSTAT21_901',\n",
    " 'GEOSTAT21_925']"
   ]
  },
  {
   "cell_type": "code",
   "execution_count": 37,
   "metadata": {},
   "outputs": [
    {
     "ename": "IndexError",
     "evalue": "index 0 is out of bounds for axis 0 with size 0",
     "output_type": "error",
     "traceback": [
      "\u001b[1;31m---------------------------------------------------------------------------\u001b[0m",
      "\u001b[1;31mIndexError\u001b[0m                                Traceback (most recent call last)",
      "Cell \u001b[1;32mIn[37], line 13\u001b[0m\n\u001b[0;32m     11\u001b[0m \u001b[38;5;28;01mfor\u001b[39;00m sa_name \u001b[38;5;129;01min\u001b[39;00m SA_ls:\n\u001b[0;32m     12\u001b[0m     uc_code \u001b[38;5;241m=\u001b[39m os\u001b[38;5;241m.\u001b[39mpath\u001b[38;5;241m.\u001b[39mbasename(sa_name)[:\u001b[38;5;241m-\u001b[39m\u001b[38;5;241m8\u001b[39m]\n\u001b[1;32m---> 13\u001b[0m     uc_name \u001b[38;5;241m=\u001b[39m \u001b[43mcodes\u001b[49m\u001b[38;5;241;43m.\u001b[39;49m\u001b[43mquery\u001b[49m\u001b[43m(\u001b[49m\u001b[38;5;124;43mf\u001b[39;49m\u001b[38;5;124;43m'\u001b[39;49m\u001b[38;5;124;43mHDENS_CLST==\u001b[39;49m\u001b[38;5;124;43m\"\u001b[39;49m\u001b[38;5;132;43;01m{\u001b[39;49;00m\u001b[43muc_code\u001b[49m\u001b[38;5;132;43;01m}\u001b[39;49;00m\u001b[38;5;124;43m\"\u001b[39;49m\u001b[38;5;124;43m'\u001b[39;49m\u001b[43m)\u001b[49m\u001b[38;5;241;43m.\u001b[39;49m\u001b[43mHDENS_NAME\u001b[49m\u001b[38;5;241;43m.\u001b[39;49m\u001b[43mvalues\u001b[49m\u001b[43m[\u001b[49m\u001b[38;5;241;43m0\u001b[39;49m\u001b[43m]\u001b[49m\n\u001b[0;32m     14\u001b[0m     timenow \u001b[38;5;241m=\u001b[39m time\u001b[38;5;241m.\u001b[39mstrftime(\u001b[38;5;124m\"\u001b[39m\u001b[38;5;124m%\u001b[39m\u001b[38;5;124mH:\u001b[39m\u001b[38;5;124m%\u001b[39m\u001b[38;5;124mM:\u001b[39m\u001b[38;5;124m%\u001b[39m\u001b[38;5;124mS\u001b[39m\u001b[38;5;124m\"\u001b[39m, time\u001b[38;5;241m.\u001b[39mlocaltime())\n\u001b[0;32m     15\u001b[0m     \u001b[38;5;28mprint\u001b[39m(\u001b[38;5;124mf\u001b[39m\u001b[38;5;124m'\u001b[39m\u001b[38;5;132;01m{\u001b[39;00muc_name\u001b[38;5;132;01m}\u001b[39;00m\u001b[38;5;124m \u001b[39m\u001b[38;5;132;01m{\u001b[39;00muc_code\u001b[38;5;132;01m}\u001b[39;00m\u001b[38;5;124m - \u001b[39m\u001b[38;5;132;01m{\u001b[39;00mtimenow\u001b[38;5;132;01m}\u001b[39;00m\u001b[38;5;124m'\u001b[39m)\n",
      "\u001b[1;31mIndexError\u001b[0m: index 0 is out of bounds for axis 0 with size 0"
     ]
    }
   ],
   "source": [
    "if os.path.exists(csv_path): \n",
    "    outtbl = pd.read_csv(csv_path)\n",
    "    cities_ls = outtbl.uc_code.to_list()\n",
    "else:\n",
    "    cities_ls = []\n",
    "\n",
    "#SA_ls = sorted(glob.glob(os.path.join(step3_f, '*.shp')))\n",
    "#SA_ls.reverse()\n",
    "\n",
    "# Print the list of shapefiles\n",
    "for sa_name in SA_ls:\n",
    "    uc_code = os.path.basename(sa_name)[:-8]\n",
    "    uc_name = codes.query(f'HDENS_CLST==\"{uc_code}\"').HDENS_NAME.values[0]\n",
    "    timenow = time.strftime(\"%H:%M:%S\", time.localtime())\n",
    "    print(f'{uc_name} {uc_code} - {timenow}')\n",
    "    \n",
    "    if uc_code not in cities_ls:\n",
    "\n",
    "        # Load urban center\n",
    "        urban_center = urban_centers.query(f'HDENS_CLST==\"{uc_code}\"')\n",
    "        ctry_code = urban_centers.query(f'HDENS_CLST==\"{uc_code}\"').CNTR_CODE.values[0]\n",
    "        TotalUCArea = urban_center.geometry.area.sum()\n",
    "        TotalUCAreaHa = round(TotalUCArea/10000,2)  \n",
    "\n",
    "        # Erase those areas of SA overlapping the GUAs\n",
    "        # Load QGA\n",
    "        path = os.path.join(path2FinalGQA, f'{uc_code}_finalGQA.shp')\n",
    "        GQA = gpd.read_file(path)\n",
    "        GQA = GQA.reset_index().rename(columns={'index': 'GQA_FID'})\n",
    "        if 'area' in GQA.columns:\n",
    "            GQA['GQA_m2'] = GQA['area']\n",
    "        else:\n",
    "            GQA['GQA_m2'] = GQA['Area']\n",
    "\n",
    "        # Remove the outer areas from urban centers      \n",
    "        file_path = os.path.join(outdata_f,'SA_GQA_urbc', f'{uc_code}_SA_GQA_urbc.shp')\n",
    "        if not os.path.exists(file_path):\n",
    "            # Remove GQA delineation from the SA\n",
    "            file_path_SAd = os.path.join(step3_f, f'{uc_code}_SAd.shp')\n",
    "            SA_GQA_total = gpd.read_file(file_path_SAd)\n",
    "            SA_GQA_total = SA_GQA_total.merge(GQA[['GQA_FID', 'GQA_m2']], left_on='FID_', right_on='GQA_FID', how='left')\n",
    "            SA_GQA_urbc = gpd.overlay(SA_GQA_total, urban_center, how='intersection')\n",
    "            SA_GQA_urbc.to_file(file_path, driver='ESRI Shapefile')     \n",
    "        else:\n",
    "            SA_GQA_urbc = gpd.read_file(file_path)\n",
    "\n",
    "        #### Final computations including population\n",
    "        ## Compute Total Green Areas\n",
    "        # Read Urban Atlas data\n",
    "        ua_path = codes.query(f'HDENS_CLST==\"{uc_code}\"').UA2018.values[0].strip()\n",
    "        file_path = os.path.join(ua_data_f, f'{ua_path}\\Data\\{ua_path}.gpkg')\n",
    "        # Read the GeoPackage file\n",
    "        ua = gpd.read_file(file_path, layer= ua_path[:-5], \n",
    "                    columns= ['code_2018','Pop2018','geometry'], engine='pyogrio', \n",
    "                    use_arrow=True, bbox= tuple(urban_center.total_bounds))\n",
    "        \n",
    "        ua_urbc = gpd.overlay(ua, urban_center, how='intersection')\n",
    "        #ua_urbc = gpd.clip(ua, urban_center)\n",
    "        UC_UA_Area = ua_urbc.geometry.area.sum()\n",
    "        UC_UA_AreaHa = round(UC_UA_Area/10000,2)\n",
    "        UC_UA_Pop = int(ua_urbc.Pop2018.sum())\n",
    "        \n",
    "        # area of analysis\n",
    "        ua_urbc_agl = gpd.overlay(ua_urbc, agls, how='intersection')\n",
    "        UC_UA_NCM_AreaHa = round(ua_urbc_agl.geometry.area.sum()/10000,2)\n",
    "        UC_UA_NCM_Pop = int(ua_urbc_agl.Pop2018.sum())\n",
    "\n",
    "        # Perc coverage area\n",
    "        # UC_NCM_UA_Area/Ref Area*100\n",
    "        Perc_coverage_Area = round((UC_UA_NCM_AreaHa/TotalUCAreaHa)*100,2)\n",
    "        \n",
    "        # Perc coverage popultation\n",
    "        # UC_NCM_UA_Pop/UC_UA_Pop*100\n",
    "        if UC_UA_Pop>0 and UC_UA_NCM_Pop>0:\n",
    "            Perc_coverage_Pop = round((UC_UA_NCM_Pop/UC_UA_Pop)*100,2)\n",
    "        else:\n",
    "            Perc_coverage_Pop = 0\n",
    "  \n",
    "        # All green areas (GUAs and forests) in the urban center (including data outside the ncm)\n",
    "        TotalGreenArea = ua_urbc.query('code_2018 == \"14100\" or code_2018 == \"31000\"').geometry.area.sum()\n",
    "        TotalGreenAreaHa = round(TotalGreenArea/10000,2)\n",
    "\n",
    "        # green in the study area\n",
    "        ua_urbc_agl_green = ua_urbc_agl.query('code_2018 == \"14100\" or code_2018 == \"31000\"')\n",
    "        TotalGreen_urbc_ncm_Ha = round(ua_urbc_agl_green.geometry.area.sum()/10000,2)\n",
    "        # save to file\n",
    "        file_path = os.path.join(outdata_f, 'Green_inUCUA_Aglos', f'{uc_code}_greenUCUANCM.shp')\n",
    "        if not os.path.exists(file_path):\n",
    "            ua_urbc_agl_green.to_file(file_path, driver='ESRI Shapefile')\n",
    "\n",
    "        # Excluded areas = TotalGreen in the urban center - TotalGreen in the uc & ncm \n",
    "        green_excludedHa = TotalGreenAreaHa - TotalGreen_urbc_ncm_Ha\n",
    "        \n",
    "        # Total Green Quiet Areas\n",
    "        TotalGreenQuietAreaHa = round(GQA.area.sum()/10000,2)\n",
    "\n",
    "        # Percentage of Green Quiet Areas\n",
    "        ## Computed as:\n",
    "        ## % of green quiet areas =  TotalGQA/(TotalGreenAreas-Green excluded) * 100\n",
    "        ### Quiet_Area/UC_NCM_UA_Green_Area*100\n",
    "        if TotalGreenQuietAreaHa>0 and TotalGreen_urbc_ncm_Ha>0:\n",
    "            PercGreenQuietArea = TotalGreenQuietAreaHa/(TotalGreen_urbc_ncm_Ha)*100\n",
    "        else:\n",
    "            PercGreenQuietArea = 0\n",
    "\n",
    "        # Computing Population\n",
    "        # Total Population with access to GQA\n",
    "        SA_mask = SA_GQA_urbc[['geometry', 'HDENS_NAME', 'CNTR_CODE', 'HDENS_CLST']].dissolve(by='HDENS_CLST')\n",
    "        SA_ua = gpd.overlay(SA_mask,ua,how='intersection')  \n",
    "        TotalGQAPop = SA_ua.Pop2018.sum()\n",
    "\n",
    "        # Perc Population\n",
    "        # TotalGQAPop/UC_NCM_UA_Pop*100\n",
    "        if TotalGQAPop>0 and UC_UA_NCM_Pop>0:\n",
    "            PercGreenQuietPop = TotalGQAPop/UC_UA_NCM_Pop*100\n",
    "        else:\n",
    "            PercGreenQuietPop = 0\n",
    "        \n",
    "        # Computing the weighted median\n",
    "        ua['UA_area_m2'] = round(ua.geometry.area,2)\n",
    "        SA_GQA_ua = gpd.overlay(SA_GQA_urbc,ua,how='intersection')  \n",
    "        if not SA_GQA_ua.empty:  \n",
    "            SA_GQA_ua = SA_GQA_ua[['GQA_FID', 'GQA_m2','code_2018', 'Pop2018','UA_area_m2', 'geometry']]\n",
    "            SA_GQA_ua['final_area_m2'] = round(SA_GQA_ua.geometry.area,2)\n",
    "            SA_GQA_ua['area_prop'] = SA_GQA_ua['final_area_m2']/SA_GQA_ua['UA_area_m2'] # capture proportion from original geometry\n",
    "            SA_GQA_ua['Pop2018_poly'] = SA_GQA_ua['Pop2018']*SA_GQA_ua['area_prop']\n",
    "            SA_GQA_ua['Pop2018_final'] = round(SA_GQA_ua.Pop2018_poly,0)\n",
    "            # compute the weighted median for the GQ area\n",
    "            column_to_compute_median = 'GQA_m2'\n",
    "            weighted_median_m2 = np.average(SA_GQA_ua[column_to_compute_median], weights=SA_GQA_ua['Pop2018_poly'])\n",
    "            weighted_median_Ha = round(weighted_median_m2/10000,2)\n",
    "        else:\n",
    "            weighted_median_Ha = 0\n",
    "\n",
    "        # Write values to output table\n",
    "        log_entry = create_log_entry(uc_code , uc_name , ctry_code , TotalUCAreaHa ,\n",
    "                                UC_UA_AreaHa , UC_UA_Pop , UC_UA_NCM_AreaHa , UC_UA_NCM_Pop,\n",
    "                                Perc_coverage_Area , Perc_coverage_Pop , TotalGreen_urbc_ncm_Ha ,\n",
    "                                TotalGreenQuietAreaHa , TotalGQAPop , PercGreenQuietArea ,\n",
    "                                PercGreenQuietPop , weighted_median_Ha , TotalGreenAreaHa ,\n",
    "                                green_excludedHa)\n",
    "        write_log(csv_path, log_entry)\n",
    "\n",
    "    \n"
   ]
  },
  {
   "cell_type": "code",
   "execution_count": 4,
   "metadata": {},
   "outputs": [],
   "source": [
    "SA_ls = sorted(glob.glob(os.path.join(step3_f, '*.shp')))"
   ]
  },
  {
   "cell_type": "code",
   "execution_count": 27,
   "metadata": {},
   "outputs": [
    {
     "data": {
      "text/plain": [
       "['P:\\\\Environment and Health\\\\Noise\\\\ServiceContract\\\\2024_ServiceContract\\\\QuietAreas\\\\OutputData\\\\step3_SA\\\\Dissolved\\\\GEOSTAT21_441_SAd.shp']"
      ]
     },
     "execution_count": 27,
     "metadata": {},
     "output_type": "execute_result"
    }
   ],
   "source": [
    "SA_ls[159:160]"
   ]
  },
  {
   "cell_type": "code",
   "execution_count": 33,
   "metadata": {},
   "outputs": [
    {
     "name": "stdout",
     "output_type": "stream",
     "text": [
      "Oulu / Uleåborg GEOSTAT21_002 - 15:28:56\n",
      "Umeå GEOSTAT21_003 - 15:29:27\n"
     ]
    },
    {
     "name": "stderr",
     "output_type": "stream",
     "text": [
      "Q:\\UserTemp\\ubach\\AppData\\Local\\Temp\\40\\ipykernel_126376\\2347343578.py:57: UserWarning: `keep_geom_type=True` in overlay resulted in 2 dropped geometries of different geometry types than df1 has. Set `keep_geom_type=False` to retain all geometries\n",
      "  ua_urbc = gpd.overlay(ua, urban_center, how='intersection')\n"
     ]
    },
    {
     "name": "stdout",
     "output_type": "stream",
     "text": [
      "Trondheim GEOSTAT21_004 - 15:30:36\n",
      "Jyväskylä GEOSTAT21_005 - 15:31:24\n",
      "Tampere / Tammerfors GEOSTAT21_006 - 15:31:52\n",
      "Turku / Åbo GEOSTAT21_007 - 15:34:17\n",
      "Bergen GEOSTAT21_011 - 15:36:11\n",
      "Tallinn GEOSTAT21_012 - 15:36:50\n",
      "Uppsala GEOSTAT21_013 - 15:39:06\n"
     ]
    },
    {
     "name": "stderr",
     "output_type": "stream",
     "text": [
      "Q:\\UserTemp\\ubach\\AppData\\Local\\Temp\\40\\ipykernel_126376\\2347343578.py:57: UserWarning: `keep_geom_type=True` in overlay resulted in 2 dropped geometries of different geometry types than df1 has. Set `keep_geom_type=False` to retain all geometries\n",
      "  ua_urbc = gpd.overlay(ua, urban_center, how='intersection')\n"
     ]
    },
    {
     "name": "stdout",
     "output_type": "stream",
     "text": [
      "Västerås GEOSTAT21_016 - 15:41:26\n"
     ]
    },
    {
     "name": "stderr",
     "output_type": "stream",
     "text": [
      "Q:\\UserTemp\\ubach\\AppData\\Local\\Temp\\40\\ipykernel_126376\\2347343578.py:57: UserWarning: `keep_geom_type=True` in overlay resulted in 2 dropped geometries of different geometry types than df1 has. Set `keep_geom_type=False` to retain all geometries\n",
      "  ua_urbc = gpd.overlay(ua, urban_center, how='intersection')\n"
     ]
    },
    {
     "name": "stdout",
     "output_type": "stream",
     "text": [
      "Stockholm GEOSTAT21_018 - 15:41:55\n"
     ]
    },
    {
     "name": "stderr",
     "output_type": "stream",
     "text": [
      "Q:\\UserTemp\\ubach\\AppData\\Local\\Temp\\40\\ipykernel_126376\\2347343578.py:57: UserWarning: `keep_geom_type=True` in overlay resulted in 93 dropped geometries of different geometry types than df1 has. Set `keep_geom_type=False` to retain all geometries\n",
      "  ua_urbc = gpd.overlay(ua, urban_center, how='intersection')\n"
     ]
    },
    {
     "name": "stdout",
     "output_type": "stream",
     "text": [
      "Tartu GEOSTAT21_021 - 16:02:01\n",
      "Örebro GEOSTAT21_022 - 16:02:29\n",
      "Stavanger GEOSTAT21_023 - 16:03:18\n",
      "Norrköping GEOSTAT21_024 - 16:04:14\n",
      "Linköping GEOSTAT21_025 - 16:04:46\n"
     ]
    },
    {
     "name": "stderr",
     "output_type": "stream",
     "text": [
      "Q:\\UserTemp\\ubach\\AppData\\Local\\Temp\\40\\ipykernel_126376\\2347343578.py:57: UserWarning: `keep_geom_type=True` in overlay resulted in 2 dropped geometries of different geometry types than df1 has. Set `keep_geom_type=False` to retain all geometries\n",
      "  ua_urbc = gpd.overlay(ua, urban_center, how='intersection')\n",
      "Q:\\UserTemp\\ubach\\AppData\\Local\\Temp\\40\\ipykernel_126376\\2347343578.py:110: UserWarning: `keep_geom_type=True` in overlay resulted in 2 dropped geometries of different geometry types than df1 has. Set `keep_geom_type=False` to retain all geometries\n",
      "  SA_ua = gpd.overlay(SA_mask,ua,how='intersection')\n",
      "Q:\\UserTemp\\ubach\\AppData\\Local\\Temp\\40\\ipykernel_126376\\2347343578.py:117: UserWarning: `keep_geom_type=True` in overlay resulted in 6 dropped geometries of different geometry types than df1 has. Set `keep_geom_type=False` to retain all geometries\n",
      "  SA_GQA_ua = gpd.overlay(SA_GQA_urbc,ua,how='intersection')\n"
     ]
    },
    {
     "name": "stdout",
     "output_type": "stream",
     "text": [
      "Borås GEOSTAT21_026 - 16:06:36\n",
      "Rīga GEOSTAT21_028 - 16:06:47\n",
      "Göteborg GEOSTAT21_029 - 16:09:02\n"
     ]
    },
    {
     "name": "stderr",
     "output_type": "stream",
     "text": [
      "Q:\\UserTemp\\ubach\\AppData\\Local\\Temp\\40\\ipykernel_126376\\2347343578.py:57: UserWarning: `keep_geom_type=True` in overlay resulted in 79 dropped geometries of different geometry types than df1 has. Set `keep_geom_type=False` to retain all geometries\n",
      "  ua_urbc = gpd.overlay(ua, urban_center, how='intersection')\n",
      "Q:\\UserTemp\\ubach\\AppData\\Local\\Temp\\40\\ipykernel_126376\\2347343578.py:110: UserWarning: `keep_geom_type=True` in overlay resulted in 335 dropped geometries of different geometry types than df1 has. Set `keep_geom_type=False` to retain all geometries\n",
      "  SA_ua = gpd.overlay(SA_mask,ua,how='intersection')\n",
      "Q:\\UserTemp\\ubach\\AppData\\Local\\Temp\\40\\ipykernel_126376\\2347343578.py:117: UserWarning: `keep_geom_type=True` in overlay resulted in 49 dropped geometries of different geometry types than df1 has. Set `keep_geom_type=False` to retain all geometries\n",
      "  SA_GQA_ua = gpd.overlay(SA_GQA_urbc,ua,how='intersection')\n"
     ]
    },
    {
     "name": "stdout",
     "output_type": "stream",
     "text": [
      "Aalborg GEOSTAT21_031 - 16:18:31\n",
      "Århus GEOSTAT21_047 - 16:20:13\n"
     ]
    },
    {
     "name": "stderr",
     "output_type": "stream",
     "text": [
      "Q:\\UserTemp\\ubach\\AppData\\Local\\Temp\\40\\ipykernel_126376\\2347343578.py:57: UserWarning: `keep_geom_type=True` in overlay resulted in 38 dropped geometries of different geometry types than df1 has. Set `keep_geom_type=False` to retain all geometries\n",
      "  ua_urbc = gpd.overlay(ua, urban_center, how='intersection')\n",
      "Q:\\UserTemp\\ubach\\AppData\\Local\\Temp\\40\\ipykernel_126376\\2347343578.py:110: UserWarning: `keep_geom_type=True` in overlay resulted in 213 dropped geometries of different geometry types than df1 has. Set `keep_geom_type=False` to retain all geometries\n",
      "  SA_ua = gpd.overlay(SA_mask,ua,how='intersection')\n",
      "Q:\\UserTemp\\ubach\\AppData\\Local\\Temp\\40\\ipykernel_126376\\2347343578.py:117: UserWarning: `keep_geom_type=True` in overlay resulted in 5 dropped geometries of different geometry types than df1 has. Set `keep_geom_type=False` to retain all geometries\n",
      "  SA_GQA_ua = gpd.overlay(SA_GQA_urbc,ua,how='intersection')\n"
     ]
    },
    {
     "name": "stdout",
     "output_type": "stream",
     "text": [
      "Helsingborg GEOSTAT21_048 - 16:23:06\n",
      "Lund GEOSTAT21_049 - 16:23:22\n",
      "Kaunas GEOSTAT21_051 - 16:24:50\n",
      "Malmö GEOSTAT21_054 - 16:25:11\n",
      "Odense GEOSTAT21_060 - 16:26:48\n",
      "Gdynia GEOSTAT21_065 - 16:28:24\n",
      "Gdańsk GEOSTAT21_068 - 16:28:48\n"
     ]
    },
    {
     "name": "stderr",
     "output_type": "stream",
     "text": [
      "Q:\\UserTemp\\ubach\\AppData\\Local\\Temp\\40\\ipykernel_126376\\2347343578.py:57: UserWarning: `keep_geom_type=True` in overlay resulted in 30 dropped geometries of different geometry types than df1 has. Set `keep_geom_type=False` to retain all geometries\n",
      "  ua_urbc = gpd.overlay(ua, urban_center, how='intersection')\n"
     ]
    },
    {
     "name": "stdout",
     "output_type": "stream",
     "text": [
      "Elbląg GEOSTAT21_070 - 16:29:48\n",
      "Kiel GEOSTAT21_086 - 16:29:59\n"
     ]
    },
    {
     "name": "stderr",
     "output_type": "stream",
     "text": [
      "Q:\\UserTemp\\ubach\\AppData\\Local\\Temp\\40\\ipykernel_126376\\2347343578.py:57: UserWarning: `keep_geom_type=True` in overlay resulted in 31 dropped geometries of different geometry types than df1 has. Set `keep_geom_type=False` to retain all geometries\n",
      "  ua_urbc = gpd.overlay(ua, urban_center, how='intersection')\n",
      "Q:\\UserTemp\\ubach\\AppData\\Local\\Temp\\40\\ipykernel_126376\\2347343578.py:110: UserWarning: `keep_geom_type=True` in overlay resulted in 3 dropped geometries of different geometry types than df1 has. Set `keep_geom_type=False` to retain all geometries\n",
      "  SA_ua = gpd.overlay(SA_mask,ua,how='intersection')\n",
      "Q:\\UserTemp\\ubach\\AppData\\Local\\Temp\\40\\ipykernel_126376\\2347343578.py:117: UserWarning: `keep_geom_type=True` in overlay resulted in 4 dropped geometries of different geometry types than df1 has. Set `keep_geom_type=False` to retain all geometries\n",
      "  SA_GQA_ua = gpd.overlay(SA_GQA_urbc,ua,how='intersection')\n"
     ]
    },
    {
     "name": "stdout",
     "output_type": "stream",
     "text": [
      "Olsztyn GEOSTAT21_090 - 16:31:32\n",
      "Lütten Klein GEOSTAT21_093 - 16:32:00\n",
      "Rostock GEOSTAT21_094 - 16:32:10\n",
      "Limerick GEOSTAT21_095 - 16:32:25\n",
      "Lübeck GEOSTAT21_108 - 16:32:48\n"
     ]
    },
    {
     "name": "stderr",
     "output_type": "stream",
     "text": [
      "Q:\\UserTemp\\ubach\\AppData\\Local\\Temp\\40\\ipykernel_126376\\2347343578.py:57: UserWarning: `keep_geom_type=True` in overlay resulted in 20 dropped geometries of different geometry types than df1 has. Set `keep_geom_type=False` to retain all geometries\n",
      "  ua_urbc = gpd.overlay(ua, urban_center, how='intersection')\n"
     ]
    },
    {
     "name": "stdout",
     "output_type": "stream",
     "text": [
      "Białystok GEOSTAT21_109 - 16:33:12\n"
     ]
    },
    {
     "name": "stderr",
     "output_type": "stream",
     "text": [
      "Q:\\UserTemp\\ubach\\AppData\\Local\\Temp\\40\\ipykernel_126376\\2347343578.py:57: UserWarning: `keep_geom_type=True` in overlay resulted in 16 dropped geometries of different geometry types than df1 has. Set `keep_geom_type=False` to retain all geometries\n",
      "  ua_urbc = gpd.overlay(ua, urban_center, how='intersection')\n"
     ]
    },
    {
     "name": "stdout",
     "output_type": "stream",
     "text": [
      "Bremerhaven GEOSTAT21_118 - 16:33:38\n"
     ]
    },
    {
     "name": "stderr",
     "output_type": "stream",
     "text": [
      "Q:\\UserTemp\\ubach\\AppData\\Local\\Temp\\40\\ipykernel_126376\\2347343578.py:57: UserWarning: `keep_geom_type=True` in overlay resulted in 1 dropped geometries of different geometry types than df1 has. Set `keep_geom_type=False` to retain all geometries\n",
      "  ua_urbc = gpd.overlay(ua, urban_center, how='intersection')\n"
     ]
    },
    {
     "name": "stdout",
     "output_type": "stream",
     "text": [
      "Hamburg GEOSTAT21_119 - 16:34:02\n",
      "Szczecin GEOSTAT21_120 - 16:49:15\n"
     ]
    },
    {
     "name": "stderr",
     "output_type": "stream",
     "text": [
      "Q:\\UserTemp\\ubach\\AppData\\Local\\Temp\\40\\ipykernel_126376\\2347343578.py:57: UserWarning: `keep_geom_type=True` in overlay resulted in 1 dropped geometries of different geometry types than df1 has. Set `keep_geom_type=False` to retain all geometries\n",
      "  ua_urbc = gpd.overlay(ua, urban_center, how='intersection')\n"
     ]
    },
    {
     "name": "stdout",
     "output_type": "stream",
     "text": [
      "Harburg GEOSTAT21_121 - 16:49:36\n",
      "Kasztelanka GEOSTAT21_122 - 16:52:25\n",
      "Bydgoszcz GEOSTAT21_128 - 16:52:39\n",
      "Toruń GEOSTAT21_131 - 16:53:01\n",
      "Cork GEOSTAT21_132 - 16:53:24\n",
      "Groningen GEOSTAT21_137 - 16:54:23\n",
      "Gröpelingen / Vegesack GEOSTAT21_140 - 16:55:06\n",
      "Oldenburg (Oldenburg) GEOSTAT21_141 - 16:57:11\n"
     ]
    },
    {
     "name": "stderr",
     "output_type": "stream",
     "text": [
      "Q:\\UserTemp\\ubach\\AppData\\Local\\Temp\\40\\ipykernel_126376\\2347343578.py:57: UserWarning: `keep_geom_type=True` in overlay resulted in 2 dropped geometries of different geometry types than df1 has. Set `keep_geom_type=False` to retain all geometries\n",
      "  ua_urbc = gpd.overlay(ua, urban_center, how='intersection')\n",
      "Q:\\UserTemp\\ubach\\AppData\\Local\\Temp\\40\\ipykernel_126376\\2347343578.py:110: UserWarning: `keep_geom_type=True` in overlay resulted in 2 dropped geometries of different geometry types than df1 has. Set `keep_geom_type=False` to retain all geometries\n",
      "  SA_ua = gpd.overlay(SA_mask,ua,how='intersection')\n",
      "Q:\\UserTemp\\ubach\\AppData\\Local\\Temp\\40\\ipykernel_126376\\2347343578.py:117: UserWarning: `keep_geom_type=True` in overlay resulted in 2 dropped geometries of different geometry types than df1 has. Set `keep_geom_type=False` to retain all geometries\n",
      "  SA_GQA_ua = gpd.overlay(SA_GQA_urbc,ua,how='intersection')\n"
     ]
    },
    {
     "name": "stdout",
     "output_type": "stream",
     "text": [
      "Bremen GEOSTAT21_145 - 16:57:40\n",
      "Włocławek GEOSTAT21_150 - 17:01:17\n",
      "Płock GEOSTAT21_154 - 17:01:24\n",
      "Gorzów Wielkopolski GEOSTAT21_161 - 17:01:37\n",
      "Alkmaar GEOSTAT21_168 - 17:01:47\n",
      "Warszawa GEOSTAT21_171 - 17:02:07\n"
     ]
    },
    {
     "name": "stderr",
     "output_type": "stream",
     "text": [
      "Q:\\UserTemp\\ubach\\AppData\\Local\\Temp\\40\\ipykernel_126376\\2347343578.py:57: UserWarning: `keep_geom_type=True` in overlay resulted in 41 dropped geometries of different geometry types than df1 has. Set `keep_geom_type=False` to retain all geometries\n",
      "  ua_urbc = gpd.overlay(ua, urban_center, how='intersection')\n",
      "Q:\\UserTemp\\ubach\\AppData\\Local\\Temp\\40\\ipykernel_126376\\2347343578.py:110: UserWarning: `keep_geom_type=True` in overlay resulted in 1 dropped geometries of different geometry types than df1 has. Set `keep_geom_type=False` to retain all geometries\n",
      "  SA_ua = gpd.overlay(SA_mask,ua,how='intersection')\n",
      "Q:\\UserTemp\\ubach\\AppData\\Local\\Temp\\40\\ipykernel_126376\\2347343578.py:117: UserWarning: `keep_geom_type=True` in overlay resulted in 1 dropped geometries of different geometry types than df1 has. Set `keep_geom_type=False` to retain all geometries\n",
      "  SA_GQA_ua = gpd.overlay(SA_GQA_urbc,ua,how='intersection')\n"
     ]
    },
    {
     "name": "stdout",
     "output_type": "stream",
     "text": [
      "Beverwijk/Heemskerk GEOSTAT21_173 - 17:08:26\n",
      "Zwolle GEOSTAT21_177 - 17:08:49\n",
      "Poznań GEOSTAT21_178 - 17:09:28\n",
      "Haarlem GEOSTAT21_181 - 17:11:02\n",
      "Almere GEOSTAT21_184 - 17:11:42\n",
      "Berlin GEOSTAT21_186 - 17:12:37\n"
     ]
    },
    {
     "name": "stderr",
     "output_type": "stream",
     "text": [
      "Q:\\UserTemp\\ubach\\AppData\\Local\\Temp\\40\\ipykernel_126376\\2347343578.py:57: UserWarning: `keep_geom_type=True` in overlay resulted in 71 dropped geometries of different geometry types than df1 has. Set `keep_geom_type=False` to retain all geometries\n",
      "  ua_urbc = gpd.overlay(ua, urban_center, how='intersection')\n",
      "Q:\\UserTemp\\ubach\\AppData\\Local\\Temp\\40\\ipykernel_126376\\2347343578.py:110: UserWarning: `keep_geom_type=True` in overlay resulted in 889 dropped geometries of different geometry types than df1 has. Set `keep_geom_type=False` to retain all geometries\n",
      "  SA_ua = gpd.overlay(SA_mask,ua,how='intersection')\n",
      "Q:\\UserTemp\\ubach\\AppData\\Local\\Temp\\40\\ipykernel_126376\\2347343578.py:117: UserWarning: `keep_geom_type=True` in overlay resulted in 23 dropped geometries of different geometry types than df1 has. Set `keep_geom_type=False` to retain all geometries\n",
      "  SA_GQA_ua = gpd.overlay(SA_GQA_urbc,ua,how='intersection')\n"
     ]
    },
    {
     "name": "stdout",
     "output_type": "stream",
     "text": [
      "Potsdam GEOSTAT21_188 - 17:40:24\n"
     ]
    },
    {
     "name": "stderr",
     "output_type": "stream",
     "text": [
      "Q:\\UserTemp\\ubach\\AppData\\Local\\Temp\\40\\ipykernel_126376\\2347343578.py:57: UserWarning: `keep_geom_type=True` in overlay resulted in 19 dropped geometries of different geometry types than df1 has. Set `keep_geom_type=False` to retain all geometries\n",
      "  ua_urbc = gpd.overlay(ua, urban_center, how='intersection')\n"
     ]
    },
    {
     "name": "stdout",
     "output_type": "stream",
     "text": [
      "Amsterdam GEOSTAT21_190 - 17:45:44\n",
      "Hilversum GEOSTAT21_196 - 17:48:46\n",
      "Hengelo GEOSTAT21_199 - 17:49:03\n",
      "Hannover GEOSTAT21_200 - 17:49:33\n",
      "Osnabrück GEOSTAT21_201 - 17:53:36\n",
      "Apeldoorn GEOSTAT21_203 - 17:54:13\n",
      "Leiden GEOSTAT21_205 - 17:54:52\n",
      "Alphen aan den Rijn GEOSTAT21_206 - 17:55:13\n",
      "Enschede GEOSTAT21_208 - 17:55:19\n",
      "Braunschweig GEOSTAT21_211 - 17:55:53\n",
      "Zoetermeer GEOSTAT21_216 - 17:56:37\n",
      "Gouda GEOSTAT21_220 - 17:56:59\n",
      "Den Haag GEOSTAT21_221 - 17:57:02\n",
      "Hildesheim GEOSTAT21_223 - 17:59:32\n"
     ]
    },
    {
     "name": "stderr",
     "output_type": "stream",
     "text": [
      "Q:\\UserTemp\\ubach\\AppData\\Local\\Temp\\40\\ipykernel_126376\\2347343578.py:57: UserWarning: `keep_geom_type=True` in overlay resulted in 2 dropped geometries of different geometry types than df1 has. Set `keep_geom_type=False` to retain all geometries\n",
      "  ua_urbc = gpd.overlay(ua, urban_center, how='intersection')\n"
     ]
    },
    {
     "name": "stdout",
     "output_type": "stream",
     "text": [
      "Nieuwegein / IJsselstein GEOSTAT21_224 - 17:59:45\n",
      "Magdeburg GEOSTAT21_225 - 18:00:31\n",
      "Łódź GEOSTAT21_229 - 18:01:24\n",
      "Zielona Góra GEOSTAT21_233 - 18:02:42\n",
      "Bielefeld GEOSTAT21_237 - 18:02:58\n",
      "Arnhem GEOSTAT21_239 - 18:03:18\n"
     ]
    },
    {
     "name": "stderr",
     "output_type": "stream",
     "text": [
      "Q:\\UserTemp\\ubach\\AppData\\Local\\Temp\\40\\ipykernel_126376\\2347343578.py:57: UserWarning: `keep_geom_type=True` in overlay resulted in 1 dropped geometries of different geometry types than df1 has. Set `keep_geom_type=False` to retain all geometries\n",
      "  ua_urbc = gpd.overlay(ua, urban_center, how='intersection')\n"
     ]
    },
    {
     "name": "stdout",
     "output_type": "stream",
     "text": [
      "Rotterdam GEOSTAT21_240 - 18:04:09\n",
      "Spijkenisse GEOSTAT21_242 - 18:07:57\n",
      "Münster GEOSTAT21_243 - 18:08:58\n",
      "Radom GEOSTAT21_249 - 18:09:30\n",
      "Lublin GEOSTAT21_255 - 18:09:49\n",
      "Nijmegen GEOSTAT21_256 - 18:10:37\n",
      " s-Hertogenbosch GEOSTAT21_265 - 18:11:13\n",
      "Breda GEOSTAT21_274 - 18:11:40\n",
      "Helmond GEOSTAT21_288 - 18:12:15\n",
      "Göttingen GEOSTAT21_289 - 18:13:08\n"
     ]
    },
    {
     "name": "stderr",
     "output_type": "stream",
     "text": [
      "Q:\\UserTemp\\ubach\\AppData\\Local\\Temp\\40\\ipykernel_126376\\2347343578.py:57: UserWarning: `keep_geom_type=True` in overlay resulted in 1 dropped geometries of different geometry types than df1 has. Set `keep_geom_type=False` to retain all geometries\n",
      "  ua_urbc = gpd.overlay(ua, urban_center, how='intersection')\n",
      "Q:\\UserTemp\\ubach\\AppData\\Local\\Temp\\40\\ipykernel_126376\\2347343578.py:110: UserWarning: `keep_geom_type=True` in overlay resulted in 1 dropped geometries of different geometry types than df1 has. Set `keep_geom_type=False` to retain all geometries\n",
      "  SA_ua = gpd.overlay(SA_mask,ua,how='intersection')\n",
      "Q:\\UserTemp\\ubach\\AppData\\Local\\Temp\\40\\ipykernel_126376\\2347343578.py:117: UserWarning: `keep_geom_type=True` in overlay resulted in 1 dropped geometries of different geometry types than df1 has. Set `keep_geom_type=False` to retain all geometries\n",
      "  SA_GQA_ua = gpd.overlay(SA_GQA_urbc,ua,how='intersection')\n"
     ]
    },
    {
     "name": "stdout",
     "output_type": "stream",
     "text": [
      "Eindhoven GEOSTAT21_292 - 18:13:35\n",
      "Halle an der Saale GEOSTAT21_295 - 18:15:01\n",
      "Moers / Rheinhausen GEOSTAT21_297 - 18:15:42\n",
      "Ruhrgebiet GEOSTAT21_299 - 18:15:45\n"
     ]
    },
    {
     "name": "stderr",
     "output_type": "stream",
     "text": [
      "Q:\\UserTemp\\ubach\\AppData\\Local\\Temp\\40\\ipykernel_126376\\2347343578.py:57: UserWarning: `keep_geom_type=True` in overlay resulted in 90 dropped geometries of different geometry types than df1 has. Set `keep_geom_type=False` to retain all geometries\n",
      "  ua_urbc = gpd.overlay(ua, urban_center, how='intersection')\n"
     ]
    },
    {
     "name": "stdout",
     "output_type": "stream",
     "text": [
      "Duisburg GEOSTAT21_302 - 18:59:27\n",
      "Brugge GEOSTAT21_304 - 19:07:48\n",
      "Hagen GEOSTAT21_305 - 19:08:15\n"
     ]
    },
    {
     "name": "stderr",
     "output_type": "stream",
     "text": [
      "Q:\\UserTemp\\ubach\\AppData\\Local\\Temp\\40\\ipykernel_126376\\2347343578.py:57: UserWarning: `keep_geom_type=True` in overlay resulted in 32 dropped geometries of different geometry types than df1 has. Set `keep_geom_type=False` to retain all geometries\n",
      "  ua_urbc = gpd.overlay(ua, urban_center, how='intersection')\n"
     ]
    },
    {
     "name": "stdout",
     "output_type": "stream",
     "text": [
      "Krefeld GEOSTAT21_307 - 19:16:58\n",
      "Kielce GEOSTAT21_308 - 19:17:05\n"
     ]
    },
    {
     "name": "stderr",
     "output_type": "stream",
     "text": [
      "Q:\\UserTemp\\ubach\\AppData\\Local\\Temp\\40\\ipykernel_126376\\2347343578.py:57: UserWarning: `keep_geom_type=True` in overlay resulted in 2 dropped geometries of different geometry types than df1 has. Set `keep_geom_type=False` to retain all geometries\n",
      "  ua_urbc = gpd.overlay(ua, urban_center, how='intersection')\n"
     ]
    },
    {
     "name": "stdout",
     "output_type": "stream",
     "text": [
      "Leipzig GEOSTAT21_312 - 19:17:23\n",
      "Dunkerque GEOSTAT21_316 - 19:20:27\n"
     ]
    },
    {
     "name": "stderr",
     "output_type": "stream",
     "text": [
      "Q:\\UserTemp\\ubach\\AppData\\Local\\Temp\\40\\ipykernel_126376\\2347343578.py:57: UserWarning: `keep_geom_type=True` in overlay resulted in 22 dropped geometries of different geometry types than df1 has. Set `keep_geom_type=False` to retain all geometries\n",
      "  ua_urbc = gpd.overlay(ua, urban_center, how='intersection')\n"
     ]
    },
    {
     "name": "stdout",
     "output_type": "stream",
     "text": [
      "Antwerpen GEOSTAT21_317 - 19:20:42\n",
      "Wrocław GEOSTAT21_318 - 19:21:36\n",
      "Kassel GEOSTAT21_320 - 19:22:42\n",
      "Düsseldorf GEOSTAT21_327 - 19:23:05\n",
      "Remscheid GEOSTAT21_328 - 19:24:37\n"
     ]
    },
    {
     "name": "stderr",
     "output_type": "stream",
     "text": [
      "Q:\\UserTemp\\ubach\\AppData\\Local\\Temp\\40\\ipykernel_126376\\2347343578.py:57: UserWarning: `keep_geom_type=True` in overlay resulted in 15 dropped geometries of different geometry types than df1 has. Set `keep_geom_type=False` to retain all geometries\n",
      "  ua_urbc = gpd.overlay(ua, urban_center, how='intersection')\n",
      "Q:\\UserTemp\\ubach\\AppData\\Local\\Temp\\40\\ipykernel_126376\\2347343578.py:110: UserWarning: `keep_geom_type=True` in overlay resulted in 43 dropped geometries of different geometry types than df1 has. Set `keep_geom_type=False` to retain all geometries\n",
      "  SA_ua = gpd.overlay(SA_mask,ua,how='intersection')\n",
      "Q:\\UserTemp\\ubach\\AppData\\Local\\Temp\\40\\ipykernel_126376\\2347343578.py:117: UserWarning: `keep_geom_type=True` in overlay resulted in 9 dropped geometries of different geometry types than df1 has. Set `keep_geom_type=False` to retain all geometries\n",
      "  SA_GQA_ua = gpd.overlay(SA_GQA_urbc,ua,how='intersection')\n"
     ]
    },
    {
     "name": "stdout",
     "output_type": "stream",
     "text": [
      "Mönchengladbach GEOSTAT21_331 - 19:24:42\n"
     ]
    },
    {
     "name": "stderr",
     "output_type": "stream",
     "text": [
      "Q:\\UserTemp\\ubach\\AppData\\Local\\Temp\\40\\ipykernel_126376\\2347343578.py:57: UserWarning: `keep_geom_type=True` in overlay resulted in 1 dropped geometries of different geometry types than df1 has. Set `keep_geom_type=False` to retain all geometries\n",
      "  ua_urbc = gpd.overlay(ua, urban_center, how='intersection')\n"
     ]
    },
    {
     "name": "stdout",
     "output_type": "stream",
     "text": [
      "Gent GEOSTAT21_332 - 19:25:04\n",
      "Solingen GEOSTAT21_334 - 19:25:44\n",
      "Częstochowa GEOSTAT21_335 - 19:26:03\n",
      "Dresden GEOSTAT21_339 - 19:26:28\n",
      "Leuven GEOSTAT21_344 - 19:30:20\n",
      "Köln GEOSTAT21_346 - 19:30:38\n",
      "Opole GEOSTAT21_348 - 19:33:38\n",
      "Bruxelles / Brussel GEOSTAT21_349 - 19:33:52\n",
      "Porz GEOSTAT21_354 - 19:38:56\n",
      "Liberec GEOSTAT21_358 - 19:39:46\n",
      "Chemnitz GEOSTAT21_359 - 19:40:04\n",
      "Aachen GEOSTAT21_360 - 19:40:18\n",
      "Ústí nad Labem GEOSTAT21_362 - 19:40:45\n",
      "Bonn GEOSTAT21_363 - 19:40:58\n",
      "Liège GEOSTAT21_364 - 19:41:26\n",
      "Rzeszów GEOSTAT21_366 - 19:42:15\n",
      "Lens GEOSTAT21_367 - 19:42:41\n"
     ]
    },
    {
     "name": "stderr",
     "output_type": "stream",
     "text": [
      "Q:\\UserTemp\\ubach\\AppData\\Local\\Temp\\40\\ipykernel_126376\\2347343578.py:57: UserWarning: `keep_geom_type=True` in overlay resulted in 16 dropped geometries of different geometry types than df1 has. Set `keep_geom_type=False` to retain all geometries\n",
      "  ua_urbc = gpd.overlay(ua, urban_center, how='intersection')\n"
     ]
    },
    {
     "name": "stdout",
     "output_type": "stream",
     "text": [
      "Górnośląski Związek Metropolitalny GEOSTAT21_376 - 19:43:02\n"
     ]
    },
    {
     "name": "stderr",
     "output_type": "stream",
     "text": [
      "Q:\\UserTemp\\ubach\\AppData\\Local\\Temp\\40\\ipykernel_126376\\2347343578.py:57: UserWarning: `keep_geom_type=True` in overlay resulted in 4 dropped geometries of different geometry types than df1 has. Set `keep_geom_type=False` to retain all geometries\n",
      "  ua_urbc = gpd.overlay(ua, urban_center, how='intersection')\n"
     ]
    },
    {
     "name": "stdout",
     "output_type": "stream",
     "text": [
      "Tarnów GEOSTAT21_377 - 19:48:32\n",
      "Charleroi GEOSTAT21_379 - 19:48:45\n",
      "Arras GEOSTAT21_382 - 19:49:40\n",
      "Tychy GEOSTAT21_384 - 19:49:53\n",
      "Kraków GEOSTAT21_385 - 19:50:48\n"
     ]
    },
    {
     "name": "stderr",
     "output_type": "stream",
     "text": [
      "Q:\\UserTemp\\ubach\\AppData\\Local\\Temp\\40\\ipykernel_126376\\2347343578.py:57: UserWarning: `keep_geom_type=True` in overlay resulted in 2 dropped geometries of different geometry types than df1 has. Set `keep_geom_type=False` to retain all geometries\n",
      "  ua_urbc = gpd.overlay(ua, urban_center, how='intersection')\n"
     ]
    },
    {
     "name": "stdout",
     "output_type": "stream",
     "text": [
      "Koblenz GEOSTAT21_387 - 19:54:35\n",
      "Bielsko-Biała GEOSTAT21_394 - 19:55:35\n"
     ]
    },
    {
     "name": "stderr",
     "output_type": "stream",
     "text": [
      "Q:\\UserTemp\\ubach\\AppData\\Local\\Temp\\40\\ipykernel_126376\\2347343578.py:57: UserWarning: `keep_geom_type=True` in overlay resulted in 1 dropped geometries of different geometry types than df1 has. Set `keep_geom_type=False` to retain all geometries\n",
      "  ua_urbc = gpd.overlay(ua, urban_center, how='intersection')\n"
     ]
    },
    {
     "name": "stdout",
     "output_type": "stream",
     "text": [
      "Ostrava GEOSTAT21_397 - 19:55:50\n",
      "Poruba GEOSTAT21_398 - 19:56:24\n",
      "Hanau GEOSTAT21_400 - 19:56:47\n",
      "Frankfurt am Main GEOSTAT21_401 - 19:59:45\n",
      "Praha GEOSTAT21_402 - 20:05:35\n",
      "Havířov GEOSTAT21_403 - 20:13:53\n",
      "Hrabuvka GEOSTAT21_404 - 20:14:22\n",
      "Wiesbaden GEOSTAT21_405 - 20:14:46\n",
      "Mainz GEOSTAT21_408 - 20:15:12\n",
      "Darmstadt GEOSTAT21_413 - 20:15:22\n",
      "Olomouc GEOSTAT21_414 - 20:15:50\n",
      "Plzeň GEOSTAT21_416 - 20:16:06\n",
      "Würzburg GEOSTAT21_417 - 20:16:38\n"
     ]
    },
    {
     "name": "stderr",
     "output_type": "stream",
     "text": [
      "Q:\\UserTemp\\ubach\\AppData\\Local\\Temp\\40\\ipykernel_126376\\2347343578.py:57: UserWarning: `keep_geom_type=True` in overlay resulted in 15 dropped geometries of different geometry types than df1 has. Set `keep_geom_type=False` to retain all geometries\n",
      "  ua_urbc = gpd.overlay(ua, urban_center, how='intersection')\n",
      "Q:\\UserTemp\\ubach\\AppData\\Local\\Temp\\40\\ipykernel_126376\\2347343578.py:110: UserWarning: `keep_geom_type=True` in overlay resulted in 74 dropped geometries of different geometry types than df1 has. Set `keep_geom_type=False` to retain all geometries\n",
      "  SA_ua = gpd.overlay(SA_mask,ua,how='intersection')\n",
      "Q:\\UserTemp\\ubach\\AppData\\Local\\Temp\\40\\ipykernel_126376\\2347343578.py:117: UserWarning: `keep_geom_type=True` in overlay resulted in 9 dropped geometries of different geometry types than df1 has. Set `keep_geom_type=False` to retain all geometries\n",
      "  SA_GQA_ua = gpd.overlay(SA_GQA_urbc,ua,how='intersection')\n"
     ]
    },
    {
     "name": "stdout",
     "output_type": "stream",
     "text": [
      "Rouen GEOSTAT21_418 - 20:17:29\n",
      "Luxembourg GEOSTAT21_419 - 20:19:10\n",
      "Caen GEOSTAT21_420 - 20:21:02\n"
     ]
    },
    {
     "name": "stderr",
     "output_type": "stream",
     "text": [
      "Q:\\UserTemp\\ubach\\AppData\\Local\\Temp\\40\\ipykernel_126376\\2347343578.py:57: UserWarning: `keep_geom_type=True` in overlay resulted in 1 dropped geometries of different geometry types than df1 has. Set `keep_geom_type=False` to retain all geometries\n",
      "  ua_urbc = gpd.overlay(ua, urban_center, how='intersection')\n"
     ]
    },
    {
     "name": "stdout",
     "output_type": "stream",
     "text": [
      "Erlangen GEOSTAT21_421 - 20:21:54\n",
      "Mannheim/Ludwigshafen GEOSTAT21_425 - 20:22:30\n"
     ]
    },
    {
     "name": "stderr",
     "output_type": "stream",
     "text": [
      "Q:\\UserTemp\\ubach\\AppData\\Local\\Temp\\40\\ipykernel_126376\\2347343578.py:57: UserWarning: `keep_geom_type=True` in overlay resulted in 3 dropped geometries of different geometry types than df1 has. Set `keep_geom_type=False` to retain all geometries\n",
      "  ua_urbc = gpd.overlay(ua, urban_center, how='intersection')\n"
     ]
    },
    {
     "name": "stdout",
     "output_type": "stream",
     "text": [
      "Reims GEOSTAT21_427 - 20:23:18\n"
     ]
    },
    {
     "name": "stderr",
     "output_type": "stream",
     "text": [
      "Q:\\UserTemp\\ubach\\AppData\\Local\\Temp\\40\\ipykernel_126376\\2347343578.py:57: UserWarning: `keep_geom_type=True` in overlay resulted in 1 dropped geometries of different geometry types than df1 has. Set `keep_geom_type=False` to retain all geometries\n",
      "  ua_urbc = gpd.overlay(ua, urban_center, how='intersection')\n"
     ]
    },
    {
     "name": "stdout",
     "output_type": "stream",
     "text": [
      "Heidelberg GEOSTAT21_428 - 20:24:13\n",
      "Fürth GEOSTAT21_429 - 20:24:34\n"
     ]
    },
    {
     "name": "stderr",
     "output_type": "stream",
     "text": [
      "Q:\\UserTemp\\ubach\\AppData\\Local\\Temp\\40\\ipykernel_126376\\2347343578.py:57: UserWarning: `keep_geom_type=True` in overlay resulted in 1 dropped geometries of different geometry types than df1 has. Set `keep_geom_type=False` to retain all geometries\n",
      "  ua_urbc = gpd.overlay(ua, urban_center, how='intersection')\n"
     ]
    },
    {
     "name": "stdout",
     "output_type": "stream",
     "text": [
      "Brno GEOSTAT21_430 - 20:26:01\n"
     ]
    },
    {
     "name": "stderr",
     "output_type": "stream",
     "text": [
      "Q:\\UserTemp\\ubach\\AppData\\Local\\Temp\\40\\ipykernel_126376\\2347343578.py:57: UserWarning: `keep_geom_type=True` in overlay resulted in 3 dropped geometries of different geometry types than df1 has. Set `keep_geom_type=False` to retain all geometries\n",
      "  ua_urbc = gpd.overlay(ua, urban_center, how='intersection')\n",
      "Q:\\UserTemp\\ubach\\AppData\\Local\\Temp\\40\\ipykernel_126376\\2347343578.py:110: UserWarning: `keep_geom_type=True` in overlay resulted in 28 dropped geometries of different geometry types than df1 has. Set `keep_geom_type=False` to retain all geometries\n",
      "  SA_ua = gpd.overlay(SA_mask,ua,how='intersection')\n",
      "Q:\\UserTemp\\ubach\\AppData\\Local\\Temp\\40\\ipykernel_126376\\2347343578.py:117: UserWarning: `keep_geom_type=True` in overlay resulted in 3 dropped geometries of different geometry types than df1 has. Set `keep_geom_type=False` to retain all geometries\n",
      "  SA_GQA_ua = gpd.overlay(SA_GQA_urbc,ua,how='intersection')\n"
     ]
    },
    {
     "name": "stdout",
     "output_type": "stream",
     "text": [
      "Brest GEOSTAT21_431 - 20:27:13\n",
      "Mantes en Yvelines GEOSTAT21_432 - 20:28:16\n",
      "Saarbrücken GEOSTAT21_435 - 20:36:23\n",
      "Poissy GEOSTAT21_437 - 20:37:36\n",
      "Les Clayes-sous-Bois GEOSTAT21_440 - 20:45:36\n",
      "Heilbronn GEOSTAT21_441 - 20:53:04\n",
      "Maurepas / Montigny-le-Bretonneux GEOSTAT21_443 - 20:53:25\n",
      "Regensburg GEOSTAT21_445 - 21:02:04\n"
     ]
    },
    {
     "name": "stderr",
     "output_type": "stream",
     "text": [
      "Q:\\UserTemp\\ubach\\AppData\\Local\\Temp\\40\\ipykernel_126376\\2347343578.py:57: UserWarning: `keep_geom_type=True` in overlay resulted in 22 dropped geometries of different geometry types than df1 has. Set `keep_geom_type=False` to retain all geometries\n",
      "  ua_urbc = gpd.overlay(ua, urban_center, how='intersection')\n"
     ]
    },
    {
     "name": "stdout",
     "output_type": "stream",
     "text": [
      "Karlsruhe GEOSTAT21_447 - 21:02:46\n",
      "Pforzheim GEOSTAT21_448 - 21:03:57\n",
      "Stuttgart GEOSTAT21_454 - 21:04:15\n",
      "Ingolstadt GEOSTAT21_455 - 21:10:47\n",
      "Vaihingen / Möhringen GEOSTAT21_457 - 21:11:15\n"
     ]
    },
    {
     "name": "stderr",
     "output_type": "stream",
     "text": [
      "Q:\\UserTemp\\ubach\\AppData\\Local\\Temp\\40\\ipykernel_126376\\2347343578.py:57: UserWarning: `keep_geom_type=True` in overlay resulted in 10 dropped geometries of different geometry types than df1 has. Set `keep_geom_type=False` to retain all geometries\n",
      "  ua_urbc = gpd.overlay(ua, urban_center, how='intersection')\n",
      "Q:\\UserTemp\\ubach\\AppData\\Local\\Temp\\40\\ipykernel_126376\\2347343578.py:110: UserWarning: `keep_geom_type=True` in overlay resulted in 56 dropped geometries of different geometry types than df1 has. Set `keep_geom_type=False` to retain all geometries\n",
      "  SA_ua = gpd.overlay(SA_mask,ua,how='intersection')\n",
      "Q:\\UserTemp\\ubach\\AppData\\Local\\Temp\\40\\ipykernel_126376\\2347343578.py:117: UserWarning: `keep_geom_type=True` in overlay resulted in 3 dropped geometries of different geometry types than df1 has. Set `keep_geom_type=False` to retain all geometries\n",
      "  SA_GQA_ua = gpd.overlay(SA_GQA_urbc,ua,how='intersection')\n"
     ]
    },
    {
     "name": "stdout",
     "output_type": "stream",
     "text": [
      "Rennes GEOSTAT21_459 - 21:14:18\n",
      "Reutlingen GEOSTAT21_473 - 21:16:24\n",
      "Ulm/Neu-Ulm GEOSTAT21_476 - 21:16:44\n",
      "Linz GEOSTAT21_479 - 21:17:19\n",
      "Wien GEOSTAT21_481 - 21:19:33\n",
      "München GEOSTAT21_487 - 21:35:04\n"
     ]
    },
    {
     "name": "stderr",
     "output_type": "stream",
     "text": [
      "Q:\\UserTemp\\ubach\\AppData\\Local\\Temp\\40\\ipykernel_126376\\2347343578.py:57: UserWarning: `keep_geom_type=True` in overlay resulted in 2 dropped geometries of different geometry types than df1 has. Set `keep_geom_type=False` to retain all geometries\n",
      "  ua_urbc = gpd.overlay(ua, urban_center, how='intersection')\n"
     ]
    },
    {
     "name": "stdout",
     "output_type": "stream",
     "text": [
      "Freiburg im Breisgau GEOSTAT21_488 - 21:46:44\n",
      "Angers GEOSTAT21_489 - 21:47:54\n",
      "Salzburg GEOSTAT21_495 - 21:48:46\n",
      "Nantes GEOSTAT21_496 - 21:49:16\n"
     ]
    },
    {
     "name": "stderr",
     "output_type": "stream",
     "text": [
      "Q:\\UserTemp\\ubach\\AppData\\Local\\Temp\\40\\ipykernel_126376\\2347343578.py:57: UserWarning: `keep_geom_type=True` in overlay resulted in 50 dropped geometries of different geometry types than df1 has. Set `keep_geom_type=False` to retain all geometries\n",
      "  ua_urbc = gpd.overlay(ua, urban_center, how='intersection')\n",
      "Q:\\UserTemp\\ubach\\AppData\\Local\\Temp\\40\\ipykernel_126376\\2347343578.py:110: UserWarning: `keep_geom_type=True` in overlay resulted in 260 dropped geometries of different geometry types than df1 has. Set `keep_geom_type=False` to retain all geometries\n",
      "  SA_ua = gpd.overlay(SA_mask,ua,how='intersection')\n",
      "Q:\\UserTemp\\ubach\\AppData\\Local\\Temp\\40\\ipykernel_126376\\2347343578.py:117: UserWarning: `keep_geom_type=True` in overlay resulted in 3 dropped geometries of different geometry types than df1 has. Set `keep_geom_type=False` to retain all geometries\n",
      "  SA_GQA_ua = gpd.overlay(SA_GQA_urbc,ua,how='intersection')\n"
     ]
    },
    {
     "name": "stdout",
     "output_type": "stream",
     "text": [
      "Tours GEOSTAT21_499 - 21:53:31\n"
     ]
    },
    {
     "name": "stderr",
     "output_type": "stream",
     "text": [
      "Q:\\UserTemp\\ubach\\AppData\\Local\\Temp\\40\\ipykernel_126376\\2347343578.py:57: UserWarning: `keep_geom_type=True` in overlay resulted in 1 dropped geometries of different geometry types than df1 has. Set `keep_geom_type=False` to retain all geometries\n",
      "  ua_urbc = gpd.overlay(ua, urban_center, how='intersection')\n"
     ]
    },
    {
     "name": "stdout",
     "output_type": "stream",
     "text": [
      "Basel GEOSTAT21_510 - 21:55:24\n",
      "St. Gallen GEOSTAT21_514 - 21:56:20\n",
      "Besançon GEOSTAT21_519 - 21:56:39\n",
      "Innsbruck GEOSTAT21_520 - 21:57:19\n",
      "Zürich GEOSTAT21_521 - 21:57:44\n",
      "Graz GEOSTAT21_522 - 22:01:12\n",
      "Biel/Bienne GEOSTAT21_523 - 22:03:05\n",
      "Bern GEOSTAT21_528 - 22:03:09\n",
      "Lausanne GEOSTAT21_542 - 22:03:51\n",
      "Genève GEOSTAT21_549 - 22:04:35\n",
      "Limoges GEOSTAT21_550 - 22:05:02\n",
      "Lugano GEOSTAT21_557 - 22:05:57\n",
      "Clermont-Ferrand GEOSTAT21_558 - 22:06:10\n",
      "Zagreb GEOSTAT21_561 - 22:08:02\n"
     ]
    },
    {
     "name": "stderr",
     "output_type": "stream",
     "text": [
      "Q:\\UserTemp\\ubach\\AppData\\Local\\Temp\\40\\ipykernel_126376\\2347343578.py:57: UserWarning: `keep_geom_type=True` in overlay resulted in 25 dropped geometries of different geometry types than df1 has. Set `keep_geom_type=False` to retain all geometries\n",
      "  ua_urbc = gpd.overlay(ua, urban_center, how='intersection')\n"
     ]
    },
    {
     "name": "stdout",
     "output_type": "stream",
     "text": [
      "Lyon GEOSTAT21_569 - 22:10:52\n",
      "Saint-Etienne GEOSTAT21_580 - 22:23:12\n",
      "Rijeka GEOSTAT21_588 - 22:24:39\n",
      "Bordeaux GEOSTAT21_595 - 22:25:02\n",
      "Grenoble GEOSTAT21_597 - 22:32:25\n"
     ]
    },
    {
     "name": "stderr",
     "output_type": "stream",
     "text": [
      "Q:\\UserTemp\\ubach\\AppData\\Local\\Temp\\40\\ipykernel_126376\\2347343578.py:57: UserWarning: `keep_geom_type=True` in overlay resulted in 1 dropped geometries of different geometry types than df1 has. Set `keep_geom_type=False` to retain all geometries\n",
      "  ua_urbc = gpd.overlay(ua, urban_center, how='intersection')\n",
      "Q:\\UserTemp\\ubach\\AppData\\Local\\Temp\\40\\ipykernel_126376\\2347343578.py:110: UserWarning: `keep_geom_type=True` in overlay resulted in 1 dropped geometries of different geometry types than df1 has. Set `keep_geom_type=False` to retain all geometries\n",
      "  SA_ua = gpd.overlay(SA_mask,ua,how='intersection')\n",
      "Q:\\UserTemp\\ubach\\AppData\\Local\\Temp\\40\\ipykernel_126376\\2347343578.py:117: UserWarning: `keep_geom_type=True` in overlay resulted in 1 dropped geometries of different geometry types than df1 has. Set `keep_geom_type=False` to retain all geometries\n",
      "  SA_GQA_ua = gpd.overlay(SA_GQA_urbc,ua,how='intersection')\n"
     ]
    },
    {
     "name": "stdout",
     "output_type": "stream",
     "text": [
      "Gijón GEOSTAT21_620 - 22:34:56\n",
      "Oviedo GEOSTAT21_624 - 22:35:49\n",
      "Bilbao GEOSTAT21_650 - 22:36:43\n"
     ]
    },
    {
     "name": "stderr",
     "output_type": "stream",
     "text": [
      "Q:\\UserTemp\\ubach\\AppData\\Local\\Temp\\40\\ipykernel_126376\\2347343578.py:57: UserWarning: `keep_geom_type=True` in overlay resulted in 1 dropped geometries of different geometry types than df1 has. Set `keep_geom_type=False` to retain all geometries\n",
      "  ua_urbc = gpd.overlay(ua, urban_center, how='intersection')\n"
     ]
    },
    {
     "name": "stdout",
     "output_type": "stream",
     "text": [
      "San Sebastián/Donostia GEOSTAT21_652 - 22:37:57\n"
     ]
    },
    {
     "name": "stderr",
     "output_type": "stream",
     "text": [
      "Q:\\UserTemp\\ubach\\AppData\\Local\\Temp\\40\\ipykernel_126376\\2347343578.py:57: UserWarning: `keep_geom_type=True` in overlay resulted in 1 dropped geometries of different geometry types than df1 has. Set `keep_geom_type=False` to retain all geometries\n",
      "  ua_urbc = gpd.overlay(ua, urban_center, how='intersection')\n"
     ]
    },
    {
     "name": "stdout",
     "output_type": "stream",
     "text": [
      "Vigo GEOSTAT21_657 - 22:38:10\n",
      "León GEOSTAT21_665 - 22:39:14\n",
      "Split GEOSTAT21_669 - 22:39:36\n",
      "Nice GEOSTAT21_672 - 22:40:09\n",
      "Vitoria/Gasteiz GEOSTAT21_674 - 22:42:06\n",
      "Aix-en-Provence GEOSTAT21_676 - 22:42:50\n",
      "Martigues / Port-de-Bouc GEOSTAT21_682 - 22:45:06\n",
      "Pamplona/Iruña GEOSTAT21_687 - 22:45:20\n",
      "Marseille GEOSTAT21_689 - 22:46:30\n"
     ]
    },
    {
     "name": "stderr",
     "output_type": "stream",
     "text": [
      "Q:\\UserTemp\\ubach\\AppData\\Local\\Temp\\40\\ipykernel_126376\\2347343578.py:57: UserWarning: `keep_geom_type=True` in overlay resulted in 3 dropped geometries of different geometry types than df1 has. Set `keep_geom_type=False` to retain all geometries\n",
      "  ua_urbc = gpd.overlay(ua, urban_center, how='intersection')\n"
     ]
    },
    {
     "name": "stdout",
     "output_type": "stream",
     "text": [
      "Logroño GEOSTAT21_694 - 22:54:51\n",
      "Porto GEOSTAT21_706 - 22:55:03\n",
      "Valladolid GEOSTAT21_712 - 22:58:04\n",
      "Torrejón de Ardoz GEOSTAT21_768 - 22:58:58\n",
      "Madrid GEOSTAT21_773 - 23:05:20\n",
      "Fuenlabrada GEOSTAT21_774 - 23:24:06\n",
      "Castellón de la Plana/Castelló de la Plana GEOSTAT21_800 - 23:30:25\n",
      "Valencia GEOSTAT21_809 - 23:30:34\n",
      "Lefkosia GEOSTAT21_843 - 23:35:15\n",
      "Lemesos GEOSTAT21_856 - 23:35:49\n",
      "Valletta GEOSTAT21_867 - 23:36:15\n"
     ]
    },
    {
     "name": "stderr",
     "output_type": "stream",
     "text": [
      "Q:\\UserTemp\\ubach\\AppData\\Local\\Temp\\40\\ipykernel_126376\\2347343578.py:57: UserWarning: `keep_geom_type=True` in overlay resulted in 26 dropped geometries of different geometry types than df1 has. Set `keep_geom_type=False` to retain all geometries\n",
      "  ua_urbc = gpd.overlay(ua, urban_center, how='intersection')\n"
     ]
    },
    {
     "name": "stdout",
     "output_type": "stream",
     "text": [
      "Helsinki GEOSTAT21_901 - 23:37:34\n",
      "Oslo GEOSTAT21_902 - 23:41:37\n",
      "København GEOSTAT21_903 - 23:46:12\n",
      "Dublin GEOSTAT21_904 - 23:52:59\n",
      "Utrecht GEOSTAT21_905 - 00:07:49\n",
      "Paris GEOSTAT21_906 - 00:09:07\n"
     ]
    },
    {
     "name": "stderr",
     "output_type": "stream",
     "text": [
      "Q:\\UserTemp\\ubach\\AppData\\Local\\Temp\\40\\ipykernel_126376\\2347343578.py:57: UserWarning: `keep_geom_type=True` in overlay resulted in 1 dropped geometries of different geometry types than df1 has. Set `keep_geom_type=False` to retain all geometries\n",
      "  ua_urbc = gpd.overlay(ua, urban_center, how='intersection')\n"
     ]
    },
    {
     "name": "stdout",
     "output_type": "stream",
     "text": [
      "Augsburg GEOSTAT21_907 - 02:13:47\n",
      "Lahti GEOSTAT21_911 - 02:15:10\n",
      "Jönköping / Huskvarna GEOSTAT21_914 - 02:15:30\n",
      "Neu Wulmstorf / Neugraben-Fischbek / Hausbruch GEOSTAT21_919 - 02:16:27\n",
      "Scharwoude / Heerhugowaard GEOSTAT21_922 - 02:19:04\n",
      "Wuppertal GEOSTAT21_925 - 02:19:26\n",
      "Saint-Priest / Mions GEOSTAT21_945 - 02:19:31\n"
     ]
    }
   ],
   "source": [
    "if os.path.exists(csv_path): \n",
    "    outtbl = pd.read_csv(csv_path)\n",
    "    cities_ls = outtbl.uc_code.to_list()\n",
    "else:\n",
    "    cities_ls = []\n",
    "\n",
    "SA_ls = sorted(glob.glob(os.path.join(step3_f, '*.shp')))\n",
    "#SA_ls.reverse()\n",
    "\n",
    "# Print the list of shapefiles\n",
    "for sa_name in SA_ls:\n",
    "    uc_code = os.path.basename(sa_name)[:-8]\n",
    "    uc_name = codes.query(f'HDENS_CLST==\"{uc_code}\"').HDENS_NAME.values[0]\n",
    "    timenow = time.strftime(\"%H:%M:%S\", time.localtime())\n",
    "    print(f'{uc_name} {uc_code} - {timenow}')\n",
    "    \n",
    "    if uc_code not in cities_ls:\n",
    "\n",
    "        # Load urban center\n",
    "        urban_center = urban_centers.query(f'HDENS_CLST==\"{uc_code}\"')\n",
    "        ctry_code = urban_centers.query(f'HDENS_CLST==\"{uc_code}\"').CNTR_CODE.values[0]\n",
    "        TotalUCArea = urban_center.geometry.area.sum()\n",
    "        TotalUCAreaHa = round(TotalUCArea/10000,2)  \n",
    "\n",
    "        # Erase those areas of SA overlapping the GUAs\n",
    "        # Load QGA\n",
    "        path = os.path.join(path2FinalGQA, f'{uc_code}_finalGQA.shp')\n",
    "        GQA = gpd.read_file(path)\n",
    "        GQA = GQA.reset_index().rename(columns={'index': 'GQA_FID'})\n",
    "        if 'area' in GQA.columns:\n",
    "            GQA['GQA_m2'] = GQA['area']\n",
    "        else:\n",
    "            GQA['GQA_m2'] = GQA['Area']\n",
    "\n",
    "        # Remove the outer areas from urban centers      \n",
    "        file_path = os.path.join(outdata_f,'SA_GQA_urbc', f'{uc_code}_SA_GQA_urbc.shp')\n",
    "        if not os.path.exists(file_path):\n",
    "            # Remove GQA delineation from the SA\n",
    "            file_path_SAd = os.path.join(step3_f, f'{uc_code}_SAd.shp')\n",
    "            SA_GQA_total = gpd.read_file(file_path_SAd)\n",
    "            SA_GQA_total = SA_GQA_total.merge(GQA[['GQA_FID', 'GQA_m2']], left_on='FID_', right_on='GQA_FID', how='left')\n",
    "            SA_GQA_urbc = gpd.overlay(SA_GQA_total, urban_center, how='intersection')\n",
    "            SA_GQA_urbc.to_file(file_path, driver='ESRI Shapefile')     \n",
    "        else:\n",
    "            SA_GQA_urbc = gpd.read_file(file_path)\n",
    "\n",
    "        #### Final computations including population\n",
    "        ## Compute Total Green Areas\n",
    "        # Read Urban Atlas data\n",
    "        ua_path = codes.query(f'HDENS_CLST==\"{uc_code}\"').UA2018.values[0].strip()\n",
    "        file_path = os.path.join(ua_data_f, f'{ua_path}\\Data\\{ua_path}.gpkg')\n",
    "        # Read the GeoPackage file\n",
    "        ua = gpd.read_file(file_path, layer= ua_path[:-5], \n",
    "                    columns= ['code_2018','Pop2018','geometry'], engine='pyogrio', \n",
    "                    use_arrow=True, bbox= tuple(urban_center.total_bounds))\n",
    "        \n",
    "        ua_urbc = gpd.overlay(ua, urban_center, how='intersection')\n",
    "        #ua_urbc = gpd.clip(ua, urban_center)\n",
    "        UC_UA_Area = ua_urbc.geometry.area.sum()\n",
    "        UC_UA_AreaHa = round(UC_UA_Area/10000,2)\n",
    "        UC_UA_Pop = int(ua_urbc.Pop2018.sum())\n",
    "        \n",
    "        # area of analysis\n",
    "        ua_urbc_agl = gpd.overlay(ua_urbc, agls, how='intersection')\n",
    "        UC_UA_NCM_AreaHa = round(ua_urbc_agl.geometry.area.sum()/10000,2)\n",
    "        UC_UA_NCM_Pop = int(ua_urbc_agl.Pop2018.sum())\n",
    "\n",
    "        # Perc coverage area\n",
    "        # UC_NCM_UA_Area/Ref Area*100\n",
    "        Perc_coverage_Area = round((UC_UA_NCM_AreaHa/TotalUCAreaHa)*100,2)\n",
    "        \n",
    "        # Perc coverage popultation\n",
    "        # UC_NCM_UA_Pop/UC_UA_Pop*100\n",
    "        if UC_UA_Pop>0 and UC_UA_NCM_Pop>0:\n",
    "            Perc_coverage_Pop = round((UC_UA_NCM_Pop/UC_UA_Pop)*100,2)\n",
    "        else:\n",
    "            Perc_coverage_Pop = 0\n",
    "  \n",
    "        # All green areas (GUAs and forests) in the urban center (including data outside the ncm)\n",
    "        TotalGreenArea = ua_urbc.query('code_2018 == \"14100\" or code_2018 == \"31000\"').geometry.area.sum()\n",
    "        TotalGreenAreaHa = round(TotalGreenArea/10000,2)\n",
    "\n",
    "        # green in the study area\n",
    "        ua_urbc_agl_green = ua_urbc_agl.query('code_2018 == \"14100\" or code_2018 == \"31000\"')\n",
    "        TotalGreen_urbc_ncm_Ha = round(ua_urbc_agl_green.geometry.area.sum()/10000,2)\n",
    "        # save to file\n",
    "        file_path = os.path.join(outdata_f, 'Green_inUCUA_Aglos', f'{uc_code}_greenUCUANCM.shp')\n",
    "        if not os.path.exists(file_path):\n",
    "            ua_urbc_agl_green.to_file(file_path, driver='ESRI Shapefile')\n",
    "\n",
    "        # Excluded areas = TotalGreen in the urban center - TotalGreen in the uc & ncm \n",
    "        green_excludedHa = TotalGreenAreaHa - TotalGreen_urbc_ncm_Ha\n",
    "        \n",
    "        # Total Green Quiet Areas\n",
    "        TotalGreenQuietAreaHa = round(GQA.area.sum()/10000,2)\n",
    "\n",
    "        # Percentage of Green Quiet Areas\n",
    "        ## Computed as:\n",
    "        ## % of green quiet areas =  TotalGQA/(TotalGreenAreas-Green excluded) * 100\n",
    "        ### Quiet_Area/UC_NCM_UA_Green_Area*100\n",
    "        if TotalGreenQuietAreaHa>0 and TotalGreen_urbc_ncm_Ha>0:\n",
    "            PercGreenQuietArea = TotalGreenQuietAreaHa/(TotalGreen_urbc_ncm_Ha)*100\n",
    "        else:\n",
    "            PercGreenQuietArea = 0\n",
    "\n",
    "        # Computing Population\n",
    "        # Total Population with access to GQA\n",
    "        SA_mask = SA_GQA_urbc[['geometry', 'HDENS_NAME', 'CNTR_CODE', 'HDENS_CLST']].dissolve(by='HDENS_CLST')\n",
    "        ua['UA_area_m2'] = round(ua.geometry.area,2)\n",
    "        SA_ua = gpd.overlay(SA_mask,ua,how='intersection')  \n",
    "        SA_ua['final_area_m2'] = round(SA_ua.geometry.area,2)\n",
    "        SA_ua['area_prop'] = SA_ua['final_area_m2']/SA_ua['UA_area_m2']\n",
    "        SA_ua['Pop2018_poly'] = SA_ua['Pop2018']*SA_ua['area_prop']\n",
    "        TotalGQAPop = round(SA_ua.Pop2018.sum(),0)\n",
    "        TotalGQAPop_p = round(SA_ua.Pop2018_poly.sum(),0)\n",
    "        \n",
    "        # Computing the weighted median        \n",
    "        SA_GQA_ua = gpd.overlay(SA_GQA_urbc,ua,how='intersection')  \n",
    "        if not SA_GQA_ua.empty:  \n",
    "            SA_GQA_ua = SA_GQA_ua[['GQA_FID', 'GQA_m2','code_2018', 'Pop2018','UA_area_m2', 'geometry']]\n",
    "            SA_GQA_ua['final_area_m2'] = round(SA_GQA_ua.geometry.area,2)\n",
    "            SA_GQA_ua['area_prop'] = SA_GQA_ua['final_area_m2']/SA_GQA_ua['UA_area_m2'] # capture proportion from original geometry\n",
    "            SA_GQA_ua['Pop2018_poly'] = SA_GQA_ua['Pop2018']*SA_GQA_ua['area_prop']\n",
    "\n",
    "            # compute the weighted median for the GQ area\n",
    "            column_to_compute_median = 'GQA_m2'\n",
    "            weighted_median_m2 = np.average(SA_GQA_ua[column_to_compute_median], weights=SA_GQA_ua['Pop2018_poly'])\n",
    "            weighted_median_Ha = round(weighted_median_m2/10000,2)\n",
    "        else:\n",
    "            weighted_median_Ha = 0\n",
    "\n",
    "        # Perc Population\n",
    "        # TotalGQAPop/UC_NCM_UA_Pop*100\n",
    "        if TotalGQAPop>0 and UC_UA_NCM_Pop>0:\n",
    "            PercGreenQuietPop = TotalGQAPop/UC_UA_NCM_Pop*100\n",
    "        else:\n",
    "            PercGreenQuietPop = 0\n",
    "        \n",
    "        if TotalGQAPop_p>0 and UC_UA_NCM_Pop>0:\n",
    "            PercGreenQuietPop_p = TotalGQAPop_p/UC_UA_NCM_Pop*100\n",
    "        else:\n",
    "            PercGreenQuietPop_p = 0\n",
    "\n",
    "        # Write values to output table\n",
    "        log_entry = create_log_entry(uc_code , uc_name , ctry_code , TotalUCAreaHa ,\n",
    "                                UC_UA_AreaHa , UC_UA_Pop , UC_UA_NCM_AreaHa , UC_UA_NCM_Pop,\n",
    "                                Perc_coverage_Area , Perc_coverage_Pop , TotalGreen_urbc_ncm_Ha ,\n",
    "                                TotalGreenQuietAreaHa , TotalGQAPop, TotalGQAPop_p, PercGreenQuietArea ,\n",
    "                                PercGreenQuietPop ,PercGreenQuietPop_p, weighted_median_Ha , TotalGreenAreaHa ,\n",
    "                                green_excludedHa)\n",
    "        write_log(csv_path, log_entry)\n",
    "\n",
    "    \n"
   ]
  },
  {
   "cell_type": "code",
   "execution_count": null,
   "metadata": {},
   "outputs": [],
   "source": [
    "write_log(csv_path, log_entry)"
   ]
  },
  {
   "cell_type": "code",
   "execution_count": 34,
   "metadata": {},
   "outputs": [
    {
     "data": {
      "text/html": [
       "<div>\n",
       "<style scoped>\n",
       "    .dataframe tbody tr th:only-of-type {\n",
       "        vertical-align: middle;\n",
       "    }\n",
       "\n",
       "    .dataframe tbody tr th {\n",
       "        vertical-align: top;\n",
       "    }\n",
       "\n",
       "    .dataframe thead th {\n",
       "        text-align: right;\n",
       "    }\n",
       "</style>\n",
       "<table border=\"1\" class=\"dataframe\">\n",
       "  <thead>\n",
       "    <tr style=\"text-align: right;\">\n",
       "      <th></th>\n",
       "      <th>uc_code</th>\n",
       "      <th>uc_name</th>\n",
       "      <th>ctry_code</th>\n",
       "      <th>TotalUCAreaHa</th>\n",
       "      <th>UC_UA_AreaHa</th>\n",
       "      <th>UC_UA_Pop</th>\n",
       "      <th>UC_UA_NCM_AreaHa</th>\n",
       "      <th>UC_UA_NCM_Pop</th>\n",
       "      <th>Perc_coverage_Area</th>\n",
       "      <th>Perc_coverage_Pop</th>\n",
       "      <th>TotalGreen_urbc_ncm_Ha</th>\n",
       "      <th>TotalGreenQuietAreaHa</th>\n",
       "      <th>TotalGQAPop</th>\n",
       "      <th>PercGreenQuietArea</th>\n",
       "      <th>PercGreenQuietPop</th>\n",
       "      <th>weighted_median_Ha</th>\n",
       "      <th>TotalGreenAreaHa</th>\n",
       "      <th>green_excludedHa</th>\n",
       "    </tr>\n",
       "  </thead>\n",
       "  <tbody>\n",
       "    <tr>\n",
       "      <th>0</th>\n",
       "      <td>GEOSTAT21_002</td>\n",
       "      <td>Oulu / Uleåborg</td>\n",
       "      <td>FI</td>\n",
       "      <td>2900.0</td>\n",
       "      <td>2900.00</td>\n",
       "      <td>76701</td>\n",
       "      <td>2900.00</td>\n",
       "      <td>76701</td>\n",
       "      <td>100.00</td>\n",
       "      <td>100.00</td>\n",
       "      <td>715.95</td>\n",
       "      <td>340.85</td>\n",
       "      <td>38825.0</td>\n",
       "      <td>47.608073</td>\n",
       "      <td>50.618636</td>\n",
       "      <td>2.37</td>\n",
       "      <td>715.95</td>\n",
       "      <td>0.00</td>\n",
       "    </tr>\n",
       "    <tr>\n",
       "      <th>1</th>\n",
       "      <td>GEOSTAT21_003</td>\n",
       "      <td>Umeå</td>\n",
       "      <td>SE</td>\n",
       "      <td>3600.0</td>\n",
       "      <td>3600.00</td>\n",
       "      <td>85430</td>\n",
       "      <td>3600.00</td>\n",
       "      <td>85430</td>\n",
       "      <td>100.00</td>\n",
       "      <td>100.00</td>\n",
       "      <td>949.30</td>\n",
       "      <td>421.74</td>\n",
       "      <td>27183.0</td>\n",
       "      <td>44.426419</td>\n",
       "      <td>31.819033</td>\n",
       "      <td>7.67</td>\n",
       "      <td>949.30</td>\n",
       "      <td>0.00</td>\n",
       "    </tr>\n",
       "    <tr>\n",
       "      <th>2</th>\n",
       "      <td>GEOSTAT21_004</td>\n",
       "      <td>Trondheim</td>\n",
       "      <td>NO</td>\n",
       "      <td>7000.0</td>\n",
       "      <td>6792.94</td>\n",
       "      <td>177126</td>\n",
       "      <td>6669.17</td>\n",
       "      <td>177123</td>\n",
       "      <td>95.27</td>\n",
       "      <td>100.00</td>\n",
       "      <td>1289.85</td>\n",
       "      <td>954.85</td>\n",
       "      <td>79888.0</td>\n",
       "      <td>74.027988</td>\n",
       "      <td>45.103120</td>\n",
       "      <td>6.68</td>\n",
       "      <td>1307.75</td>\n",
       "      <td>17.90</td>\n",
       "    </tr>\n",
       "    <tr>\n",
       "      <th>3</th>\n",
       "      <td>GEOSTAT21_005</td>\n",
       "      <td>Jyväskylä</td>\n",
       "      <td>FI</td>\n",
       "      <td>2700.0</td>\n",
       "      <td>2700.00</td>\n",
       "      <td>64379</td>\n",
       "      <td>2700.00</td>\n",
       "      <td>64379</td>\n",
       "      <td>100.00</td>\n",
       "      <td>100.00</td>\n",
       "      <td>603.42</td>\n",
       "      <td>369.46</td>\n",
       "      <td>29175.0</td>\n",
       "      <td>61.227669</td>\n",
       "      <td>45.317573</td>\n",
       "      <td>5.46</td>\n",
       "      <td>603.42</td>\n",
       "      <td>0.00</td>\n",
       "    </tr>\n",
       "    <tr>\n",
       "      <th>4</th>\n",
       "      <td>GEOSTAT21_006</td>\n",
       "      <td>Tampere / Tammerfors</td>\n",
       "      <td>FI</td>\n",
       "      <td>8200.0</td>\n",
       "      <td>8200.00</td>\n",
       "      <td>196152</td>\n",
       "      <td>8159.01</td>\n",
       "      <td>195838</td>\n",
       "      <td>99.50</td>\n",
       "      <td>99.84</td>\n",
       "      <td>1796.15</td>\n",
       "      <td>1016.24</td>\n",
       "      <td>89868.0</td>\n",
       "      <td>56.578794</td>\n",
       "      <td>45.888949</td>\n",
       "      <td>3.37</td>\n",
       "      <td>1801.40</td>\n",
       "      <td>5.25</td>\n",
       "    </tr>\n",
       "  </tbody>\n",
       "</table>\n",
       "</div>"
      ],
      "text/plain": [
       "         uc_code               uc_name ctry_code  TotalUCAreaHa  UC_UA_AreaHa  \\\n",
       "0  GEOSTAT21_002       Oulu / Uleåborg        FI         2900.0       2900.00   \n",
       "1  GEOSTAT21_003                  Umeå        SE         3600.0       3600.00   \n",
       "2  GEOSTAT21_004             Trondheim        NO         7000.0       6792.94   \n",
       "3  GEOSTAT21_005             Jyväskylä        FI         2700.0       2700.00   \n",
       "4  GEOSTAT21_006  Tampere / Tammerfors        FI         8200.0       8200.00   \n",
       "\n",
       "   UC_UA_Pop  UC_UA_NCM_AreaHa  UC_UA_NCM_Pop  Perc_coverage_Area  \\\n",
       "0      76701           2900.00          76701              100.00   \n",
       "1      85430           3600.00          85430              100.00   \n",
       "2     177126           6669.17         177123               95.27   \n",
       "3      64379           2700.00          64379              100.00   \n",
       "4     196152           8159.01         195838               99.50   \n",
       "\n",
       "   Perc_coverage_Pop  TotalGreen_urbc_ncm_Ha  TotalGreenQuietAreaHa  \\\n",
       "0             100.00                  715.95                 340.85   \n",
       "1             100.00                  949.30                 421.74   \n",
       "2             100.00                 1289.85                 954.85   \n",
       "3             100.00                  603.42                 369.46   \n",
       "4              99.84                 1796.15                1016.24   \n",
       "\n",
       "   TotalGQAPop  PercGreenQuietArea  PercGreenQuietPop  weighted_median_Ha  \\\n",
       "0      38825.0           47.608073          50.618636                2.37   \n",
       "1      27183.0           44.426419          31.819033                7.67   \n",
       "2      79888.0           74.027988          45.103120                6.68   \n",
       "3      29175.0           61.227669          45.317573                5.46   \n",
       "4      89868.0           56.578794          45.888949                3.37   \n",
       "\n",
       "   TotalGreenAreaHa  green_excludedHa  \n",
       "0            715.95              0.00  \n",
       "1            949.30              0.00  \n",
       "2           1307.75             17.90  \n",
       "3            603.42              0.00  \n",
       "4           1801.40              5.25  "
      ]
     },
     "execution_count": 34,
     "metadata": {},
     "output_type": "execute_result"
    }
   ],
   "source": [
    "tbl = pd.read_csv(csv_path) \n",
    "tbl.head()"
   ]
  },
  {
   "cell_type": "code",
   "execution_count": 35,
   "metadata": {},
   "outputs": [],
   "source": [
    "tbl.to_csv(csv_path, index=False, encoding=\"utf-8\")"
   ]
  },
  {
   "cell_type": "code",
   "execution_count": 31,
   "metadata": {},
   "outputs": [
    {
     "data": {
      "text/plain": [
       "['GEOSTAT21_441',\n",
       " 'Heilbronn',\n",
       " 'DE',\n",
       " 2400.0,\n",
       " 2400.0,\n",
       " 100177,\n",
       " 2122.63,\n",
       " 93871,\n",
       " 88.44,\n",
       " 93.71,\n",
       " 114.79,\n",
       " 88.28,\n",
       " 22269.0,\n",
       " 76.90565380259604,\n",
       " 23.722981538494317,\n",
       " 4.14,\n",
       " 122.19,\n",
       " 7.3999999999999915]"
      ]
     },
     "execution_count": 31,
     "metadata": {},
     "output_type": "execute_result"
    }
   ],
   "source": [
    "log_entry"
   ]
  },
  {
   "cell_type": "code",
   "execution_count": 8,
   "metadata": {},
   "outputs": [
    {
     "data": {
      "text/html": [
       "<div>\n",
       "<style scoped>\n",
       "    .dataframe tbody tr th:only-of-type {\n",
       "        vertical-align: middle;\n",
       "    }\n",
       "\n",
       "    .dataframe tbody tr th {\n",
       "        vertical-align: top;\n",
       "    }\n",
       "\n",
       "    .dataframe thead th {\n",
       "        text-align: right;\n",
       "    }\n",
       "</style>\n",
       "<table border=\"1\" class=\"dataframe\">\n",
       "  <thead>\n",
       "    <tr style=\"text-align: right;\">\n",
       "      <th></th>\n",
       "      <th>GQA_FID</th>\n",
       "      <th>GQA_m2</th>\n",
       "      <th>code_2018</th>\n",
       "      <th>Pop2018</th>\n",
       "      <th>UA_area_m2</th>\n",
       "      <th>geometry</th>\n",
       "      <th>final_area_m2</th>\n",
       "      <th>area_prop</th>\n",
       "      <th>Pop2018_poly</th>\n",
       "      <th>Pop2018_final</th>\n",
       "    </tr>\n",
       "  </thead>\n",
       "  <tbody>\n",
       "    <tr>\n",
       "      <th>0</th>\n",
       "      <td>0</td>\n",
       "      <td>91687.918884</td>\n",
       "      <td>12220</td>\n",
       "      <td>0</td>\n",
       "      <td>3.443834e+08</td>\n",
       "      <td>POLYGON ((3737532.895 2880000.000, 3737543.421...</td>\n",
       "      <td>11847.85</td>\n",
       "      <td>0.000034</td>\n",
       "      <td>0.000000</td>\n",
       "      <td>0.0</td>\n",
       "    </tr>\n",
       "    <tr>\n",
       "      <th>1</th>\n",
       "      <td>1</td>\n",
       "      <td>1208.064559</td>\n",
       "      <td>12220</td>\n",
       "      <td>0</td>\n",
       "      <td>3.443834e+08</td>\n",
       "      <td>POLYGON ((3737342.851 2880250.228, 3737332.879...</td>\n",
       "      <td>7242.83</td>\n",
       "      <td>0.000021</td>\n",
       "      <td>0.000000</td>\n",
       "      <td>0.0</td>\n",
       "    </tr>\n",
       "    <tr>\n",
       "      <th>2</th>\n",
       "      <td>2</td>\n",
       "      <td>129614.521449</td>\n",
       "      <td>12220</td>\n",
       "      <td>0</td>\n",
       "      <td>3.443834e+08</td>\n",
       "      <td>MULTIPOLYGON (((3737949.361 2880767.997, 37379...</td>\n",
       "      <td>21985.74</td>\n",
       "      <td>0.000064</td>\n",
       "      <td>0.000000</td>\n",
       "      <td>0.0</td>\n",
       "    </tr>\n",
       "    <tr>\n",
       "      <th>3</th>\n",
       "      <td>3</td>\n",
       "      <td>10782.694370</td>\n",
       "      <td>12220</td>\n",
       "      <td>0</td>\n",
       "      <td>3.443834e+08</td>\n",
       "      <td>POLYGON ((3737683.579 2880757.022, 3737681.225...</td>\n",
       "      <td>37175.81</td>\n",
       "      <td>0.000108</td>\n",
       "      <td>0.000000</td>\n",
       "      <td>0.0</td>\n",
       "    </tr>\n",
       "    <tr>\n",
       "      <th>4</th>\n",
       "      <td>4</td>\n",
       "      <td>4240.194748</td>\n",
       "      <td>12220</td>\n",
       "      <td>0</td>\n",
       "      <td>3.443834e+08</td>\n",
       "      <td>MULTIPOLYGON (((3737402.585 2880764.695, 37373...</td>\n",
       "      <td>26280.71</td>\n",
       "      <td>0.000076</td>\n",
       "      <td>0.000000</td>\n",
       "      <td>0.0</td>\n",
       "    </tr>\n",
       "    <tr>\n",
       "      <th>...</th>\n",
       "      <td>...</td>\n",
       "      <td>...</td>\n",
       "      <td>...</td>\n",
       "      <td>...</td>\n",
       "      <td>...</td>\n",
       "      <td>...</td>\n",
       "      <td>...</td>\n",
       "      <td>...</td>\n",
       "      <td>...</td>\n",
       "      <td>...</td>\n",
       "    </tr>\n",
       "    <tr>\n",
       "      <th>1874</th>\n",
       "      <td>89</td>\n",
       "      <td>28513.164237</td>\n",
       "      <td>11210</td>\n",
       "      <td>54</td>\n",
       "      <td>7.287360e+03</td>\n",
       "      <td>POLYGON ((3731000.000 2885630.552, 3731001.351...</td>\n",
       "      <td>7231.95</td>\n",
       "      <td>0.992396</td>\n",
       "      <td>53.589407</td>\n",
       "      <td>54.0</td>\n",
       "    </tr>\n",
       "    <tr>\n",
       "      <th>1875</th>\n",
       "      <td>89</td>\n",
       "      <td>28513.164237</td>\n",
       "      <td>11210</td>\n",
       "      <td>64</td>\n",
       "      <td>6.734230e+03</td>\n",
       "      <td>POLYGON ((3731126.802 2885621.155, 3731121.609...</td>\n",
       "      <td>6734.23</td>\n",
       "      <td>1.000000</td>\n",
       "      <td>64.000000</td>\n",
       "      <td>64.0</td>\n",
       "    </tr>\n",
       "    <tr>\n",
       "      <th>1876</th>\n",
       "      <td>89</td>\n",
       "      <td>28513.164237</td>\n",
       "      <td>11210</td>\n",
       "      <td>51</td>\n",
       "      <td>8.317960e+03</td>\n",
       "      <td>POLYGON ((3731181.439 2885511.912, 3731168.165...</td>\n",
       "      <td>8317.96</td>\n",
       "      <td>1.000000</td>\n",
       "      <td>51.000000</td>\n",
       "      <td>51.0</td>\n",
       "    </tr>\n",
       "    <tr>\n",
       "      <th>1877</th>\n",
       "      <td>89</td>\n",
       "      <td>28513.164237</td>\n",
       "      <td>11210</td>\n",
       "      <td>80</td>\n",
       "      <td>1.073271e+04</td>\n",
       "      <td>POLYGON ((3731239.168 2885485.170, 3731222.682...</td>\n",
       "      <td>10732.71</td>\n",
       "      <td>1.000000</td>\n",
       "      <td>80.000000</td>\n",
       "      <td>80.0</td>\n",
       "    </tr>\n",
       "    <tr>\n",
       "      <th>1878</th>\n",
       "      <td>89</td>\n",
       "      <td>28513.164237</td>\n",
       "      <td>11220</td>\n",
       "      <td>282</td>\n",
       "      <td>9.165228e+04</td>\n",
       "      <td>MULTIPOLYGON (((3731493.938 2885520.228, 37314...</td>\n",
       "      <td>15550.15</td>\n",
       "      <td>0.169665</td>\n",
       "      <td>47.845425</td>\n",
       "      <td>48.0</td>\n",
       "    </tr>\n",
       "  </tbody>\n",
       "</table>\n",
       "<p>1879 rows × 10 columns</p>\n",
       "</div>"
      ],
      "text/plain": [
       "      GQA_FID         GQA_m2 code_2018  Pop2018    UA_area_m2  \\\n",
       "0           0   91687.918884     12220        0  3.443834e+08   \n",
       "1           1    1208.064559     12220        0  3.443834e+08   \n",
       "2           2  129614.521449     12220        0  3.443834e+08   \n",
       "3           3   10782.694370     12220        0  3.443834e+08   \n",
       "4           4    4240.194748     12220        0  3.443834e+08   \n",
       "...       ...            ...       ...      ...           ...   \n",
       "1874       89   28513.164237     11210       54  7.287360e+03   \n",
       "1875       89   28513.164237     11210       64  6.734230e+03   \n",
       "1876       89   28513.164237     11210       51  8.317960e+03   \n",
       "1877       89   28513.164237     11210       80  1.073271e+04   \n",
       "1878       89   28513.164237     11220      282  9.165228e+04   \n",
       "\n",
       "                                               geometry  final_area_m2  \\\n",
       "0     POLYGON ((3737532.895 2880000.000, 3737543.421...       11847.85   \n",
       "1     POLYGON ((3737342.851 2880250.228, 3737332.879...        7242.83   \n",
       "2     MULTIPOLYGON (((3737949.361 2880767.997, 37379...       21985.74   \n",
       "3     POLYGON ((3737683.579 2880757.022, 3737681.225...       37175.81   \n",
       "4     MULTIPOLYGON (((3737402.585 2880764.695, 37373...       26280.71   \n",
       "...                                                 ...            ...   \n",
       "1874  POLYGON ((3731000.000 2885630.552, 3731001.351...        7231.95   \n",
       "1875  POLYGON ((3731126.802 2885621.155, 3731121.609...        6734.23   \n",
       "1876  POLYGON ((3731181.439 2885511.912, 3731168.165...        8317.96   \n",
       "1877  POLYGON ((3731239.168 2885485.170, 3731222.682...       10732.71   \n",
       "1878  MULTIPOLYGON (((3731493.938 2885520.228, 37314...       15550.15   \n",
       "\n",
       "      area_prop  Pop2018_poly  Pop2018_final  \n",
       "0      0.000034      0.000000            0.0  \n",
       "1      0.000021      0.000000            0.0  \n",
       "2      0.000064      0.000000            0.0  \n",
       "3      0.000108      0.000000            0.0  \n",
       "4      0.000076      0.000000            0.0  \n",
       "...         ...           ...            ...  \n",
       "1874   0.992396     53.589407           54.0  \n",
       "1875   1.000000     64.000000           64.0  \n",
       "1876   1.000000     51.000000           51.0  \n",
       "1877   1.000000     80.000000           80.0  \n",
       "1878   0.169665     47.845425           48.0  \n",
       "\n",
       "[1879 rows x 10 columns]"
      ]
     },
     "execution_count": 8,
     "metadata": {},
     "output_type": "execute_result"
    }
   ],
   "source": [
    "SA_GQA_ua"
   ]
  },
  {
   "cell_type": "code",
   "execution_count": 9,
   "metadata": {},
   "outputs": [
    {
     "data": {
      "text/plain": [
       "81714.87435043047"
      ]
     },
     "execution_count": 9,
     "metadata": {},
     "output_type": "execute_result"
    }
   ],
   "source": [
    "SA_GQA_ua.Pop2018_poly.sum()"
   ]
  },
  {
   "cell_type": "code",
   "execution_count": 10,
   "metadata": {},
   "outputs": [
    {
     "name": "stderr",
     "output_type": "stream",
     "text": [
      "Q:\\UserTemp\\ubach\\AppData\\Local\\Temp\\40\\ipykernel_126376\\3988194404.py:2: UserWarning: Column names longer than 10 characters will be truncated when saved to ESRI Shapefile.\n",
      "  SA_GQA_ua.to_file(file_path_SA_GQA_ua, driver='ESRI Shapefile')\n"
     ]
    }
   ],
   "source": [
    "file_path_SA_GQA_ua = os.path.join(outdata_f,'SA_GQA_ua', f'{uc_code}_SA_GQA_ua.shp')\n",
    "SA_GQA_ua.to_file(file_path_SA_GQA_ua, driver='ESRI Shapefile')   "
   ]
  },
  {
   "cell_type": "code",
   "execution_count": 12,
   "metadata": {},
   "outputs": [],
   "source": [
    "file_path_SA_GQA_ua = os.path.join(outdata_f,'SA', f'{uc_code}_SA_mask.shp')\n",
    "SA_mask.to_file(file_path_SA_GQA_ua, driver='ESRI Shapefile')   "
   ]
  },
  {
   "cell_type": "code",
   "execution_count": 13,
   "metadata": {},
   "outputs": [
    {
     "data": {
      "text/html": [
       "<div>\n",
       "<style scoped>\n",
       "    .dataframe tbody tr th:only-of-type {\n",
       "        vertical-align: middle;\n",
       "    }\n",
       "\n",
       "    .dataframe tbody tr th {\n",
       "        vertical-align: top;\n",
       "    }\n",
       "\n",
       "    .dataframe thead th {\n",
       "        text-align: right;\n",
       "    }\n",
       "</style>\n",
       "<table border=\"1\" class=\"dataframe\">\n",
       "  <thead>\n",
       "    <tr style=\"text-align: right;\">\n",
       "      <th></th>\n",
       "      <th>HDENS_NAME</th>\n",
       "      <th>CNTR_CODE</th>\n",
       "      <th>code_2018</th>\n",
       "      <th>Pop2018</th>\n",
       "      <th>geometry</th>\n",
       "    </tr>\n",
       "  </thead>\n",
       "  <tbody>\n",
       "    <tr>\n",
       "      <th>0</th>\n",
       "      <td>Maurepas / Montigny-le-Bretonneux</td>\n",
       "      <td>FR</td>\n",
       "      <td>21000</td>\n",
       "      <td>0</td>\n",
       "      <td>POLYGON ((3730027.052 2884037.266, 3730026.813...</td>\n",
       "    </tr>\n",
       "    <tr>\n",
       "      <th>1</th>\n",
       "      <td>Maurepas / Montigny-le-Bretonneux</td>\n",
       "      <td>FR</td>\n",
       "      <td>12220</td>\n",
       "      <td>0</td>\n",
       "      <td>MULTIPOLYGON (((3739213.184 2881792.216, 37392...</td>\n",
       "    </tr>\n",
       "    <tr>\n",
       "      <th>2</th>\n",
       "      <td>Maurepas / Montigny-le-Bretonneux</td>\n",
       "      <td>FR</td>\n",
       "      <td>11210</td>\n",
       "      <td>389</td>\n",
       "      <td>POLYGON ((3729103.938 2882435.228, 3729076.019...</td>\n",
       "    </tr>\n",
       "    <tr>\n",
       "      <th>3</th>\n",
       "      <td>Maurepas / Montigny-le-Bretonneux</td>\n",
       "      <td>FR</td>\n",
       "      <td>11210</td>\n",
       "      <td>160</td>\n",
       "      <td>MULTIPOLYGON (((3728958.938 2882510.228, 37289...</td>\n",
       "    </tr>\n",
       "    <tr>\n",
       "      <th>4</th>\n",
       "      <td>Maurepas / Montigny-le-Bretonneux</td>\n",
       "      <td>FR</td>\n",
       "      <td>12100</td>\n",
       "      <td>5</td>\n",
       "      <td>POLYGON ((3729053.938 2882435.228, 3729063.938...</td>\n",
       "    </tr>\n",
       "    <tr>\n",
       "      <th>...</th>\n",
       "      <td>...</td>\n",
       "      <td>...</td>\n",
       "      <td>...</td>\n",
       "      <td>...</td>\n",
       "      <td>...</td>\n",
       "    </tr>\n",
       "    <tr>\n",
       "      <th>872</th>\n",
       "      <td>Maurepas / Montigny-le-Bretonneux</td>\n",
       "      <td>FR</td>\n",
       "      <td>11210</td>\n",
       "      <td>54</td>\n",
       "      <td>POLYGON ((3731000.000 2885630.552, 3731001.351...</td>\n",
       "    </tr>\n",
       "    <tr>\n",
       "      <th>873</th>\n",
       "      <td>Maurepas / Montigny-le-Bretonneux</td>\n",
       "      <td>FR</td>\n",
       "      <td>11210</td>\n",
       "      <td>64</td>\n",
       "      <td>POLYGON ((3731126.802 2885621.155, 3731121.609...</td>\n",
       "    </tr>\n",
       "    <tr>\n",
       "      <th>874</th>\n",
       "      <td>Maurepas / Montigny-le-Bretonneux</td>\n",
       "      <td>FR</td>\n",
       "      <td>11210</td>\n",
       "      <td>51</td>\n",
       "      <td>POLYGON ((3731181.439 2885511.912, 3731168.165...</td>\n",
       "    </tr>\n",
       "    <tr>\n",
       "      <th>875</th>\n",
       "      <td>Maurepas / Montigny-le-Bretonneux</td>\n",
       "      <td>FR</td>\n",
       "      <td>11210</td>\n",
       "      <td>80</td>\n",
       "      <td>POLYGON ((3731239.168 2885485.170, 3731222.682...</td>\n",
       "    </tr>\n",
       "    <tr>\n",
       "      <th>876</th>\n",
       "      <td>Maurepas / Montigny-le-Bretonneux</td>\n",
       "      <td>FR</td>\n",
       "      <td>11220</td>\n",
       "      <td>282</td>\n",
       "      <td>MULTIPOLYGON (((3731000.000 2885661.716, 37310...</td>\n",
       "    </tr>\n",
       "  </tbody>\n",
       "</table>\n",
       "<p>877 rows × 5 columns</p>\n",
       "</div>"
      ],
      "text/plain": [
       "                            HDENS_NAME CNTR_CODE code_2018  Pop2018  \\\n",
       "0    Maurepas / Montigny-le-Bretonneux        FR     21000        0   \n",
       "1    Maurepas / Montigny-le-Bretonneux        FR     12220        0   \n",
       "2    Maurepas / Montigny-le-Bretonneux        FR     11210      389   \n",
       "3    Maurepas / Montigny-le-Bretonneux        FR     11210      160   \n",
       "4    Maurepas / Montigny-le-Bretonneux        FR     12100        5   \n",
       "..                                 ...       ...       ...      ...   \n",
       "872  Maurepas / Montigny-le-Bretonneux        FR     11210       54   \n",
       "873  Maurepas / Montigny-le-Bretonneux        FR     11210       64   \n",
       "874  Maurepas / Montigny-le-Bretonneux        FR     11210       51   \n",
       "875  Maurepas / Montigny-le-Bretonneux        FR     11210       80   \n",
       "876  Maurepas / Montigny-le-Bretonneux        FR     11220      282   \n",
       "\n",
       "                                              geometry  \n",
       "0    POLYGON ((3730027.052 2884037.266, 3730026.813...  \n",
       "1    MULTIPOLYGON (((3739213.184 2881792.216, 37392...  \n",
       "2    POLYGON ((3729103.938 2882435.228, 3729076.019...  \n",
       "3    MULTIPOLYGON (((3728958.938 2882510.228, 37289...  \n",
       "4    POLYGON ((3729053.938 2882435.228, 3729063.938...  \n",
       "..                                                 ...  \n",
       "872  POLYGON ((3731000.000 2885630.552, 3731001.351...  \n",
       "873  POLYGON ((3731126.802 2885621.155, 3731121.609...  \n",
       "874  POLYGON ((3731181.439 2885511.912, 3731168.165...  \n",
       "875  POLYGON ((3731239.168 2885485.170, 3731222.682...  \n",
       "876  MULTIPOLYGON (((3731000.000 2885661.716, 37310...  \n",
       "\n",
       "[877 rows x 5 columns]"
      ]
     },
     "execution_count": 13,
     "metadata": {},
     "output_type": "execute_result"
    }
   ],
   "source": [
    "SA_ua"
   ]
  },
  {
   "cell_type": "code",
   "execution_count": 14,
   "metadata": {},
   "outputs": [],
   "source": [
    "ua['UA_area_m2'] = round(ua.geometry.area,2)\n",
    "SA_ua = gpd.overlay(SA_mask,ua,how='intersection')  "
   ]
  },
  {
   "cell_type": "code",
   "execution_count": 15,
   "metadata": {},
   "outputs": [
    {
     "data": {
      "text/plain": [
       "54028.0"
      ]
     },
     "execution_count": 15,
     "metadata": {},
     "output_type": "execute_result"
    }
   ],
   "source": [
    "SA_ua['final_area_m2'] = round(SA_ua.geometry.area,2)\n",
    "SA_ua['area_prop'] = SA_ua['final_area_m2']/SA_ua['UA_area_m2'] # capture proportion from original geometry\n",
    "SA_ua['Pop2018_poly'] = SA_ua['Pop2018']*SA_ua['area_prop']\n",
    "round(SA_ua.Pop2018_poly.sum(),0)"
   ]
  },
  {
   "cell_type": "code",
   "execution_count": 16,
   "metadata": {},
   "outputs": [
    {
     "data": {
      "text/html": [
       "<div>\n",
       "<style scoped>\n",
       "    .dataframe tbody tr th:only-of-type {\n",
       "        vertical-align: middle;\n",
       "    }\n",
       "\n",
       "    .dataframe tbody tr th {\n",
       "        vertical-align: top;\n",
       "    }\n",
       "\n",
       "    .dataframe thead th {\n",
       "        text-align: right;\n",
       "    }\n",
       "</style>\n",
       "<table border=\"1\" class=\"dataframe\">\n",
       "  <thead>\n",
       "    <tr style=\"text-align: right;\">\n",
       "      <th></th>\n",
       "      <th>code_2018</th>\n",
       "      <th>Pop2018</th>\n",
       "      <th>geometry</th>\n",
       "      <th>UA_area_m2</th>\n",
       "    </tr>\n",
       "  </thead>\n",
       "  <tbody>\n",
       "    <tr>\n",
       "      <th>0</th>\n",
       "      <td>21000</td>\n",
       "      <td>0</td>\n",
       "      <td>MULTIPOLYGON (((3730026.813 2884036.647, 37300...</td>\n",
       "      <td>4.767161e+04</td>\n",
       "    </tr>\n",
       "    <tr>\n",
       "      <th>1</th>\n",
       "      <td>21000</td>\n",
       "      <td>1</td>\n",
       "      <td>MULTIPOLYGON (((3729660.852 2884957.545, 37296...</td>\n",
       "      <td>4.309398e+05</td>\n",
       "    </tr>\n",
       "    <tr>\n",
       "      <th>2</th>\n",
       "      <td>12220</td>\n",
       "      <td>0</td>\n",
       "      <td>MULTIPOLYGON (((3690458.999 2887865.449, 36904...</td>\n",
       "      <td>3.443834e+08</td>\n",
       "    </tr>\n",
       "    <tr>\n",
       "      <th>3</th>\n",
       "      <td>11230</td>\n",
       "      <td>30</td>\n",
       "      <td>MULTIPOLYGON (((3729140.131 2885631.625, 37291...</td>\n",
       "      <td>9.476450e+03</td>\n",
       "    </tr>\n",
       "    <tr>\n",
       "      <th>4</th>\n",
       "      <td>14200</td>\n",
       "      <td>4</td>\n",
       "      <td>MULTIPOLYGON (((3728909.508 2886296.253, 37289...</td>\n",
       "      <td>4.494178e+05</td>\n",
       "    </tr>\n",
       "    <tr>\n",
       "      <th>...</th>\n",
       "      <td>...</td>\n",
       "      <td>...</td>\n",
       "      <td>...</td>\n",
       "      <td>...</td>\n",
       "    </tr>\n",
       "    <tr>\n",
       "      <th>1818</th>\n",
       "      <td>11210</td>\n",
       "      <td>663</td>\n",
       "      <td>MULTIPOLYGON (((3736438.255 2886133.961, 37364...</td>\n",
       "      <td>6.625567e+04</td>\n",
       "    </tr>\n",
       "    <tr>\n",
       "      <th>1819</th>\n",
       "      <td>14200</td>\n",
       "      <td>38</td>\n",
       "      <td>MULTIPOLYGON (((3736838.121 2885916.147, 37367...</td>\n",
       "      <td>9.074730e+04</td>\n",
       "    </tr>\n",
       "    <tr>\n",
       "      <th>1820</th>\n",
       "      <td>31000</td>\n",
       "      <td>0</td>\n",
       "      <td>MULTIPOLYGON (((3733571.120 2888005.240, 37335...</td>\n",
       "      <td>4.822790e+06</td>\n",
       "    </tr>\n",
       "    <tr>\n",
       "      <th>1821</th>\n",
       "      <td>14200</td>\n",
       "      <td>17</td>\n",
       "      <td>MULTIPOLYGON (((3740045.891 2886208.415, 37400...</td>\n",
       "      <td>5.639415e+05</td>\n",
       "    </tr>\n",
       "    <tr>\n",
       "      <th>1822</th>\n",
       "      <td>13300</td>\n",
       "      <td>0</td>\n",
       "      <td>MULTIPOLYGON (((3739641.942 2885976.594, 37396...</td>\n",
       "      <td>1.616848e+05</td>\n",
       "    </tr>\n",
       "  </tbody>\n",
       "</table>\n",
       "<p>1823 rows × 4 columns</p>\n",
       "</div>"
      ],
      "text/plain": [
       "     code_2018  Pop2018                                           geometry  \\\n",
       "0        21000        0  MULTIPOLYGON (((3730026.813 2884036.647, 37300...   \n",
       "1        21000        1  MULTIPOLYGON (((3729660.852 2884957.545, 37296...   \n",
       "2        12220        0  MULTIPOLYGON (((3690458.999 2887865.449, 36904...   \n",
       "3        11230       30  MULTIPOLYGON (((3729140.131 2885631.625, 37291...   \n",
       "4        14200        4  MULTIPOLYGON (((3728909.508 2886296.253, 37289...   \n",
       "...        ...      ...                                                ...   \n",
       "1818     11210      663  MULTIPOLYGON (((3736438.255 2886133.961, 37364...   \n",
       "1819     14200       38  MULTIPOLYGON (((3736838.121 2885916.147, 37367...   \n",
       "1820     31000        0  MULTIPOLYGON (((3733571.120 2888005.240, 37335...   \n",
       "1821     14200       17  MULTIPOLYGON (((3740045.891 2886208.415, 37400...   \n",
       "1822     13300        0  MULTIPOLYGON (((3739641.942 2885976.594, 37396...   \n",
       "\n",
       "        UA_area_m2  \n",
       "0     4.767161e+04  \n",
       "1     4.309398e+05  \n",
       "2     3.443834e+08  \n",
       "3     9.476450e+03  \n",
       "4     4.494178e+05  \n",
       "...            ...  \n",
       "1818  6.625567e+04  \n",
       "1819  9.074730e+04  \n",
       "1820  4.822790e+06  \n",
       "1821  5.639415e+05  \n",
       "1822  1.616848e+05  \n",
       "\n",
       "[1823 rows x 4 columns]"
      ]
     },
     "execution_count": 16,
     "metadata": {},
     "output_type": "execute_result"
    }
   ],
   "source": [
    "ua.head()"
   ]
  },
  {
   "cell_type": "code",
   "execution_count": 17,
   "metadata": {},
   "outputs": [],
   "source": [
    "SA_uc = gpd.clip(SA_mask,urban_center)  "
   ]
  },
  {
   "cell_type": "code",
   "execution_count": 18,
   "metadata": {},
   "outputs": [
    {
     "data": {
      "text/html": [
       "<div>\n",
       "<style scoped>\n",
       "    .dataframe tbody tr th:only-of-type {\n",
       "        vertical-align: middle;\n",
       "    }\n",
       "\n",
       "    .dataframe tbody tr th {\n",
       "        vertical-align: top;\n",
       "    }\n",
       "\n",
       "    .dataframe thead th {\n",
       "        text-align: right;\n",
       "    }\n",
       "</style>\n",
       "<table border=\"1\" class=\"dataframe\">\n",
       "  <thead>\n",
       "    <tr style=\"text-align: right;\">\n",
       "      <th></th>\n",
       "      <th>geometry</th>\n",
       "      <th>HDENS_NAME</th>\n",
       "      <th>CNTR_CODE</th>\n",
       "    </tr>\n",
       "    <tr>\n",
       "      <th>HDENS_CLST</th>\n",
       "      <th></th>\n",
       "      <th></th>\n",
       "      <th></th>\n",
       "    </tr>\n",
       "  </thead>\n",
       "  <tbody>\n",
       "    <tr>\n",
       "      <th>GEOSTAT21_443</th>\n",
       "      <td>MULTIPOLYGON (((3730778.938 2881010.228, 37307...</td>\n",
       "      <td>Maurepas / Montigny-le-Bretonneux</td>\n",
       "      <td>FR</td>\n",
       "    </tr>\n",
       "  </tbody>\n",
       "</table>\n",
       "</div>"
      ],
      "text/plain": [
       "                                                        geometry  \\\n",
       "HDENS_CLST                                                         \n",
       "GEOSTAT21_443  MULTIPOLYGON (((3730778.938 2881010.228, 37307...   \n",
       "\n",
       "                                      HDENS_NAME CNTR_CODE  \n",
       "HDENS_CLST                                                  \n",
       "GEOSTAT21_443  Maurepas / Montigny-le-Bretonneux        FR  "
      ]
     },
     "execution_count": 18,
     "metadata": {},
     "output_type": "execute_result"
    }
   ],
   "source": [
    "SA_uc.head()"
   ]
  },
  {
   "cell_type": "code",
   "execution_count": 20,
   "metadata": {},
   "outputs": [],
   "source": [
    "SA_uc_ua = gpd.overlay(SA_uc,ua,how='intersection') "
   ]
  },
  {
   "cell_type": "code",
   "execution_count": 21,
   "metadata": {},
   "outputs": [
    {
     "data": {
      "text/html": [
       "<div>\n",
       "<style scoped>\n",
       "    .dataframe tbody tr th:only-of-type {\n",
       "        vertical-align: middle;\n",
       "    }\n",
       "\n",
       "    .dataframe tbody tr th {\n",
       "        vertical-align: top;\n",
       "    }\n",
       "\n",
       "    .dataframe thead th {\n",
       "        text-align: right;\n",
       "    }\n",
       "</style>\n",
       "<table border=\"1\" class=\"dataframe\">\n",
       "  <thead>\n",
       "    <tr style=\"text-align: right;\">\n",
       "      <th></th>\n",
       "      <th>HDENS_NAME</th>\n",
       "      <th>CNTR_CODE</th>\n",
       "      <th>code_2018</th>\n",
       "      <th>Pop2018</th>\n",
       "      <th>UA_area_m2</th>\n",
       "      <th>geometry</th>\n",
       "    </tr>\n",
       "  </thead>\n",
       "  <tbody>\n",
       "    <tr>\n",
       "      <th>0</th>\n",
       "      <td>Maurepas / Montigny-le-Bretonneux</td>\n",
       "      <td>FR</td>\n",
       "      <td>21000</td>\n",
       "      <td>0</td>\n",
       "      <td>4.767161e+04</td>\n",
       "      <td>POLYGON ((3730027.052 2884037.266, 3730026.813...</td>\n",
       "    </tr>\n",
       "    <tr>\n",
       "      <th>1</th>\n",
       "      <td>Maurepas / Montigny-le-Bretonneux</td>\n",
       "      <td>FR</td>\n",
       "      <td>12220</td>\n",
       "      <td>0</td>\n",
       "      <td>3.443834e+08</td>\n",
       "      <td>MULTIPOLYGON (((3739213.184 2881792.216, 37392...</td>\n",
       "    </tr>\n",
       "    <tr>\n",
       "      <th>2</th>\n",
       "      <td>Maurepas / Montigny-le-Bretonneux</td>\n",
       "      <td>FR</td>\n",
       "      <td>11210</td>\n",
       "      <td>389</td>\n",
       "      <td>3.769582e+04</td>\n",
       "      <td>POLYGON ((3729103.938 2882435.228, 3729076.019...</td>\n",
       "    </tr>\n",
       "    <tr>\n",
       "      <th>3</th>\n",
       "      <td>Maurepas / Montigny-le-Bretonneux</td>\n",
       "      <td>FR</td>\n",
       "      <td>11210</td>\n",
       "      <td>160</td>\n",
       "      <td>2.575642e+04</td>\n",
       "      <td>MULTIPOLYGON (((3728958.938 2882510.228, 37289...</td>\n",
       "    </tr>\n",
       "    <tr>\n",
       "      <th>4</th>\n",
       "      <td>Maurepas / Montigny-le-Bretonneux</td>\n",
       "      <td>FR</td>\n",
       "      <td>12100</td>\n",
       "      <td>5</td>\n",
       "      <td>1.150870e+04</td>\n",
       "      <td>POLYGON ((3729053.938 2882435.228, 3729063.938...</td>\n",
       "    </tr>\n",
       "    <tr>\n",
       "      <th>...</th>\n",
       "      <td>...</td>\n",
       "      <td>...</td>\n",
       "      <td>...</td>\n",
       "      <td>...</td>\n",
       "      <td>...</td>\n",
       "      <td>...</td>\n",
       "    </tr>\n",
       "    <tr>\n",
       "      <th>872</th>\n",
       "      <td>Maurepas / Montigny-le-Bretonneux</td>\n",
       "      <td>FR</td>\n",
       "      <td>11210</td>\n",
       "      <td>54</td>\n",
       "      <td>7.287360e+03</td>\n",
       "      <td>POLYGON ((3731000.000 2885630.552, 3731001.351...</td>\n",
       "    </tr>\n",
       "    <tr>\n",
       "      <th>873</th>\n",
       "      <td>Maurepas / Montigny-le-Bretonneux</td>\n",
       "      <td>FR</td>\n",
       "      <td>11210</td>\n",
       "      <td>64</td>\n",
       "      <td>6.734230e+03</td>\n",
       "      <td>POLYGON ((3731126.802 2885621.155, 3731121.609...</td>\n",
       "    </tr>\n",
       "    <tr>\n",
       "      <th>874</th>\n",
       "      <td>Maurepas / Montigny-le-Bretonneux</td>\n",
       "      <td>FR</td>\n",
       "      <td>11210</td>\n",
       "      <td>51</td>\n",
       "      <td>8.317960e+03</td>\n",
       "      <td>POLYGON ((3731181.439 2885511.912, 3731168.165...</td>\n",
       "    </tr>\n",
       "    <tr>\n",
       "      <th>875</th>\n",
       "      <td>Maurepas / Montigny-le-Bretonneux</td>\n",
       "      <td>FR</td>\n",
       "      <td>11210</td>\n",
       "      <td>80</td>\n",
       "      <td>1.073271e+04</td>\n",
       "      <td>POLYGON ((3731239.168 2885485.170, 3731222.682...</td>\n",
       "    </tr>\n",
       "    <tr>\n",
       "      <th>876</th>\n",
       "      <td>Maurepas / Montigny-le-Bretonneux</td>\n",
       "      <td>FR</td>\n",
       "      <td>11220</td>\n",
       "      <td>282</td>\n",
       "      <td>9.165228e+04</td>\n",
       "      <td>MULTIPOLYGON (((3731000.000 2885661.716, 37310...</td>\n",
       "    </tr>\n",
       "  </tbody>\n",
       "</table>\n",
       "<p>877 rows × 6 columns</p>\n",
       "</div>"
      ],
      "text/plain": [
       "                            HDENS_NAME CNTR_CODE code_2018  Pop2018  \\\n",
       "0    Maurepas / Montigny-le-Bretonneux        FR     21000        0   \n",
       "1    Maurepas / Montigny-le-Bretonneux        FR     12220        0   \n",
       "2    Maurepas / Montigny-le-Bretonneux        FR     11210      389   \n",
       "3    Maurepas / Montigny-le-Bretonneux        FR     11210      160   \n",
       "4    Maurepas / Montigny-le-Bretonneux        FR     12100        5   \n",
       "..                                 ...       ...       ...      ...   \n",
       "872  Maurepas / Montigny-le-Bretonneux        FR     11210       54   \n",
       "873  Maurepas / Montigny-le-Bretonneux        FR     11210       64   \n",
       "874  Maurepas / Montigny-le-Bretonneux        FR     11210       51   \n",
       "875  Maurepas / Montigny-le-Bretonneux        FR     11210       80   \n",
       "876  Maurepas / Montigny-le-Bretonneux        FR     11220      282   \n",
       "\n",
       "       UA_area_m2                                           geometry  \n",
       "0    4.767161e+04  POLYGON ((3730027.052 2884037.266, 3730026.813...  \n",
       "1    3.443834e+08  MULTIPOLYGON (((3739213.184 2881792.216, 37392...  \n",
       "2    3.769582e+04  POLYGON ((3729103.938 2882435.228, 3729076.019...  \n",
       "3    2.575642e+04  MULTIPOLYGON (((3728958.938 2882510.228, 37289...  \n",
       "4    1.150870e+04  POLYGON ((3729053.938 2882435.228, 3729063.938...  \n",
       "..            ...                                                ...  \n",
       "872  7.287360e+03  POLYGON ((3731000.000 2885630.552, 3731001.351...  \n",
       "873  6.734230e+03  POLYGON ((3731126.802 2885621.155, 3731121.609...  \n",
       "874  8.317960e+03  POLYGON ((3731181.439 2885511.912, 3731168.165...  \n",
       "875  1.073271e+04  POLYGON ((3731239.168 2885485.170, 3731222.682...  \n",
       "876  9.165228e+04  MULTIPOLYGON (((3731000.000 2885661.716, 37310...  \n",
       "\n",
       "[877 rows x 6 columns]"
      ]
     },
     "execution_count": 21,
     "metadata": {},
     "output_type": "execute_result"
    }
   ],
   "source": [
    "SA_uc_ua"
   ]
  },
  {
   "cell_type": "code",
   "execution_count": 25,
   "metadata": {},
   "outputs": [
    {
     "data": {
      "text/plain": [
       "109945"
      ]
     },
     "execution_count": 25,
     "metadata": {},
     "output_type": "execute_result"
    }
   ],
   "source": [
    "SA_uc_ua.Pop2018.sum()"
   ]
  },
  {
   "cell_type": "code",
   "execution_count": 22,
   "metadata": {},
   "outputs": [
    {
     "data": {
      "text/plain": [
       "54028.0"
      ]
     },
     "execution_count": 22,
     "metadata": {},
     "output_type": "execute_result"
    }
   ],
   "source": [
    "SA_uc_ua['final_area_m2'] = round(SA_uc_ua.geometry.area,2)\n",
    "SA_uc_ua['area_prop'] = SA_uc_ua['final_area_m2']/SA_uc_ua['UA_area_m2'] # capture proportion from original geometry\n",
    "SA_uc_ua['Pop2018_poly'] = SA_uc_ua['Pop2018']*SA_uc_ua['area_prop']\n",
    "round(SA_uc_ua.Pop2018_poly.sum(),0)"
   ]
  },
  {
   "cell_type": "code",
   "execution_count": 23,
   "metadata": {},
   "outputs": [
    {
     "data": {
      "text/html": [
       "<div>\n",
       "<style scoped>\n",
       "    .dataframe tbody tr th:only-of-type {\n",
       "        vertical-align: middle;\n",
       "    }\n",
       "\n",
       "    .dataframe tbody tr th {\n",
       "        vertical-align: top;\n",
       "    }\n",
       "\n",
       "    .dataframe thead th {\n",
       "        text-align: right;\n",
       "    }\n",
       "</style>\n",
       "<table border=\"1\" class=\"dataframe\">\n",
       "  <thead>\n",
       "    <tr style=\"text-align: right;\">\n",
       "      <th></th>\n",
       "      <th>HDENS_NAME</th>\n",
       "      <th>CNTR_CODE</th>\n",
       "      <th>code_2018</th>\n",
       "      <th>Pop2018</th>\n",
       "      <th>UA_area_m2</th>\n",
       "      <th>geometry</th>\n",
       "      <th>final_area_m2</th>\n",
       "      <th>area_prop</th>\n",
       "      <th>Pop2018_poly</th>\n",
       "    </tr>\n",
       "  </thead>\n",
       "  <tbody>\n",
       "    <tr>\n",
       "      <th>0</th>\n",
       "      <td>Maurepas / Montigny-le-Bretonneux</td>\n",
       "      <td>FR</td>\n",
       "      <td>21000</td>\n",
       "      <td>0</td>\n",
       "      <td>4.767161e+04</td>\n",
       "      <td>POLYGON ((3730027.052 2884037.266, 3730026.813...</td>\n",
       "      <td>0.05</td>\n",
       "      <td>0.000001</td>\n",
       "      <td>0.000000</td>\n",
       "    </tr>\n",
       "    <tr>\n",
       "      <th>1</th>\n",
       "      <td>Maurepas / Montigny-le-Bretonneux</td>\n",
       "      <td>FR</td>\n",
       "      <td>12220</td>\n",
       "      <td>0</td>\n",
       "      <td>3.443834e+08</td>\n",
       "      <td>MULTIPOLYGON (((3739213.184 2881792.216, 37392...</td>\n",
       "      <td>1424863.95</td>\n",
       "      <td>0.004137</td>\n",
       "      <td>0.000000</td>\n",
       "    </tr>\n",
       "    <tr>\n",
       "      <th>2</th>\n",
       "      <td>Maurepas / Montigny-le-Bretonneux</td>\n",
       "      <td>FR</td>\n",
       "      <td>11210</td>\n",
       "      <td>389</td>\n",
       "      <td>3.769582e+04</td>\n",
       "      <td>POLYGON ((3729103.938 2882435.228, 3729076.019...</td>\n",
       "      <td>302.51</td>\n",
       "      <td>0.008025</td>\n",
       "      <td>3.121736</td>\n",
       "    </tr>\n",
       "    <tr>\n",
       "      <th>3</th>\n",
       "      <td>Maurepas / Montigny-le-Bretonneux</td>\n",
       "      <td>FR</td>\n",
       "      <td>11210</td>\n",
       "      <td>160</td>\n",
       "      <td>2.575642e+04</td>\n",
       "      <td>MULTIPOLYGON (((3728958.938 2882510.228, 37289...</td>\n",
       "      <td>3652.68</td>\n",
       "      <td>0.141816</td>\n",
       "      <td>22.690607</td>\n",
       "    </tr>\n",
       "    <tr>\n",
       "      <th>4</th>\n",
       "      <td>Maurepas / Montigny-le-Bretonneux</td>\n",
       "      <td>FR</td>\n",
       "      <td>12100</td>\n",
       "      <td>5</td>\n",
       "      <td>1.150870e+04</td>\n",
       "      <td>POLYGON ((3729053.938 2882435.228, 3729063.938...</td>\n",
       "      <td>1408.49</td>\n",
       "      <td>0.122385</td>\n",
       "      <td>0.611924</td>\n",
       "    </tr>\n",
       "    <tr>\n",
       "      <th>...</th>\n",
       "      <td>...</td>\n",
       "      <td>...</td>\n",
       "      <td>...</td>\n",
       "      <td>...</td>\n",
       "      <td>...</td>\n",
       "      <td>...</td>\n",
       "      <td>...</td>\n",
       "      <td>...</td>\n",
       "      <td>...</td>\n",
       "    </tr>\n",
       "    <tr>\n",
       "      <th>872</th>\n",
       "      <td>Maurepas / Montigny-le-Bretonneux</td>\n",
       "      <td>FR</td>\n",
       "      <td>11210</td>\n",
       "      <td>54</td>\n",
       "      <td>7.287360e+03</td>\n",
       "      <td>POLYGON ((3731000.000 2885630.552, 3731001.351...</td>\n",
       "      <td>7231.95</td>\n",
       "      <td>0.992396</td>\n",
       "      <td>53.589407</td>\n",
       "    </tr>\n",
       "    <tr>\n",
       "      <th>873</th>\n",
       "      <td>Maurepas / Montigny-le-Bretonneux</td>\n",
       "      <td>FR</td>\n",
       "      <td>11210</td>\n",
       "      <td>64</td>\n",
       "      <td>6.734230e+03</td>\n",
       "      <td>POLYGON ((3731126.802 2885621.155, 3731121.609...</td>\n",
       "      <td>6734.23</td>\n",
       "      <td>1.000000</td>\n",
       "      <td>64.000000</td>\n",
       "    </tr>\n",
       "    <tr>\n",
       "      <th>874</th>\n",
       "      <td>Maurepas / Montigny-le-Bretonneux</td>\n",
       "      <td>FR</td>\n",
       "      <td>11210</td>\n",
       "      <td>51</td>\n",
       "      <td>8.317960e+03</td>\n",
       "      <td>POLYGON ((3731181.439 2885511.912, 3731168.165...</td>\n",
       "      <td>8317.96</td>\n",
       "      <td>1.000000</td>\n",
       "      <td>51.000000</td>\n",
       "    </tr>\n",
       "    <tr>\n",
       "      <th>875</th>\n",
       "      <td>Maurepas / Montigny-le-Bretonneux</td>\n",
       "      <td>FR</td>\n",
       "      <td>11210</td>\n",
       "      <td>80</td>\n",
       "      <td>1.073271e+04</td>\n",
       "      <td>POLYGON ((3731239.168 2885485.170, 3731222.682...</td>\n",
       "      <td>10732.71</td>\n",
       "      <td>1.000000</td>\n",
       "      <td>80.000000</td>\n",
       "    </tr>\n",
       "    <tr>\n",
       "      <th>876</th>\n",
       "      <td>Maurepas / Montigny-le-Bretonneux</td>\n",
       "      <td>FR</td>\n",
       "      <td>11220</td>\n",
       "      <td>282</td>\n",
       "      <td>9.165228e+04</td>\n",
       "      <td>MULTIPOLYGON (((3731000.000 2885661.716, 37310...</td>\n",
       "      <td>15550.15</td>\n",
       "      <td>0.169665</td>\n",
       "      <td>47.845425</td>\n",
       "    </tr>\n",
       "  </tbody>\n",
       "</table>\n",
       "<p>877 rows × 9 columns</p>\n",
       "</div>"
      ],
      "text/plain": [
       "                            HDENS_NAME CNTR_CODE code_2018  Pop2018  \\\n",
       "0    Maurepas / Montigny-le-Bretonneux        FR     21000        0   \n",
       "1    Maurepas / Montigny-le-Bretonneux        FR     12220        0   \n",
       "2    Maurepas / Montigny-le-Bretonneux        FR     11210      389   \n",
       "3    Maurepas / Montigny-le-Bretonneux        FR     11210      160   \n",
       "4    Maurepas / Montigny-le-Bretonneux        FR     12100        5   \n",
       "..                                 ...       ...       ...      ...   \n",
       "872  Maurepas / Montigny-le-Bretonneux        FR     11210       54   \n",
       "873  Maurepas / Montigny-le-Bretonneux        FR     11210       64   \n",
       "874  Maurepas / Montigny-le-Bretonneux        FR     11210       51   \n",
       "875  Maurepas / Montigny-le-Bretonneux        FR     11210       80   \n",
       "876  Maurepas / Montigny-le-Bretonneux        FR     11220      282   \n",
       "\n",
       "       UA_area_m2                                           geometry  \\\n",
       "0    4.767161e+04  POLYGON ((3730027.052 2884037.266, 3730026.813...   \n",
       "1    3.443834e+08  MULTIPOLYGON (((3739213.184 2881792.216, 37392...   \n",
       "2    3.769582e+04  POLYGON ((3729103.938 2882435.228, 3729076.019...   \n",
       "3    2.575642e+04  MULTIPOLYGON (((3728958.938 2882510.228, 37289...   \n",
       "4    1.150870e+04  POLYGON ((3729053.938 2882435.228, 3729063.938...   \n",
       "..            ...                                                ...   \n",
       "872  7.287360e+03  POLYGON ((3731000.000 2885630.552, 3731001.351...   \n",
       "873  6.734230e+03  POLYGON ((3731126.802 2885621.155, 3731121.609...   \n",
       "874  8.317960e+03  POLYGON ((3731181.439 2885511.912, 3731168.165...   \n",
       "875  1.073271e+04  POLYGON ((3731239.168 2885485.170, 3731222.682...   \n",
       "876  9.165228e+04  MULTIPOLYGON (((3731000.000 2885661.716, 37310...   \n",
       "\n",
       "     final_area_m2  area_prop  Pop2018_poly  \n",
       "0             0.05   0.000001      0.000000  \n",
       "1       1424863.95   0.004137      0.000000  \n",
       "2           302.51   0.008025      3.121736  \n",
       "3          3652.68   0.141816     22.690607  \n",
       "4          1408.49   0.122385      0.611924  \n",
       "..             ...        ...           ...  \n",
       "872        7231.95   0.992396     53.589407  \n",
       "873        6734.23   1.000000     64.000000  \n",
       "874        8317.96   1.000000     51.000000  \n",
       "875       10732.71   1.000000     80.000000  \n",
       "876       15550.15   0.169665     47.845425  \n",
       "\n",
       "[877 rows x 9 columns]"
      ]
     },
     "execution_count": 23,
     "metadata": {},
     "output_type": "execute_result"
    }
   ],
   "source": [
    "SA_uc_ua"
   ]
  }
 ],
 "metadata": {
  "kernelspec": {
   "display_name": "geospatial_ETC_DI_v4",
   "language": "python",
   "name": "python3"
  },
  "language_info": {
   "codemirror_mode": {
    "name": "ipython",
    "version": 3
   },
   "file_extension": ".py",
   "mimetype": "text/x-python",
   "name": "python",
   "nbconvert_exporter": "python",
   "pygments_lexer": "ipython3",
   "version": "3.9.15"
  }
 },
 "nbformat": 4,
 "nbformat_minor": 2
}
