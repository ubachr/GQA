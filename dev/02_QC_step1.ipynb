{
 "cells": [
  {
   "cell_type": "code",
   "execution_count": 1,
   "metadata": {},
   "outputs": [
    {
     "name": "stderr",
     "output_type": "stream",
     "text": [
      "c:\\Users\\ubach\\.conda\\envs\\geospatial_ETC_DI_v4\\lib\\site-packages\\geopandas\\_compat.py:123: UserWarning: The Shapely GEOS version (3.11.2-CAPI-1.17.2) is incompatible with the GEOS version PyGEOS was compiled with (3.10.4-CAPI-1.16.2). Conversions between both will be slow.\n",
      "  warnings.warn(\n",
      "Q:\\UserTemp\\ubach\\AppData\\Local\\Temp\\4\\ipykernel_572888\\2701944437.py:3: UserWarning: Shapely 2.0 is installed, but because PyGEOS is also installed, GeoPandas will still use PyGEOS by default for now. To force to use and test Shapely 2.0, you have to set the environment variable USE_PYGEOS=0. You can do this before starting the Python process, or in your code before importing geopandas:\n",
      "\n",
      "import os\n",
      "os.environ['USE_PYGEOS'] = '0'\n",
      "import geopandas\n",
      "\n",
      "In a future release, GeoPandas will switch to using Shapely by default. If you are using PyGEOS directly (calling PyGEOS functions on geometries from GeoPandas), this will then stop working and you are encouraged to migrate from PyGEOS to Shapely 2.0 (https://shapely.readthedocs.io/en/latest/migration_pygeos.html).\n",
      "  import geopandas as gpd\n"
     ]
    }
   ],
   "source": [
    "# Load required libraries\n",
    "import pandas as pd\n",
    "import geopandas as gpd\n",
    "import numpy as np\n",
    "import os\n",
    "import fiona\n",
    "import matplotlib.pyplot as plt\n",
    "from matplotlib.colors import ListedColormap\n",
    "from shapely.ops import unary_union\n",
    "from shapely.errors import TopologicalError\n",
    "from unidecode import unidecode\n",
    "import glob\n",
    "import csv\n",
    "from datetime import datetime\n",
    "import dask.dataframe as dd\n",
    "import dask_geopandas as dg\n",
    "from dask.distributed import Client\n",
    "import gc\n",
    "import re"
   ]
  },
  {
   "cell_type": "code",
   "execution_count": 20,
   "metadata": {},
   "outputs": [],
   "source": [
    "indata_f = r'P:\\Environment and Health\\Noise\\ServiceContract\\2024_ServiceContract\\QuietAreas'\n",
    "# Read shapefile\n",
    "uc_file_path = os.path.join(indata_f, 'UrbanCentres', 'HDC2021_RG_InputUpdateB2.shp')\n",
    "# Read the GeoPackage file\n",
    "uc = gpd.read_file(uc_file_path)\n",
    "\n",
    "# Select cities for processing in this batch\n",
    "uc_sel = uc.query('Batch==1.0')\n",
    "uc_sel = uc_sel.sort_values(by='CNTR_CODE')\n",
    "\n",
    "# Read table to list the cities to process using urban centre code\n",
    "cities_ls = uc_sel.HDENS_CLST.tolist()"
   ]
  },
  {
   "cell_type": "code",
   "execution_count": 21,
   "metadata": {},
   "outputs": [
    {
     "data": {
      "text/plain": [
       "100"
      ]
     },
     "execution_count": 21,
     "metadata": {},
     "output_type": "execute_result"
    }
   ],
   "source": [
    "len(cities_ls)"
   ]
  },
  {
   "cell_type": "code",
   "execution_count": 24,
   "metadata": {},
   "outputs": [
    {
     "name": "stdout",
     "output_type": "stream",
     "text": [
      "100\n",
      "100\n"
     ]
    }
   ],
   "source": [
    "temp_f = os.path.join(indata_f, 'Processing', 'step2_CleaningGQA')\n",
    "pattern = '/*_finalGQA.shp'\n",
    "final_shp_files = glob.glob(temp_f + pattern)\n",
    "print(len(final_shp_files))\n",
    "final_uc_ls = [os.path.basename(item)[:-13] for item in final_shp_files]\n",
    "print(len(final_uc_ls))"
   ]
  },
  {
   "cell_type": "code",
   "execution_count": 25,
   "metadata": {},
   "outputs": [
    {
     "name": "stdout",
     "output_type": "stream",
     "text": [
      "['GEOSTAT21_912']\n",
      "1\n"
     ]
    }
   ],
   "source": [
    "missing_values = [item for item in cities_ls if item not in final_uc_ls]\n",
    "print(missing_values)\n",
    "print(len(missing_values))"
   ]
  },
  {
   "cell_type": "markdown",
   "metadata": {},
   "source": [
    "## batch 2"
   ]
  },
  {
   "cell_type": "code",
   "execution_count": 26,
   "metadata": {},
   "outputs": [
    {
     "data": {
      "text/plain": [
       "100"
      ]
     },
     "execution_count": 26,
     "metadata": {},
     "output_type": "execute_result"
    }
   ],
   "source": [
    "indata_f = r'P:\\Environment and Health\\Noise\\ServiceContract\\2024_ServiceContract\\QuietAreas'\n",
    "# Read shapefile\n",
    "uc_file_path = os.path.join(indata_f, 'UrbanCentres', 'HDC2021_RG_InputUpdateB2.shp')\n",
    "# Read the GeoPackage file\n",
    "uc = gpd.read_file(uc_file_path)\n",
    "\n",
    "# Select cities for processing in this batch\n",
    "uc_sel = uc.query('Batch==2.0')\n",
    "uc_sel = uc_sel.sort_values(by='CNTR_CODE')\n",
    "\n",
    "# Read table to list the cities to process using urban centre code\n",
    "cities_ls = uc_sel.HDENS_CLST.tolist()\n",
    "len(cities_ls)"
   ]
  },
  {
   "cell_type": "code",
   "execution_count": 29,
   "metadata": {},
   "outputs": [
    {
     "name": "stdout",
     "output_type": "stream",
     "text": [
      "79\n",
      "79\n"
     ]
    }
   ],
   "source": [
    "temp_f = os.path.join(indata_f, 'Processing', 'batch2','step2_CleaningGQA')\n",
    "pattern = '/*_finalGQA.shp'\n",
    "final_shp_files = glob.glob(temp_f + pattern)\n",
    "print(len(final_shp_files))\n",
    "final_uc_ls = [os.path.basename(item)[:-13] for item in final_shp_files]\n",
    "print(len(final_uc_ls))"
   ]
  },
  {
   "cell_type": "code",
   "execution_count": 30,
   "metadata": {},
   "outputs": [
    {
     "name": "stdout",
     "output_type": "stream",
     "text": [
      "['GEOSTAT21_514', 'GEOSTAT21_531', 'GEOSTAT21_523', 'GEOSTAT21_943', 'GEOSTAT21_941', 'GEOSTAT21_307', 'GEOSTAT21_243', 'GEOSTAT21_925', 'GEOSTAT21_320', 'GEOSTAT21_225', 'GEOSTAT21_141', 'GEOSTAT21_201', 'GEOSTAT21_712', 'GEOSTAT21_774', 'GEOSTAT21_800', 'GEOSTAT21_768', 'GEOSTAT21_196', 'GEOSTAT21_347', 'GEOSTAT21_206', 'GEOSTAT21_221', 'GEOSTAT21_394']\n",
      "21\n"
     ]
    }
   ],
   "source": [
    "missing_values = [item for item in cities_ls if item not in final_uc_ls]\n",
    "print(missing_values)\n",
    "print(len(missing_values))"
   ]
  }
 ],
 "metadata": {
  "kernelspec": {
   "display_name": "geospatial_ETC_DI_v4",
   "language": "python",
   "name": "python3"
  },
  "language_info": {
   "codemirror_mode": {
    "name": "ipython",
    "version": 3
   },
   "file_extension": ".py",
   "mimetype": "text/x-python",
   "name": "python",
   "nbconvert_exporter": "python",
   "pygments_lexer": "ipython3",
   "version": "3.9.15"
  }
 },
 "nbformat": 4,
 "nbformat_minor": 2
}
